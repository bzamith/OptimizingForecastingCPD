{
 "cells": [
  {
   "cell_type": "markdown",
   "metadata": {},
   "source": [
    "## 1. Execute full pipeline"
   ]
  },
  {
   "cell_type": "code",
   "execution_count": 1,
   "metadata": {},
   "outputs": [],
   "source": [
    "import random\n",
    "import time\n",
    "\n",
    "from keras_tuner import RandomSearch\n",
    "\n",
    "import numpy as np\n",
    "\n",
    "import pandas as pd\n",
    "\n",
    "import tensorflow as tf\n",
    "\n",
    "from config.constants import (\n",
    "    FORECAST_HORIZON, NB_TRIALS,\n",
    "    OBSERVATION_WINDOW, SEED, TRAIN_PERC\n",
    ")\n",
    "\n",
    "from src.change_point_detector import ChangePointCostFunction, ChangePointMethod, get_change_point_detector\n",
    "from src.dataset import read_dataset, split_X_y, split_train_test\n",
    "from src.forecaster import InternalForecaster, TimeSeriesHyperModel\n",
    "from src.scaler import Scaler\n",
    "from src.utils import get_error_results\n",
    "\n",
    "tf.get_logger().setLevel('ERROR')\n",
    "\n",
    "np.random.seed(SEED)\n",
    "random.seed(SEED)\n",
    "tf.random.set_seed(SEED)\n"
   ]
  },
  {
   "cell_type": "code",
   "execution_count": 2,
   "metadata": {},
   "outputs": [
    {
     "name": "stdout",
     "output_type": "stream",
     "text": [
      "Available devices: [PhysicalDevice(name='/physical_device:CPU:0', device_type='CPU'), PhysicalDevice(name='/physical_device:GPU:0', device_type='GPU')]\n",
      "Is GPU available? [PhysicalDevice(name='/physical_device:GPU:0', device_type='GPU')]\n"
     ]
    }
   ],
   "source": [
    "print(\"Available devices:\", tf.config.list_physical_devices())\n",
    "print(\"Is GPU available?\", tf.config.list_physical_devices('GPU'))\n"
   ]
  },
  {
   "cell_type": "code",
   "execution_count": 3,
   "metadata": {},
   "outputs": [
    {
     "name": "stdout",
     "output_type": "stream",
     "text": [
      "✅ TensorFlow is using Apple GPU via MPS\n"
     ]
    }
   ],
   "source": [
    "if tf.config.list_physical_devices(\"GPU\"):\n",
    "    try:\n",
    "        tf.config.set_visible_devices([], \"GPU\")  # Hide traditional GPUs if any (like external ones)\n",
    "        tf.config.experimental.set_memory_growth(tf.config.list_physical_devices(\"GPU\")[0], True)\n",
    "        print(\"✅ TensorFlow is using Apple GPU via MPS\")\n",
    "    except Exception as e:\n",
    "        print(\"⚠️ Error setting MPS GPU:\", e)\n",
    "else:\n",
    "    print(\"❌ No GPU found, running on CPU\")"
   ]
  },
  {
   "cell_type": "code",
   "execution_count": 4,
   "metadata": {},
   "outputs": [],
   "source": [
    "timestamp = 'validate_pipeline'\n",
    "dataset_domain_argv = 'UCI'\n",
    "dataset_argv = 'AIR_QUALITY'\n",
    "change_point_method_argv = 'Window'\n",
    "change_point_cost_function_argv = 'L1'"
   ]
  },
  {
   "cell_type": "code",
   "execution_count": 5,
   "metadata": {},
   "outputs": [],
   "source": [
    "execution_id = f\"{timestamp}_{dataset_domain_argv}_{dataset_argv}_{change_point_method_argv}_{change_point_cost_function_argv}_{SEED}\"\n",
    "change_point_method = ChangePointMethod.from_str(change_point_method_argv)\n",
    "change_point_cost_function = ChangePointCostFunction.from_str(change_point_cost_function_argv)\n",
    "change_point_approach = f\"{change_point_method.value.title()} {change_point_cost_function.value.title()}\""
   ]
  },
  {
   "cell_type": "code",
   "execution_count": 6,
   "metadata": {},
   "outputs": [
    {
     "name": "stdout",
     "output_type": "stream",
     "text": [
      "[Step 1] Reading dataset AIR_QUALITY from UCI\n",
      "Variables: ['CO(GT)', 'C6H6(GT)', 'NOx(GT)', 'NO2(GT)', 'T', 'RH']\n"
     ]
    }
   ],
   "source": [
    "print(f\"[Step 1] Reading dataset {dataset_argv} from {dataset_domain_argv}\")\n",
    "df, variables = read_dataset(dataset_domain_argv, dataset_argv)\n",
    "print(f\"Variables: {variables}\")"
   ]
  },
  {
   "cell_type": "code",
   "execution_count": 7,
   "metadata": {},
   "outputs": [
    {
     "name": "stdout",
     "output_type": "stream",
     "text": [
      "[Step 2] Splitting data into train_val and test\n"
     ]
    }
   ],
   "source": [
    "print(\"[Step 2] Splitting data into train_val and test\")\n",
    "train_val, test = split_train_test(df)\n",
    "report = {\n",
    "    'execution_id': execution_id,\n",
    "    'timestamp': timestamp,\n",
    "    'change_point_method': change_point_method.value,\n",
    "    'change_point_cost_function': change_point_cost_function.value,\n",
    "    'change_point_approach': change_point_approach,\n",
    "    'seed': SEED,\n",
    "    'observation_window': OBSERVATION_WINDOW,\n",
    "    'train_perc': TRAIN_PERC,\n",
    "    'nb_trials': NB_TRIALS,\n",
    "    'dataset_domain': dataset_domain_argv,\n",
    "    'dataset': dataset_argv,\n",
    "    'variables': variables,\n",
    "    'dataset_shape': df.shape,\n",
    "    'train_val_shape': train_val.shape,\n",
    "    'test_shape': test.shape,\n",
    "}"
   ]
  },
  {
   "cell_type": "code",
   "execution_count": 8,
   "metadata": {},
   "outputs": [
    {
     "name": "stdout",
     "output_type": "stream",
     "text": [
      "[Step 3] Detecting cut point (Window L1)\n",
      "Change point: 5385, Change point percentage: 71.9438877755511\n"
     ]
    }
   ],
   "source": [
    "print(f\"[Step 3] Detecting cut point ({change_point_approach})\")\n",
    "start_time = time.time()\n",
    "change_point_detector = get_change_point_detector(change_point_method, change_point_cost_function)\n",
    "change_point, change_point_perc = change_point_detector.find_change_point(train_val, variables)\n",
    "end_time = time.time()\n",
    "detect_change_point_duration = end_time - start_time\n",
    "print(f\"Change point: {change_point}, Change point percentage: {change_point_perc}\")\n",
    "report.update({\n",
    "    'detect_change_point_duration': detect_change_point_duration,\n",
    "    'change_point': str(change_point),\n",
    "    'change_point_perc': change_point_perc\n",
    "})"
   ]
  },
  {
   "cell_type": "code",
   "execution_count": 9,
   "metadata": {},
   "outputs": [
    {
     "name": "stdout",
     "output_type": "stream",
     "text": [
      "[Step 4] Reducing train_val based on change point\n"
     ]
    }
   ],
   "source": [
    "print(\"[Step 4] Reducing train_val based on change point\")\n",
    "start_time = time.time()\n",
    "reduced_train_val = change_point_detector.apply_change_point(train_val, change_point)\n",
    "end_time = time.time()\n",
    "apply_change_point_duration = end_time - start_time\n",
    "report.update({\n",
    "    'apply_change_point_duration': apply_change_point_duration,\n",
    "    'reduced_train_val.shape': reduced_train_val.shape,\n",
    "})"
   ]
  },
  {
   "cell_type": "code",
   "execution_count": 10,
   "metadata": {},
   "outputs": [
    {
     "name": "stdout",
     "output_type": "stream",
     "text": [
      "[Step 5] Splitting train_val into train and val\n"
     ]
    }
   ],
   "source": [
    "print(\"[Step 5] Splitting train_val into train and val\")\n",
    "reduced_train, reduced_val = split_train_test(reduced_train_val)\n",
    "report.update({\n",
    "    'reduced_train.shape': reduced_train.shape,\n",
    "    'reduced_val.shape': reduced_val.shape,\n",
    "})"
   ]
  },
  {
   "cell_type": "code",
   "execution_count": 11,
   "metadata": {},
   "outputs": [
    {
     "name": "stdout",
     "output_type": "stream",
     "text": [
      "[Step 6] Fitting scaler on train and applying on train and val\n"
     ]
    }
   ],
   "source": [
    "print(\"[Step 6] Fitting scaler on train and applying on train and val\")\n",
    "start_time = time.time()\n",
    "scaler = Scaler(variables)\n",
    "scaled_reduced_train = scaler.fit_scale(reduced_train)\n",
    "scaled_reduced_val = scaler.scale(reduced_val)\n",
    "end_time = time.time()\n",
    "fit_apply_scaler_train_val_duration = end_time - start_time\n",
    "report.update({\n",
    "    'fit_apply_scaler_train_val_duration': fit_apply_scaler_train_val_duration,\n",
    "})"
   ]
  },
  {
   "cell_type": "code",
   "execution_count": 12,
   "metadata": {},
   "outputs": [
    {
     "name": "stdout",
     "output_type": "stream",
     "text": [
      "[Step 7] Splitting train and val into X and y\n"
     ]
    }
   ],
   "source": [
    "print(\"[Step 7] Splitting train and val into X and y\")\n",
    "X_reduced_scaled_train, y_reduced_scaled_train = split_X_y(scaled_reduced_train)\n",
    "X_reduced_scaled_val, y_reduced_scaled_val = split_X_y(scaled_reduced_val)\n",
    "report.update({\n",
    "    'X_reduced_scaled_train.shape': X_reduced_scaled_train.shape,\n",
    "    'y_reduced_scaled_train.shape': y_reduced_scaled_train.shape,\n",
    "    'X_reduced_scaled_val.shape': X_reduced_scaled_val.shape,\n",
    "    'y_reduced_scaled_val.shape': y_reduced_scaled_val.shape,\n",
    "})"
   ]
  },
  {
   "cell_type": "code",
   "execution_count": 13,
   "metadata": {},
   "outputs": [
    {
     "data": {
      "text/plain": [
       "array([[ 0.2794384 ,  0.94363348, -0.22221197, -0.31901199,  2.57306525,\n",
       "        -0.60601449],\n",
       "       [ 0.93656296,  1.80147318,  0.20238044,  0.04013744,  2.3587538 ,\n",
       "        -0.29619734],\n",
       "       [ 1.81272904,  2.47234781,  0.6914199 ,  0.08239032,  2.20289093,\n",
       "        -0.06383447],\n",
       "       [ 1.26512524,  1.66949784,  0.35022958, -0.19225337,  2.12495949,\n",
       "        -0.10901614],\n",
       "       [ 0.88180258,  1.38355127,  0.17205241, -0.25563268,  1.91064804,\n",
       "         0.1168922 ],\n",
       "       [ 0.88180258,  1.30656566,  0.25924549, -0.53027636,  1.67685373,\n",
       "         0.43316387],\n",
       "       [ 0.8270422 ,  1.08660677,  0.17963441, -0.53027636,  1.52099086,\n",
       "         0.56870888]])"
      ]
     },
     "execution_count": 13,
     "metadata": {},
     "output_type": "execute_result"
    }
   ],
   "source": [
    "y_reduced_scaled_train[0]"
   ]
  },
  {
   "cell_type": "code",
   "execution_count": 14,
   "metadata": {},
   "outputs": [
    {
     "data": {
      "text/plain": [
       "array([[ 0.93656296,  1.80147318,  0.20238044,  0.04013744,  2.3587538 ,\n",
       "        -0.29619734],\n",
       "       [ 1.81272904,  2.47234781,  0.6914199 ,  0.08239032,  2.20289093,\n",
       "        -0.06383447],\n",
       "       [ 1.26512524,  1.66949784,  0.35022958, -0.19225337,  2.12495949,\n",
       "        -0.10901614],\n",
       "       [ 0.88180258,  1.38355127,  0.17205241, -0.25563268,  1.91064804,\n",
       "         0.1168922 ],\n",
       "       [ 0.88180258,  1.30656566,  0.25924549, -0.53027636,  1.67685373,\n",
       "         0.43316387],\n",
       "       [ 0.8270422 ,  1.08660677,  0.17963441, -0.53027636,  1.52099086,\n",
       "         0.56870888],\n",
       "       [-0.26816541,  0.09679173, -0.64680438, -0.88942579,  1.46254228,\n",
       "         0.52352721]])"
      ]
     },
     "execution_count": 14,
     "metadata": {},
     "output_type": "execute_result"
    }
   ],
   "source": [
    "y_reduced_scaled_train[1]"
   ]
  },
  {
   "cell_type": "code",
   "execution_count": 15,
   "metadata": {},
   "outputs": [
    {
     "data": {
      "text/plain": [
       "array([[ 1.81272904,  2.47234781,  0.6914199 ,  0.08239032,  2.20289093,\n",
       "        -0.06383447],\n",
       "       [ 1.26512524,  1.66949784,  0.35022958, -0.19225337,  2.12495949,\n",
       "        -0.10901614],\n",
       "       [ 0.88180258,  1.38355127,  0.17205241, -0.25563268,  1.91064804,\n",
       "         0.1168922 ],\n",
       "       [ 0.88180258,  1.30656566,  0.25924549, -0.53027636,  1.67685373,\n",
       "         0.43316387],\n",
       "       [ 0.8270422 ,  1.08660677,  0.17963441, -0.53027636,  1.52099086,\n",
       "         0.56870888],\n",
       "       [-0.26816541,  0.09679173, -0.64680438, -0.88942579,  1.46254228,\n",
       "         0.52352721],\n",
       "       [-0.76100883, -0.48609934, -1.01453173, -1.1218166 ,  1.44305942,\n",
       "         0.52998174]])"
      ]
     },
     "execution_count": 15,
     "metadata": {},
     "output_type": "execute_result"
    }
   ],
   "source": [
    "y_reduced_scaled_train[2]"
   ]
  },
  {
   "cell_type": "code",
   "execution_count": 16,
   "metadata": {},
   "outputs": [
    {
     "name": "stdout",
     "output_type": "stream",
     "text": [
      "Trial 3 Complete [00h 00m 05s]\n",
      "val_loss: 0.40178698493588355\n",
      "\n",
      "Best val_loss So Far: 0.40178698493588355\n",
      "Total elapsed time: 00h 00m 28s\n"
     ]
    }
   ],
   "source": [
    "print(\"[Step 8] Running HPO and NAS\")\n",
    "n_variables = len(variables)\n",
    "forecaster_hypermodel = TimeSeriesHyperModel(\n",
    "    n_variables=n_variables\n",
    ")\n",
    "forecaster_tuner = RandomSearch(\n",
    "    forecaster_hypermodel,\n",
    "    objective='val_loss',\n",
    "    max_trials=3,\n",
    "    executions_per_trial=1,\n",
    "    directory=f\"outputs/tuner/delete_me\",\n",
    "    project_name=\"delete_me\",\n",
    "    seed=SEED,\n",
    "    overwrite=True,\n",
    "    distribution_strategy=tf.distribute.MirroredStrategy()\n",
    ")\n",
    "start_time = time.time()\n",
    "forecaster_tuner.search(\n",
    "    X_reduced_scaled_train,\n",
    "    y_reduced_scaled_train,\n",
    "    validation_data=(X_reduced_scaled_val, y_reduced_scaled_val),\n",
    "    shuffle=False,\n",
    ")\n",
    "end_time = time.time()\n",
    "tuner_duration = end_time - start_time\n",
    "report.update({\n",
    "    'tuner_duration': tuner_duration\n",
    "})"
   ]
  },
  {
   "cell_type": "code",
   "execution_count": 17,
   "metadata": {},
   "outputs": [
    {
     "name": "stdout",
     "output_type": "stream",
     "text": [
      "[Step 9] Retrieving best model\n",
      "Trial ID: 2\n",
      "Hyperparameters: {'num_layers': 1, 'units_0': 96, 'learning_rate': 0.001, 'units_1': 64, 'units_2': 128, 'batch_size': 64, 'epochs': 125, 'units_3': 128, 'units_4': 64}\n",
      "Score: 0.40178698493588355\n",
      "----------------------------------------\n"
     ]
    },
    {
     "name": "stderr",
     "output_type": "stream",
     "text": [
      "/Users/zamith/Doutorado/TSForecastingSubsets/env/lib/python3.9/site-packages/keras/src/saving/saving_lib.py:757: UserWarning: Skipping variable loading for optimizer 'adam', because it has 2 variables whereas the saved optimizer has 16 variables. \n",
      "  saveable.load_own_variables(weights_store.get(inner_path))\n"
     ]
    },
    {
     "data": {
      "text/html": [
       "<pre style=\"white-space:pre;overflow-x:auto;line-height:normal;font-family:Menlo,'DejaVu Sans Mono',consolas,'Courier New',monospace\"><span style=\"font-weight: bold\">Model: \"sequential\"</span>\n",
       "</pre>\n"
      ],
      "text/plain": [
       "\u001b[1mModel: \"sequential\"\u001b[0m\n"
      ]
     },
     "metadata": {},
     "output_type": "display_data"
    },
    {
     "data": {
      "text/html": [
       "<pre style=\"white-space:pre;overflow-x:auto;line-height:normal;font-family:Menlo,'DejaVu Sans Mono',consolas,'Courier New',monospace\">┏━━━━━━━━━━━━━━━━━━━━━━━━━━━━━━━━━┳━━━━━━━━━━━━━━━━━━━━━━━━┳━━━━━━━━━━━━━━━┓\n",
       "┃<span style=\"font-weight: bold\"> Layer (type)                    </span>┃<span style=\"font-weight: bold\"> Output Shape           </span>┃<span style=\"font-weight: bold\">       Param # </span>┃\n",
       "┡━━━━━━━━━━━━━━━━━━━━━━━━━━━━━━━━━╇━━━━━━━━━━━━━━━━━━━━━━━━╇━━━━━━━━━━━━━━━┩\n",
       "│ lstm (<span style=\"color: #0087ff; text-decoration-color: #0087ff\">LSTM</span>)                     │ (<span style=\"color: #00d7ff; text-decoration-color: #00d7ff\">None</span>, <span style=\"color: #00af00; text-decoration-color: #00af00\">96</span>)             │        <span style=\"color: #00af00; text-decoration-color: #00af00\">39,552</span> │\n",
       "├─────────────────────────────────┼────────────────────────┼───────────────┤\n",
       "│ batch_normalization             │ (<span style=\"color: #00d7ff; text-decoration-color: #00d7ff\">None</span>, <span style=\"color: #00af00; text-decoration-color: #00af00\">96</span>)             │           <span style=\"color: #00af00; text-decoration-color: #00af00\">384</span> │\n",
       "│ (<span style=\"color: #0087ff; text-decoration-color: #0087ff\">BatchNormalization</span>)            │                        │               │\n",
       "├─────────────────────────────────┼────────────────────────┼───────────────┤\n",
       "│ dense (<span style=\"color: #0087ff; text-decoration-color: #0087ff\">Dense</span>)                   │ (<span style=\"color: #00d7ff; text-decoration-color: #00d7ff\">None</span>, <span style=\"color: #00af00; text-decoration-color: #00af00\">42</span>)             │         <span style=\"color: #00af00; text-decoration-color: #00af00\">4,074</span> │\n",
       "├─────────────────────────────────┼────────────────────────┼───────────────┤\n",
       "│ reshape (<span style=\"color: #0087ff; text-decoration-color: #0087ff\">Reshape</span>)               │ (<span style=\"color: #00d7ff; text-decoration-color: #00d7ff\">None</span>, <span style=\"color: #00af00; text-decoration-color: #00af00\">7</span>, <span style=\"color: #00af00; text-decoration-color: #00af00\">6</span>)           │             <span style=\"color: #00af00; text-decoration-color: #00af00\">0</span> │\n",
       "└─────────────────────────────────┴────────────────────────┴───────────────┘\n",
       "</pre>\n"
      ],
      "text/plain": [
       "┏━━━━━━━━━━━━━━━━━━━━━━━━━━━━━━━━━┳━━━━━━━━━━━━━━━━━━━━━━━━┳━━━━━━━━━━━━━━━┓\n",
       "┃\u001b[1m \u001b[0m\u001b[1mLayer (type)                   \u001b[0m\u001b[1m \u001b[0m┃\u001b[1m \u001b[0m\u001b[1mOutput Shape          \u001b[0m\u001b[1m \u001b[0m┃\u001b[1m \u001b[0m\u001b[1m      Param #\u001b[0m\u001b[1m \u001b[0m┃\n",
       "┡━━━━━━━━━━━━━━━━━━━━━━━━━━━━━━━━━╇━━━━━━━━━━━━━━━━━━━━━━━━╇━━━━━━━━━━━━━━━┩\n",
       "│ lstm (\u001b[38;5;33mLSTM\u001b[0m)                     │ (\u001b[38;5;45mNone\u001b[0m, \u001b[38;5;34m96\u001b[0m)             │        \u001b[38;5;34m39,552\u001b[0m │\n",
       "├─────────────────────────────────┼────────────────────────┼───────────────┤\n",
       "│ batch_normalization             │ (\u001b[38;5;45mNone\u001b[0m, \u001b[38;5;34m96\u001b[0m)             │           \u001b[38;5;34m384\u001b[0m │\n",
       "│ (\u001b[38;5;33mBatchNormalization\u001b[0m)            │                        │               │\n",
       "├─────────────────────────────────┼────────────────────────┼───────────────┤\n",
       "│ dense (\u001b[38;5;33mDense\u001b[0m)                   │ (\u001b[38;5;45mNone\u001b[0m, \u001b[38;5;34m42\u001b[0m)             │         \u001b[38;5;34m4,074\u001b[0m │\n",
       "├─────────────────────────────────┼────────────────────────┼───────────────┤\n",
       "│ reshape (\u001b[38;5;33mReshape\u001b[0m)               │ (\u001b[38;5;45mNone\u001b[0m, \u001b[38;5;34m7\u001b[0m, \u001b[38;5;34m6\u001b[0m)           │             \u001b[38;5;34m0\u001b[0m │\n",
       "└─────────────────────────────────┴────────────────────────┴───────────────┘\n"
      ]
     },
     "metadata": {},
     "output_type": "display_data"
    },
    {
     "data": {
      "text/html": [
       "<pre style=\"white-space:pre;overflow-x:auto;line-height:normal;font-family:Menlo,'DejaVu Sans Mono',consolas,'Courier New',monospace\"><span style=\"font-weight: bold\"> Total params: </span><span style=\"color: #00af00; text-decoration-color: #00af00\">44,010</span> (171.91 KB)\n",
       "</pre>\n"
      ],
      "text/plain": [
       "\u001b[1m Total params: \u001b[0m\u001b[38;5;34m44,010\u001b[0m (171.91 KB)\n"
      ]
     },
     "metadata": {},
     "output_type": "display_data"
    },
    {
     "data": {
      "text/html": [
       "<pre style=\"white-space:pre;overflow-x:auto;line-height:normal;font-family:Menlo,'DejaVu Sans Mono',consolas,'Courier New',monospace\"><span style=\"font-weight: bold\"> Trainable params: </span><span style=\"color: #00af00; text-decoration-color: #00af00\">43,818</span> (171.16 KB)\n",
       "</pre>\n"
      ],
      "text/plain": [
       "\u001b[1m Trainable params: \u001b[0m\u001b[38;5;34m43,818\u001b[0m (171.16 KB)\n"
      ]
     },
     "metadata": {},
     "output_type": "display_data"
    },
    {
     "data": {
      "text/html": [
       "<pre style=\"white-space:pre;overflow-x:auto;line-height:normal;font-family:Menlo,'DejaVu Sans Mono',consolas,'Courier New',monospace\"><span style=\"font-weight: bold\"> Non-trainable params: </span><span style=\"color: #00af00; text-decoration-color: #00af00\">192</span> (768.00 B)\n",
       "</pre>\n"
      ],
      "text/plain": [
       "\u001b[1m Non-trainable params: \u001b[0m\u001b[38;5;34m192\u001b[0m (768.00 B)\n"
      ]
     },
     "metadata": {},
     "output_type": "display_data"
    },
    {
     "data": {
      "text/html": [
       "<pre style=\"white-space:pre;overflow-x:auto;line-height:normal;font-family:Menlo,'DejaVu Sans Mono',consolas,'Courier New',monospace\"></pre>\n"
      ],
      "text/plain": []
     },
     "metadata": {},
     "output_type": "display_data"
    }
   ],
   "source": [
    "print(\"[Step 9] Retrieving best model\")\n",
    "best_trial = forecaster_tuner.oracle.get_best_trials(num_trials=1)[0]\n",
    "best_forecaster_model = forecaster_tuner.get_best_models(num_models=1)[0]\n",
    "print(f\"Trial ID: {best_trial.trial_id}\")\n",
    "print(f\"Hyperparameters: {best_trial.hyperparameters.values}\")\n",
    "print(f\"Score: {best_trial.score}\")\n",
    "print(\"-\" * 40)\n",
    "best_forecaster_model.summary()\n",
    "best_forecaster_model = InternalForecaster(\n",
    "    best_forecaster_model,\n",
    "    len(variables),\n",
    "    best_trial.hyperparameters.values['batch_size'],\n",
    "    best_trial.hyperparameters.values['epochs'],\n",
    ")\n",
    "report.update({\n",
    "    'best_trial_id': best_trial.trial_id,\n",
    "    'best_trial_hyperparameters': best_trial.hyperparameters.values,\n",
    "    'best_trial_score': best_trial.score,\n",
    "    'best_forecaster_model': best_forecaster_model.summary(),\n",
    "})"
   ]
  },
  {
   "cell_type": "code",
   "execution_count": 18,
   "metadata": {},
   "outputs": [
    {
     "name": "stdout",
     "output_type": "stream",
     "text": [
      "[Step 10] Fitting scaler on train_val and applying on train_val and test\n"
     ]
    }
   ],
   "source": [
    "print(\"[Step 10] Fitting scaler on train_val and applying on train_val and test\")\n",
    "start_time = time.time()\n",
    "scaler = Scaler(variables)\n",
    "scaled_reduced_train_val = scaler.fit_scale(reduced_train_val)\n",
    "scaled_test = scaler.scale(test)\n",
    "end_time = time.time()\n",
    "fit_apply_scaler_train_val_test_duration = end_time - start_time\n",
    "report.update({\n",
    "    'fit_apply_scaler_train_val_test_duration': fit_apply_scaler_train_val_test_duration,\n",
    "})"
   ]
  },
  {
   "cell_type": "code",
   "execution_count": 19,
   "metadata": {},
   "outputs": [
    {
     "name": "stdout",
     "output_type": "stream",
     "text": [
      "[Step 11] Splitting train_val and test into X and y\n"
     ]
    }
   ],
   "source": [
    "print(\"[Step 11] Splitting train_val and test into X and y\")\n",
    "X_reduced_scaled_train_val, y_reduced_scaled_train_val = split_X_y(scaled_reduced_train_val)\n",
    "X_scaled_test, y_scaled_test = split_X_y(scaled_test)\n",
    "report.update({\n",
    "    'X_reduced_scaled_train_val.shape': X_reduced_scaled_train_val.shape,\n",
    "    'y_reduced_scaled_train_val.shape': y_reduced_scaled_train_val.shape,\n",
    "    'X_scaled_test.shape': X_scaled_test.shape,\n",
    "    'y_scaled_test.shape': y_scaled_test.shape,\n",
    "})"
   ]
  },
  {
   "cell_type": "code",
   "execution_count": 20,
   "metadata": {},
   "outputs": [
    {
     "name": "stdout",
     "output_type": "stream",
     "text": [
      "[Step 12] Retraining best model\n",
      "Epoch 1/125\n",
      "\u001b[1m32/32\u001b[0m \u001b[32m━━━━━━━━━━━━━━━━━━━━\u001b[0m\u001b[37m\u001b[0m \u001b[1m1s\u001b[0m 4ms/step - loss: 0.7986 \n",
      "Epoch 2/125\n",
      "\u001b[1m32/32\u001b[0m \u001b[32m━━━━━━━━━━━━━━━━━━━━\u001b[0m\u001b[37m\u001b[0m \u001b[1m0s\u001b[0m 4ms/step - loss: 0.7762\n",
      "Epoch 3/125\n",
      "\u001b[1m32/32\u001b[0m \u001b[32m━━━━━━━━━━━━━━━━━━━━\u001b[0m\u001b[37m\u001b[0m \u001b[1m0s\u001b[0m 4ms/step - loss: 0.7292\n",
      "Epoch 4/125\n",
      "\u001b[1m32/32\u001b[0m \u001b[32m━━━━━━━━━━━━━━━━━━━━\u001b[0m\u001b[37m\u001b[0m \u001b[1m0s\u001b[0m 4ms/step - loss: 0.6785\n",
      "Epoch 5/125\n",
      "\u001b[1m32/32\u001b[0m \u001b[32m━━━━━━━━━━━━━━━━━━━━\u001b[0m\u001b[37m\u001b[0m \u001b[1m0s\u001b[0m 4ms/step - loss: 0.6503\n",
      "Epoch 6/125\n",
      "\u001b[1m32/32\u001b[0m \u001b[32m━━━━━━━━━━━━━━━━━━━━\u001b[0m\u001b[37m\u001b[0m \u001b[1m0s\u001b[0m 4ms/step - loss: 0.6128\n",
      "Epoch 7/125\n",
      "\u001b[1m32/32\u001b[0m \u001b[32m━━━━━━━━━━━━━━━━━━━━\u001b[0m\u001b[37m\u001b[0m \u001b[1m0s\u001b[0m 4ms/step - loss: 0.6127\n",
      "Epoch 8/125\n",
      "\u001b[1m32/32\u001b[0m \u001b[32m━━━━━━━━━━━━━━━━━━━━\u001b[0m\u001b[37m\u001b[0m \u001b[1m0s\u001b[0m 4ms/step - loss: 0.6357\n",
      "Epoch 9/125\n",
      "\u001b[1m32/32\u001b[0m \u001b[32m━━━━━━━━━━━━━━━━━━━━\u001b[0m\u001b[37m\u001b[0m \u001b[1m0s\u001b[0m 4ms/step - loss: 0.6109\n",
      "Epoch 10/125\n",
      "\u001b[1m32/32\u001b[0m \u001b[32m━━━━━━━━━━━━━━━━━━━━\u001b[0m\u001b[37m\u001b[0m \u001b[1m0s\u001b[0m 4ms/step - loss: 0.5855\n",
      "Epoch 11/125\n",
      "\u001b[1m32/32\u001b[0m \u001b[32m━━━━━━━━━━━━━━━━━━━━\u001b[0m\u001b[37m\u001b[0m \u001b[1m0s\u001b[0m 4ms/step - loss: 0.6301\n",
      "Epoch 12/125\n",
      "\u001b[1m32/32\u001b[0m \u001b[32m━━━━━━━━━━━━━━━━━━━━\u001b[0m\u001b[37m\u001b[0m \u001b[1m0s\u001b[0m 4ms/step - loss: 0.6308\n",
      "Epoch 13/125\n",
      "\u001b[1m32/32\u001b[0m \u001b[32m━━━━━━━━━━━━━━━━━━━━\u001b[0m\u001b[37m\u001b[0m \u001b[1m0s\u001b[0m 4ms/step - loss: 0.6174\n",
      "Epoch 14/125\n",
      "\u001b[1m32/32\u001b[0m \u001b[32m━━━━━━━━━━━━━━━━━━━━\u001b[0m\u001b[37m\u001b[0m \u001b[1m0s\u001b[0m 4ms/step - loss: 0.6704\n",
      "Epoch 15/125\n",
      "\u001b[1m32/32\u001b[0m \u001b[32m━━━━━━━━━━━━━━━━━━━━\u001b[0m\u001b[37m\u001b[0m \u001b[1m0s\u001b[0m 4ms/step - loss: 0.6331\n",
      "Epoch 16/125\n",
      "\u001b[1m32/32\u001b[0m \u001b[32m━━━━━━━━━━━━━━━━━━━━\u001b[0m\u001b[37m\u001b[0m \u001b[1m0s\u001b[0m 4ms/step - loss: 0.6403\n",
      "Epoch 17/125\n",
      "\u001b[1m32/32\u001b[0m \u001b[32m━━━━━━━━━━━━━━━━━━━━\u001b[0m\u001b[37m\u001b[0m \u001b[1m0s\u001b[0m 4ms/step - loss: 0.5969\n",
      "Epoch 18/125\n",
      "\u001b[1m32/32\u001b[0m \u001b[32m━━━━━━━━━━━━━━━━━━━━\u001b[0m\u001b[37m\u001b[0m \u001b[1m0s\u001b[0m 4ms/step - loss: 0.5856\n",
      "Epoch 19/125\n",
      "\u001b[1m32/32\u001b[0m \u001b[32m━━━━━━━━━━━━━━━━━━━━\u001b[0m\u001b[37m\u001b[0m \u001b[1m0s\u001b[0m 4ms/step - loss: 0.5941\n",
      "Epoch 20/125\n",
      "\u001b[1m32/32\u001b[0m \u001b[32m━━━━━━━━━━━━━━━━━━━━\u001b[0m\u001b[37m\u001b[0m \u001b[1m0s\u001b[0m 4ms/step - loss: 0.5811\n",
      "Epoch 21/125\n",
      "\u001b[1m32/32\u001b[0m \u001b[32m━━━━━━━━━━━━━━━━━━━━\u001b[0m\u001b[37m\u001b[0m \u001b[1m0s\u001b[0m 4ms/step - loss: 0.5789\n",
      "Epoch 22/125\n",
      "\u001b[1m32/32\u001b[0m \u001b[32m━━━━━━━━━━━━━━━━━━━━\u001b[0m\u001b[37m\u001b[0m \u001b[1m0s\u001b[0m 4ms/step - loss: 0.6519\n",
      "Epoch 23/125\n",
      "\u001b[1m32/32\u001b[0m \u001b[32m━━━━━━━━━━━━━━━━━━━━\u001b[0m\u001b[37m\u001b[0m \u001b[1m0s\u001b[0m 4ms/step - loss: 0.7053\n",
      "Epoch 24/125\n",
      "\u001b[1m32/32\u001b[0m \u001b[32m━━━━━━━━━━━━━━━━━━━━\u001b[0m\u001b[37m\u001b[0m \u001b[1m0s\u001b[0m 4ms/step - loss: 0.7110\n",
      "Epoch 25/125\n",
      "\u001b[1m32/32\u001b[0m \u001b[32m━━━━━━━━━━━━━━━━━━━━\u001b[0m\u001b[37m\u001b[0m \u001b[1m0s\u001b[0m 4ms/step - loss: 0.7107\n",
      "Epoch 26/125\n",
      "\u001b[1m32/32\u001b[0m \u001b[32m━━━━━━━━━━━━━━━━━━━━\u001b[0m\u001b[37m\u001b[0m \u001b[1m0s\u001b[0m 4ms/step - loss: 0.6953\n",
      "Epoch 27/125\n",
      "\u001b[1m32/32\u001b[0m \u001b[32m━━━━━━━━━━━━━━━━━━━━\u001b[0m\u001b[37m\u001b[0m \u001b[1m0s\u001b[0m 4ms/step - loss: 0.6748\n",
      "Epoch 28/125\n",
      "\u001b[1m32/32\u001b[0m \u001b[32m━━━━━━━━━━━━━━━━━━━━\u001b[0m\u001b[37m\u001b[0m \u001b[1m0s\u001b[0m 5ms/step - loss: 0.6461\n",
      "Epoch 29/125\n",
      "\u001b[1m32/32\u001b[0m \u001b[32m━━━━━━━━━━━━━━━━━━━━\u001b[0m\u001b[37m\u001b[0m \u001b[1m0s\u001b[0m 4ms/step - loss: 0.6719\n",
      "Epoch 30/125\n",
      "\u001b[1m32/32\u001b[0m \u001b[32m━━━━━━━━━━━━━━━━━━━━\u001b[0m\u001b[37m\u001b[0m \u001b[1m0s\u001b[0m 4ms/step - loss: 0.6939\n",
      "Epoch 31/125\n",
      "\u001b[1m32/32\u001b[0m \u001b[32m━━━━━━━━━━━━━━━━━━━━\u001b[0m\u001b[37m\u001b[0m \u001b[1m0s\u001b[0m 4ms/step - loss: 0.6969\n"
     ]
    }
   ],
   "source": [
    "print(\"[Step 12] Retraining best model\")\n",
    "start_time = time.time()\n",
    "best_forecaster_model.fit(\n",
    "    X_reduced_scaled_train_val,\n",
    "    y_reduced_scaled_train_val,\n",
    "    shuffle=False\n",
    ")\n",
    "end_time = time.time()\n",
    "retrain_duration = end_time - start_time\n",
    "report.update({\n",
    "    'retrain_duration': retrain_duration,\n",
    "})"
   ]
  },
  {
   "cell_type": "code",
   "execution_count": 21,
   "metadata": {},
   "outputs": [
    {
     "name": "stdout",
     "output_type": "stream",
     "text": [
      "[Step 13] Forecasting for test\n",
      "\u001b[1m42/58\u001b[0m \u001b[32m━━━━━━━━━━━━━━\u001b[0m\u001b[37m━━━━━━\u001b[0m \u001b[1m0s\u001b[0m 1ms/step  "
     ]
    },
    {
     "name": "stderr",
     "output_type": "stream",
     "text": [
      "2025-04-06 17:57:03.983138: W tensorflow/core/framework/dataset.cc:959] Input of GeneratorDatasetOp::Dataset will not be optimized because the dataset does not implement the AsGraphDefInternal() method needed to apply optimizations.\n",
      "2025-04-06 17:57:04.162422: W tensorflow/core/framework/local_rendezvous.cc:404] Local rendezvous is aborting with status: OUT_OF_RANGE: End of sequence\n",
      "\t [[{{node MultiDeviceIteratorGetNextFromShard}}]]\n"
     ]
    },
    {
     "name": "stdout",
     "output_type": "stream",
     "text": [
      "\u001b[1m58/58\u001b[0m \u001b[32m━━━━━━━━━━━━━━━━━━━━\u001b[0m\u001b[37m\u001b[0m \u001b[1m0s\u001b[0m 4ms/step\n"
     ]
    }
   ],
   "source": [
    "print(\"[Step 13] Forecasting for test\")\n",
    "start_time = time.time()\n",
    "y_scaled_pred = best_forecaster_model.forecast(X_scaled_test)\n",
    "y_scaled_test_flat = y_scaled_test.reshape(-1, n_variables)\n",
    "y_scaled_pred_flat = y_scaled_pred.reshape(-1, n_variables)\n",
    "end_time = time.time()\n",
    "forecasting_test_duration = end_time - start_time\n",
    "report.update({\n",
    "    'forecasting_test_duration': forecasting_test_duration,\n",
    "})"
   ]
  },
  {
   "cell_type": "code",
   "execution_count": 22,
   "metadata": {},
   "outputs": [
    {
     "data": {
      "text/plain": [
       "array([[-1.23055822, -1.25086781, -1.16213415, -0.87719569, -2.06214374,\n",
       "        -0.13780333],\n",
       "       [-1.11462147, -1.18137868, -1.05524888, -0.6343508 , -1.94346707,\n",
       "        -0.31248902],\n",
       "       [-0.94071634, -0.99607432, -1.01566174, -0.52396676, -1.86434929,\n",
       "        -0.3528011 ],\n",
       "       ...,\n",
       "       [-0.12915906,  0.06942571, -0.37435011,  1.24217789,  2.74426146,\n",
       "        -2.84543152],\n",
       "       [-0.3030642 , -0.26643843, -0.60395551,  0.82271854,  3.0211737 ,\n",
       "        -3.16792817],\n",
       "       [-0.24509582,  0.0115181 , -0.4851941 ,  1.08764024,  3.06073259,\n",
       "        -3.1948029 ]])"
      ]
     },
     "execution_count": 22,
     "metadata": {},
     "output_type": "execute_result"
    }
   ],
   "source": [
    "y_scaled_test_flat"
   ]
  },
  {
   "cell_type": "code",
   "execution_count": 23,
   "metadata": {},
   "outputs": [
    {
     "data": {
      "text/plain": [
       "array([[-1.1374776 , -1.012333  , -0.76727474, -1.1795882 , -1.4156504 ,\n",
       "        -0.31508484],\n",
       "       [-1.082217  , -0.648935  , -0.6785568 , -1.0851161 , -1.1200556 ,\n",
       "        -0.34968984],\n",
       "       [-0.77705866, -0.49276745, -0.36904395, -0.526343  , -1.188053  ,\n",
       "        -0.64627653],\n",
       "       ...,\n",
       "       [ 0.1366496 ,  0.22431068,  0.32313225,  0.7002863 ,  0.69994354,\n",
       "        -1.0550631 ],\n",
       "       [ 0.23887031,  0.45166597,  0.2055144 ,  0.53611845,  0.58992374,\n",
       "        -1.1682652 ],\n",
       "       [ 0.26597652,  0.57714087,  0.06440331,  0.6692123 ,  0.64261   ,\n",
       "        -1.04964   ]], dtype=float32)"
      ]
     },
     "execution_count": 23,
     "metadata": {},
     "output_type": "execute_result"
    }
   ],
   "source": [
    "y_scaled_pred_flat"
   ]
  },
  {
   "cell_type": "code",
   "execution_count": 24,
   "metadata": {},
   "outputs": [
    {
     "name": "stdout",
     "output_type": "stream",
     "text": [
      "[Step 14] Descaling data\n"
     ]
    }
   ],
   "source": [
    "print(\"[Step 14] Descaling data\")\n",
    "start_time = time.time()\n",
    "y_test = scaler.descale(pd.DataFrame(y_scaled_test_flat, columns=variables))\n",
    "y_pred = scaler.descale(pd.DataFrame(y_scaled_pred_flat, columns=variables))\n",
    "end_time = time.time()\n",
    "descaling_duration = end_time - start_time\n",
    "report.update({\n",
    "    'descaling_duration': descaling_duration,\n",
    "})"
   ]
  },
  {
   "cell_type": "code",
   "execution_count": 25,
   "metadata": {},
   "outputs": [
    {
     "data": {
      "text/html": [
       "<div>\n",
       "<style scoped>\n",
       "    .dataframe tbody tr th:only-of-type {\n",
       "        vertical-align: middle;\n",
       "    }\n",
       "\n",
       "    .dataframe tbody tr th {\n",
       "        vertical-align: top;\n",
       "    }\n",
       "\n",
       "    .dataframe thead th {\n",
       "        text-align: right;\n",
       "    }\n",
       "</style>\n",
       "<table border=\"1\" class=\"dataframe\">\n",
       "  <thead>\n",
       "    <tr style=\"text-align: right;\">\n",
       "      <th></th>\n",
       "      <th>CO(GT)</th>\n",
       "      <th>C6H6(GT)</th>\n",
       "      <th>NOx(GT)</th>\n",
       "      <th>NO2(GT)</th>\n",
       "      <th>T</th>\n",
       "      <th>RH</th>\n",
       "    </tr>\n",
       "  </thead>\n",
       "  <tbody>\n",
       "    <tr>\n",
       "      <th>0</th>\n",
       "      <td>0.5</td>\n",
       "      <td>1.0</td>\n",
       "      <td>94.0</td>\n",
       "      <td>79.0</td>\n",
       "      <td>2.6</td>\n",
       "      <td>58.6</td>\n",
       "    </tr>\n",
       "    <tr>\n",
       "      <th>1</th>\n",
       "      <td>0.7</td>\n",
       "      <td>1.6</td>\n",
       "      <td>121.0</td>\n",
       "      <td>90.0</td>\n",
       "      <td>3.2</td>\n",
       "      <td>56.0</td>\n",
       "    </tr>\n",
       "    <tr>\n",
       "      <th>2</th>\n",
       "      <td>1.0</td>\n",
       "      <td>3.2</td>\n",
       "      <td>131.0</td>\n",
       "      <td>95.0</td>\n",
       "      <td>3.6</td>\n",
       "      <td>55.4</td>\n",
       "    </tr>\n",
       "    <tr>\n",
       "      <th>3</th>\n",
       "      <td>3.0</td>\n",
       "      <td>15.9</td>\n",
       "      <td>552.0</td>\n",
       "      <td>169.0</td>\n",
       "      <td>1.8</td>\n",
       "      <td>63.3</td>\n",
       "    </tr>\n",
       "    <tr>\n",
       "      <th>4</th>\n",
       "      <td>4.1</td>\n",
       "      <td>18.0</td>\n",
       "      <td>614.0</td>\n",
       "      <td>199.0</td>\n",
       "      <td>2.4</td>\n",
       "      <td>60.2</td>\n",
       "    </tr>\n",
       "    <tr>\n",
       "      <th>...</th>\n",
       "      <td>...</td>\n",
       "      <td>...</td>\n",
       "      <td>...</td>\n",
       "      <td>...</td>\n",
       "      <td>...</td>\n",
       "      <td>...</td>\n",
       "    </tr>\n",
       "    <tr>\n",
       "      <th>12959</th>\n",
       "      <td>3.1</td>\n",
       "      <td>13.5</td>\n",
       "      <td>472.0</td>\n",
       "      <td>190.0</td>\n",
       "      <td>21.9</td>\n",
       "      <td>29.3</td>\n",
       "    </tr>\n",
       "    <tr>\n",
       "      <th>12960</th>\n",
       "      <td>2.4</td>\n",
       "      <td>11.4</td>\n",
       "      <td>353.0</td>\n",
       "      <td>179.0</td>\n",
       "      <td>24.3</td>\n",
       "      <td>23.7</td>\n",
       "    </tr>\n",
       "    <tr>\n",
       "      <th>12961</th>\n",
       "      <td>2.4</td>\n",
       "      <td>12.4</td>\n",
       "      <td>293.0</td>\n",
       "      <td>175.0</td>\n",
       "      <td>26.9</td>\n",
       "      <td>18.3</td>\n",
       "    </tr>\n",
       "    <tr>\n",
       "      <th>12962</th>\n",
       "      <td>2.1</td>\n",
       "      <td>9.5</td>\n",
       "      <td>235.0</td>\n",
       "      <td>156.0</td>\n",
       "      <td>28.3</td>\n",
       "      <td>13.5</td>\n",
       "    </tr>\n",
       "    <tr>\n",
       "      <th>12963</th>\n",
       "      <td>2.2</td>\n",
       "      <td>11.9</td>\n",
       "      <td>265.0</td>\n",
       "      <td>168.0</td>\n",
       "      <td>28.5</td>\n",
       "      <td>13.1</td>\n",
       "    </tr>\n",
       "  </tbody>\n",
       "</table>\n",
       "<p>12964 rows × 6 columns</p>\n",
       "</div>"
      ],
      "text/plain": [
       "       CO(GT)  C6H6(GT)  NOx(GT)  NO2(GT)     T    RH\n",
       "0         0.5       1.0     94.0     79.0   2.6  58.6\n",
       "1         0.7       1.6    121.0     90.0   3.2  56.0\n",
       "2         1.0       3.2    131.0     95.0   3.6  55.4\n",
       "3         3.0      15.9    552.0    169.0   1.8  63.3\n",
       "4         4.1      18.0    614.0    199.0   2.4  60.2\n",
       "...       ...       ...      ...      ...   ...   ...\n",
       "12959     3.1      13.5    472.0    190.0  21.9  29.3\n",
       "12960     2.4      11.4    353.0    179.0  24.3  23.7\n",
       "12961     2.4      12.4    293.0    175.0  26.9  18.3\n",
       "12962     2.1       9.5    235.0    156.0  28.3  13.5\n",
       "12963     2.2      11.9    265.0    168.0  28.5  13.1\n",
       "\n",
       "[12964 rows x 6 columns]"
      ]
     },
     "execution_count": 25,
     "metadata": {},
     "output_type": "execute_result"
    }
   ],
   "source": [
    "y_test"
   ]
  },
  {
   "cell_type": "code",
   "execution_count": 26,
   "metadata": {},
   "outputs": [
    {
     "data": {
      "text/html": [
       "<div>\n",
       "<style scoped>\n",
       "    .dataframe tbody tr th:only-of-type {\n",
       "        vertical-align: middle;\n",
       "    }\n",
       "\n",
       "    .dataframe tbody tr th {\n",
       "        vertical-align: top;\n",
       "    }\n",
       "\n",
       "    .dataframe thead th {\n",
       "        text-align: right;\n",
       "    }\n",
       "</style>\n",
       "<table border=\"1\" class=\"dataframe\">\n",
       "  <thead>\n",
       "    <tr style=\"text-align: right;\">\n",
       "      <th></th>\n",
       "      <th>CO(GT)</th>\n",
       "      <th>C6H6(GT)</th>\n",
       "      <th>NOx(GT)</th>\n",
       "      <th>NO2(GT)</th>\n",
       "      <th>T</th>\n",
       "      <th>RH</th>\n",
       "    </tr>\n",
       "  </thead>\n",
       "  <tbody>\n",
       "    <tr>\n",
       "      <th>0</th>\n",
       "      <td>0.660571</td>\n",
       "      <td>3.059615</td>\n",
       "      <td>193.744370</td>\n",
       "      <td>65.302704</td>\n",
       "      <td>5.868511</td>\n",
       "      <td>55.961365</td>\n",
       "    </tr>\n",
       "    <tr>\n",
       "      <th>1</th>\n",
       "      <td>0.755900</td>\n",
       "      <td>6.197355</td>\n",
       "      <td>216.155167</td>\n",
       "      <td>69.581947</td>\n",
       "      <td>7.362966</td>\n",
       "      <td>55.446308</td>\n",
       "    </tr>\n",
       "    <tr>\n",
       "      <th>2</th>\n",
       "      <td>1.282322</td>\n",
       "      <td>7.545775</td>\n",
       "      <td>294.340363</td>\n",
       "      <td>94.892365</td>\n",
       "      <td>7.019187</td>\n",
       "      <td>51.031948</td>\n",
       "    </tr>\n",
       "    <tr>\n",
       "      <th>3</th>\n",
       "      <td>1.908177</td>\n",
       "      <td>7.248773</td>\n",
       "      <td>363.813324</td>\n",
       "      <td>96.972267</td>\n",
       "      <td>9.014489</td>\n",
       "      <td>50.858578</td>\n",
       "    </tr>\n",
       "    <tr>\n",
       "      <th>4</th>\n",
       "      <td>2.315074</td>\n",
       "      <td>11.624516</td>\n",
       "      <td>423.422363</td>\n",
       "      <td>128.340439</td>\n",
       "      <td>9.797011</td>\n",
       "      <td>47.230328</td>\n",
       "    </tr>\n",
       "    <tr>\n",
       "      <th>...</th>\n",
       "      <td>...</td>\n",
       "      <td>...</td>\n",
       "      <td>...</td>\n",
       "      <td>...</td>\n",
       "      <td>...</td>\n",
       "      <td>...</td>\n",
       "    </tr>\n",
       "    <tr>\n",
       "      <th>12959</th>\n",
       "      <td>3.638117</td>\n",
       "      <td>15.591415</td>\n",
       "      <td>569.877319</td>\n",
       "      <td>173.803497</td>\n",
       "      <td>14.393326</td>\n",
       "      <td>47.476746</td>\n",
       "    </tr>\n",
       "    <tr>\n",
       "      <th>12960</th>\n",
       "      <td>3.548509</td>\n",
       "      <td>14.566921</td>\n",
       "      <td>532.971924</td>\n",
       "      <td>158.348434</td>\n",
       "      <td>16.147224</td>\n",
       "      <td>45.591976</td>\n",
       "    </tr>\n",
       "    <tr>\n",
       "      <th>12961</th>\n",
       "      <td>2.858541</td>\n",
       "      <td>13.737346</td>\n",
       "      <td>469.189148</td>\n",
       "      <td>150.454254</td>\n",
       "      <td>16.564432</td>\n",
       "      <td>44.947620</td>\n",
       "    </tr>\n",
       "    <tr>\n",
       "      <th>12962</th>\n",
       "      <td>3.034879</td>\n",
       "      <td>15.700432</td>\n",
       "      <td>439.477997</td>\n",
       "      <td>143.018051</td>\n",
       "      <td>16.008200</td>\n",
       "      <td>43.262733</td>\n",
       "    </tr>\n",
       "    <tr>\n",
       "      <th>12963</th>\n",
       "      <td>3.081640</td>\n",
       "      <td>16.783838</td>\n",
       "      <td>403.832306</td>\n",
       "      <td>149.046722</td>\n",
       "      <td>16.274569</td>\n",
       "      <td>45.028336</td>\n",
       "    </tr>\n",
       "  </tbody>\n",
       "</table>\n",
       "<p>12964 rows × 6 columns</p>\n",
       "</div>"
      ],
      "text/plain": [
       "         CO(GT)   C6H6(GT)     NOx(GT)     NO2(GT)          T         RH\n",
       "0      0.660571   3.059615  193.744370   65.302704   5.868511  55.961365\n",
       "1      0.755900   6.197355  216.155167   69.581947   7.362966  55.446308\n",
       "2      1.282322   7.545775  294.340363   94.892365   7.019187  51.031948\n",
       "3      1.908177   7.248773  363.813324   96.972267   9.014489  50.858578\n",
       "4      2.315074  11.624516  423.422363  128.340439   9.797011  47.230328\n",
       "...         ...        ...         ...         ...        ...        ...\n",
       "12959  3.638117  15.591415  569.877319  173.803497  14.393326  47.476746\n",
       "12960  3.548509  14.566921  532.971924  158.348434  16.147224  45.591976\n",
       "12961  2.858541  13.737346  469.189148  150.454254  16.564432  44.947620\n",
       "12962  3.034879  15.700432  439.477997  143.018051  16.008200  43.262733\n",
       "12963  3.081640  16.783838  403.832306  149.046722  16.274569  45.028336\n",
       "\n",
       "[12964 rows x 6 columns]"
      ]
     },
     "execution_count": 26,
     "metadata": {},
     "output_type": "execute_result"
    }
   ],
   "source": [
    "y_pred"
   ]
  },
  {
   "cell_type": "code",
   "execution_count": 27,
   "metadata": {},
   "outputs": [
    {
     "name": "stdout",
     "output_type": "stream",
     "text": [
      "[Step 15] Calculating evaluation metrics\n",
      "Obtained error results: {'Avg_MAPE': 3524438711177.57, 'Avg_MAE': 35.478859416199846, 'Avg_MSE': 6905.7638032438335, 'Avg_RMSE': 44.756211716312684, 'Avg_R2': 0.23097887983504264, 'Avg_WAPE': 0.4144975764736879, 'CO(GT)_MAPE': 1.2771239351480383, 'CO(GT)_MAE': 1.0536267763663496, 'CO(GT)_MSE': 1.7746048470120002, 'CO(GT)_RMSE': 1.3321429529190927, 'CO(GT)_R2': 0.07558978906811242, 'CO(GT)_WAPE': 0.5549944244980833, 'C6H6(GT)_MAPE': 1.658938337720788, 'C6H6(GT)_MAE': 5.091344981404542, 'C6H6(GT)_MSE': 40.4341111614347, 'C6H6(GT)_RMSE': 6.358782207422637, 'C6H6(GT)_R2': 0.03357245801894693, 'C6H6(GT)_WAPE': 0.6363362123042099, 'NOx(GT)_MAPE': 0.9197530595059527, 'NOx(GT)_MAE': 158.12184955503082, 'NOx(GT)_MSE': 39027.52857904098, 'NOx(GT)_RMSE': 197.55386247563214, 'NOx(GT)_R2': 0.10895715821546503, 'NOx(GT)_WAPE': 0.5249694176683876, 'NO2(GT)_MAPE': 0.28087369777296467, 'NO2(GT)_MAE': 35.61151894313691, 'NO2(GT)_MSE': 2201.857948240159, 'NO2(GT)_RMSE': 46.92395921317978, 'NO2(GT)_R2': 0.2472270760888975, 'NO2(GT)_WAPE': 0.2495458761533665, 'T_MAPE': 21146632267061.027, 'T_MAE': 3.570897080803923, 'T_MSE': 19.13927757786656, 'T_RMSE': 4.374846006188854, 'T_R2': 0.4484914920437941, 'T_WAPE': 0.3565770117290632, 'RH_MAPE': 0.2550261926550273, 'RH_MAE': 9.423919160456522, 'RH_MSE': 143.84829859553858, 'RH_RMSE': 11.993677442533569, 'RH_R2': 0.4720353055750399, 'RH_WAPE': 0.18943332354857403}\n"
     ]
    }
   ],
   "source": [
    "print(\"[Step 15] Calculating evaluation metrics\")\n",
    "total_duration = sum(value for key, value in report.items() if key.endswith('_duration'))\n",
    "error_results = get_error_results(y_test, y_pred, variables)\n",
    "print(f\"Obtained error results: {error_results}\")\n",
    "report.update({\n",
    "    'total_duration': total_duration,\n",
    "    'error_results': error_results,\n",
    "})"
   ]
  },
  {
   "cell_type": "code",
   "execution_count": 28,
   "metadata": {},
   "outputs": [
    {
     "data": {
      "text/plain": [
       "{'execution_id': 'validate_pipeline_UCI_AIR_QUALITY_Window_L1_214',\n",
       " 'timestamp': 'validate_pipeline',\n",
       " 'change_point_method': 'Window',\n",
       " 'change_point_cost_function': 'L1',\n",
       " 'change_point_approach': 'Window L1',\n",
       " 'seed': 214,\n",
       " 'observation_window': 14,\n",
       " 'train_perc': 0.8,\n",
       " 'nb_trials': 30,\n",
       " 'dataset_domain': 'UCI',\n",
       " 'dataset': 'AIR_QUALITY',\n",
       " 'variables': ['CO(GT)', 'C6H6(GT)', 'NOx(GT)', 'NO2(GT)', 'T', 'RH'],\n",
       " 'dataset_shape': (9357, 7),\n",
       " 'train_val_shape': (7485, 7),\n",
       " 'test_shape': (1872, 7),\n",
       " 'detect_change_point_duration': 0.07590699195861816,\n",
       " 'change_point': '5385',\n",
       " 'change_point_perc': 71.9438877755511,\n",
       " 'apply_change_point_duration': 8.320808410644531e-05,\n",
       " 'reduced_train_val.shape': (2100, 7),\n",
       " 'reduced_train.shape': (1680, 7),\n",
       " 'reduced_val.shape': (420, 7),\n",
       " 'fit_apply_scaler_train_val_duration': 0.00370025634765625,\n",
       " 'X_reduced_scaled_train.shape': (1660, 14, 6),\n",
       " 'y_reduced_scaled_train.shape': (1660, 7, 6),\n",
       " 'X_reduced_scaled_val.shape': (400, 14, 6),\n",
       " 'y_reduced_scaled_val.shape': (400, 7, 6),\n",
       " 'tuner_duration': 28.452887058258057,\n",
       " 'best_trial_id': '2',\n",
       " 'best_trial_hyperparameters': {'num_layers': 1,\n",
       "  'units_0': 96,\n",
       "  'learning_rate': 0.001,\n",
       "  'units_1': 64,\n",
       "  'units_2': 128,\n",
       "  'batch_size': 64,\n",
       "  'epochs': 125,\n",
       "  'units_3': 128,\n",
       "  'units_4': 64},\n",
       " 'best_trial_score': 0.40178698493588355,\n",
       " 'best_forecaster_model': 'Model: \"sequential\"\\n┏━━━━━━━━━━━━━━━━━━━━━━━━━━━━━━━━━┳━━━━━━━━━━━━━━━━━━━━━━━━┳━━━━━━━━━━━━━━━┓\\n┃ Layer (type)                    ┃ Output Shape           ┃       Param # ┃\\n┡━━━━━━━━━━━━━━━━━━━━━━━━━━━━━━━━━╇━━━━━━━━━━━━━━━━━━━━━━━━╇━━━━━━━━━━━━━━━┩\\n│ lstm (LSTM)                     │ (None, 96)             │        39,552 │\\n├─────────────────────────────────┼────────────────────────┼───────────────┤\\n│ batch_normalization             │ (None, 96)             │           384 │\\n│ (BatchNormalization)            │                        │               │\\n├─────────────────────────────────┼────────────────────────┼───────────────┤\\n│ dense (Dense)                   │ (None, 42)             │         4,074 │\\n├─────────────────────────────────┼────────────────────────┼───────────────┤\\n│ reshape (Reshape)               │ (None, 7, 6)           │             0 │\\n└─────────────────────────────────┴────────────────────────┴───────────────┘\\n Total params: 44,010 (171.91 KB)\\n Trainable params: 43,818 (171.16 KB)\\n Non-trainable params: 192 (768.00 B)\\n\\n',\n",
       " 'fit_apply_scaler_train_val_test_duration': 0.002748250961303711,\n",
       " 'X_reduced_scaled_train_val.shape': (2080, 14, 6),\n",
       " 'y_reduced_scaled_train_val.shape': (2080, 7, 6),\n",
       " 'X_scaled_test.shape': (1852, 14, 6),\n",
       " 'y_scaled_test.shape': (1852, 7, 6),\n",
       " 'retrain_duration': 4.48661994934082,\n",
       " 'forecasting_test_duration': 0.35672903060913086,\n",
       " 'descaling_duration': 0.0027000904083251953,\n",
       " 'total_duration': 33.38137483596802,\n",
       " 'error_results': {'Avg_MAPE': 3524438711177.57,\n",
       "  'Avg_MAE': 35.478859416199846,\n",
       "  'Avg_MSE': 6905.7638032438335,\n",
       "  'Avg_RMSE': 44.756211716312684,\n",
       "  'Avg_R2': 0.23097887983504264,\n",
       "  'Avg_WAPE': 0.4144975764736879,\n",
       "  'CO(GT)_MAPE': 1.2771239351480383,\n",
       "  'CO(GT)_MAE': 1.0536267763663496,\n",
       "  'CO(GT)_MSE': 1.7746048470120002,\n",
       "  'CO(GT)_RMSE': 1.3321429529190927,\n",
       "  'CO(GT)_R2': 0.07558978906811242,\n",
       "  'CO(GT)_WAPE': 0.5549944244980833,\n",
       "  'C6H6(GT)_MAPE': 1.658938337720788,\n",
       "  'C6H6(GT)_MAE': 5.091344981404542,\n",
       "  'C6H6(GT)_MSE': 40.4341111614347,\n",
       "  'C6H6(GT)_RMSE': 6.358782207422637,\n",
       "  'C6H6(GT)_R2': 0.03357245801894693,\n",
       "  'C6H6(GT)_WAPE': 0.6363362123042099,\n",
       "  'NOx(GT)_MAPE': 0.9197530595059527,\n",
       "  'NOx(GT)_MAE': 158.12184955503082,\n",
       "  'NOx(GT)_MSE': 39027.52857904098,\n",
       "  'NOx(GT)_RMSE': 197.55386247563214,\n",
       "  'NOx(GT)_R2': 0.10895715821546503,\n",
       "  'NOx(GT)_WAPE': 0.5249694176683876,\n",
       "  'NO2(GT)_MAPE': 0.28087369777296467,\n",
       "  'NO2(GT)_MAE': 35.61151894313691,\n",
       "  'NO2(GT)_MSE': 2201.857948240159,\n",
       "  'NO2(GT)_RMSE': 46.92395921317978,\n",
       "  'NO2(GT)_R2': 0.2472270760888975,\n",
       "  'NO2(GT)_WAPE': 0.2495458761533665,\n",
       "  'T_MAPE': 21146632267061.027,\n",
       "  'T_MAE': 3.570897080803923,\n",
       "  'T_MSE': 19.13927757786656,\n",
       "  'T_RMSE': 4.374846006188854,\n",
       "  'T_R2': 0.4484914920437941,\n",
       "  'T_WAPE': 0.3565770117290632,\n",
       "  'RH_MAPE': 0.2550261926550273,\n",
       "  'RH_MAE': 9.423919160456522,\n",
       "  'RH_MSE': 143.84829859553858,\n",
       "  'RH_RMSE': 11.993677442533569,\n",
       "  'RH_R2': 0.4720353055750399,\n",
       "  'RH_WAPE': 0.18943332354857403}}"
      ]
     },
     "execution_count": 28,
     "metadata": {},
     "output_type": "execute_result"
    }
   ],
   "source": [
    "report"
   ]
  },
  {
   "cell_type": "markdown",
   "metadata": {},
   "source": [
    "## 2. What would be the error if we predicted the average values for all variables (Dummy Forecaster)?"
   ]
  },
  {
   "cell_type": "code",
   "execution_count": 29,
   "metadata": {},
   "outputs": [],
   "source": [
    "X_train_val, y_train_val = split_X_y(train_val)\n",
    "X_test, y_test = split_X_y(test)"
   ]
  },
  {
   "cell_type": "code",
   "execution_count": 30,
   "metadata": {},
   "outputs": [],
   "source": [
    "train_val_targets_flat = pd.DataFrame(y_train_val.reshape(-1, len(variables)), columns=variables)\n",
    "avg_values = train_val_targets_flat.mean(axis=0).to_numpy()"
   ]
  },
  {
   "cell_type": "code",
   "execution_count": 31,
   "metadata": {},
   "outputs": [],
   "source": [
    "n_test = y_test.shape[0]\n",
    "dummy_pred = np.tile(avg_values, (n_test, FORECAST_HORIZON, 1))\n",
    "\n",
    "dummy_pred_flat = dummy_pred.reshape(-1, n_variables)\n",
    "y_test_flat = pd.DataFrame(y_test.reshape(-1, n_variables), columns=variables)"
   ]
  },
  {
   "cell_type": "code",
   "execution_count": 32,
   "metadata": {},
   "outputs": [
    {
     "name": "stdout",
     "output_type": "stream",
     "text": [
      "Error metrics for Dummy Forecaster (predicting average values): \n",
      "{'Avg_MAPE': 8234635315137.397, 'Avg_MAE': 39.6761911395693, 'Avg_MSE': 9050.378952062862, 'Avg_RMSE': 54.45008211461132, 'Avg_R2': -0.6663866828639414, 'Avg_WAPE': 0.4635347737122664, 'CO(GT)_MAPE': 1.4907392486029176, 'CO(GT)_MAE': 1.1496764140739417, 'CO(GT)_MSE': 2.0059470835605415, 'CO(GT)_RMSE': 1.4163146131988265, 'CO(GT)_R2': -0.044918799672288845, 'CO(GT)_WAPE': 0.6055882539246805, 'C6H6(GT)_MAPE': 2.4158267445655204, 'C6H6(GT)_MAE': 5.998942145850846, 'C6H6(GT)_MSE': 49.37824329877635, 'C6H6(GT)_RMSE': 7.026965440271949, 'C6H6(GT)_R2': -0.18020386569282976, 'C6H6(GT)_WAPE': 0.7497712562918357, 'NOx(GT)_MAPE': 0.69058204879659, 'NOx(GT)_MAE': 152.8286100552228, 'NOx(GT)_MSE': 49209.25736669915, 'NOx(GT)_RMSE': 221.8315968627985, 'NOx(GT)_R2': -0.12350328403007538, 'NOx(GT)_WAPE': 0.5073956992631623, 'NO2(GT)_MAPE': 0.38503788600654404, 'NO2(GT)_MAE': 53.84588657162112, 'NO2(GT)_MSE': 4627.602712434949, 'NO2(GT)_RMSE': 68.02648537470498, 'NO2(GT)_R2': -0.5820884482229336, 'NO2(GT)_WAPE': 0.3773222637098321, 'T_MAPE': 49407811890819.55, 'T_MAE': 10.715515800495881, 'T_MSE': 141.10016475956155, 'T_RMSE': 11.878559035487493, 'T_R2': -3.0658766258195884, 'T_WAPE': 1.0700130854558751, 'RH_MAPE': 0.333980216041891, 'RH_MAE': 13.518515850140027, 'RH_MSE': 272.92927810066453, 'RH_RMSE': 16.52057136120493, 'RH_R2': -0.0017290737459678684, 'RH_WAPE': 0.271740169173103}\n"
     ]
    }
   ],
   "source": [
    "dummy_error_results = get_error_results(y_test_flat, dummy_pred_flat, variables)\n",
    "print(f\"Error metrics for Dummy Forecaster (predicting average values): \\n{dummy_error_results}\")"
   ]
  },
  {
   "cell_type": "code",
   "execution_count": 33,
   "metadata": {},
   "outputs": [
    {
     "data": {
      "text/html": [
       "<div>\n",
       "<style scoped>\n",
       "    .dataframe tbody tr th:only-of-type {\n",
       "        vertical-align: middle;\n",
       "    }\n",
       "\n",
       "    .dataframe tbody tr th {\n",
       "        vertical-align: top;\n",
       "    }\n",
       "\n",
       "    .dataframe thead th {\n",
       "        text-align: right;\n",
       "    }\n",
       "</style>\n",
       "<table border=\"1\" class=\"dataframe\">\n",
       "  <thead>\n",
       "    <tr style=\"text-align: right;\">\n",
       "      <th></th>\n",
       "      <th>Trained Model</th>\n",
       "      <th>Dummy Forecaster</th>\n",
       "    </tr>\n",
       "  </thead>\n",
       "  <tbody>\n",
       "    <tr>\n",
       "      <th>Avg_MAPE</th>\n",
       "      <td>3.524439e+12</td>\n",
       "      <td>8.234635e+12</td>\n",
       "    </tr>\n",
       "    <tr>\n",
       "      <th>Avg_MAE</th>\n",
       "      <td>3.547886e+01</td>\n",
       "      <td>3.967619e+01</td>\n",
       "    </tr>\n",
       "    <tr>\n",
       "      <th>Avg_MSE</th>\n",
       "      <td>6.905764e+03</td>\n",
       "      <td>9.050379e+03</td>\n",
       "    </tr>\n",
       "    <tr>\n",
       "      <th>Avg_RMSE</th>\n",
       "      <td>4.475621e+01</td>\n",
       "      <td>5.445008e+01</td>\n",
       "    </tr>\n",
       "    <tr>\n",
       "      <th>Avg_R2</th>\n",
       "      <td>2.309800e-01</td>\n",
       "      <td>-6.663900e-01</td>\n",
       "    </tr>\n",
       "    <tr>\n",
       "      <th>Avg_WAPE</th>\n",
       "      <td>4.145000e-01</td>\n",
       "      <td>4.635300e-01</td>\n",
       "    </tr>\n",
       "    <tr>\n",
       "      <th>CO(GT)_MAPE</th>\n",
       "      <td>1.277120e+00</td>\n",
       "      <td>1.490740e+00</td>\n",
       "    </tr>\n",
       "    <tr>\n",
       "      <th>CO(GT)_MAE</th>\n",
       "      <td>1.053630e+00</td>\n",
       "      <td>1.149680e+00</td>\n",
       "    </tr>\n",
       "    <tr>\n",
       "      <th>CO(GT)_MSE</th>\n",
       "      <td>1.774600e+00</td>\n",
       "      <td>2.005950e+00</td>\n",
       "    </tr>\n",
       "    <tr>\n",
       "      <th>CO(GT)_RMSE</th>\n",
       "      <td>1.332140e+00</td>\n",
       "      <td>1.416310e+00</td>\n",
       "    </tr>\n",
       "    <tr>\n",
       "      <th>CO(GT)_R2</th>\n",
       "      <td>7.559000e-02</td>\n",
       "      <td>-4.492000e-02</td>\n",
       "    </tr>\n",
       "    <tr>\n",
       "      <th>CO(GT)_WAPE</th>\n",
       "      <td>5.549900e-01</td>\n",
       "      <td>6.055900e-01</td>\n",
       "    </tr>\n",
       "    <tr>\n",
       "      <th>C6H6(GT)_MAPE</th>\n",
       "      <td>1.658940e+00</td>\n",
       "      <td>2.415830e+00</td>\n",
       "    </tr>\n",
       "    <tr>\n",
       "      <th>C6H6(GT)_MAE</th>\n",
       "      <td>5.091340e+00</td>\n",
       "      <td>5.998940e+00</td>\n",
       "    </tr>\n",
       "    <tr>\n",
       "      <th>C6H6(GT)_MSE</th>\n",
       "      <td>4.043411e+01</td>\n",
       "      <td>4.937824e+01</td>\n",
       "    </tr>\n",
       "    <tr>\n",
       "      <th>C6H6(GT)_RMSE</th>\n",
       "      <td>6.358780e+00</td>\n",
       "      <td>7.026970e+00</td>\n",
       "    </tr>\n",
       "    <tr>\n",
       "      <th>C6H6(GT)_R2</th>\n",
       "      <td>3.357000e-02</td>\n",
       "      <td>-1.802000e-01</td>\n",
       "    </tr>\n",
       "    <tr>\n",
       "      <th>C6H6(GT)_WAPE</th>\n",
       "      <td>6.363400e-01</td>\n",
       "      <td>7.497700e-01</td>\n",
       "    </tr>\n",
       "    <tr>\n",
       "      <th>NOx(GT)_MAPE</th>\n",
       "      <td>9.197500e-01</td>\n",
       "      <td>6.905800e-01</td>\n",
       "    </tr>\n",
       "    <tr>\n",
       "      <th>NOx(GT)_MAE</th>\n",
       "      <td>1.581218e+02</td>\n",
       "      <td>1.528286e+02</td>\n",
       "    </tr>\n",
       "    <tr>\n",
       "      <th>NOx(GT)_MSE</th>\n",
       "      <td>3.902753e+04</td>\n",
       "      <td>4.920926e+04</td>\n",
       "    </tr>\n",
       "    <tr>\n",
       "      <th>NOx(GT)_RMSE</th>\n",
       "      <td>1.975539e+02</td>\n",
       "      <td>2.218316e+02</td>\n",
       "    </tr>\n",
       "    <tr>\n",
       "      <th>NOx(GT)_R2</th>\n",
       "      <td>1.089600e-01</td>\n",
       "      <td>-1.235000e-01</td>\n",
       "    </tr>\n",
       "    <tr>\n",
       "      <th>NOx(GT)_WAPE</th>\n",
       "      <td>5.249700e-01</td>\n",
       "      <td>5.074000e-01</td>\n",
       "    </tr>\n",
       "    <tr>\n",
       "      <th>NO2(GT)_MAPE</th>\n",
       "      <td>2.808700e-01</td>\n",
       "      <td>3.850400e-01</td>\n",
       "    </tr>\n",
       "    <tr>\n",
       "      <th>NO2(GT)_MAE</th>\n",
       "      <td>3.561152e+01</td>\n",
       "      <td>5.384589e+01</td>\n",
       "    </tr>\n",
       "    <tr>\n",
       "      <th>NO2(GT)_MSE</th>\n",
       "      <td>2.201858e+03</td>\n",
       "      <td>4.627603e+03</td>\n",
       "    </tr>\n",
       "    <tr>\n",
       "      <th>NO2(GT)_RMSE</th>\n",
       "      <td>4.692396e+01</td>\n",
       "      <td>6.802649e+01</td>\n",
       "    </tr>\n",
       "    <tr>\n",
       "      <th>NO2(GT)_R2</th>\n",
       "      <td>2.472300e-01</td>\n",
       "      <td>-5.820900e-01</td>\n",
       "    </tr>\n",
       "    <tr>\n",
       "      <th>NO2(GT)_WAPE</th>\n",
       "      <td>2.495500e-01</td>\n",
       "      <td>3.773200e-01</td>\n",
       "    </tr>\n",
       "    <tr>\n",
       "      <th>T_MAPE</th>\n",
       "      <td>2.114663e+13</td>\n",
       "      <td>4.940781e+13</td>\n",
       "    </tr>\n",
       "    <tr>\n",
       "      <th>T_MAE</th>\n",
       "      <td>3.570900e+00</td>\n",
       "      <td>1.071552e+01</td>\n",
       "    </tr>\n",
       "    <tr>\n",
       "      <th>T_MSE</th>\n",
       "      <td>1.913928e+01</td>\n",
       "      <td>1.411002e+02</td>\n",
       "    </tr>\n",
       "    <tr>\n",
       "      <th>T_RMSE</th>\n",
       "      <td>4.374850e+00</td>\n",
       "      <td>1.187856e+01</td>\n",
       "    </tr>\n",
       "    <tr>\n",
       "      <th>T_R2</th>\n",
       "      <td>4.484900e-01</td>\n",
       "      <td>-3.065880e+00</td>\n",
       "    </tr>\n",
       "    <tr>\n",
       "      <th>T_WAPE</th>\n",
       "      <td>3.565800e-01</td>\n",
       "      <td>1.070010e+00</td>\n",
       "    </tr>\n",
       "    <tr>\n",
       "      <th>RH_MAPE</th>\n",
       "      <td>2.550300e-01</td>\n",
       "      <td>3.339800e-01</td>\n",
       "    </tr>\n",
       "    <tr>\n",
       "      <th>RH_MAE</th>\n",
       "      <td>9.423920e+00</td>\n",
       "      <td>1.351852e+01</td>\n",
       "    </tr>\n",
       "    <tr>\n",
       "      <th>RH_MSE</th>\n",
       "      <td>1.438483e+02</td>\n",
       "      <td>2.729293e+02</td>\n",
       "    </tr>\n",
       "    <tr>\n",
       "      <th>RH_RMSE</th>\n",
       "      <td>1.199368e+01</td>\n",
       "      <td>1.652057e+01</td>\n",
       "    </tr>\n",
       "    <tr>\n",
       "      <th>RH_R2</th>\n",
       "      <td>4.720400e-01</td>\n",
       "      <td>-1.730000e-03</td>\n",
       "    </tr>\n",
       "    <tr>\n",
       "      <th>RH_WAPE</th>\n",
       "      <td>1.894300e-01</td>\n",
       "      <td>2.717400e-01</td>\n",
       "    </tr>\n",
       "  </tbody>\n",
       "</table>\n",
       "</div>"
      ],
      "text/plain": [
       "               Trained Model  Dummy Forecaster\n",
       "Avg_MAPE        3.524439e+12      8.234635e+12\n",
       "Avg_MAE         3.547886e+01      3.967619e+01\n",
       "Avg_MSE         6.905764e+03      9.050379e+03\n",
       "Avg_RMSE        4.475621e+01      5.445008e+01\n",
       "Avg_R2          2.309800e-01     -6.663900e-01\n",
       "Avg_WAPE        4.145000e-01      4.635300e-01\n",
       "CO(GT)_MAPE     1.277120e+00      1.490740e+00\n",
       "CO(GT)_MAE      1.053630e+00      1.149680e+00\n",
       "CO(GT)_MSE      1.774600e+00      2.005950e+00\n",
       "CO(GT)_RMSE     1.332140e+00      1.416310e+00\n",
       "CO(GT)_R2       7.559000e-02     -4.492000e-02\n",
       "CO(GT)_WAPE     5.549900e-01      6.055900e-01\n",
       "C6H6(GT)_MAPE   1.658940e+00      2.415830e+00\n",
       "C6H6(GT)_MAE    5.091340e+00      5.998940e+00\n",
       "C6H6(GT)_MSE    4.043411e+01      4.937824e+01\n",
       "C6H6(GT)_RMSE   6.358780e+00      7.026970e+00\n",
       "C6H6(GT)_R2     3.357000e-02     -1.802000e-01\n",
       "C6H6(GT)_WAPE   6.363400e-01      7.497700e-01\n",
       "NOx(GT)_MAPE    9.197500e-01      6.905800e-01\n",
       "NOx(GT)_MAE     1.581218e+02      1.528286e+02\n",
       "NOx(GT)_MSE     3.902753e+04      4.920926e+04\n",
       "NOx(GT)_RMSE    1.975539e+02      2.218316e+02\n",
       "NOx(GT)_R2      1.089600e-01     -1.235000e-01\n",
       "NOx(GT)_WAPE    5.249700e-01      5.074000e-01\n",
       "NO2(GT)_MAPE    2.808700e-01      3.850400e-01\n",
       "NO2(GT)_MAE     3.561152e+01      5.384589e+01\n",
       "NO2(GT)_MSE     2.201858e+03      4.627603e+03\n",
       "NO2(GT)_RMSE    4.692396e+01      6.802649e+01\n",
       "NO2(GT)_R2      2.472300e-01     -5.820900e-01\n",
       "NO2(GT)_WAPE    2.495500e-01      3.773200e-01\n",
       "T_MAPE          2.114663e+13      4.940781e+13\n",
       "T_MAE           3.570900e+00      1.071552e+01\n",
       "T_MSE           1.913928e+01      1.411002e+02\n",
       "T_RMSE          4.374850e+00      1.187856e+01\n",
       "T_R2            4.484900e-01     -3.065880e+00\n",
       "T_WAPE          3.565800e-01      1.070010e+00\n",
       "RH_MAPE         2.550300e-01      3.339800e-01\n",
       "RH_MAE          9.423920e+00      1.351852e+01\n",
       "RH_MSE          1.438483e+02      2.729293e+02\n",
       "RH_RMSE         1.199368e+01      1.652057e+01\n",
       "RH_R2           4.720400e-01     -1.730000e-03\n",
       "RH_WAPE         1.894300e-01      2.717400e-01"
      ]
     },
     "execution_count": 33,
     "metadata": {},
     "output_type": "execute_result"
    }
   ],
   "source": [
    "df_comparison = pd.DataFrame({\n",
    "    \"Trained Model\": pd.Series(error_results),\n",
    "    \"Dummy Forecaster\": pd.Series(dummy_error_results)\n",
    "})\n",
    "\n",
    "df_comparison = df_comparison.round(5)\n",
    "df_comparison"
   ]
  }
 ],
 "metadata": {
  "kernelspec": {
   "display_name": "env",
   "language": "python",
   "name": "python3"
  },
  "language_info": {
   "codemirror_mode": {
    "name": "ipython",
    "version": 3
   },
   "file_extension": ".py",
   "mimetype": "text/x-python",
   "name": "python",
   "nbconvert_exporter": "python",
   "pygments_lexer": "ipython3",
   "version": "3.9.6"
  }
 },
 "nbformat": 4,
 "nbformat_minor": 2
}
