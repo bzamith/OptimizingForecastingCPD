{
 "cells": [
  {
   "cell_type": "markdown",
   "metadata": {},
   "source": [
    "## 1. Execute full pipeline"
   ]
  },
  {
   "cell_type": "code",
   "execution_count": 1,
   "metadata": {},
   "outputs": [],
   "source": [
    "import random\n",
    "import time\n",
    "\n",
    "from keras_tuner import RandomSearch\n",
    "\n",
    "import numpy as np\n",
    "\n",
    "import pandas as pd\n",
    "\n",
    "import tensorflow as tf\n",
    "\n",
    "from config.constants import (\n",
    "    FORECAST_HORIZON, NB_TRIALS,\n",
    "    OBSERVATION_WINDOW, SEED, TRAIN_PERC\n",
    ")\n",
    "\n",
    "from src.cut_point_detector import CutPointMethod, CutPointModel, get_cut_point_detector\n",
    "from src.dataset import read_dataset, split_X_y, split_train_test\n",
    "from src.forecaster import InternalForecaster, TimeSeriesHyperModel\n",
    "from src.scaler import Scaler\n",
    "from src.utils import get_error_results\n",
    "\n",
    "tf.get_logger().setLevel('ERROR')\n",
    "\n",
    "np.random.seed(SEED)\n",
    "random.seed(SEED)\n",
    "tf.random.set_seed(SEED)\n"
   ]
  },
  {
   "cell_type": "code",
   "execution_count": 2,
   "metadata": {},
   "outputs": [
    {
     "name": "stdout",
     "output_type": "stream",
     "text": [
      "Available devices: [PhysicalDevice(name='/physical_device:CPU:0', device_type='CPU'), PhysicalDevice(name='/physical_device:GPU:0', device_type='GPU')]\n",
      "Is GPU available? [PhysicalDevice(name='/physical_device:GPU:0', device_type='GPU')]\n"
     ]
    }
   ],
   "source": [
    "print(\"Available devices:\", tf.config.list_physical_devices())\n",
    "print(\"Is GPU available?\", tf.config.list_physical_devices('GPU'))\n"
   ]
  },
  {
   "cell_type": "code",
   "execution_count": 3,
   "metadata": {},
   "outputs": [
    {
     "name": "stdout",
     "output_type": "stream",
     "text": [
      "✅ TensorFlow is using Apple GPU via MPS\n"
     ]
    }
   ],
   "source": [
    "if tf.config.list_physical_devices(\"GPU\"):\n",
    "    try:\n",
    "        tf.config.set_visible_devices([], \"GPU\")  # Hide traditional GPUs if any (like external ones)\n",
    "        tf.config.experimental.set_memory_growth(tf.config.list_physical_devices(\"GPU\")[0], True)\n",
    "        print(\"✅ TensorFlow is using Apple GPU via MPS\")\n",
    "    except Exception as e:\n",
    "        print(\"⚠️ Error setting MPS GPU:\", e)\n",
    "else:\n",
    "    print(\"❌ No GPU found, running on CPU\")"
   ]
  },
  {
   "cell_type": "code",
   "execution_count": 4,
   "metadata": {},
   "outputs": [],
   "source": [
    "timestamp = 'validate_pipeline'\n",
    "dataset_domain_argv = 'UCI'\n",
    "dataset_argv = 'APPLIANCES_ENERGY'\n",
    "cut_point_model_argv = 'Window'\n",
    "cut_point_method_argv = 'Cosine'"
   ]
  },
  {
   "cell_type": "code",
   "execution_count": 5,
   "metadata": {},
   "outputs": [],
   "source": [
    "execution_id = f\"{timestamp}_{dataset_domain_argv}_{dataset_argv}_{cut_point_model_argv}_{cut_point_method_argv}_{SEED}\""
   ]
  },
  {
   "cell_type": "code",
   "execution_count": 6,
   "metadata": {},
   "outputs": [
    {
     "name": "stdout",
     "output_type": "stream",
     "text": [
      "Extracting cut point model enum (Window)\n",
      "Extracting cut point model enum (Cosine)\n",
      "Reading dataset APPLIANCES_ENERGY from UCI\n",
      "Variables: ['T_out', 'Press_mm_hg', 'RH_out', 'Windspeed', 'Visibility', 'Tdewpoint']\n"
     ]
    }
   ],
   "source": [
    "print(f\"Extracting cut point model enum ({cut_point_model_argv})\")\n",
    "cut_point_model = CutPointModel.from_str(cut_point_model_argv)\n",
    "\n",
    "print(f\"Extracting cut point model enum ({cut_point_method_argv})\")\n",
    "cut_point_method = CutPointMethod.from_str(cut_point_method_argv)\n",
    "\n",
    "print(f\"Reading dataset {dataset_argv} from {dataset_domain_argv}\")\n",
    "df, variables = read_dataset(dataset_domain_argv, dataset_argv)\n",
    "print(f\"Variables: {variables}\")"
   ]
  },
  {
   "cell_type": "code",
   "execution_count": 7,
   "metadata": {},
   "outputs": [
    {
     "name": "stdout",
     "output_type": "stream",
     "text": [
      "Splitting data into train and test\n",
      "Initializing report\n"
     ]
    },
    {
     "data": {
      "text/plain": [
       "{'execution_id': 'validate_pipeline_UCI_APPLIANCES_ENERGY_Window_Cosine_42',\n",
       " 'timestamp': 'validate_pipeline',\n",
       " 'cut_point_model': 'Window',\n",
       " 'cut_point_method': 'Cosine',\n",
       " 'cut_point_approach': 'Window Cosine',\n",
       " 'seed': 42,\n",
       " 'observation_window': 14,\n",
       " 'train_perc': 0.8,\n",
       " 'nb_trials': 15,\n",
       " 'dataset_domain': 'UCI',\n",
       " 'dataset': 'APPLIANCES_ENERGY',\n",
       " 'variables': ['T_out',\n",
       "  'Press_mm_hg',\n",
       "  'RH_out',\n",
       "  'Windspeed',\n",
       "  'Visibility',\n",
       "  'Tdewpoint'],\n",
       " 'dataset_shape': (19735, 7),\n",
       " 'train_shape': (15788, 7),\n",
       " 'test_shape': (3947, 7)}"
      ]
     },
     "execution_count": 7,
     "metadata": {},
     "output_type": "execute_result"
    }
   ],
   "source": [
    "print(\"Splitting data into train and test\")\n",
    "train, test = split_train_test(df)\n",
    "\n",
    "print(\"Initializing report\")\n",
    "cut_point_approach = f\"{cut_point_model.value.title()} {cut_point_method.value.title()}\"\n",
    "report = {\n",
    "    'execution_id': execution_id,\n",
    "    'timestamp': timestamp,\n",
    "    'cut_point_model': cut_point_model.value,\n",
    "    'cut_point_method': cut_point_method.value,\n",
    "    'cut_point_approach': cut_point_approach,\n",
    "    'seed': SEED,\n",
    "    'observation_window': OBSERVATION_WINDOW,\n",
    "    'train_perc': TRAIN_PERC,\n",
    "    'nb_trials': NB_TRIALS,\n",
    "    'dataset_domain': dataset_domain_argv,\n",
    "    'dataset': dataset_argv,\n",
    "    'variables': variables,\n",
    "    'dataset_shape': df.shape,\n",
    "    'train_shape': train.shape,\n",
    "    'test_shape': test.shape,\n",
    "}\n",
    "report"
   ]
  },
  {
   "cell_type": "code",
   "execution_count": 8,
   "metadata": {},
   "outputs": [
    {
     "name": "stdout",
     "output_type": "stream",
     "text": [
      "Started cut point for Window Cosine\n",
      "Cut point: 9520, Cut point percentage: 60.29896123638206\n",
      "Finished cut point for Window Cosine, duration: 1.1111152172088623\n"
     ]
    },
    {
     "data": {
      "text/plain": [
       "{'execution_id': 'validate_pipeline_UCI_APPLIANCES_ENERGY_Window_Cosine_42',\n",
       " 'timestamp': 'validate_pipeline',\n",
       " 'cut_point_model': 'Window',\n",
       " 'cut_point_method': 'Cosine',\n",
       " 'cut_point_approach': 'Window Cosine',\n",
       " 'seed': 42,\n",
       " 'observation_window': 14,\n",
       " 'train_perc': 0.8,\n",
       " 'nb_trials': 15,\n",
       " 'dataset_domain': 'UCI',\n",
       " 'dataset': 'APPLIANCES_ENERGY',\n",
       " 'variables': ['T_out',\n",
       "  'Press_mm_hg',\n",
       "  'RH_out',\n",
       "  'Windspeed',\n",
       "  'Visibility',\n",
       "  'Tdewpoint'],\n",
       " 'dataset_shape': (19735, 7),\n",
       " 'train_shape': (15788, 7),\n",
       " 'test_shape': (3947, 7),\n",
       " 'cut_duration': 1.1111152172088623,\n",
       " 'cut_point': '9520',\n",
       " 'cut_point_perc': 60.29896123638206}"
      ]
     },
     "execution_count": 8,
     "metadata": {},
     "output_type": "execute_result"
    }
   ],
   "source": [
    "print(f\"Started cut point for {cut_point_approach}\")\n",
    "start_time = time.time()\n",
    "cut_point_detector = get_cut_point_detector(cut_point_model, cut_point_method)\n",
    "cut_point, cut_point_perc = cut_point_detector.find_cut_point(train, variables)\n",
    "end_time = time.time()\n",
    "cut_duration = end_time - start_time\n",
    "print(f\"Cut point: {cut_point}, Cut point percentage: {cut_point_perc}\")\n",
    "print(f\"Finished cut point for {cut_point_approach}, duration: {cut_duration}\")\n",
    "\n",
    "report.update({\n",
    "    'cut_duration': cut_duration,\n",
    "    'cut_point': str(cut_point),\n",
    "    'cut_point_perc': cut_point_perc\n",
    "})\n",
    "report"
   ]
  },
  {
   "cell_type": "code",
   "execution_count": 9,
   "metadata": {},
   "outputs": [
    {
     "name": "stdout",
     "output_type": "stream",
     "text": [
      "Applying subset to train based on cut point\n",
      "Training and applying scaler\n"
     ]
    }
   ],
   "source": [
    "print(\"Applying subset to train based on cut point\")\n",
    "reduced_train = cut_point_detector.apply_cut_point(train, cut_point)\n",
    "\n",
    "print(\"Training and applying scaler\")\n",
    "scaler = Scaler(variables)\n",
    "scaled_reduced_train = scaler.fit_scale(reduced_train)\n",
    "scaled_test = scaler.scale(test)"
   ]
  },
  {
   "cell_type": "code",
   "execution_count": 10,
   "metadata": {},
   "outputs": [
    {
     "name": "stdout",
     "output_type": "stream",
     "text": [
      "Splitting into X and y\n"
     ]
    }
   ],
   "source": [
    "print(\"Splitting into X and y\")\n",
    "X_reduced_scaled_train, y_reduced_scaled_train = split_X_y(scaled_reduced_train)\n",
    "X_scaled_test, y_scaled_test = split_X_y(scaled_test)"
   ]
  },
  {
   "cell_type": "code",
   "execution_count": 11,
   "metadata": {},
   "outputs": [
    {
     "data": {
      "text/plain": [
       "array([[-1.2769759 ,  1.80887286,  0.33542457, -0.8491712 ,  2.30064099,\n",
       "        -1.43301107],\n",
       "       [-1.31775067,  1.80574547,  0.3841325 , -0.8491712 ,  2.28501363,\n",
       "        -1.43987921],\n",
       "       [-1.35852544,  1.80261809,  0.43284043, -0.8491712 ,  2.26938626,\n",
       "        -1.44634334],\n",
       "       [-1.39930022,  1.79949069,  0.48154835, -0.8491712 ,  2.2537589 ,\n",
       "        -1.45321148],\n",
       "       [-1.44007499,  1.79636329,  0.53025628, -0.8491712 ,  2.23813153,\n",
       "        -1.46007961],\n",
       "       [-1.48084976,  1.79323591,  0.57896421, -0.8491712 ,  2.22250416,\n",
       "        -1.46654374],\n",
       "       [-1.52162453,  1.79010852,  0.62767214, -0.8491712 ,  2.2068768 ,\n",
       "        -1.47341188]])"
      ]
     },
     "execution_count": 11,
     "metadata": {},
     "output_type": "execute_result"
    }
   ],
   "source": [
    "y_reduced_scaled_train[0]"
   ]
  },
  {
   "cell_type": "code",
   "execution_count": 12,
   "metadata": {},
   "outputs": [
    {
     "data": {
      "text/plain": [
       "array([[-1.31775067,  1.80574547,  0.3841325 , -0.8491712 ,  2.28501363,\n",
       "        -1.43987921],\n",
       "       [-1.35852544,  1.80261809,  0.43284043, -0.8491712 ,  2.26938626,\n",
       "        -1.44634334],\n",
       "       [-1.39930022,  1.79949069,  0.48154835, -0.8491712 ,  2.2537589 ,\n",
       "        -1.45321148],\n",
       "       [-1.44007499,  1.79636329,  0.53025628, -0.8491712 ,  2.23813153,\n",
       "        -1.46007961],\n",
       "       [-1.48084976,  1.79323591,  0.57896421, -0.8491712 ,  2.22250416,\n",
       "        -1.46654374],\n",
       "       [-1.52162453,  1.79010852,  0.62767214, -0.8491712 ,  2.2068768 ,\n",
       "        -1.47341188],\n",
       "       [-1.54065276,  1.78072634,  0.63984912, -0.92685418,  2.2068768 ,\n",
       "        -1.49361228]])"
      ]
     },
     "execution_count": 12,
     "metadata": {},
     "output_type": "execute_result"
    }
   ],
   "source": [
    "y_reduced_scaled_train[1]"
   ]
  },
  {
   "cell_type": "code",
   "execution_count": 13,
   "metadata": {},
   "outputs": [
    {
     "data": {
      "text/plain": [
       "array([[-1.35852544,  1.80261809,  0.43284043, -0.8491712 ,  2.26938626,\n",
       "        -1.44634334],\n",
       "       [-1.39930022,  1.79949069,  0.48154835, -0.8491712 ,  2.2537589 ,\n",
       "        -1.45321148],\n",
       "       [-1.44007499,  1.79636329,  0.53025628, -0.8491712 ,  2.23813153,\n",
       "        -1.46007961],\n",
       "       [-1.48084976,  1.79323591,  0.57896421, -0.8491712 ,  2.22250416,\n",
       "        -1.46654374],\n",
       "       [-1.52162453,  1.79010852,  0.62767214, -0.8491712 ,  2.2068768 ,\n",
       "        -1.47341188],\n",
       "       [-1.54065276,  1.78072634,  0.63984912, -0.92685418,  2.2068768 ,\n",
       "        -1.49361228],\n",
       "       [-1.55696267,  1.77134417,  0.6520261 , -1.00453716,  2.2068768 ,\n",
       "        -1.51381269]])"
      ]
     },
     "execution_count": 13,
     "metadata": {},
     "output_type": "execute_result"
    }
   ],
   "source": [
    "y_reduced_scaled_train[2]"
   ]
  },
  {
   "cell_type": "code",
   "execution_count": 14,
   "metadata": {},
   "outputs": [
    {
     "name": "stdout",
     "output_type": "stream",
     "text": [
      "Started running HPO and NAS for Window Cosine\n"
     ]
    }
   ],
   "source": [
    "print(f\"Started running HPO and NAS for {cut_point_approach}\")\n",
    "forecaster_hypermodel = TimeSeriesHyperModel(\n",
    "    n_variables=len(variables)\n",
    ")\n",
    "forecaster_tuner = RandomSearch(\n",
    "    forecaster_hypermodel,\n",
    "    objective='val_loss',\n",
    "    max_trials=3,\n",
    "    executions_per_trial=1,\n",
    "    directory=f\"outputs/tuner/{execution_id}\",\n",
    "    project_name=f\"{cut_point_model.value}_{cut_point_method.value}\",\n",
    "    seed=SEED,\n",
    "    overwrite=True,\n",
    "        distribution_strategy=tf.distribute.MirroredStrategy()\n",
    ")"
   ]
  },
  {
   "cell_type": "code",
   "execution_count": 15,
   "metadata": {},
   "outputs": [
    {
     "name": "stdout",
     "output_type": "stream",
     "text": [
      "NaN in X_train: 0\n",
      "Inf in X_train: 0\n",
      "NaN in y_train: 0\n",
      "Inf in y_train: 0\n"
     ]
    }
   ],
   "source": [
    "print(\"NaN in X_train:\", np.isnan(X_reduced_scaled_train).sum())\n",
    "print(\"Inf in X_train:\", np.isinf(X_reduced_scaled_train).sum())\n",
    "print(\"NaN in y_train:\", np.isnan(y_reduced_scaled_train).sum())\n",
    "print(\"Inf in y_train:\", np.isinf(y_reduced_scaled_train).sum())"
   ]
  },
  {
   "cell_type": "code",
   "execution_count": 16,
   "metadata": {},
   "outputs": [
    {
     "name": "stdout",
     "output_type": "stream",
     "text": [
      "Trial 3 Complete [00h 02m 17s]\n",
      "val_loss: 0.5396261937916279\n",
      "\n",
      "Best val_loss So Far: 0.4067087861998328\n",
      "Total elapsed time: 00h 03m 45s\n"
     ]
    }
   ],
   "source": [
    "start_time = time.time()\n",
    "forecaster_tuner.search(\n",
    "    X_reduced_scaled_train,\n",
    "    y_reduced_scaled_train,\n",
    "    validation_split=(1 - TRAIN_PERC),\n",
    "    shuffle=False,\n",
    ")\n",
    "end_time = time.time()\n",
    "tuner_duration = end_time - start_time"
   ]
  },
  {
   "cell_type": "code",
   "execution_count": 17,
   "metadata": {},
   "outputs": [
    {
     "name": "stdout",
     "output_type": "stream",
     "text": [
      "Finished running HPO and NAS for Window Cosine, duration: 225.31953024864197\n",
      "Trial ID: 1\n",
      "Hyperparameters: {'num_layers': 2, 'units_0': 128, 'learning_rate': 0.005, 'units_1': 96, 'units_2': 32, 'units_3': 64, 'batch_size': 96, 'epochs': 150}\n",
      "Score: 0.4067087861998328\n",
      "----------------------------------------\n"
     ]
    },
    {
     "name": "stderr",
     "output_type": "stream",
     "text": [
      "/Users/zamith/Doutorado/TSForecastingSubsets/env/lib/python3.9/site-packages/keras/src/saving/saving_lib.py:757: UserWarning: Skipping variable loading for optimizer 'adam', because it has 2 variables whereas the saved optimizer has 26 variables. \n",
      "  saveable.load_own_variables(weights_store.get(inner_path))\n"
     ]
    }
   ],
   "source": [
    "best_trial = forecaster_tuner.oracle.get_best_trials(num_trials=1)[0]\n",
    "best_forecaster_model = forecaster_tuner.get_best_models(num_models=1)[0]\n",
    "print(f\"Finished running HPO and NAS for {cut_point_approach}, duration: {tuner_duration}\")\n",
    "\n",
    "print(f\"Trial ID: {best_trial.trial_id}\")\n",
    "print(f\"Hyperparameters: {best_trial.hyperparameters.values}\")\n",
    "print(f\"Score: {best_trial.score}\")\n",
    "print(\"-\" * 40)"
   ]
  },
  {
   "cell_type": "code",
   "execution_count": 18,
   "metadata": {},
   "outputs": [
    {
     "name": "stdout",
     "output_type": "stream",
     "text": [
      "Retrieving best model\n"
     ]
    },
    {
     "data": {
      "text/html": [
       "<pre style=\"white-space:pre;overflow-x:auto;line-height:normal;font-family:Menlo,'DejaVu Sans Mono',consolas,'Courier New',monospace\"><span style=\"font-weight: bold\">Model: \"sequential\"</span>\n",
       "</pre>\n"
      ],
      "text/plain": [
       "\u001b[1mModel: \"sequential\"\u001b[0m\n"
      ]
     },
     "metadata": {},
     "output_type": "display_data"
    },
    {
     "data": {
      "text/html": [
       "<pre style=\"white-space:pre;overflow-x:auto;line-height:normal;font-family:Menlo,'DejaVu Sans Mono',consolas,'Courier New',monospace\">┏━━━━━━━━━━━━━━━━━━━━━━━━━━━━━━━━━┳━━━━━━━━━━━━━━━━━━━━━━━━┳━━━━━━━━━━━━━━━┓\n",
       "┃<span style=\"font-weight: bold\"> Layer (type)                    </span>┃<span style=\"font-weight: bold\"> Output Shape           </span>┃<span style=\"font-weight: bold\">       Param # </span>┃\n",
       "┡━━━━━━━━━━━━━━━━━━━━━━━━━━━━━━━━━╇━━━━━━━━━━━━━━━━━━━━━━━━╇━━━━━━━━━━━━━━━┩\n",
       "│ lstm (<span style=\"color: #0087ff; text-decoration-color: #0087ff\">LSTM</span>)                     │ (<span style=\"color: #00d7ff; text-decoration-color: #00d7ff\">None</span>, <span style=\"color: #00af00; text-decoration-color: #00af00\">14</span>, <span style=\"color: #00af00; text-decoration-color: #00af00\">128</span>)        │        <span style=\"color: #00af00; text-decoration-color: #00af00\">69,120</span> │\n",
       "├─────────────────────────────────┼────────────────────────┼───────────────┤\n",
       "│ batch_normalization             │ (<span style=\"color: #00d7ff; text-decoration-color: #00d7ff\">None</span>, <span style=\"color: #00af00; text-decoration-color: #00af00\">14</span>, <span style=\"color: #00af00; text-decoration-color: #00af00\">128</span>)        │           <span style=\"color: #00af00; text-decoration-color: #00af00\">512</span> │\n",
       "│ (<span style=\"color: #0087ff; text-decoration-color: #0087ff\">BatchNormalization</span>)            │                        │               │\n",
       "├─────────────────────────────────┼────────────────────────┼───────────────┤\n",
       "│ lstm_1 (<span style=\"color: #0087ff; text-decoration-color: #0087ff\">LSTM</span>)                   │ (<span style=\"color: #00d7ff; text-decoration-color: #00d7ff\">None</span>, <span style=\"color: #00af00; text-decoration-color: #00af00\">96</span>)             │        <span style=\"color: #00af00; text-decoration-color: #00af00\">86,400</span> │\n",
       "├─────────────────────────────────┼────────────────────────┼───────────────┤\n",
       "│ batch_normalization_1           │ (<span style=\"color: #00d7ff; text-decoration-color: #00d7ff\">None</span>, <span style=\"color: #00af00; text-decoration-color: #00af00\">96</span>)             │           <span style=\"color: #00af00; text-decoration-color: #00af00\">384</span> │\n",
       "│ (<span style=\"color: #0087ff; text-decoration-color: #0087ff\">BatchNormalization</span>)            │                        │               │\n",
       "├─────────────────────────────────┼────────────────────────┼───────────────┤\n",
       "│ dense (<span style=\"color: #0087ff; text-decoration-color: #0087ff\">Dense</span>)                   │ (<span style=\"color: #00d7ff; text-decoration-color: #00d7ff\">None</span>, <span style=\"color: #00af00; text-decoration-color: #00af00\">42</span>)             │         <span style=\"color: #00af00; text-decoration-color: #00af00\">4,074</span> │\n",
       "├─────────────────────────────────┼────────────────────────┼───────────────┤\n",
       "│ reshape (<span style=\"color: #0087ff; text-decoration-color: #0087ff\">Reshape</span>)               │ (<span style=\"color: #00d7ff; text-decoration-color: #00d7ff\">None</span>, <span style=\"color: #00af00; text-decoration-color: #00af00\">7</span>, <span style=\"color: #00af00; text-decoration-color: #00af00\">6</span>)           │             <span style=\"color: #00af00; text-decoration-color: #00af00\">0</span> │\n",
       "└─────────────────────────────────┴────────────────────────┴───────────────┘\n",
       "</pre>\n"
      ],
      "text/plain": [
       "┏━━━━━━━━━━━━━━━━━━━━━━━━━━━━━━━━━┳━━━━━━━━━━━━━━━━━━━━━━━━┳━━━━━━━━━━━━━━━┓\n",
       "┃\u001b[1m \u001b[0m\u001b[1mLayer (type)                   \u001b[0m\u001b[1m \u001b[0m┃\u001b[1m \u001b[0m\u001b[1mOutput Shape          \u001b[0m\u001b[1m \u001b[0m┃\u001b[1m \u001b[0m\u001b[1m      Param #\u001b[0m\u001b[1m \u001b[0m┃\n",
       "┡━━━━━━━━━━━━━━━━━━━━━━━━━━━━━━━━━╇━━━━━━━━━━━━━━━━━━━━━━━━╇━━━━━━━━━━━━━━━┩\n",
       "│ lstm (\u001b[38;5;33mLSTM\u001b[0m)                     │ (\u001b[38;5;45mNone\u001b[0m, \u001b[38;5;34m14\u001b[0m, \u001b[38;5;34m128\u001b[0m)        │        \u001b[38;5;34m69,120\u001b[0m │\n",
       "├─────────────────────────────────┼────────────────────────┼───────────────┤\n",
       "│ batch_normalization             │ (\u001b[38;5;45mNone\u001b[0m, \u001b[38;5;34m14\u001b[0m, \u001b[38;5;34m128\u001b[0m)        │           \u001b[38;5;34m512\u001b[0m │\n",
       "│ (\u001b[38;5;33mBatchNormalization\u001b[0m)            │                        │               │\n",
       "├─────────────────────────────────┼────────────────────────┼───────────────┤\n",
       "│ lstm_1 (\u001b[38;5;33mLSTM\u001b[0m)                   │ (\u001b[38;5;45mNone\u001b[0m, \u001b[38;5;34m96\u001b[0m)             │        \u001b[38;5;34m86,400\u001b[0m │\n",
       "├─────────────────────────────────┼────────────────────────┼───────────────┤\n",
       "│ batch_normalization_1           │ (\u001b[38;5;45mNone\u001b[0m, \u001b[38;5;34m96\u001b[0m)             │           \u001b[38;5;34m384\u001b[0m │\n",
       "│ (\u001b[38;5;33mBatchNormalization\u001b[0m)            │                        │               │\n",
       "├─────────────────────────────────┼────────────────────────┼───────────────┤\n",
       "│ dense (\u001b[38;5;33mDense\u001b[0m)                   │ (\u001b[38;5;45mNone\u001b[0m, \u001b[38;5;34m42\u001b[0m)             │         \u001b[38;5;34m4,074\u001b[0m │\n",
       "├─────────────────────────────────┼────────────────────────┼───────────────┤\n",
       "│ reshape (\u001b[38;5;33mReshape\u001b[0m)               │ (\u001b[38;5;45mNone\u001b[0m, \u001b[38;5;34m7\u001b[0m, \u001b[38;5;34m6\u001b[0m)           │             \u001b[38;5;34m0\u001b[0m │\n",
       "└─────────────────────────────────┴────────────────────────┴───────────────┘\n"
      ]
     },
     "metadata": {},
     "output_type": "display_data"
    },
    {
     "data": {
      "text/html": [
       "<pre style=\"white-space:pre;overflow-x:auto;line-height:normal;font-family:Menlo,'DejaVu Sans Mono',consolas,'Courier New',monospace\"><span style=\"font-weight: bold\"> Total params: </span><span style=\"color: #00af00; text-decoration-color: #00af00\">160,490</span> (626.91 KB)\n",
       "</pre>\n"
      ],
      "text/plain": [
       "\u001b[1m Total params: \u001b[0m\u001b[38;5;34m160,490\u001b[0m (626.91 KB)\n"
      ]
     },
     "metadata": {},
     "output_type": "display_data"
    },
    {
     "data": {
      "text/html": [
       "<pre style=\"white-space:pre;overflow-x:auto;line-height:normal;font-family:Menlo,'DejaVu Sans Mono',consolas,'Courier New',monospace\"><span style=\"font-weight: bold\"> Trainable params: </span><span style=\"color: #00af00; text-decoration-color: #00af00\">160,042</span> (625.16 KB)\n",
       "</pre>\n"
      ],
      "text/plain": [
       "\u001b[1m Trainable params: \u001b[0m\u001b[38;5;34m160,042\u001b[0m (625.16 KB)\n"
      ]
     },
     "metadata": {},
     "output_type": "display_data"
    },
    {
     "data": {
      "text/html": [
       "<pre style=\"white-space:pre;overflow-x:auto;line-height:normal;font-family:Menlo,'DejaVu Sans Mono',consolas,'Courier New',monospace\"><span style=\"font-weight: bold\"> Non-trainable params: </span><span style=\"color: #00af00; text-decoration-color: #00af00\">448</span> (1.75 KB)\n",
       "</pre>\n"
      ],
      "text/plain": [
       "\u001b[1m Non-trainable params: \u001b[0m\u001b[38;5;34m448\u001b[0m (1.75 KB)\n"
      ]
     },
     "metadata": {},
     "output_type": "display_data"
    }
   ],
   "source": [
    "print(\"Retrieving best model\")\n",
    "best_forecaster_model.summary()\n",
    "best_forecaster_model = InternalForecaster(\n",
    "    best_forecaster_model,\n",
    "    len(variables),\n",
    "    best_trial.hyperparameters.values['batch_size'],\n",
    "    best_trial.hyperparameters.values['epochs'],\n",
    ")"
   ]
  },
  {
   "cell_type": "code",
   "execution_count": 19,
   "metadata": {},
   "outputs": [
    {
     "name": "stdout",
     "output_type": "stream",
     "text": [
      "Retraining best model\n",
      "Epoch 1/150\n",
      "\u001b[1m65/65\u001b[0m \u001b[32m━━━━━━━━━━━━━━━━━━━━\u001b[0m\u001b[37m\u001b[0m \u001b[1m4s\u001b[0m 30ms/step - loss: 0.7886 - learning_rate: 0.0050\n",
      "Epoch 2/150\n",
      "\u001b[1m65/65\u001b[0m \u001b[32m━━━━━━━━━━━━━━━━━━━━\u001b[0m\u001b[37m\u001b[0m \u001b[1m2s\u001b[0m 33ms/step - loss: 0.8015 - learning_rate: 0.0050\n",
      "Epoch 3/150\n",
      "\u001b[1m65/65\u001b[0m \u001b[32m━━━━━━━━━━━━━━━━━━━━\u001b[0m\u001b[37m\u001b[0m \u001b[1m2s\u001b[0m 34ms/step - loss: 0.7321 - learning_rate: 0.0050\n",
      "Epoch 4/150\n",
      "\u001b[1m65/65\u001b[0m \u001b[32m━━━━━━━━━━━━━━━━━━━━\u001b[0m\u001b[37m\u001b[0m \u001b[1m2s\u001b[0m 37ms/step - loss: 0.6947 - learning_rate: 0.0050\n",
      "Epoch 5/150\n",
      "\u001b[1m65/65\u001b[0m \u001b[32m━━━━━━━━━━━━━━━━━━━━\u001b[0m\u001b[37m\u001b[0m \u001b[1m2s\u001b[0m 36ms/step - loss: 0.6970 - learning_rate: 0.0050\n",
      "Epoch 6/150\n",
      "\u001b[1m65/65\u001b[0m \u001b[32m━━━━━━━━━━━━━━━━━━━━\u001b[0m\u001b[37m\u001b[0m \u001b[1m2s\u001b[0m 33ms/step - loss: 0.7177 - learning_rate: 0.0050\n",
      "Epoch 7/150\n",
      "\u001b[1m65/65\u001b[0m \u001b[32m━━━━━━━━━━━━━━━━━━━━\u001b[0m\u001b[37m\u001b[0m \u001b[1m2s\u001b[0m 33ms/step - loss: 0.7197 - learning_rate: 0.0050\n",
      "Epoch 8/150\n",
      "\u001b[1m65/65\u001b[0m \u001b[32m━━━━━━━━━━━━━━━━━━━━\u001b[0m\u001b[37m\u001b[0m \u001b[1m2s\u001b[0m 33ms/step - loss: 0.7431 - learning_rate: 0.0050\n",
      "Epoch 9/150\n",
      "\u001b[1m65/65\u001b[0m \u001b[32m━━━━━━━━━━━━━━━━━━━━\u001b[0m\u001b[37m\u001b[0m \u001b[1m2s\u001b[0m 33ms/step - loss: 0.7402 - learning_rate: 0.0050\n",
      "Epoch 10/150\n",
      "\u001b[1m65/65\u001b[0m \u001b[32m━━━━━━━━━━━━━━━━━━━━\u001b[0m\u001b[37m\u001b[0m \u001b[1m3s\u001b[0m 42ms/step - loss: 0.7437 - learning_rate: 0.0050\n",
      "Epoch 11/150\n",
      "\u001b[1m65/65\u001b[0m \u001b[32m━━━━━━━━━━━━━━━━━━━━\u001b[0m\u001b[37m\u001b[0m \u001b[1m2s\u001b[0m 37ms/step - loss: 0.7293 - learning_rate: 0.0050\n",
      "Epoch 12/150\n",
      "\u001b[1m65/65\u001b[0m \u001b[32m━━━━━━━━━━━━━━━━━━━━\u001b[0m\u001b[37m\u001b[0m \u001b[1m2s\u001b[0m 34ms/step - loss: 0.7565 - learning_rate: 0.0050\n",
      "Epoch 13/150\n",
      "\u001b[1m65/65\u001b[0m \u001b[32m━━━━━━━━━━━━━━━━━━━━\u001b[0m\u001b[37m\u001b[0m \u001b[1m2s\u001b[0m 35ms/step - loss: 0.7058 - learning_rate: 0.0050\n",
      "Epoch 14/150\n",
      "\u001b[1m65/65\u001b[0m \u001b[32m━━━━━━━━━━━━━━━━━━━━\u001b[0m\u001b[37m\u001b[0m \u001b[1m2s\u001b[0m 36ms/step - loss: 0.6934 - learning_rate: 0.0050\n",
      "Epoch 15/150\n",
      "\u001b[1m65/65\u001b[0m \u001b[32m━━━━━━━━━━━━━━━━━━━━\u001b[0m\u001b[37m\u001b[0m \u001b[1m2s\u001b[0m 36ms/step - loss: 0.7270 - learning_rate: 0.0025\n",
      "Epoch 16/150\n",
      "\u001b[1m65/65\u001b[0m \u001b[32m━━━━━━━━━━━━━━━━━━━━\u001b[0m\u001b[37m\u001b[0m \u001b[1m2s\u001b[0m 37ms/step - loss: 0.6879 - learning_rate: 0.0025\n",
      "Epoch 17/150\n",
      "\u001b[1m65/65\u001b[0m \u001b[32m━━━━━━━━━━━━━━━━━━━━\u001b[0m\u001b[37m\u001b[0m \u001b[1m3s\u001b[0m 39ms/step - loss: 0.7552 - learning_rate: 0.0025\n",
      "Epoch 18/150\n",
      "\u001b[1m65/65\u001b[0m \u001b[32m━━━━━━━━━━━━━━━━━━━━\u001b[0m\u001b[37m\u001b[0m \u001b[1m2s\u001b[0m 35ms/step - loss: 0.7585 - learning_rate: 0.0025\n",
      "Epoch 19/150\n",
      "\u001b[1m65/65\u001b[0m \u001b[32m━━━━━━━━━━━━━━━━━━━━\u001b[0m\u001b[37m\u001b[0m \u001b[1m2s\u001b[0m 32ms/step - loss: 0.7537 - learning_rate: 0.0025\n",
      "Epoch 20/150\n",
      "\u001b[1m65/65\u001b[0m \u001b[32m━━━━━━━━━━━━━━━━━━━━\u001b[0m\u001b[37m\u001b[0m \u001b[1m3s\u001b[0m 39ms/step - loss: 0.7486 - learning_rate: 0.0012\n",
      "Epoch 21/150\n",
      "\u001b[1m65/65\u001b[0m \u001b[32m━━━━━━━━━━━━━━━━━━━━\u001b[0m\u001b[37m\u001b[0m \u001b[1m2s\u001b[0m 38ms/step - loss: 0.7226 - learning_rate: 0.0012\n",
      "Epoch 22/150\n",
      "\u001b[1m65/65\u001b[0m \u001b[32m━━━━━━━━━━━━━━━━━━━━\u001b[0m\u001b[37m\u001b[0m \u001b[1m2s\u001b[0m 35ms/step - loss: 0.7175 - learning_rate: 0.0012\n",
      "Epoch 23/150\n",
      "\u001b[1m65/65\u001b[0m \u001b[32m━━━━━━━━━━━━━━━━━━━━\u001b[0m\u001b[37m\u001b[0m \u001b[1m2s\u001b[0m 35ms/step - loss: 0.7012 - learning_rate: 0.0012\n",
      "Epoch 24/150\n",
      "\u001b[1m65/65\u001b[0m \u001b[32m━━━━━━━━━━━━━━━━━━━━\u001b[0m\u001b[37m\u001b[0m \u001b[1m2s\u001b[0m 32ms/step - loss: 0.7488 - learning_rate: 0.0012\n",
      "Epoch 25/150\n",
      "\u001b[1m65/65\u001b[0m \u001b[32m━━━━━━━━━━━━━━━━━━━━\u001b[0m\u001b[37m\u001b[0m \u001b[1m2s\u001b[0m 31ms/step - loss: 0.7577 - learning_rate: 0.0012\n",
      "Epoch 26/150\n",
      "\u001b[1m65/65\u001b[0m \u001b[32m━━━━━━━━━━━━━━━━━━━━\u001b[0m\u001b[37m\u001b[0m \u001b[1m2s\u001b[0m 31ms/step - loss: 0.7367 - learning_rate: 0.0012\n",
      "Epoch 27/150\n",
      "\u001b[1m65/65\u001b[0m \u001b[32m━━━━━━━━━━━━━━━━━━━━\u001b[0m\u001b[37m\u001b[0m \u001b[1m2s\u001b[0m 36ms/step - loss: 0.7468 - learning_rate: 6.2500e-04\n",
      "Epoch 28/150\n",
      "\u001b[1m65/65\u001b[0m \u001b[32m━━━━━━━━━━━━━━━━━━━━\u001b[0m\u001b[37m\u001b[0m \u001b[1m2s\u001b[0m 36ms/step - loss: 0.7182 - learning_rate: 6.2500e-04\n"
     ]
    }
   ],
   "source": [
    "print(\"Retraining best model\")\n",
    "start_time = time.time()\n",
    "best_forecaster_model.fit(\n",
    "    X_reduced_scaled_train,\n",
    "    y_reduced_scaled_train,\n",
    "    shuffle=False\n",
    ")\n",
    "end_time = time.time()\n",
    "retrain_duration = end_time - start_time"
   ]
  },
  {
   "cell_type": "code",
   "execution_count": 20,
   "metadata": {},
   "outputs": [
    {
     "name": "stdout",
     "output_type": "stream",
     "text": [
      "Running forecasting\n"
     ]
    },
    {
     "name": "stderr",
     "output_type": "stream",
     "text": [
      "2025-02-26 13:20:07.681293: W tensorflow/core/framework/dataset.cc:959] Input of GeneratorDatasetOp::Dataset will not be optimized because the dataset does not implement the AsGraphDefInternal() method needed to apply optimizations.\n"
     ]
    },
    {
     "name": "stdout",
     "output_type": "stream",
     "text": [
      "\u001b[1m111/123\u001b[0m \u001b[32m━━━━━━━━━━━━━━━━━━\u001b[0m\u001b[37m━━\u001b[0m \u001b[1m0s\u001b[0m 4ms/step"
     ]
    },
    {
     "name": "stderr",
     "output_type": "stream",
     "text": [
      "2025-02-26 13:20:08.467387: W tensorflow/core/framework/local_rendezvous.cc:404] Local rendezvous is aborting with status: OUT_OF_RANGE: End of sequence\n",
      "\t [[{{node MultiDeviceIteratorGetNextFromShard}}]]\n"
     ]
    },
    {
     "name": "stdout",
     "output_type": "stream",
     "text": [
      "\u001b[1m123/123\u001b[0m \u001b[32m━━━━━━━━━━━━━━━━━━━━\u001b[0m\u001b[37m\u001b[0m \u001b[1m1s\u001b[0m 6ms/step\n"
     ]
    }
   ],
   "source": [
    "print(\"Running forecasting\")\n",
    "y_scaled_pred = best_forecaster_model.forecast(X_scaled_test)\n",
    "y_scaled_test_flat = y_scaled_test.reshape(-1, len(variables))\n",
    "y_scaled_pred_flat = y_scaled_pred.reshape(-1, len(variables))"
   ]
  },
  {
   "cell_type": "code",
   "execution_count": 21,
   "metadata": {},
   "outputs": [
    {
     "data": {
      "text/plain": [
       "array([[-0.10809911,  0.77683384,  0.09188493, -1.3152691 ,  0.23782867,\n",
       "         0.04969852],\n",
       "       [-0.06732434,  0.78621601,  0.03100002, -1.3152691 ,  0.23782867,\n",
       "         0.0537386 ],\n",
       "       [-0.02654957,  0.79559819, -0.02988489, -1.3152691 ,  0.23782867,\n",
       "         0.06181876],\n",
       "       ...,\n",
       "       [ 3.91501168,  0.0637887 , -1.61289257, -0.07234135, -1.13737955,\n",
       "         3.65749053],\n",
       "       [ 3.86064532,  0.0637887 , -1.5885386 ,  0.00534163, -1.05924272,\n",
       "         3.61708973],\n",
       "       [ 3.83346214,  0.0637887 , -1.56418464,  0.08302462, -0.98110589,\n",
       "         3.61708973]])"
      ]
     },
     "execution_count": 21,
     "metadata": {},
     "output_type": "execute_result"
    }
   ],
   "source": [
    "y_scaled_test_flat"
   ]
  },
  {
   "cell_type": "code",
   "execution_count": 22,
   "metadata": {},
   "outputs": [
    {
     "data": {
      "text/plain": [
       "array([[-0.12966685,  0.35573637,  0.11157167, -1.0735902 ,  0.19815555,\n",
       "         0.04628195],\n",
       "       [-0.11390005,  0.36686575,  0.11834162, -1.0546783 ,  0.13072836,\n",
       "         0.03066215],\n",
       "       [-0.1096265 ,  0.3719384 ,  0.08415096, -1.0322793 ,  0.05227466,\n",
       "         0.00737556],\n",
       "       ...,\n",
       "       [ 1.685428  , -0.12996204, -1.5869994 ,  0.13921669, -0.18103527,\n",
       "         0.59951776],\n",
       "       [ 1.6715355 , -0.09873385, -1.5845326 ,  0.15618095, -0.29308334,\n",
       "         0.5845803 ],\n",
       "       [ 1.6121542 , -0.04202348, -1.5635628 ,  0.21599913, -0.12213793,\n",
       "         0.5153472 ]], dtype=float32)"
      ]
     },
     "execution_count": 22,
     "metadata": {},
     "output_type": "execute_result"
    }
   ],
   "source": [
    "y_scaled_pred_flat"
   ]
  },
  {
   "cell_type": "code",
   "execution_count": 23,
   "metadata": {},
   "outputs": [
    {
     "name": "stdout",
     "output_type": "stream",
     "text": [
      "Calculating error\n"
     ]
    }
   ],
   "source": [
    "print(\"Calculating error\")\n",
    "y_test = scaler.descale(pd.DataFrame(y_scaled_test_flat, columns=variables))\n",
    "y_pred = scaler.descale(pd.DataFrame(y_scaled_pred_flat, columns=variables))"
   ]
  },
  {
   "cell_type": "code",
   "execution_count": 24,
   "metadata": {},
   "outputs": [
    {
     "data": {
      "text/html": [
       "<div>\n",
       "<style scoped>\n",
       "    .dataframe tbody tr th:only-of-type {\n",
       "        vertical-align: middle;\n",
       "    }\n",
       "\n",
       "    .dataframe tbody tr th {\n",
       "        vertical-align: top;\n",
       "    }\n",
       "\n",
       "    .dataframe thead th {\n",
       "        text-align: right;\n",
       "    }\n",
       "</style>\n",
       "<table border=\"1\" class=\"dataframe\">\n",
       "  <thead>\n",
       "    <tr style=\"text-align: right;\">\n",
       "      <th></th>\n",
       "      <th>T_out</th>\n",
       "      <th>Press_mm_hg</th>\n",
       "      <th>RH_out</th>\n",
       "      <th>Windspeed</th>\n",
       "      <th>Visibility</th>\n",
       "      <th>Tdewpoint</th>\n",
       "    </tr>\n",
       "  </thead>\n",
       "  <tbody>\n",
       "    <tr>\n",
       "      <th>0</th>\n",
       "      <td>7.70</td>\n",
       "      <td>759.000000</td>\n",
       "      <td>79.666667</td>\n",
       "      <td>1.000000</td>\n",
       "      <td>40.000000</td>\n",
       "      <td>4.37</td>\n",
       "    </tr>\n",
       "    <tr>\n",
       "      <th>1</th>\n",
       "      <td>7.85</td>\n",
       "      <td>759.050000</td>\n",
       "      <td>78.833333</td>\n",
       "      <td>1.000000</td>\n",
       "      <td>40.000000</td>\n",
       "      <td>4.38</td>\n",
       "    </tr>\n",
       "    <tr>\n",
       "      <th>2</th>\n",
       "      <td>8.00</td>\n",
       "      <td>759.100000</td>\n",
       "      <td>78.000000</td>\n",
       "      <td>1.000000</td>\n",
       "      <td>40.000000</td>\n",
       "      <td>4.40</td>\n",
       "    </tr>\n",
       "    <tr>\n",
       "      <th>3</th>\n",
       "      <td>8.12</td>\n",
       "      <td>759.116667</td>\n",
       "      <td>77.333333</td>\n",
       "      <td>1.000000</td>\n",
       "      <td>37.833333</td>\n",
       "      <td>4.38</td>\n",
       "    </tr>\n",
       "    <tr>\n",
       "      <th>4</th>\n",
       "      <td>8.23</td>\n",
       "      <td>759.133333</td>\n",
       "      <td>76.666667</td>\n",
       "      <td>1.000000</td>\n",
       "      <td>35.666667</td>\n",
       "      <td>4.37</td>\n",
       "    </tr>\n",
       "    <tr>\n",
       "      <th>...</th>\n",
       "      <td>...</td>\n",
       "      <td>...</td>\n",
       "      <td>...</td>\n",
       "      <td>...</td>\n",
       "      <td>...</td>\n",
       "      <td>...</td>\n",
       "    </tr>\n",
       "    <tr>\n",
       "      <th>27484</th>\n",
       "      <td>22.70</td>\n",
       "      <td>755.200000</td>\n",
       "      <td>55.666667</td>\n",
       "      <td>3.333333</td>\n",
       "      <td>23.666667</td>\n",
       "      <td>13.30</td>\n",
       "    </tr>\n",
       "    <tr>\n",
       "      <th>27485</th>\n",
       "      <td>22.60</td>\n",
       "      <td>755.200000</td>\n",
       "      <td>56.000000</td>\n",
       "      <td>3.500000</td>\n",
       "      <td>24.500000</td>\n",
       "      <td>13.30</td>\n",
       "    </tr>\n",
       "    <tr>\n",
       "      <th>27486</th>\n",
       "      <td>22.50</td>\n",
       "      <td>755.200000</td>\n",
       "      <td>56.333333</td>\n",
       "      <td>3.666667</td>\n",
       "      <td>25.333333</td>\n",
       "      <td>13.30</td>\n",
       "    </tr>\n",
       "    <tr>\n",
       "      <th>27487</th>\n",
       "      <td>22.30</td>\n",
       "      <td>755.200000</td>\n",
       "      <td>56.666667</td>\n",
       "      <td>3.833333</td>\n",
       "      <td>26.166667</td>\n",
       "      <td>13.20</td>\n",
       "    </tr>\n",
       "    <tr>\n",
       "      <th>27488</th>\n",
       "      <td>22.20</td>\n",
       "      <td>755.200000</td>\n",
       "      <td>57.000000</td>\n",
       "      <td>4.000000</td>\n",
       "      <td>27.000000</td>\n",
       "      <td>13.20</td>\n",
       "    </tr>\n",
       "  </tbody>\n",
       "</table>\n",
       "<p>27489 rows × 6 columns</p>\n",
       "</div>"
      ],
      "text/plain": [
       "       T_out  Press_mm_hg     RH_out  Windspeed  Visibility  Tdewpoint\n",
       "0       7.70   759.000000  79.666667   1.000000   40.000000       4.37\n",
       "1       7.85   759.050000  78.833333   1.000000   40.000000       4.38\n",
       "2       8.00   759.100000  78.000000   1.000000   40.000000       4.40\n",
       "3       8.12   759.116667  77.333333   1.000000   37.833333       4.38\n",
       "4       8.23   759.133333  76.666667   1.000000   35.666667       4.37\n",
       "...      ...          ...        ...        ...         ...        ...\n",
       "27484  22.70   755.200000  55.666667   3.333333   23.666667      13.30\n",
       "27485  22.60   755.200000  56.000000   3.500000   24.500000      13.30\n",
       "27486  22.50   755.200000  56.333333   3.666667   25.333333      13.30\n",
       "27487  22.30   755.200000  56.666667   3.833333   26.166667      13.20\n",
       "27488  22.20   755.200000  57.000000   4.000000   27.000000      13.20\n",
       "\n",
       "[27489 rows x 6 columns]"
      ]
     },
     "execution_count": 24,
     "metadata": {},
     "output_type": "execute_result"
    }
   ],
   "source": [
    "y_test"
   ]
  },
  {
   "cell_type": "code",
   "execution_count": 25,
   "metadata": {},
   "outputs": [
    {
     "data": {
      "text/html": [
       "<div>\n",
       "<style scoped>\n",
       "    .dataframe tbody tr th:only-of-type {\n",
       "        vertical-align: middle;\n",
       "    }\n",
       "\n",
       "    .dataframe tbody tr th {\n",
       "        vertical-align: top;\n",
       "    }\n",
       "\n",
       "    .dataframe thead th {\n",
       "        text-align: right;\n",
       "    }\n",
       "</style>\n",
       "<table border=\"1\" class=\"dataframe\">\n",
       "  <thead>\n",
       "    <tr style=\"text-align: right;\">\n",
       "      <th></th>\n",
       "      <th>T_out</th>\n",
       "      <th>Press_mm_hg</th>\n",
       "      <th>RH_out</th>\n",
       "      <th>Windspeed</th>\n",
       "      <th>Visibility</th>\n",
       "      <th>Tdewpoint</th>\n",
       "    </tr>\n",
       "  </thead>\n",
       "  <tbody>\n",
       "    <tr>\n",
       "      <th>0</th>\n",
       "      <td>7.620658</td>\n",
       "      <td>756.755859</td>\n",
       "      <td>79.936119</td>\n",
       "      <td>1.518515</td>\n",
       "      <td>39.576885</td>\n",
       "      <td>4.361543</td>\n",
       "    </tr>\n",
       "    <tr>\n",
       "      <th>1</th>\n",
       "      <td>7.678660</td>\n",
       "      <td>756.815186</td>\n",
       "      <td>80.028778</td>\n",
       "      <td>1.559090</td>\n",
       "      <td>38.857769</td>\n",
       "      <td>4.322881</td>\n",
       "    </tr>\n",
       "    <tr>\n",
       "      <th>2</th>\n",
       "      <td>7.694381</td>\n",
       "      <td>756.842224</td>\n",
       "      <td>79.560814</td>\n",
       "      <td>1.607147</td>\n",
       "      <td>38.021057</td>\n",
       "      <td>4.265242</td>\n",
       "    </tr>\n",
       "    <tr>\n",
       "      <th>3</th>\n",
       "      <td>7.732622</td>\n",
       "      <td>756.826355</td>\n",
       "      <td>79.159996</td>\n",
       "      <td>1.657856</td>\n",
       "      <td>37.565918</td>\n",
       "      <td>4.206795</td>\n",
       "    </tr>\n",
       "    <tr>\n",
       "      <th>4</th>\n",
       "      <td>7.689744</td>\n",
       "      <td>756.798340</td>\n",
       "      <td>78.386337</td>\n",
       "      <td>1.813423</td>\n",
       "      <td>36.718426</td>\n",
       "      <td>4.153632</td>\n",
       "    </tr>\n",
       "    <tr>\n",
       "      <th>...</th>\n",
       "      <td>...</td>\n",
       "      <td>...</td>\n",
       "      <td>...</td>\n",
       "      <td>...</td>\n",
       "      <td>...</td>\n",
       "      <td>...</td>\n",
       "    </tr>\n",
       "    <tr>\n",
       "      <th>27484</th>\n",
       "      <td>14.265692</td>\n",
       "      <td>754.490234</td>\n",
       "      <td>58.884140</td>\n",
       "      <td>3.694121</td>\n",
       "      <td>36.313931</td>\n",
       "      <td>6.115121</td>\n",
       "    </tr>\n",
       "    <tr>\n",
       "      <th>27485</th>\n",
       "      <td>14.177341</td>\n",
       "      <td>754.487549</td>\n",
       "      <td>57.422970</td>\n",
       "      <td>3.930127</td>\n",
       "      <td>35.726940</td>\n",
       "      <td>5.839324</td>\n",
       "    </tr>\n",
       "    <tr>\n",
       "      <th>27486</th>\n",
       "      <td>14.297930</td>\n",
       "      <td>754.167480</td>\n",
       "      <td>56.687733</td>\n",
       "      <td>4.120559</td>\n",
       "      <td>35.532795</td>\n",
       "      <td>5.730912</td>\n",
       "    </tr>\n",
       "    <tr>\n",
       "      <th>27487</th>\n",
       "      <td>14.246822</td>\n",
       "      <td>754.333862</td>\n",
       "      <td>56.721497</td>\n",
       "      <td>4.156955</td>\n",
       "      <td>34.337795</td>\n",
       "      <td>5.693938</td>\n",
       "    </tr>\n",
       "    <tr>\n",
       "      <th>27488</th>\n",
       "      <td>14.028374</td>\n",
       "      <td>754.636108</td>\n",
       "      <td>57.008511</td>\n",
       "      <td>4.285293</td>\n",
       "      <td>36.160938</td>\n",
       "      <td>5.522573</td>\n",
       "    </tr>\n",
       "  </tbody>\n",
       "</table>\n",
       "<p>27489 rows × 6 columns</p>\n",
       "</div>"
      ],
      "text/plain": [
       "           T_out  Press_mm_hg     RH_out  Windspeed  Visibility  Tdewpoint\n",
       "0       7.620658   756.755859  79.936119   1.518515   39.576885   4.361543\n",
       "1       7.678660   756.815186  80.028778   1.559090   38.857769   4.322881\n",
       "2       7.694381   756.842224  79.560814   1.607147   38.021057   4.265242\n",
       "3       7.732622   756.826355  79.159996   1.657856   37.565918   4.206795\n",
       "4       7.689744   756.798340  78.386337   1.813423   36.718426   4.153632\n",
       "...          ...          ...        ...        ...         ...        ...\n",
       "27484  14.265692   754.490234  58.884140   3.694121   36.313931   6.115121\n",
       "27485  14.177341   754.487549  57.422970   3.930127   35.726940   5.839324\n",
       "27486  14.297930   754.167480  56.687733   4.120559   35.532795   5.730912\n",
       "27487  14.246822   754.333862  56.721497   4.156955   34.337795   5.693938\n",
       "27488  14.028374   754.636108  57.008511   4.285293   36.160938   5.522573\n",
       "\n",
       "[27489 rows x 6 columns]"
      ]
     },
     "execution_count": 25,
     "metadata": {},
     "output_type": "execute_result"
    }
   ],
   "source": [
    "y_pred"
   ]
  },
  {
   "cell_type": "code",
   "execution_count": 26,
   "metadata": {},
   "outputs": [
    {
     "data": {
      "text/plain": [
       "3927"
      ]
     },
     "execution_count": 26,
     "metadata": {},
     "output_type": "execute_result"
    }
   ],
   "source": [
    "len(X_scaled_test)"
   ]
  },
  {
   "cell_type": "code",
   "execution_count": 27,
   "metadata": {},
   "outputs": [
    {
     "data": {
      "text/plain": [
       "27489"
      ]
     },
     "execution_count": 27,
     "metadata": {},
     "output_type": "execute_result"
    }
   ],
   "source": [
    "len(X_scaled_test) * FORECAST_HORIZON"
   ]
  },
  {
   "cell_type": "code",
   "execution_count": 28,
   "metadata": {},
   "outputs": [
    {
     "name": "stdout",
     "output_type": "stream",
     "text": [
      "Obtained error results: {'Avg_MAPE': 2384777619229.833, 'Avg_MAE': 3.7413104994549626, 'Avg_MSE': 30.19562449877661, 'Avg_RMSE': 4.897442951439135, 'Avg_R2': 0.4201735114783411, 'Avg_WAPE': 0.025251256641381885, 'T_out_MAPE': 0.18587107692225582, 'T_out_MAE': 2.9037142264777507, 'T_out_MSE': 14.892385647882566, 'T_out_RMSE': 3.859065385282111, 'T_out_R2': 0.39439354003382054, 'T_out_WAPE': 0.21253742493648559, 'Press_mm_hg_MAPE': 0.005203438628917185, 'Press_mm_hg_MAE': 3.940274692373199, 'Press_mm_hg_MSE': 22.271627791248914, 'Press_mm_hg_RMSE': 4.719282550478295, 'Press_mm_hg_R2': 0.29488667578182526, 'Press_mm_hg_WAPE': 0.005212042890934138, 'RH_out_MAPE': 0.12253450118347443, 'RH_out_MAE': 7.070294026750273, 'RH_out_MSE': 79.95632190512016, 'RH_out_RMSE': 8.941829896901426, 'RH_out_R2': 0.775648517807439, 'RH_out_WAPE': 0.09906937776327776, 'Windspeed_MAPE': 2229156031445.242, 'Windspeed_MAE': 1.0179763072268253, 'Windspeed_MSE': 1.635318801685478, 'Windspeed_RMSE': 1.2787958405021023, 'Windspeed_R2': 0.41373745019649144, 'Windspeed_WAPE': 0.3283893448915426, 'Visibility_MAPE': 0.19643831115713575, 'Visibility_MAE': 4.760534547551683, 'Visibility_MSE': 50.13010842658651, 'Visibility_RMSE': 7.080261889689287, 'Visibility_R2': 0.358941120077491, 'Visibility_WAPE': 0.1287980449781056, 'Tdewpoint_MAPE': 12079509683933.246, 'Tdewpoint_MAE': 2.755069196350047, 'Tdewpoint_MSE': 12.287984420136041, 'Tdewpoint_RMSE': 3.505422145781595, 'Tdewpoint_R2': 0.2834337649729791, 'Tdewpoint_WAPE': 0.3489474588630398}\n"
     ]
    }
   ],
   "source": [
    "error_results = get_error_results(y_test, y_pred, variables)\n",
    "print(f\"Obtained error results: {error_results}\")"
   ]
  },
  {
   "cell_type": "code",
   "execution_count": 29,
   "metadata": {},
   "outputs": [
    {
     "name": "stdout",
     "output_type": "stream",
     "text": [
      "Writing report\n"
     ]
    },
    {
     "data": {
      "text/html": [
       "<pre style=\"white-space:pre;overflow-x:auto;line-height:normal;font-family:Menlo,'DejaVu Sans Mono',consolas,'Courier New',monospace\"></pre>\n"
      ],
      "text/plain": []
     },
     "metadata": {},
     "output_type": "display_data"
    }
   ],
   "source": [
    "print(\"Writing report\")\n",
    "report.update({\n",
    "    'tuner_duration': tuner_duration,\n",
    "    'retrain_duration': retrain_duration,\n",
    "    'total_duration': cut_duration + tuner_duration + retrain_duration,\n",
    "    'error_results': error_results,\n",
    "    'scaled_reduced_train_shape': scaled_reduced_train.shape,\n",
    "    'best_trial_id': best_trial.trial_id,\n",
    "    'best_trial_hyperparameters': best_trial.hyperparameters.values,\n",
    "    'best_trial_score': best_trial.score,\n",
    "    'best_forecaster_model': best_forecaster_model.summary(),\n",
    "})"
   ]
  },
  {
   "cell_type": "code",
   "execution_count": 30,
   "metadata": {},
   "outputs": [
    {
     "data": {
      "text/plain": [
       "{'execution_id': 'validate_pipeline_UCI_APPLIANCES_ENERGY_Window_Cosine_42',\n",
       " 'timestamp': 'validate_pipeline',\n",
       " 'cut_point_model': 'Window',\n",
       " 'cut_point_method': 'Cosine',\n",
       " 'cut_point_approach': 'Window Cosine',\n",
       " 'seed': 42,\n",
       " 'observation_window': 14,\n",
       " 'train_perc': 0.8,\n",
       " 'nb_trials': 15,\n",
       " 'dataset_domain': 'UCI',\n",
       " 'dataset': 'APPLIANCES_ENERGY',\n",
       " 'variables': ['T_out',\n",
       "  'Press_mm_hg',\n",
       "  'RH_out',\n",
       "  'Windspeed',\n",
       "  'Visibility',\n",
       "  'Tdewpoint'],\n",
       " 'dataset_shape': (19735, 7),\n",
       " 'train_shape': (15788, 7),\n",
       " 'test_shape': (3947, 7),\n",
       " 'cut_duration': 1.1111152172088623,\n",
       " 'cut_point': '9520',\n",
       " 'cut_point_perc': 60.29896123638206,\n",
       " 'tuner_duration': 225.31953024864197,\n",
       " 'retrain_duration': 65.24015593528748,\n",
       " 'total_duration': 291.6708014011383,\n",
       " 'error_results': {'Avg_MAPE': 2384777619229.833,\n",
       "  'Avg_MAE': 3.7413104994549626,\n",
       "  'Avg_MSE': 30.19562449877661,\n",
       "  'Avg_RMSE': 4.897442951439135,\n",
       "  'Avg_R2': 0.4201735114783411,\n",
       "  'Avg_WAPE': 0.025251256641381885,\n",
       "  'T_out_MAPE': 0.18587107692225582,\n",
       "  'T_out_MAE': 2.9037142264777507,\n",
       "  'T_out_MSE': 14.892385647882566,\n",
       "  'T_out_RMSE': 3.859065385282111,\n",
       "  'T_out_R2': 0.39439354003382054,\n",
       "  'T_out_WAPE': 0.21253742493648559,\n",
       "  'Press_mm_hg_MAPE': 0.005203438628917185,\n",
       "  'Press_mm_hg_MAE': 3.940274692373199,\n",
       "  'Press_mm_hg_MSE': 22.271627791248914,\n",
       "  'Press_mm_hg_RMSE': 4.719282550478295,\n",
       "  'Press_mm_hg_R2': 0.29488667578182526,\n",
       "  'Press_mm_hg_WAPE': 0.005212042890934138,\n",
       "  'RH_out_MAPE': 0.12253450118347443,\n",
       "  'RH_out_MAE': 7.070294026750273,\n",
       "  'RH_out_MSE': 79.95632190512016,\n",
       "  'RH_out_RMSE': 8.941829896901426,\n",
       "  'RH_out_R2': 0.775648517807439,\n",
       "  'RH_out_WAPE': 0.09906937776327776,\n",
       "  'Windspeed_MAPE': 2229156031445.242,\n",
       "  'Windspeed_MAE': 1.0179763072268253,\n",
       "  'Windspeed_MSE': 1.635318801685478,\n",
       "  'Windspeed_RMSE': 1.2787958405021023,\n",
       "  'Windspeed_R2': 0.41373745019649144,\n",
       "  'Windspeed_WAPE': 0.3283893448915426,\n",
       "  'Visibility_MAPE': 0.19643831115713575,\n",
       "  'Visibility_MAE': 4.760534547551683,\n",
       "  'Visibility_MSE': 50.13010842658651,\n",
       "  'Visibility_RMSE': 7.080261889689287,\n",
       "  'Visibility_R2': 0.358941120077491,\n",
       "  'Visibility_WAPE': 0.1287980449781056,\n",
       "  'Tdewpoint_MAPE': 12079509683933.246,\n",
       "  'Tdewpoint_MAE': 2.755069196350047,\n",
       "  'Tdewpoint_MSE': 12.287984420136041,\n",
       "  'Tdewpoint_RMSE': 3.505422145781595,\n",
       "  'Tdewpoint_R2': 0.2834337649729791,\n",
       "  'Tdewpoint_WAPE': 0.3489474588630398},\n",
       " 'scaled_reduced_train_shape': (6268, 7),\n",
       " 'best_trial_id': '1',\n",
       " 'best_trial_hyperparameters': {'num_layers': 2,\n",
       "  'units_0': 128,\n",
       "  'learning_rate': 0.005,\n",
       "  'units_1': 96,\n",
       "  'units_2': 32,\n",
       "  'units_3': 64,\n",
       "  'batch_size': 96,\n",
       "  'epochs': 150},\n",
       " 'best_trial_score': 0.4067087861998328,\n",
       " 'best_forecaster_model': 'Model: \"sequential\"\\n┏━━━━━━━━━━━━━━━━━━━━━━━━━━━━━━━━━┳━━━━━━━━━━━━━━━━━━━━━━━━┳━━━━━━━━━━━━━━━┓\\n┃ Layer (type)                    ┃ Output Shape           ┃       Param # ┃\\n┡━━━━━━━━━━━━━━━━━━━━━━━━━━━━━━━━━╇━━━━━━━━━━━━━━━━━━━━━━━━╇━━━━━━━━━━━━━━━┩\\n│ lstm (LSTM)                     │ (None, 14, 128)        │        69,120 │\\n├─────────────────────────────────┼────────────────────────┼───────────────┤\\n│ batch_normalization             │ (None, 14, 128)        │           512 │\\n│ (BatchNormalization)            │                        │               │\\n├─────────────────────────────────┼────────────────────────┼───────────────┤\\n│ lstm_1 (LSTM)                   │ (None, 96)             │        86,400 │\\n├─────────────────────────────────┼────────────────────────┼───────────────┤\\n│ batch_normalization_1           │ (None, 96)             │           384 │\\n│ (BatchNormalization)            │                        │               │\\n├─────────────────────────────────┼────────────────────────┼───────────────┤\\n│ dense (Dense)                   │ (None, 42)             │         4,074 │\\n├─────────────────────────────────┼────────────────────────┼───────────────┤\\n│ reshape (Reshape)               │ (None, 7, 6)           │             0 │\\n└─────────────────────────────────┴────────────────────────┴───────────────┘\\n Total params: 480,576 (1.83 MB)\\n Trainable params: 160,042 (625.16 KB)\\n Non-trainable params: 448 (1.75 KB)\\n Optimizer params: 320,086 (1.22 MB)\\n\\n'}"
      ]
     },
     "execution_count": 30,
     "metadata": {},
     "output_type": "execute_result"
    }
   ],
   "source": [
    "report"
   ]
  },
  {
   "cell_type": "markdown",
   "metadata": {},
   "source": [
    "## 2. What would be the error if we predicted the average values for all variables (Dummy Forecaster)?"
   ]
  },
  {
   "cell_type": "code",
   "execution_count": 31,
   "metadata": {},
   "outputs": [],
   "source": [
    "X_train, y_train = split_X_y(train)\n",
    "X_test, y_test = split_X_y(test)"
   ]
  },
  {
   "cell_type": "code",
   "execution_count": 32,
   "metadata": {},
   "outputs": [],
   "source": [
    "train_targets_flat = pd.DataFrame(y_train.reshape(-1, len(variables)), columns=variables)\n",
    "avg_values = train_targets_flat.mean(axis=0).to_numpy()"
   ]
  },
  {
   "cell_type": "code",
   "execution_count": 33,
   "metadata": {},
   "outputs": [],
   "source": [
    "n_test = y_test.shape[0]\n",
    "dummy_pred = np.tile(avg_values, (n_test, FORECAST_HORIZON, 1))\n",
    "\n",
    "dummy_pred_flat = dummy_pred.reshape(-1, len(variables))\n",
    "y_test_flat = pd.DataFrame(y_test.reshape(-1, len(variables)), columns=variables)"
   ]
  },
  {
   "cell_type": "code",
   "execution_count": 34,
   "metadata": {},
   "outputs": [
    {
     "name": "stdout",
     "output_type": "stream",
     "text": [
      "Error metrics for Dummy Forecaster (predicting average values): \n",
      "{'Avg_MAPE': 3425021718969.223, 'Avg_MAE': 7.215418809609981, 'Avg_MSE': 118.70230356109563, 'Avg_RMSE': 9.023975290726012, 'Avg_R2': -0.8137139190732777, 'Avg_WAPE': 0.04869908342626568, 'T_out_MAPE': 0.5581505737110357, 'T_out_MAE': 8.04392388105092, 'T_out_MSE': 85.53065629469543, 'T_out_RMSE': 9.24827855845051, 'T_out_R2': -2.4781477730923025, 'T_out_WAPE': 0.5887751805856862, 'Press_mm_hg_MAPE': 0.00621866023244673, 'Press_mm_hg_MAE': 4.703571354779968, 'Press_mm_hg_MSE': 31.910844092516054, 'Press_mm_hg_RMSE': 5.648968409587369, 'Press_mm_hg_R2': -0.01028813733691325, 'Press_mm_hg_WAPE': 0.006221702179580035, 'RH_out_MAPE': 0.32693204736892706, 'RH_out_MAE': 17.103435976028628, 'RH_out_MSE': 465.69433115411005, 'RH_out_RMSE': 21.579952065611963, 'RH_out_R2': -0.30670359708489037, 'RH_out_WAPE': 0.23965435572387742, 'Windspeed_MAPE': 4903590906267.885, 'Windspeed_MAE': 1.742090696100894, 'Windspeed_MSE': 4.172074992825164, 'Windspeed_RMSE': 2.042565786657841, 'Windspeed_R2': -0.49569082233028894, 'Windspeed_WAPE': 0.5619816673265189, 'Visibility_MAPE': 0.2661848115167383, 'Visibility_MAE': 6.10225666300535, 'Visibility_MSE': 81.10352600749064, 'Visibility_RMSE': 9.005749608305276, 'Visibility_R2': -0.03714388761533183, 'Visibility_WAPE': 0.1650988392792826, 'Tdewpoint_MAPE': 15646539407547.516, 'Tdewpoint_MAE': 5.5972342866953415, 'Tdewpoint_MSE': 43.8023888249624, 'Tdewpoint_RMSE': 6.618337315743464, 'Tdewpoint_R2': -1.5543092969795178, 'Tdewpoint_WAPE': 0.7089261799997495}\n"
     ]
    }
   ],
   "source": [
    "dummy_error_results = get_error_results(y_test_flat, dummy_pred_flat, variables)\n",
    "print(f\"Error metrics for Dummy Forecaster (predicting average values): \\n{dummy_error_results}\")"
   ]
  },
  {
   "cell_type": "code",
   "execution_count": 35,
   "metadata": {},
   "outputs": [
    {
     "data": {
      "text/html": [
       "<div>\n",
       "<style scoped>\n",
       "    .dataframe tbody tr th:only-of-type {\n",
       "        vertical-align: middle;\n",
       "    }\n",
       "\n",
       "    .dataframe tbody tr th {\n",
       "        vertical-align: top;\n",
       "    }\n",
       "\n",
       "    .dataframe thead th {\n",
       "        text-align: right;\n",
       "    }\n",
       "</style>\n",
       "<table border=\"1\" class=\"dataframe\">\n",
       "  <thead>\n",
       "    <tr style=\"text-align: right;\">\n",
       "      <th></th>\n",
       "      <th>Trained Model</th>\n",
       "      <th>Dummy Forecaster</th>\n",
       "    </tr>\n",
       "  </thead>\n",
       "  <tbody>\n",
       "    <tr>\n",
       "      <th>Avg_MAPE</th>\n",
       "      <td>2.384778e+12</td>\n",
       "      <td>3.425022e+12</td>\n",
       "    </tr>\n",
       "    <tr>\n",
       "      <th>Avg_MAE</th>\n",
       "      <td>3.741310e+00</td>\n",
       "      <td>7.215420e+00</td>\n",
       "    </tr>\n",
       "    <tr>\n",
       "      <th>Avg_MSE</th>\n",
       "      <td>3.019562e+01</td>\n",
       "      <td>1.187023e+02</td>\n",
       "    </tr>\n",
       "    <tr>\n",
       "      <th>Avg_RMSE</th>\n",
       "      <td>4.897440e+00</td>\n",
       "      <td>9.023980e+00</td>\n",
       "    </tr>\n",
       "    <tr>\n",
       "      <th>Avg_R2</th>\n",
       "      <td>4.201700e-01</td>\n",
       "      <td>-8.137100e-01</td>\n",
       "    </tr>\n",
       "    <tr>\n",
       "      <th>Avg_WAPE</th>\n",
       "      <td>2.525000e-02</td>\n",
       "      <td>4.870000e-02</td>\n",
       "    </tr>\n",
       "    <tr>\n",
       "      <th>T_out_MAPE</th>\n",
       "      <td>1.858700e-01</td>\n",
       "      <td>5.581500e-01</td>\n",
       "    </tr>\n",
       "    <tr>\n",
       "      <th>T_out_MAE</th>\n",
       "      <td>2.903710e+00</td>\n",
       "      <td>8.043920e+00</td>\n",
       "    </tr>\n",
       "    <tr>\n",
       "      <th>T_out_MSE</th>\n",
       "      <td>1.489239e+01</td>\n",
       "      <td>8.553066e+01</td>\n",
       "    </tr>\n",
       "    <tr>\n",
       "      <th>T_out_RMSE</th>\n",
       "      <td>3.859070e+00</td>\n",
       "      <td>9.248280e+00</td>\n",
       "    </tr>\n",
       "    <tr>\n",
       "      <th>T_out_R2</th>\n",
       "      <td>3.943900e-01</td>\n",
       "      <td>-2.478150e+00</td>\n",
       "    </tr>\n",
       "    <tr>\n",
       "      <th>T_out_WAPE</th>\n",
       "      <td>2.125400e-01</td>\n",
       "      <td>5.887800e-01</td>\n",
       "    </tr>\n",
       "    <tr>\n",
       "      <th>Press_mm_hg_MAPE</th>\n",
       "      <td>5.200000e-03</td>\n",
       "      <td>6.220000e-03</td>\n",
       "    </tr>\n",
       "    <tr>\n",
       "      <th>Press_mm_hg_MAE</th>\n",
       "      <td>3.940270e+00</td>\n",
       "      <td>4.703570e+00</td>\n",
       "    </tr>\n",
       "    <tr>\n",
       "      <th>Press_mm_hg_MSE</th>\n",
       "      <td>2.227163e+01</td>\n",
       "      <td>3.191084e+01</td>\n",
       "    </tr>\n",
       "    <tr>\n",
       "      <th>Press_mm_hg_RMSE</th>\n",
       "      <td>4.719280e+00</td>\n",
       "      <td>5.648970e+00</td>\n",
       "    </tr>\n",
       "    <tr>\n",
       "      <th>Press_mm_hg_R2</th>\n",
       "      <td>2.948900e-01</td>\n",
       "      <td>-1.029000e-02</td>\n",
       "    </tr>\n",
       "    <tr>\n",
       "      <th>Press_mm_hg_WAPE</th>\n",
       "      <td>5.210000e-03</td>\n",
       "      <td>6.220000e-03</td>\n",
       "    </tr>\n",
       "    <tr>\n",
       "      <th>RH_out_MAPE</th>\n",
       "      <td>1.225300e-01</td>\n",
       "      <td>3.269300e-01</td>\n",
       "    </tr>\n",
       "    <tr>\n",
       "      <th>RH_out_MAE</th>\n",
       "      <td>7.070290e+00</td>\n",
       "      <td>1.710344e+01</td>\n",
       "    </tr>\n",
       "    <tr>\n",
       "      <th>RH_out_MSE</th>\n",
       "      <td>7.995632e+01</td>\n",
       "      <td>4.656943e+02</td>\n",
       "    </tr>\n",
       "    <tr>\n",
       "      <th>RH_out_RMSE</th>\n",
       "      <td>8.941830e+00</td>\n",
       "      <td>2.157995e+01</td>\n",
       "    </tr>\n",
       "    <tr>\n",
       "      <th>RH_out_R2</th>\n",
       "      <td>7.756500e-01</td>\n",
       "      <td>-3.067000e-01</td>\n",
       "    </tr>\n",
       "    <tr>\n",
       "      <th>RH_out_WAPE</th>\n",
       "      <td>9.907000e-02</td>\n",
       "      <td>2.396500e-01</td>\n",
       "    </tr>\n",
       "    <tr>\n",
       "      <th>Windspeed_MAPE</th>\n",
       "      <td>2.229156e+12</td>\n",
       "      <td>4.903591e+12</td>\n",
       "    </tr>\n",
       "    <tr>\n",
       "      <th>Windspeed_MAE</th>\n",
       "      <td>1.017980e+00</td>\n",
       "      <td>1.742090e+00</td>\n",
       "    </tr>\n",
       "    <tr>\n",
       "      <th>Windspeed_MSE</th>\n",
       "      <td>1.635320e+00</td>\n",
       "      <td>4.172070e+00</td>\n",
       "    </tr>\n",
       "    <tr>\n",
       "      <th>Windspeed_RMSE</th>\n",
       "      <td>1.278800e+00</td>\n",
       "      <td>2.042570e+00</td>\n",
       "    </tr>\n",
       "    <tr>\n",
       "      <th>Windspeed_R2</th>\n",
       "      <td>4.137400e-01</td>\n",
       "      <td>-4.956900e-01</td>\n",
       "    </tr>\n",
       "    <tr>\n",
       "      <th>Windspeed_WAPE</th>\n",
       "      <td>3.283900e-01</td>\n",
       "      <td>5.619800e-01</td>\n",
       "    </tr>\n",
       "    <tr>\n",
       "      <th>Visibility_MAPE</th>\n",
       "      <td>1.964400e-01</td>\n",
       "      <td>2.661800e-01</td>\n",
       "    </tr>\n",
       "    <tr>\n",
       "      <th>Visibility_MAE</th>\n",
       "      <td>4.760530e+00</td>\n",
       "      <td>6.102260e+00</td>\n",
       "    </tr>\n",
       "    <tr>\n",
       "      <th>Visibility_MSE</th>\n",
       "      <td>5.013011e+01</td>\n",
       "      <td>8.110353e+01</td>\n",
       "    </tr>\n",
       "    <tr>\n",
       "      <th>Visibility_RMSE</th>\n",
       "      <td>7.080260e+00</td>\n",
       "      <td>9.005750e+00</td>\n",
       "    </tr>\n",
       "    <tr>\n",
       "      <th>Visibility_R2</th>\n",
       "      <td>3.589400e-01</td>\n",
       "      <td>-3.714000e-02</td>\n",
       "    </tr>\n",
       "    <tr>\n",
       "      <th>Visibility_WAPE</th>\n",
       "      <td>1.288000e-01</td>\n",
       "      <td>1.651000e-01</td>\n",
       "    </tr>\n",
       "    <tr>\n",
       "      <th>Tdewpoint_MAPE</th>\n",
       "      <td>1.207951e+13</td>\n",
       "      <td>1.564654e+13</td>\n",
       "    </tr>\n",
       "    <tr>\n",
       "      <th>Tdewpoint_MAE</th>\n",
       "      <td>2.755070e+00</td>\n",
       "      <td>5.597230e+00</td>\n",
       "    </tr>\n",
       "    <tr>\n",
       "      <th>Tdewpoint_MSE</th>\n",
       "      <td>1.228798e+01</td>\n",
       "      <td>4.380239e+01</td>\n",
       "    </tr>\n",
       "    <tr>\n",
       "      <th>Tdewpoint_RMSE</th>\n",
       "      <td>3.505420e+00</td>\n",
       "      <td>6.618340e+00</td>\n",
       "    </tr>\n",
       "    <tr>\n",
       "      <th>Tdewpoint_R2</th>\n",
       "      <td>2.834300e-01</td>\n",
       "      <td>-1.554310e+00</td>\n",
       "    </tr>\n",
       "    <tr>\n",
       "      <th>Tdewpoint_WAPE</th>\n",
       "      <td>3.489500e-01</td>\n",
       "      <td>7.089300e-01</td>\n",
       "    </tr>\n",
       "  </tbody>\n",
       "</table>\n",
       "</div>"
      ],
      "text/plain": [
       "                  Trained Model  Dummy Forecaster\n",
       "Avg_MAPE           2.384778e+12      3.425022e+12\n",
       "Avg_MAE            3.741310e+00      7.215420e+00\n",
       "Avg_MSE            3.019562e+01      1.187023e+02\n",
       "Avg_RMSE           4.897440e+00      9.023980e+00\n",
       "Avg_R2             4.201700e-01     -8.137100e-01\n",
       "Avg_WAPE           2.525000e-02      4.870000e-02\n",
       "T_out_MAPE         1.858700e-01      5.581500e-01\n",
       "T_out_MAE          2.903710e+00      8.043920e+00\n",
       "T_out_MSE          1.489239e+01      8.553066e+01\n",
       "T_out_RMSE         3.859070e+00      9.248280e+00\n",
       "T_out_R2           3.943900e-01     -2.478150e+00\n",
       "T_out_WAPE         2.125400e-01      5.887800e-01\n",
       "Press_mm_hg_MAPE   5.200000e-03      6.220000e-03\n",
       "Press_mm_hg_MAE    3.940270e+00      4.703570e+00\n",
       "Press_mm_hg_MSE    2.227163e+01      3.191084e+01\n",
       "Press_mm_hg_RMSE   4.719280e+00      5.648970e+00\n",
       "Press_mm_hg_R2     2.948900e-01     -1.029000e-02\n",
       "Press_mm_hg_WAPE   5.210000e-03      6.220000e-03\n",
       "RH_out_MAPE        1.225300e-01      3.269300e-01\n",
       "RH_out_MAE         7.070290e+00      1.710344e+01\n",
       "RH_out_MSE         7.995632e+01      4.656943e+02\n",
       "RH_out_RMSE        8.941830e+00      2.157995e+01\n",
       "RH_out_R2          7.756500e-01     -3.067000e-01\n",
       "RH_out_WAPE        9.907000e-02      2.396500e-01\n",
       "Windspeed_MAPE     2.229156e+12      4.903591e+12\n",
       "Windspeed_MAE      1.017980e+00      1.742090e+00\n",
       "Windspeed_MSE      1.635320e+00      4.172070e+00\n",
       "Windspeed_RMSE     1.278800e+00      2.042570e+00\n",
       "Windspeed_R2       4.137400e-01     -4.956900e-01\n",
       "Windspeed_WAPE     3.283900e-01      5.619800e-01\n",
       "Visibility_MAPE    1.964400e-01      2.661800e-01\n",
       "Visibility_MAE     4.760530e+00      6.102260e+00\n",
       "Visibility_MSE     5.013011e+01      8.110353e+01\n",
       "Visibility_RMSE    7.080260e+00      9.005750e+00\n",
       "Visibility_R2      3.589400e-01     -3.714000e-02\n",
       "Visibility_WAPE    1.288000e-01      1.651000e-01\n",
       "Tdewpoint_MAPE     1.207951e+13      1.564654e+13\n",
       "Tdewpoint_MAE      2.755070e+00      5.597230e+00\n",
       "Tdewpoint_MSE      1.228798e+01      4.380239e+01\n",
       "Tdewpoint_RMSE     3.505420e+00      6.618340e+00\n",
       "Tdewpoint_R2       2.834300e-01     -1.554310e+00\n",
       "Tdewpoint_WAPE     3.489500e-01      7.089300e-01"
      ]
     },
     "execution_count": 35,
     "metadata": {},
     "output_type": "execute_result"
    }
   ],
   "source": [
    "df_comparison = pd.DataFrame({\n",
    "    \"Trained Model\": pd.Series(error_results),\n",
    "    \"Dummy Forecaster\": pd.Series(dummy_error_results)\n",
    "})\n",
    "\n",
    "df_comparison = df_comparison.round(5)\n",
    "df_comparison"
   ]
  },
  {
   "cell_type": "code",
   "execution_count": null,
   "metadata": {},
   "outputs": [],
   "source": []
  }
 ],
 "metadata": {
  "kernelspec": {
   "display_name": "env",
   "language": "python",
   "name": "python3"
  },
  "language_info": {
   "codemirror_mode": {
    "name": "ipython",
    "version": 3
   },
   "file_extension": ".py",
   "mimetype": "text/x-python",
   "name": "python",
   "nbconvert_exporter": "python",
   "pygments_lexer": "ipython3",
   "version": "3.9.6"
  }
 },
 "nbformat": 4,
 "nbformat_minor": 2
}
