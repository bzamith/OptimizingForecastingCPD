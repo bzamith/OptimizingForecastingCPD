{
 "cells": [
  {
   "cell_type": "markdown",
   "metadata": {},
   "source": [
    "## 1. Execute full pipeline"
   ]
  },
  {
   "cell_type": "code",
   "execution_count": 1,
   "metadata": {},
   "outputs": [],
   "source": [
    "import random\n",
    "import time\n",
    "\n",
    "from keras_tuner import RandomSearch\n",
    "\n",
    "import numpy as np\n",
    "\n",
    "import pandas as pd\n",
    "\n",
    "import tensorflow as tf\n",
    "\n",
    "from config.constants import (\n",
    "    FORECAST_HORIZON, FORECASTER_MODEL,\n",
    "    NB_TRIALS, OBSERVATION_WINDOW, SEED, TRAIN_PERC\n",
    ")\n",
    "\n",
    "from src.cut_point_detector import CutPointMethod, CutPointModel, get_cut_point_detector\n",
    "from src.dataset import read_dataset, split_X_y, split_train_test\n",
    "from src.forecaster import InternalForecaster, TimeSeriesHyperModel\n",
    "from src.scaler import Scaler\n",
    "from src.utils import get_error_results\n",
    "\n",
    "tf.get_logger().setLevel('ERROR')\n",
    "tf.keras.mixed_precision.set_global_policy(\"mixed_float16\")\n",
    "\n",
    "np.random.seed(SEED)\n",
    "random.seed(SEED)\n",
    "tf.random.set_seed(SEED)\n"
   ]
  },
  {
   "cell_type": "code",
   "execution_count": 2,
   "metadata": {},
   "outputs": [],
   "source": [
    "timestamp = 'validate_pipeline'\n",
    "dataset_domain_argv = 'UCI'\n",
    "dataset_argv = 'AIR_QUALITY'\n",
    "cut_point_model_argv = 'Window'\n",
    "cut_point_method_argv = 'L1'"
   ]
  },
  {
   "cell_type": "code",
   "execution_count": 3,
   "metadata": {},
   "outputs": [],
   "source": [
    "execution_id = f\"{timestamp}_{dataset_domain_argv}_{dataset_argv}_{cut_point_model_argv}_{cut_point_method_argv}_{SEED}\""
   ]
  },
  {
   "cell_type": "code",
   "execution_count": 4,
   "metadata": {},
   "outputs": [
    {
     "name": "stdout",
     "output_type": "stream",
     "text": [
      "Extracting cut point model enum (Window)\n",
      "Extracting cut point model enum (L1)\n",
      "Reading dataset AIR_QUALITY from UCI\n",
      "Variables: ['C6H6(GT)', 'NOx(GT)', 'NO2(GT)', 'T', 'RH', 'AH']\n"
     ]
    }
   ],
   "source": [
    "print(f\"Extracting cut point model enum ({cut_point_model_argv})\")\n",
    "cut_point_model = CutPointModel.from_str(cut_point_model_argv)\n",
    "\n",
    "print(f\"Extracting cut point model enum ({cut_point_method_argv})\")\n",
    "cut_point_method = CutPointMethod.from_str(cut_point_method_argv)\n",
    "\n",
    "print(f\"Reading dataset {dataset_argv} from {dataset_domain_argv}\")\n",
    "df, variables = read_dataset(dataset_domain_argv, dataset_argv)\n",
    "print(f\"Variables: {variables}\")"
   ]
  },
  {
   "cell_type": "code",
   "execution_count": 5,
   "metadata": {},
   "outputs": [
    {
     "name": "stdout",
     "output_type": "stream",
     "text": [
      "Splitting data into train and test\n",
      "Initializing report\n"
     ]
    },
    {
     "data": {
      "text/plain": [
       "{'execution_id': 'validate_pipeline_UCI_AIR_QUALITY_Window_L1_42',\n",
       " 'timestamp': 'validate_pipeline',\n",
       " 'cut_point_model': 'Window',\n",
       " 'cut_point_method': 'L1',\n",
       " 'cut_point_approach': 'Window L1',\n",
       " 'seed': 42,\n",
       " 'forecaster_model': 'LSTM',\n",
       " 'observation_window': 14,\n",
       " 'train_perc': 0.8,\n",
       " 'nb_trials': 15,\n",
       " 'dataset_domain': 'UCI',\n",
       " 'dataset': 'AIR_QUALITY',\n",
       " 'variables': ['C6H6(GT)', 'NOx(GT)', 'NO2(GT)', 'T', 'RH', 'AH'],\n",
       " 'dataset_shape': (9357, 7),\n",
       " 'train_shape': (7485, 7),\n",
       " 'test_shape': (1872, 7)}"
      ]
     },
     "execution_count": 5,
     "metadata": {},
     "output_type": "execute_result"
    }
   ],
   "source": [
    "print(\"Splitting data into train and test\")\n",
    "train, test = split_train_test(df)\n",
    "\n",
    "print(\"Initializing report\")\n",
    "cut_point_approach = f\"{cut_point_model.value.title()} {cut_point_method.value.title()}\"\n",
    "report = {\n",
    "    'execution_id': execution_id,\n",
    "    'timestamp': timestamp,\n",
    "    'cut_point_model': cut_point_model.value,\n",
    "    'cut_point_method': cut_point_method.value,\n",
    "    'cut_point_approach': cut_point_approach,\n",
    "    'seed': SEED,\n",
    "    'forecaster_model': FORECASTER_MODEL,\n",
    "    'observation_window': OBSERVATION_WINDOW,\n",
    "    'train_perc': TRAIN_PERC,\n",
    "    'nb_trials': NB_TRIALS,\n",
    "    'dataset_domain': dataset_domain_argv,\n",
    "    'dataset': dataset_argv,\n",
    "    'variables': variables,\n",
    "    'dataset_shape': df.shape,\n",
    "    'train_shape': train.shape,\n",
    "    'test_shape': test.shape,\n",
    "}\n",
    "report"
   ]
  },
  {
   "cell_type": "code",
   "execution_count": 6,
   "metadata": {},
   "outputs": [
    {
     "name": "stdout",
     "output_type": "stream",
     "text": [
      "Started cut point for Window L1\n",
      "Cut point: 5385, Cut point percentage: 71.9438877755511\n",
      "Finished cut point for Window L1, duration: 0.10567998886108398\n"
     ]
    },
    {
     "data": {
      "text/plain": [
       "{'execution_id': 'validate_pipeline_UCI_AIR_QUALITY_Window_L1_42',\n",
       " 'timestamp': 'validate_pipeline',\n",
       " 'cut_point_model': 'Window',\n",
       " 'cut_point_method': 'L1',\n",
       " 'cut_point_approach': 'Window L1',\n",
       " 'seed': 42,\n",
       " 'forecaster_model': 'LSTM',\n",
       " 'observation_window': 14,\n",
       " 'train_perc': 0.8,\n",
       " 'nb_trials': 15,\n",
       " 'dataset_domain': 'UCI',\n",
       " 'dataset': 'AIR_QUALITY',\n",
       " 'variables': ['C6H6(GT)', 'NOx(GT)', 'NO2(GT)', 'T', 'RH', 'AH'],\n",
       " 'dataset_shape': (9357, 7),\n",
       " 'train_shape': (7485, 7),\n",
       " 'test_shape': (1872, 7),\n",
       " 'cut_duration': 0.10567998886108398,\n",
       " 'cut_point': '5385',\n",
       " 'cut_point_perc': 71.9438877755511}"
      ]
     },
     "execution_count": 6,
     "metadata": {},
     "output_type": "execute_result"
    }
   ],
   "source": [
    "print(f\"Started cut point for {cut_point_approach}\")\n",
    "start_time = time.time()\n",
    "cut_point_detector = get_cut_point_detector(cut_point_model, cut_point_method)\n",
    "cut_point, cut_point_perc = cut_point_detector.find_cut_point(train, variables)\n",
    "end_time = time.time()\n",
    "cut_duration = end_time - start_time\n",
    "print(f\"Cut point: {cut_point}, Cut point percentage: {cut_point_perc}\")\n",
    "print(f\"Finished cut point for {cut_point_approach}, duration: {cut_duration}\")\n",
    "\n",
    "report.update({\n",
    "    'cut_duration': cut_duration,\n",
    "    'cut_point': str(cut_point),\n",
    "    'cut_point_perc': cut_point_perc\n",
    "})\n",
    "report"
   ]
  },
  {
   "cell_type": "code",
   "execution_count": 7,
   "metadata": {},
   "outputs": [
    {
     "name": "stdout",
     "output_type": "stream",
     "text": [
      "Applying subset to train based on cut point\n",
      "Training and applying scaler\n"
     ]
    }
   ],
   "source": [
    "print(\"Applying subset to train based on cut point\")\n",
    "reduced_train = cut_point_detector.apply_cut_point(train, cut_point)\n",
    "\n",
    "print(\"Training and applying scaler\")\n",
    "scaler = Scaler(variables)\n",
    "scaled_reduced_train = scaler.fit_scale(reduced_train)\n",
    "scaled_test = scaler.scale(test)"
   ]
  },
  {
   "cell_type": "code",
   "execution_count": 8,
   "metadata": {},
   "outputs": [
    {
     "name": "stdout",
     "output_type": "stream",
     "text": [
      "Splitting into X and y\n"
     ]
    }
   ],
   "source": [
    "print(\"Splitting into X and y\")\n",
    "X_reduced_scaled_train, y_reduced_scaled_train = split_X_y(scaled_reduced_train)\n",
    "X_scaled_test, y_scaled_test = split_X_y(scaled_test)"
   ]
  },
  {
   "cell_type": "code",
   "execution_count": 9,
   "metadata": {},
   "outputs": [
    {
     "data": {
      "text/plain": [
       "array([[0.32598425, 0.21964529, 0.32      , 0.99230769, 0.49531459,\n",
       "        0.87453389],\n",
       "       [0.4488189 , 0.29604366, 0.38181818, 0.95      , 0.55957162,\n",
       "        0.89707173],\n",
       "       [0.54488189, 0.3840382 , 0.38909091, 0.91923077, 0.60776439,\n",
       "        0.91270015],\n",
       "       [0.42992126, 0.32264666, 0.34181818, 0.90384615, 0.59839357,\n",
       "        0.87809827],\n",
       "       [0.38897638, 0.29058663, 0.33090909, 0.86153846, 0.64524766,\n",
       "        0.87053082],\n",
       "       [0.37795276, 0.30627558, 0.28363636, 0.81538462, 0.71084337,\n",
       "        0.87475324],\n",
       "       [0.34645669, 0.29195089, 0.28363636, 0.78461538, 0.73895582,\n",
       "        0.85775389]])"
      ]
     },
     "execution_count": 9,
     "metadata": {},
     "output_type": "execute_result"
    }
   ],
   "source": [
    "y_reduced_scaled_train[0]"
   ]
  },
  {
   "cell_type": "code",
   "execution_count": 10,
   "metadata": {},
   "outputs": [
    {
     "data": {
      "text/plain": [
       "array([[0.4488189 , 0.29604366, 0.38181818, 0.95      , 0.55957162,\n",
       "        0.89707173],\n",
       "       [0.54488189, 0.3840382 , 0.38909091, 0.91923077, 0.60776439,\n",
       "        0.91270015],\n",
       "       [0.42992126, 0.32264666, 0.34181818, 0.90384615, 0.59839357,\n",
       "        0.87809827],\n",
       "       [0.38897638, 0.29058663, 0.33090909, 0.86153846, 0.64524766,\n",
       "        0.87053082],\n",
       "       [0.37795276, 0.30627558, 0.28363636, 0.81538462, 0.71084337,\n",
       "        0.87475324],\n",
       "       [0.34645669, 0.29195089, 0.28363636, 0.78461538, 0.73895582,\n",
       "        0.85775389],\n",
       "       [0.20472441, 0.14324693, 0.22181818, 0.77307692, 0.72958501,\n",
       "        0.83220004]])"
      ]
     },
     "execution_count": 10,
     "metadata": {},
     "output_type": "execute_result"
    }
   ],
   "source": [
    "y_reduced_scaled_train[1]"
   ]
  },
  {
   "cell_type": "code",
   "execution_count": 11,
   "metadata": {},
   "outputs": [
    {
     "data": {
      "text/plain": [
       "array([[0.54488189, 0.3840382 , 0.38909091, 0.91923077, 0.60776439,\n",
       "        0.91270015],\n",
       "       [0.42992126, 0.32264666, 0.34181818, 0.90384615, 0.59839357,\n",
       "        0.87809827],\n",
       "       [0.38897638, 0.29058663, 0.33090909, 0.86153846, 0.64524766,\n",
       "        0.87053082],\n",
       "       [0.37795276, 0.30627558, 0.28363636, 0.81538462, 0.71084337,\n",
       "        0.87475324],\n",
       "       [0.34645669, 0.29195089, 0.28363636, 0.78461538, 0.73895582,\n",
       "        0.85775389],\n",
       "       [0.20472441, 0.14324693, 0.22181818, 0.77307692, 0.72958501,\n",
       "        0.83220004],\n",
       "       [0.12125984, 0.07708049, 0.18181818, 0.76923077, 0.73092369,\n",
       "        0.82572933]])"
      ]
     },
     "execution_count": 11,
     "metadata": {},
     "output_type": "execute_result"
    }
   ],
   "source": [
    "y_reduced_scaled_train[2]"
   ]
  },
  {
   "cell_type": "code",
   "execution_count": 12,
   "metadata": {},
   "outputs": [
    {
     "name": "stdout",
     "output_type": "stream",
     "text": [
      "Started running HPO and NAS for Window L1\n"
     ]
    },
    {
     "name": "stderr",
     "output_type": "stream",
     "text": [
      "2025-02-25 12:14:01.844288: I metal_plugin/src/device/metal_device.cc:1154] Metal device set to: Apple M3\n",
      "2025-02-25 12:14:01.844323: I metal_plugin/src/device/metal_device.cc:296] systemMemory: 16.00 GB\n",
      "2025-02-25 12:14:01.844333: I metal_plugin/src/device/metal_device.cc:313] maxCacheSize: 5.33 GB\n",
      "2025-02-25 12:14:01.844356: I tensorflow/core/common_runtime/pluggable_device/pluggable_device_factory.cc:305] Could not identify NUMA node of platform GPU ID 0, defaulting to 0. Your kernel may not have been built with NUMA support.\n",
      "2025-02-25 12:14:01.844371: I tensorflow/core/common_runtime/pluggable_device/pluggable_device_factory.cc:271] Created TensorFlow device (/job:localhost/replica:0/task:0/device:GPU:0 with 0 MB memory) -> physical PluggableDevice (device: 0, name: METAL, pci bus id: <undefined>)\n"
     ]
    }
   ],
   "source": [
    "print(f\"Started running HPO and NAS for {cut_point_approach}\")\n",
    "forecaster_hypermodel = TimeSeriesHyperModel(\n",
    "    model_type=FORECASTER_MODEL,\n",
    "    n_variables=len(variables)\n",
    ")\n",
    "forecaster_tuner = RandomSearch(\n",
    "    forecaster_hypermodel,\n",
    "    objective='val_loss',\n",
    "    max_trials=NB_TRIALS,\n",
    "    executions_per_trial=1,\n",
    "    directory=f\"outputs/tuner/{execution_id}\",\n",
    "    project_name=f\"{cut_point_model.value}_{cut_point_method.value}\",\n",
    "    seed=SEED,\n",
    "    overwrite=True,\n",
    "    distribution_strategy=tf.distribute.MirroredStrategy()\n",
    ")"
   ]
  },
  {
   "cell_type": "code",
   "execution_count": 13,
   "metadata": {},
   "outputs": [
    {
     "name": "stdout",
     "output_type": "stream",
     "text": [
      "Trial 15 Complete [00h 00m 13s]\n",
      "val_loss: 0.013428425299935043\n",
      "\n",
      "Best val_loss So Far: 0.00867647328414023\n",
      "Total elapsed time: 00h 11m 10s\n"
     ]
    }
   ],
   "source": [
    "start_time = time.time()\n",
    "forecaster_tuner.search(\n",
    "    X_reduced_scaled_train,\n",
    "    y_reduced_scaled_train,\n",
    "    validation_split=(1 - TRAIN_PERC),\n",
    "    shuffle=False,\n",
    ")\n",
    "end_time = time.time()\n",
    "tuner_duration = end_time - start_time"
   ]
  },
  {
   "cell_type": "code",
   "execution_count": 14,
   "metadata": {},
   "outputs": [
    {
     "name": "stdout",
     "output_type": "stream",
     "text": [
      "Finished running HPO and NAS for Window L1, duration: 670.1102960109711\n",
      "Trial ID: 06\n",
      "Hyperparameters: {'num_layers': 1, 'units_0': 128, 'learning_rate': 0.01, 'units_1': 64, 'units_2': 32, 'units_3': 32, 'batch_size': 16, 'epochs': 225}\n",
      "Score: 0.00867647328414023\n",
      "----------------------------------------\n"
     ]
    },
    {
     "name": "stderr",
     "output_type": "stream",
     "text": [
      "/Users/zamith/Doutorado/TSForecastingSubsets/env/lib/python3.9/site-packages/keras/src/saving/saving_lib.py:757: UserWarning: Skipping variable loading for optimizer 'adam', because it has 2 variables whereas the saved optimizer has 12 variables. \n",
      "  saveable.load_own_variables(weights_store.get(inner_path))\n"
     ]
    }
   ],
   "source": [
    "best_trial = forecaster_tuner.oracle.get_best_trials(num_trials=1)[0]\n",
    "best_forecaster_model = forecaster_tuner.get_best_models(num_models=1)[0]\n",
    "print(f\"Finished running HPO and NAS for {cut_point_approach}, duration: {tuner_duration}\")\n",
    "\n",
    "print(f\"Trial ID: {best_trial.trial_id}\")\n",
    "print(f\"Hyperparameters: {best_trial.hyperparameters.values}\")\n",
    "print(f\"Score: {best_trial.score}\")\n",
    "print(\"-\" * 40)"
   ]
  },
  {
   "cell_type": "code",
   "execution_count": 15,
   "metadata": {},
   "outputs": [
    {
     "name": "stdout",
     "output_type": "stream",
     "text": [
      "Retrieving best model\n"
     ]
    },
    {
     "data": {
      "text/html": [
       "<pre style=\"white-space:pre;overflow-x:auto;line-height:normal;font-family:Menlo,'DejaVu Sans Mono',consolas,'Courier New',monospace\"><span style=\"font-weight: bold\">Model: \"sequential\"</span>\n",
       "</pre>\n"
      ],
      "text/plain": [
       "\u001b[1mModel: \"sequential\"\u001b[0m\n"
      ]
     },
     "metadata": {},
     "output_type": "display_data"
    },
    {
     "data": {
      "text/html": [
       "<pre style=\"white-space:pre;overflow-x:auto;line-height:normal;font-family:Menlo,'DejaVu Sans Mono',consolas,'Courier New',monospace\">┏━━━━━━━━━━━━━━━━━━━━━━━━━━━━━━━━━┳━━━━━━━━━━━━━━━━━━━━━━━━┳━━━━━━━━━━━━━━━┓\n",
       "┃<span style=\"font-weight: bold\"> Layer (type)                    </span>┃<span style=\"font-weight: bold\"> Output Shape           </span>┃<span style=\"font-weight: bold\">       Param # </span>┃\n",
       "┡━━━━━━━━━━━━━━━━━━━━━━━━━━━━━━━━━╇━━━━━━━━━━━━━━━━━━━━━━━━╇━━━━━━━━━━━━━━━┩\n",
       "│ lstm (<span style=\"color: #0087ff; text-decoration-color: #0087ff\">LSTM</span>)                     │ (<span style=\"color: #00d7ff; text-decoration-color: #00d7ff\">None</span>, <span style=\"color: #00af00; text-decoration-color: #00af00\">128</span>)            │        <span style=\"color: #00af00; text-decoration-color: #00af00\">69,120</span> │\n",
       "├─────────────────────────────────┼────────────────────────┼───────────────┤\n",
       "│ dense (<span style=\"color: #0087ff; text-decoration-color: #0087ff\">Dense</span>)                   │ (<span style=\"color: #00d7ff; text-decoration-color: #00d7ff\">None</span>, <span style=\"color: #00af00; text-decoration-color: #00af00\">42</span>)             │         <span style=\"color: #00af00; text-decoration-color: #00af00\">5,418</span> │\n",
       "├─────────────────────────────────┼────────────────────────┼───────────────┤\n",
       "│ reshape (<span style=\"color: #0087ff; text-decoration-color: #0087ff\">Reshape</span>)               │ (<span style=\"color: #00d7ff; text-decoration-color: #00d7ff\">None</span>, <span style=\"color: #00af00; text-decoration-color: #00af00\">7</span>, <span style=\"color: #00af00; text-decoration-color: #00af00\">6</span>)           │             <span style=\"color: #00af00; text-decoration-color: #00af00\">0</span> │\n",
       "└─────────────────────────────────┴────────────────────────┴───────────────┘\n",
       "</pre>\n"
      ],
      "text/plain": [
       "┏━━━━━━━━━━━━━━━━━━━━━━━━━━━━━━━━━┳━━━━━━━━━━━━━━━━━━━━━━━━┳━━━━━━━━━━━━━━━┓\n",
       "┃\u001b[1m \u001b[0m\u001b[1mLayer (type)                   \u001b[0m\u001b[1m \u001b[0m┃\u001b[1m \u001b[0m\u001b[1mOutput Shape          \u001b[0m\u001b[1m \u001b[0m┃\u001b[1m \u001b[0m\u001b[1m      Param #\u001b[0m\u001b[1m \u001b[0m┃\n",
       "┡━━━━━━━━━━━━━━━━━━━━━━━━━━━━━━━━━╇━━━━━━━━━━━━━━━━━━━━━━━━╇━━━━━━━━━━━━━━━┩\n",
       "│ lstm (\u001b[38;5;33mLSTM\u001b[0m)                     │ (\u001b[38;5;45mNone\u001b[0m, \u001b[38;5;34m128\u001b[0m)            │        \u001b[38;5;34m69,120\u001b[0m │\n",
       "├─────────────────────────────────┼────────────────────────┼───────────────┤\n",
       "│ dense (\u001b[38;5;33mDense\u001b[0m)                   │ (\u001b[38;5;45mNone\u001b[0m, \u001b[38;5;34m42\u001b[0m)             │         \u001b[38;5;34m5,418\u001b[0m │\n",
       "├─────────────────────────────────┼────────────────────────┼───────────────┤\n",
       "│ reshape (\u001b[38;5;33mReshape\u001b[0m)               │ (\u001b[38;5;45mNone\u001b[0m, \u001b[38;5;34m7\u001b[0m, \u001b[38;5;34m6\u001b[0m)           │             \u001b[38;5;34m0\u001b[0m │\n",
       "└─────────────────────────────────┴────────────────────────┴───────────────┘\n"
      ]
     },
     "metadata": {},
     "output_type": "display_data"
    },
    {
     "data": {
      "text/html": [
       "<pre style=\"white-space:pre;overflow-x:auto;line-height:normal;font-family:Menlo,'DejaVu Sans Mono',consolas,'Courier New',monospace\"><span style=\"font-weight: bold\"> Total params: </span><span style=\"color: #00af00; text-decoration-color: #00af00\">74,538</span> (291.16 KB)\n",
       "</pre>\n"
      ],
      "text/plain": [
       "\u001b[1m Total params: \u001b[0m\u001b[38;5;34m74,538\u001b[0m (291.16 KB)\n"
      ]
     },
     "metadata": {},
     "output_type": "display_data"
    },
    {
     "data": {
      "text/html": [
       "<pre style=\"white-space:pre;overflow-x:auto;line-height:normal;font-family:Menlo,'DejaVu Sans Mono',consolas,'Courier New',monospace\"><span style=\"font-weight: bold\"> Trainable params: </span><span style=\"color: #00af00; text-decoration-color: #00af00\">74,538</span> (291.16 KB)\n",
       "</pre>\n"
      ],
      "text/plain": [
       "\u001b[1m Trainable params: \u001b[0m\u001b[38;5;34m74,538\u001b[0m (291.16 KB)\n"
      ]
     },
     "metadata": {},
     "output_type": "display_data"
    },
    {
     "data": {
      "text/html": [
       "<pre style=\"white-space:pre;overflow-x:auto;line-height:normal;font-family:Menlo,'DejaVu Sans Mono',consolas,'Courier New',monospace\"><span style=\"font-weight: bold\"> Non-trainable params: </span><span style=\"color: #00af00; text-decoration-color: #00af00\">0</span> (0.00 B)\n",
       "</pre>\n"
      ],
      "text/plain": [
       "\u001b[1m Non-trainable params: \u001b[0m\u001b[38;5;34m0\u001b[0m (0.00 B)\n"
      ]
     },
     "metadata": {},
     "output_type": "display_data"
    }
   ],
   "source": [
    "print(\"Retrieving best model\")\n",
    "best_forecaster_model.summary()\n",
    "best_forecaster_model = InternalForecaster(\n",
    "    best_forecaster_model,\n",
    "    len(variables),\n",
    "    best_trial.hyperparameters.values['batch_size'],\n",
    "    best_trial.hyperparameters.values['epochs'],\n",
    ")"
   ]
  },
  {
   "cell_type": "code",
   "execution_count": 16,
   "metadata": {},
   "outputs": [
    {
     "name": "stdout",
     "output_type": "stream",
     "text": [
      "Retraining best model\n",
      "Epoch 1/225\n",
      "\u001b[1m130/130\u001b[0m \u001b[32m━━━━━━━━━━━━━━━━━━━━\u001b[0m\u001b[37m\u001b[0m \u001b[1m2s\u001b[0m 10ms/step - loss: 0.0125\n",
      "Epoch 2/225\n",
      "\u001b[1m130/130\u001b[0m \u001b[32m━━━━━━━━━━━━━━━━━━━━\u001b[0m\u001b[37m\u001b[0m \u001b[1m1s\u001b[0m 10ms/step - loss: 0.0127\n",
      "Epoch 3/225\n",
      "\u001b[1m130/130\u001b[0m \u001b[32m━━━━━━━━━━━━━━━━━━━━\u001b[0m\u001b[37m\u001b[0m \u001b[1m1s\u001b[0m 10ms/step - loss: 0.0124\n",
      "Epoch 4/225\n",
      "\u001b[1m130/130\u001b[0m \u001b[32m━━━━━━━━━━━━━━━━━━━━\u001b[0m\u001b[37m\u001b[0m \u001b[1m1s\u001b[0m 10ms/step - loss: 0.0115\n",
      "Epoch 5/225\n",
      "\u001b[1m130/130\u001b[0m \u001b[32m━━━━━━━━━━━━━━━━━━━━\u001b[0m\u001b[37m\u001b[0m \u001b[1m1s\u001b[0m 10ms/step - loss: 0.0113\n",
      "Epoch 6/225\n",
      "\u001b[1m130/130\u001b[0m \u001b[32m━━━━━━━━━━━━━━━━━━━━\u001b[0m\u001b[37m\u001b[0m \u001b[1m1s\u001b[0m 10ms/step - loss: 0.0107\n",
      "Epoch 7/225\n",
      "\u001b[1m130/130\u001b[0m \u001b[32m━━━━━━━━━━━━━━━━━━━━\u001b[0m\u001b[37m\u001b[0m \u001b[1m1s\u001b[0m 10ms/step - loss: 0.0106\n",
      "Epoch 8/225\n",
      "\u001b[1m130/130\u001b[0m \u001b[32m━━━━━━━━━━━━━━━━━━━━\u001b[0m\u001b[37m\u001b[0m \u001b[1m1s\u001b[0m 10ms/step - loss: 0.0101\n",
      "Epoch 9/225\n",
      "\u001b[1m130/130\u001b[0m \u001b[32m━━━━━━━━━━━━━━━━━━━━\u001b[0m\u001b[37m\u001b[0m \u001b[1m1s\u001b[0m 10ms/step - loss: 0.0100\n",
      "Epoch 10/225\n",
      "\u001b[1m130/130\u001b[0m \u001b[32m━━━━━━━━━━━━━━━━━━━━\u001b[0m\u001b[37m\u001b[0m \u001b[1m1s\u001b[0m 10ms/step - loss: 0.0099\n",
      "Epoch 11/225\n",
      "\u001b[1m130/130\u001b[0m \u001b[32m━━━━━━━━━━━━━━━━━━━━\u001b[0m\u001b[37m\u001b[0m \u001b[1m1s\u001b[0m 11ms/step - loss: 0.0100\n",
      "Epoch 12/225\n",
      "\u001b[1m130/130\u001b[0m \u001b[32m━━━━━━━━━━━━━━━━━━━━\u001b[0m\u001b[37m\u001b[0m \u001b[1m1s\u001b[0m 10ms/step - loss: 0.0097\n",
      "Epoch 13/225\n",
      "\u001b[1m130/130\u001b[0m \u001b[32m━━━━━━━━━━━━━━━━━━━━\u001b[0m\u001b[37m\u001b[0m \u001b[1m1s\u001b[0m 10ms/step - loss: 0.0094\n",
      "Epoch 14/225\n",
      "\u001b[1m130/130\u001b[0m \u001b[32m━━━━━━━━━━━━━━━━━━━━\u001b[0m\u001b[37m\u001b[0m \u001b[1m1s\u001b[0m 9ms/step - loss: 0.0091\n",
      "Epoch 15/225\n",
      "\u001b[1m130/130\u001b[0m \u001b[32m━━━━━━━━━━━━━━━━━━━━\u001b[0m\u001b[37m\u001b[0m \u001b[1m1s\u001b[0m 10ms/step - loss: 0.0092\n",
      "Epoch 16/225\n",
      "\u001b[1m130/130\u001b[0m \u001b[32m━━━━━━━━━━━━━━━━━━━━\u001b[0m\u001b[37m\u001b[0m \u001b[1m1s\u001b[0m 10ms/step - loss: 0.0090\n",
      "Epoch 17/225\n",
      "\u001b[1m130/130\u001b[0m \u001b[32m━━━━━━━━━━━━━━━━━━━━\u001b[0m\u001b[37m\u001b[0m \u001b[1m1s\u001b[0m 11ms/step - loss: 0.0094\n",
      "Epoch 18/225\n",
      "\u001b[1m130/130\u001b[0m \u001b[32m━━━━━━━━━━━━━━━━━━━━\u001b[0m\u001b[37m\u001b[0m \u001b[1m1s\u001b[0m 11ms/step - loss: 0.0092\n",
      "Epoch 19/225\n",
      "\u001b[1m130/130\u001b[0m \u001b[32m━━━━━━━━━━━━━━━━━━━━\u001b[0m\u001b[37m\u001b[0m \u001b[1m1s\u001b[0m 10ms/step - loss: 0.0089\n",
      "Epoch 20/225\n",
      "\u001b[1m130/130\u001b[0m \u001b[32m━━━━━━━━━━━━━━━━━━━━\u001b[0m\u001b[37m\u001b[0m \u001b[1m1s\u001b[0m 10ms/step - loss: 0.0088\n",
      "Epoch 21/225\n",
      "\u001b[1m130/130\u001b[0m \u001b[32m━━━━━━━━━━━━━━━━━━━━\u001b[0m\u001b[37m\u001b[0m \u001b[1m1s\u001b[0m 10ms/step - loss: 0.0089\n",
      "Epoch 22/225\n",
      "\u001b[1m130/130\u001b[0m \u001b[32m━━━━━━━━━━━━━━━━━━━━\u001b[0m\u001b[37m\u001b[0m \u001b[1m1s\u001b[0m 10ms/step - loss: 0.0089\n",
      "Epoch 23/225\n",
      "\u001b[1m130/130\u001b[0m \u001b[32m━━━━━━━━━━━━━━━━━━━━\u001b[0m\u001b[37m\u001b[0m \u001b[1m1s\u001b[0m 10ms/step - loss: 0.0087\n",
      "Epoch 24/225\n",
      "\u001b[1m130/130\u001b[0m \u001b[32m━━━━━━━━━━━━━━━━━━━━\u001b[0m\u001b[37m\u001b[0m \u001b[1m1s\u001b[0m 10ms/step - loss: 0.0085\n",
      "Epoch 25/225\n",
      "\u001b[1m130/130\u001b[0m \u001b[32m━━━━━━━━━━━━━━━━━━━━\u001b[0m\u001b[37m\u001b[0m \u001b[1m1s\u001b[0m 10ms/step - loss: 0.0089\n",
      "Epoch 26/225\n",
      "\u001b[1m130/130\u001b[0m \u001b[32m━━━━━━━━━━━━━━━━━━━━\u001b[0m\u001b[37m\u001b[0m \u001b[1m1s\u001b[0m 10ms/step - loss: 0.0087\n",
      "Epoch 27/225\n",
      "\u001b[1m130/130\u001b[0m \u001b[32m━━━━━━━━━━━━━━━━━━━━\u001b[0m\u001b[37m\u001b[0m \u001b[1m1s\u001b[0m 9ms/step - loss: 0.0085\n",
      "Epoch 28/225\n",
      "\u001b[1m130/130\u001b[0m \u001b[32m━━━━━━━━━━━━━━━━━━━━\u001b[0m\u001b[37m\u001b[0m \u001b[1m1s\u001b[0m 10ms/step - loss: 0.0086\n",
      "Epoch 29/225\n",
      "\u001b[1m130/130\u001b[0m \u001b[32m━━━━━━━━━━━━━━━━━━━━\u001b[0m\u001b[37m\u001b[0m \u001b[1m1s\u001b[0m 10ms/step - loss: 0.0085\n",
      "Epoch 30/225\n",
      "\u001b[1m130/130\u001b[0m \u001b[32m━━━━━━━━━━━━━━━━━━━━\u001b[0m\u001b[37m\u001b[0m \u001b[1m1s\u001b[0m 10ms/step - loss: 0.0082\n",
      "Epoch 31/225\n",
      "\u001b[1m130/130\u001b[0m \u001b[32m━━━━━━━━━━━━━━━━━━━━\u001b[0m\u001b[37m\u001b[0m \u001b[1m1s\u001b[0m 10ms/step - loss: 0.0083\n",
      "Epoch 32/225\n",
      "\u001b[1m130/130\u001b[0m \u001b[32m━━━━━━━━━━━━━━━━━━━━\u001b[0m\u001b[37m\u001b[0m \u001b[1m1s\u001b[0m 10ms/step - loss: 0.0080\n",
      "Epoch 33/225\n",
      "\u001b[1m130/130\u001b[0m \u001b[32m━━━━━━━━━━━━━━━━━━━━\u001b[0m\u001b[37m\u001b[0m \u001b[1m1s\u001b[0m 10ms/step - loss: 0.0081\n",
      "Epoch 34/225\n",
      "\u001b[1m130/130\u001b[0m \u001b[32m━━━━━━━━━━━━━━━━━━━━\u001b[0m\u001b[37m\u001b[0m \u001b[1m1s\u001b[0m 10ms/step - loss: 0.0082\n",
      "Epoch 35/225\n",
      "\u001b[1m130/130\u001b[0m \u001b[32m━━━━━━━━━━━━━━━━━━━━\u001b[0m\u001b[37m\u001b[0m \u001b[1m1s\u001b[0m 10ms/step - loss: 0.0079\n",
      "Epoch 36/225\n",
      "\u001b[1m130/130\u001b[0m \u001b[32m━━━━━━━━━━━━━━━━━━━━\u001b[0m\u001b[37m\u001b[0m \u001b[1m1s\u001b[0m 10ms/step - loss: 0.0078\n",
      "Epoch 37/225\n",
      "\u001b[1m130/130\u001b[0m \u001b[32m━━━━━━━━━━━━━━━━━━━━\u001b[0m\u001b[37m\u001b[0m \u001b[1m1s\u001b[0m 10ms/step - loss: 0.0081\n",
      "Epoch 38/225\n",
      "\u001b[1m130/130\u001b[0m \u001b[32m━━━━━━━━━━━━━━━━━━━━\u001b[0m\u001b[37m\u001b[0m \u001b[1m1s\u001b[0m 10ms/step - loss: 0.0078\n",
      "Epoch 39/225\n",
      "\u001b[1m130/130\u001b[0m \u001b[32m━━━━━━━━━━━━━━━━━━━━\u001b[0m\u001b[37m\u001b[0m \u001b[1m1s\u001b[0m 10ms/step - loss: 0.0075\n",
      "Epoch 40/225\n",
      "\u001b[1m130/130\u001b[0m \u001b[32m━━━━━━━━━━━━━━━━━━━━\u001b[0m\u001b[37m\u001b[0m \u001b[1m1s\u001b[0m 9ms/step - loss: 0.0077\n",
      "Epoch 41/225\n",
      "\u001b[1m130/130\u001b[0m \u001b[32m━━━━━━━━━━━━━━━━━━━━\u001b[0m\u001b[37m\u001b[0m \u001b[1m1s\u001b[0m 9ms/step - loss: 0.0076\n",
      "Epoch 42/225\n",
      "\u001b[1m130/130\u001b[0m \u001b[32m━━━━━━━━━━━━━━━━━━━━\u001b[0m\u001b[37m\u001b[0m \u001b[1m1s\u001b[0m 9ms/step - loss: 0.0078\n",
      "Epoch 43/225\n",
      "\u001b[1m130/130\u001b[0m \u001b[32m━━━━━━━━━━━━━━━━━━━━\u001b[0m\u001b[37m\u001b[0m \u001b[1m1s\u001b[0m 9ms/step - loss: 0.0076\n",
      "Epoch 44/225\n",
      "\u001b[1m130/130\u001b[0m \u001b[32m━━━━━━━━━━━━━━━━━━━━\u001b[0m\u001b[37m\u001b[0m \u001b[1m1s\u001b[0m 9ms/step - loss: 0.0077\n",
      "Epoch 45/225\n",
      "\u001b[1m130/130\u001b[0m \u001b[32m━━━━━━━━━━━━━━━━━━━━\u001b[0m\u001b[37m\u001b[0m \u001b[1m1s\u001b[0m 8ms/step - loss: 0.0078\n",
      "Epoch 46/225\n",
      "\u001b[1m130/130\u001b[0m \u001b[32m━━━━━━━━━━━━━━━━━━━━\u001b[0m\u001b[37m\u001b[0m \u001b[1m1s\u001b[0m 7ms/step - loss: 0.0078\n",
      "Epoch 47/225\n",
      "\u001b[1m130/130\u001b[0m \u001b[32m━━━━━━━━━━━━━━━━━━━━\u001b[0m\u001b[37m\u001b[0m \u001b[1m1s\u001b[0m 7ms/step - loss: 0.0079\n",
      "Epoch 48/225\n",
      "\u001b[1m130/130\u001b[0m \u001b[32m━━━━━━━━━━━━━━━━━━━━\u001b[0m\u001b[37m\u001b[0m \u001b[1m1s\u001b[0m 6ms/step - loss: 0.0080\n"
     ]
    }
   ],
   "source": [
    "print(\"Retraining best model\")\n",
    "start_time = time.time()\n",
    "best_forecaster_model.fit(\n",
    "    X_reduced_scaled_train,\n",
    "    y_reduced_scaled_train,\n",
    "    shuffle=False\n",
    ")\n",
    "end_time = time.time()\n",
    "retrain_duration = end_time - start_time"
   ]
  },
  {
   "cell_type": "code",
   "execution_count": 17,
   "metadata": {},
   "outputs": [
    {
     "name": "stdout",
     "output_type": "stream",
     "text": [
      "Running forecasting\n",
      "\u001b[1m58/58\u001b[0m \u001b[32m━━━━━━━━━━━━━━━━━━━━\u001b[0m\u001b[37m\u001b[0m \u001b[1m0s\u001b[0m 7ms/step\n"
     ]
    },
    {
     "name": "stderr",
     "output_type": "stream",
     "text": [
      "2025-02-25 12:26:13.714428: W tensorflow/core/framework/local_rendezvous.cc:404] Local rendezvous is aborting with status: OUT_OF_RANGE: End of sequence\n",
      "\t [[{{node MultiDeviceIteratorGetNextFromShard}}]]\n",
      "2025-02-25 12:26:13.714445: W tensorflow/core/framework/local_rendezvous.cc:404] Local rendezvous is aborting with status: OUT_OF_RANGE: End of sequence\n",
      "\t [[{{node MultiDeviceIteratorGetNextFromShard}}]]\n",
      "\t [[RemoteCall]]\n"
     ]
    }
   ],
   "source": [
    "print(\"Running forecasting\")\n",
    "y_scaled_pred = best_forecaster_model.forecast(X_scaled_test)\n",
    "y_scaled_test_flat = y_scaled_test.reshape(-1, len(variables))\n",
    "y_scaled_pred_flat = y_scaled_pred.reshape(-1, len(variables))"
   ]
  },
  {
   "cell_type": "code",
   "execution_count": 18,
   "metadata": {},
   "outputs": [
    {
     "data": {
      "text/plain": [
       "array([[ 0.01259843,  0.05525239,  0.24      ,  0.05384615,  0.59705489,\n",
       "         0.1314433 ],\n",
       "       [ 0.02204724,  0.07366985,  0.28      ,  0.07692308,  0.562249  ,\n",
       "         0.13029173],\n",
       "       [ 0.04724409,  0.08049113,  0.29818182,  0.09230769,  0.55421687,\n",
       "         0.13330774],\n",
       "       ...,\n",
       "       [ 0.19212598,  0.19099591,  0.58909091,  0.98846154,  0.05756359,\n",
       "         0.24226804],\n",
       "       [ 0.14645669,  0.15143247,  0.52      ,  1.04230769, -0.00669344,\n",
       "         0.17279009],\n",
       "       [ 0.18425197,  0.17189632,  0.56363636,  1.05      , -0.01204819,\n",
       "         0.16670322]])"
      ]
     },
     "execution_count": 18,
     "metadata": {},
     "output_type": "execute_result"
    }
   ],
   "source": [
    "y_scaled_test_flat"
   ]
  },
  {
   "cell_type": "code",
   "execution_count": 19,
   "metadata": {},
   "outputs": [
    {
     "data": {
      "text/plain": [
       "array([[-0.03756991,  0.09853232,  0.2508643 ,  0.01759565,  0.5965497 ,\n",
       "         0.0983094 ],\n",
       "       [ 0.0369684 ,  0.15940697,  0.3328989 ,  0.0395399 ,  0.5829699 ,\n",
       "         0.09887704],\n",
       "       [ 0.12583026,  0.24291866,  0.4204381 ,  0.08346581,  0.55507225,\n",
       "         0.1022462 ],\n",
       "       ...,\n",
       "       [ 0.17316769,  0.29553118,  0.5638131 ,  0.49880123,  0.43758625,\n",
       "         0.28870514],\n",
       "       [ 0.18795998,  0.28757802,  0.55704725,  0.50333244,  0.44066167,\n",
       "         0.28953692],\n",
       "       [ 0.19758046,  0.29473448,  0.557574  ,  0.5027285 ,  0.44965523,\n",
       "         0.29291803]], dtype=float32)"
      ]
     },
     "execution_count": 19,
     "metadata": {},
     "output_type": "execute_result"
    }
   ],
   "source": [
    "y_scaled_pred_flat"
   ]
  },
  {
   "cell_type": "code",
   "execution_count": 20,
   "metadata": {},
   "outputs": [
    {
     "name": "stdout",
     "output_type": "stream",
     "text": [
      "Calculating error\n"
     ]
    }
   ],
   "source": [
    "print(\"Calculating error\")\n",
    "y_test = scaler.descale(pd.DataFrame(y_scaled_test_flat, columns=variables))\n",
    "y_pred = scaler.descale(pd.DataFrame(y_scaled_pred_flat, columns=variables))"
   ]
  },
  {
   "cell_type": "code",
   "execution_count": 21,
   "metadata": {},
   "outputs": [
    {
     "data": {
      "text/html": [
       "<div>\n",
       "<style scoped>\n",
       "    .dataframe tbody tr th:only-of-type {\n",
       "        vertical-align: middle;\n",
       "    }\n",
       "\n",
       "    .dataframe tbody tr th {\n",
       "        vertical-align: top;\n",
       "    }\n",
       "\n",
       "    .dataframe thead th {\n",
       "        text-align: right;\n",
       "    }\n",
       "</style>\n",
       "<table border=\"1\" class=\"dataframe\">\n",
       "  <thead>\n",
       "    <tr style=\"text-align: right;\">\n",
       "      <th></th>\n",
       "      <th>C6H6(GT)</th>\n",
       "      <th>NOx(GT)</th>\n",
       "      <th>NO2(GT)</th>\n",
       "      <th>T</th>\n",
       "      <th>RH</th>\n",
       "      <th>AH</th>\n",
       "    </tr>\n",
       "  </thead>\n",
       "  <tbody>\n",
       "    <tr>\n",
       "      <th>0</th>\n",
       "      <td>1.0</td>\n",
       "      <td>94.0</td>\n",
       "      <td>79.0</td>\n",
       "      <td>2.6</td>\n",
       "      <td>58.6</td>\n",
       "      <td>0.4385</td>\n",
       "    </tr>\n",
       "    <tr>\n",
       "      <th>1</th>\n",
       "      <td>1.6</td>\n",
       "      <td>121.0</td>\n",
       "      <td>90.0</td>\n",
       "      <td>3.2</td>\n",
       "      <td>56.0</td>\n",
       "      <td>0.4364</td>\n",
       "    </tr>\n",
       "    <tr>\n",
       "      <th>2</th>\n",
       "      <td>3.2</td>\n",
       "      <td>131.0</td>\n",
       "      <td>95.0</td>\n",
       "      <td>3.6</td>\n",
       "      <td>55.4</td>\n",
       "      <td>0.4419</td>\n",
       "    </tr>\n",
       "    <tr>\n",
       "      <th>3</th>\n",
       "      <td>15.9</td>\n",
       "      <td>552.0</td>\n",
       "      <td>169.0</td>\n",
       "      <td>1.8</td>\n",
       "      <td>63.3</td>\n",
       "      <td>0.4464</td>\n",
       "    </tr>\n",
       "    <tr>\n",
       "      <th>4</th>\n",
       "      <td>18.0</td>\n",
       "      <td>614.0</td>\n",
       "      <td>199.0</td>\n",
       "      <td>2.4</td>\n",
       "      <td>60.2</td>\n",
       "      <td>0.4426</td>\n",
       "    </tr>\n",
       "    <tr>\n",
       "      <th>...</th>\n",
       "      <td>...</td>\n",
       "      <td>...</td>\n",
       "      <td>...</td>\n",
       "      <td>...</td>\n",
       "      <td>...</td>\n",
       "      <td>...</td>\n",
       "    </tr>\n",
       "    <tr>\n",
       "      <th>12959</th>\n",
       "      <td>13.5</td>\n",
       "      <td>472.0</td>\n",
       "      <td>190.0</td>\n",
       "      <td>21.9</td>\n",
       "      <td>29.3</td>\n",
       "      <td>0.7568</td>\n",
       "    </tr>\n",
       "    <tr>\n",
       "      <th>12960</th>\n",
       "      <td>11.4</td>\n",
       "      <td>353.0</td>\n",
       "      <td>179.0</td>\n",
       "      <td>24.3</td>\n",
       "      <td>23.7</td>\n",
       "      <td>0.7119</td>\n",
       "    </tr>\n",
       "    <tr>\n",
       "      <th>12961</th>\n",
       "      <td>12.4</td>\n",
       "      <td>293.0</td>\n",
       "      <td>175.0</td>\n",
       "      <td>26.9</td>\n",
       "      <td>18.3</td>\n",
       "      <td>0.6406</td>\n",
       "    </tr>\n",
       "    <tr>\n",
       "      <th>12962</th>\n",
       "      <td>9.5</td>\n",
       "      <td>235.0</td>\n",
       "      <td>156.0</td>\n",
       "      <td>28.3</td>\n",
       "      <td>13.5</td>\n",
       "      <td>0.5139</td>\n",
       "    </tr>\n",
       "    <tr>\n",
       "      <th>12963</th>\n",
       "      <td>11.9</td>\n",
       "      <td>265.0</td>\n",
       "      <td>168.0</td>\n",
       "      <td>28.5</td>\n",
       "      <td>13.1</td>\n",
       "      <td>0.5028</td>\n",
       "    </tr>\n",
       "  </tbody>\n",
       "</table>\n",
       "<p>12964 rows × 6 columns</p>\n",
       "</div>"
      ],
      "text/plain": [
       "       C6H6(GT)  NOx(GT)  NO2(GT)     T    RH      AH\n",
       "0           1.0     94.0     79.0   2.6  58.6  0.4385\n",
       "1           1.6    121.0     90.0   3.2  56.0  0.4364\n",
       "2           3.2    131.0     95.0   3.6  55.4  0.4419\n",
       "3          15.9    552.0    169.0   1.8  63.3  0.4464\n",
       "4          18.0    614.0    199.0   2.4  60.2  0.4426\n",
       "...         ...      ...      ...   ...   ...     ...\n",
       "12959      13.5    472.0    190.0  21.9  29.3  0.7568\n",
       "12960      11.4    353.0    179.0  24.3  23.7  0.7119\n",
       "12961      12.4    293.0    175.0  26.9  18.3  0.6406\n",
       "12962       9.5    235.0    156.0  28.3  13.5  0.5139\n",
       "12963      11.9    265.0    168.0  28.5  13.1  0.5028\n",
       "\n",
       "[12964 rows x 6 columns]"
      ]
     },
     "execution_count": 21,
     "metadata": {},
     "output_type": "execute_result"
    }
   ],
   "source": [
    "y_test"
   ]
  },
  {
   "cell_type": "code",
   "execution_count": 22,
   "metadata": {},
   "outputs": [
    {
     "data": {
      "text/html": [
       "<div>\n",
       "<style scoped>\n",
       "    .dataframe tbody tr th:only-of-type {\n",
       "        vertical-align: middle;\n",
       "    }\n",
       "\n",
       "    .dataframe tbody tr th {\n",
       "        vertical-align: top;\n",
       "    }\n",
       "\n",
       "    .dataframe thead th {\n",
       "        text-align: right;\n",
       "    }\n",
       "</style>\n",
       "<table border=\"1\" class=\"dataframe\">\n",
       "  <thead>\n",
       "    <tr style=\"text-align: right;\">\n",
       "      <th></th>\n",
       "      <th>C6H6(GT)</th>\n",
       "      <th>NOx(GT)</th>\n",
       "      <th>NO2(GT)</th>\n",
       "      <th>T</th>\n",
       "      <th>RH</th>\n",
       "      <th>AH</th>\n",
       "    </tr>\n",
       "  </thead>\n",
       "  <tbody>\n",
       "    <tr>\n",
       "      <th>0</th>\n",
       "      <td>-2.185689</td>\n",
       "      <td>157.448380</td>\n",
       "      <td>81.987686</td>\n",
       "      <td>1.657487</td>\n",
       "      <td>58.562260</td>\n",
       "      <td>0.378077</td>\n",
       "    </tr>\n",
       "    <tr>\n",
       "      <th>1</th>\n",
       "      <td>2.547493</td>\n",
       "      <td>246.690628</td>\n",
       "      <td>104.547203</td>\n",
       "      <td>2.228037</td>\n",
       "      <td>57.547852</td>\n",
       "      <td>0.379112</td>\n",
       "    </tr>\n",
       "    <tr>\n",
       "      <th>2</th>\n",
       "      <td>8.190222</td>\n",
       "      <td>369.118744</td>\n",
       "      <td>128.620483</td>\n",
       "      <td>3.370111</td>\n",
       "      <td>55.463894</td>\n",
       "      <td>0.385256</td>\n",
       "    </tr>\n",
       "    <tr>\n",
       "      <th>3</th>\n",
       "      <td>13.002934</td>\n",
       "      <td>465.940002</td>\n",
       "      <td>149.018234</td>\n",
       "      <td>4.650496</td>\n",
       "      <td>52.119324</td>\n",
       "      <td>0.404378</td>\n",
       "    </tr>\n",
       "    <tr>\n",
       "      <th>4</th>\n",
       "      <td>15.624730</td>\n",
       "      <td>503.437195</td>\n",
       "      <td>159.663971</td>\n",
       "      <td>6.210490</td>\n",
       "      <td>47.828659</td>\n",
       "      <td>0.426667</td>\n",
       "    </tr>\n",
       "    <tr>\n",
       "      <th>...</th>\n",
       "      <td>...</td>\n",
       "      <td>...</td>\n",
       "      <td>...</td>\n",
       "      <td>...</td>\n",
       "      <td>...</td>\n",
       "      <td>...</td>\n",
       "    </tr>\n",
       "    <tr>\n",
       "      <th>12959</th>\n",
       "      <td>13.256338</td>\n",
       "      <td>577.499756</td>\n",
       "      <td>177.529587</td>\n",
       "      <td>13.039806</td>\n",
       "      <td>50.150066</td>\n",
       "      <td>0.736171</td>\n",
       "    </tr>\n",
       "    <tr>\n",
       "      <th>12960</th>\n",
       "      <td>10.961380</td>\n",
       "      <td>497.625671</td>\n",
       "      <td>172.765152</td>\n",
       "      <td>13.721872</td>\n",
       "      <td>48.017483</td>\n",
       "      <td>0.725088</td>\n",
       "    </tr>\n",
       "    <tr>\n",
       "      <th>12961</th>\n",
       "      <td>11.196149</td>\n",
       "      <td>446.248749</td>\n",
       "      <td>168.048599</td>\n",
       "      <td>14.168832</td>\n",
       "      <td>46.687691</td>\n",
       "      <td>0.725283</td>\n",
       "    </tr>\n",
       "    <tr>\n",
       "      <th>12962</th>\n",
       "      <td>12.135460</td>\n",
       "      <td>434.589386</td>\n",
       "      <td>166.188004</td>\n",
       "      <td>14.286643</td>\n",
       "      <td>46.917427</td>\n",
       "      <td>0.726800</td>\n",
       "    </tr>\n",
       "    <tr>\n",
       "      <th>12963</th>\n",
       "      <td>12.746360</td>\n",
       "      <td>445.080780</td>\n",
       "      <td>166.332840</td>\n",
       "      <td>14.270942</td>\n",
       "      <td>47.589245</td>\n",
       "      <td>0.732965</td>\n",
       "    </tr>\n",
       "  </tbody>\n",
       "</table>\n",
       "<p>12964 rows × 6 columns</p>\n",
       "</div>"
      ],
      "text/plain": [
       "        C6H6(GT)     NOx(GT)     NO2(GT)          T         RH        AH\n",
       "0      -2.185689  157.448380   81.987686   1.657487  58.562260  0.378077\n",
       "1       2.547493  246.690628  104.547203   2.228037  57.547852  0.379112\n",
       "2       8.190222  369.118744  128.620483   3.370111  55.463894  0.385256\n",
       "3      13.002934  465.940002  149.018234   4.650496  52.119324  0.404378\n",
       "4      15.624730  503.437195  159.663971   6.210490  47.828659  0.426667\n",
       "...          ...         ...         ...        ...        ...       ...\n",
       "12959  13.256338  577.499756  177.529587  13.039806  50.150066  0.736171\n",
       "12960  10.961380  497.625671  172.765152  13.721872  48.017483  0.725088\n",
       "12961  11.196149  446.248749  168.048599  14.168832  46.687691  0.725283\n",
       "12962  12.135460  434.589386  166.188004  14.286643  46.917427  0.726800\n",
       "12963  12.746360  445.080780  166.332840  14.270942  47.589245  0.732965\n",
       "\n",
       "[12964 rows x 6 columns]"
      ]
     },
     "execution_count": 22,
     "metadata": {},
     "output_type": "execute_result"
    }
   ],
   "source": [
    "y_pred"
   ]
  },
  {
   "cell_type": "code",
   "execution_count": 23,
   "metadata": {},
   "outputs": [
    {
     "data": {
      "text/plain": [
       "1852"
      ]
     },
     "execution_count": 23,
     "metadata": {},
     "output_type": "execute_result"
    }
   ],
   "source": [
    "len(X_scaled_test)"
   ]
  },
  {
   "cell_type": "code",
   "execution_count": 24,
   "metadata": {},
   "outputs": [
    {
     "data": {
      "text/plain": [
       "12964"
      ]
     },
     "execution_count": 24,
     "metadata": {},
     "output_type": "execute_result"
    }
   ],
   "source": [
    "len(X_scaled_test) * FORECAST_HORIZON"
   ]
  },
  {
   "cell_type": "code",
   "execution_count": 25,
   "metadata": {},
   "outputs": [
    {
     "name": "stdout",
     "output_type": "stream",
     "text": [
      "Obtained error results: {'Avg_MAPE': 735572565943.2211, 'Avg_MAE': 32.998345925431174, 'Avg_MSE': 6819.226338381778, 'Avg_RMSE': 44.04242264408996, 'Avg_R2': 0.40560638760242645, 'Avg_WAPE': 0.3864814545225475, 'C6H6(GT)_MAPE': 1.2469010335105057, 'C6H6(GT)_MAE': 4.368933224942249, 'C6H6(GT)_MSE': 34.76875543181349, 'C6H6(GT)_RMSE': 5.896503661646746, 'C6H6(GT)_R2': 0.16898178581068024, 'C6H6(GT)_WAPE': 0.5460463650221601, 'NOx(GT)_MAPE': 0.7467531834453196, 'NOx(GT)_MAE': 147.12395541165165, 'NOx(GT)_MSE': 38583.16303004005, 'NOx(GT)_RMSE': 196.42597340993387, 'NOx(GT)_R2': 0.11910252882921102, 'NOx(GT)_WAPE': 0.48845606989086254, 'NO2(GT)_MAPE': 0.29137297811552104, 'NO2(GT)_MAE': 34.78528228068345, 'NO2(GT)_MSE': 2138.9093553972684, 'NO2(GT)_RMSE': 46.24834435303894, 'NO2(GT)_R2': 0.26874799042776576, 'NO2(GT)_WAPE': 0.24375606549768486, 'T_MAPE': 4413435395656.625, 'T_MAE': 2.4420369354117906, 'T_MSE': 11.90236901787607, 'T_RMSE': 3.4499810170312633, 'T_R2': 0.6570268782880198, 'T_WAPE': 0.24385307480357193, 'RH_MAPE': 0.23041576773903877, 'RH_MAE': 9.17191300746038, 'RH_MSE': 146.59865949850447, 'RH_RMSE': 12.10779333728919, 'RH_R2': 0.4619406887608666, 'RH_WAPE': 0.18436766431445586, 'AH_MAPE': 0.18550280045235118, 'AH_MAE': 0.09795469243753199, 'AH_MSE': 0.015860905160884103, 'AH_RMSE': 0.12594008559979664, 'AH_R2': 0.7578384534980156, 'AH_WAPE': 0.15850092837686666}\n"
     ]
    }
   ],
   "source": [
    "error_results = get_error_results(y_test, y_pred, variables)\n",
    "print(f\"Obtained error results: {error_results}\")"
   ]
  },
  {
   "cell_type": "code",
   "execution_count": 26,
   "metadata": {},
   "outputs": [
    {
     "name": "stdout",
     "output_type": "stream",
     "text": [
      "Writing report\n"
     ]
    },
    {
     "data": {
      "text/html": [
       "<pre style=\"white-space:pre;overflow-x:auto;line-height:normal;font-family:Menlo,'DejaVu Sans Mono',consolas,'Courier New',monospace\"></pre>\n"
      ],
      "text/plain": []
     },
     "metadata": {},
     "output_type": "display_data"
    }
   ],
   "source": [
    "print(\"Writing report\")\n",
    "report.update({\n",
    "    'tuner_duration': tuner_duration,\n",
    "    'retrain_duration': retrain_duration,\n",
    "    'total_duration': cut_duration + tuner_duration + retrain_duration,\n",
    "    'error_results': error_results,\n",
    "    'scaled_reduced_train_shape': scaled_reduced_train.shape,\n",
    "    'best_trial_id': best_trial.trial_id,\n",
    "    'best_trial_hyperparameters': best_trial.hyperparameters.values,\n",
    "    'best_trial_score': best_trial.score,\n",
    "    'best_forecaster_model': best_forecaster_model.summary(),\n",
    "})"
   ]
  },
  {
   "cell_type": "code",
   "execution_count": 27,
   "metadata": {},
   "outputs": [
    {
     "data": {
      "text/plain": [
       "{'execution_id': 'validate_pipeline_UCI_AIR_QUALITY_Window_L1_42',\n",
       " 'timestamp': 'validate_pipeline',\n",
       " 'cut_point_model': 'Window',\n",
       " 'cut_point_method': 'L1',\n",
       " 'cut_point_approach': 'Window L1',\n",
       " 'seed': 42,\n",
       " 'forecaster_model': 'LSTM',\n",
       " 'observation_window': 14,\n",
       " 'train_perc': 0.8,\n",
       " 'nb_trials': 15,\n",
       " 'dataset_domain': 'UCI',\n",
       " 'dataset': 'AIR_QUALITY',\n",
       " 'variables': ['C6H6(GT)', 'NOx(GT)', 'NO2(GT)', 'T', 'RH', 'AH'],\n",
       " 'dataset_shape': (9357, 7),\n",
       " 'train_shape': (7485, 7),\n",
       " 'test_shape': (1872, 7),\n",
       " 'cut_duration': 0.10567998886108398,\n",
       " 'cut_point': '5385',\n",
       " 'cut_point_perc': 71.9438877755511,\n",
       " 'tuner_duration': 670.1102960109711,\n",
       " 'retrain_duration': 60.539170026779175,\n",
       " 'total_duration': 730.7551460266113,\n",
       " 'error_results': {'Avg_MAPE': 735572565943.2211,\n",
       "  'Avg_MAE': 32.998345925431174,\n",
       "  'Avg_MSE': 6819.226338381778,\n",
       "  'Avg_RMSE': 44.04242264408996,\n",
       "  'Avg_R2': 0.40560638760242645,\n",
       "  'Avg_WAPE': 0.3864814545225475,\n",
       "  'C6H6(GT)_MAPE': 1.2469010335105057,\n",
       "  'C6H6(GT)_MAE': 4.368933224942249,\n",
       "  'C6H6(GT)_MSE': 34.76875543181349,\n",
       "  'C6H6(GT)_RMSE': 5.896503661646746,\n",
       "  'C6H6(GT)_R2': 0.16898178581068024,\n",
       "  'C6H6(GT)_WAPE': 0.5460463650221601,\n",
       "  'NOx(GT)_MAPE': 0.7467531834453196,\n",
       "  'NOx(GT)_MAE': 147.12395541165165,\n",
       "  'NOx(GT)_MSE': 38583.16303004005,\n",
       "  'NOx(GT)_RMSE': 196.42597340993387,\n",
       "  'NOx(GT)_R2': 0.11910252882921102,\n",
       "  'NOx(GT)_WAPE': 0.48845606989086254,\n",
       "  'NO2(GT)_MAPE': 0.29137297811552104,\n",
       "  'NO2(GT)_MAE': 34.78528228068345,\n",
       "  'NO2(GT)_MSE': 2138.9093553972684,\n",
       "  'NO2(GT)_RMSE': 46.24834435303894,\n",
       "  'NO2(GT)_R2': 0.26874799042776576,\n",
       "  'NO2(GT)_WAPE': 0.24375606549768486,\n",
       "  'T_MAPE': 4413435395656.625,\n",
       "  'T_MAE': 2.4420369354117906,\n",
       "  'T_MSE': 11.90236901787607,\n",
       "  'T_RMSE': 3.4499810170312633,\n",
       "  'T_R2': 0.6570268782880198,\n",
       "  'T_WAPE': 0.24385307480357193,\n",
       "  'RH_MAPE': 0.23041576773903877,\n",
       "  'RH_MAE': 9.17191300746038,\n",
       "  'RH_MSE': 146.59865949850447,\n",
       "  'RH_RMSE': 12.10779333728919,\n",
       "  'RH_R2': 0.4619406887608666,\n",
       "  'RH_WAPE': 0.18436766431445586,\n",
       "  'AH_MAPE': 0.18550280045235118,\n",
       "  'AH_MAE': 0.09795469243753199,\n",
       "  'AH_MSE': 0.015860905160884103,\n",
       "  'AH_RMSE': 0.12594008559979664,\n",
       "  'AH_R2': 0.7578384534980156,\n",
       "  'AH_WAPE': 0.15850092837686666},\n",
       " 'scaled_reduced_train_shape': (2100, 7),\n",
       " 'best_trial_id': '06',\n",
       " 'best_trial_hyperparameters': {'num_layers': 1,\n",
       "  'units_0': 128,\n",
       "  'learning_rate': 0.01,\n",
       "  'units_1': 64,\n",
       "  'units_2': 32,\n",
       "  'units_3': 32,\n",
       "  'batch_size': 16,\n",
       "  'epochs': 225},\n",
       " 'best_trial_score': 0.00867647328414023,\n",
       " 'best_forecaster_model': 'Model: \"sequential\"\\n┏━━━━━━━━━━━━━━━━━━━━━━━━━━━━━━━━━┳━━━━━━━━━━━━━━━━━━━━━━━━┳━━━━━━━━━━━━━━━┓\\n┃ Layer (type)                    ┃ Output Shape           ┃       Param # ┃\\n┡━━━━━━━━━━━━━━━━━━━━━━━━━━━━━━━━━╇━━━━━━━━━━━━━━━━━━━━━━━━╇━━━━━━━━━━━━━━━┩\\n│ lstm (LSTM)                     │ (None, 128)            │        69,120 │\\n├─────────────────────────────────┼────────────────────────┼───────────────┤\\n│ dense (Dense)                   │ (None, 42)             │         5,418 │\\n├─────────────────────────────────┼────────────────────────┼───────────────┤\\n│ reshape (Reshape)               │ (None, 7, 6)           │             0 │\\n└─────────────────────────────────┴────────────────────────┴───────────────┘\\n Total params: 223,616 (873.50 KB)\\n Trainable params: 74,538 (291.16 KB)\\n Non-trainable params: 0 (0.00 B)\\n Optimizer params: 149,078 (582.34 KB)\\n\\n'}"
      ]
     },
     "execution_count": 27,
     "metadata": {},
     "output_type": "execute_result"
    }
   ],
   "source": [
    "report"
   ]
  },
  {
   "cell_type": "markdown",
   "metadata": {},
   "source": [
    "## 2. What would be the error if we predicted the average values for all variables (Dummy Forecaster)?"
   ]
  },
  {
   "cell_type": "code",
   "execution_count": 28,
   "metadata": {},
   "outputs": [],
   "source": [
    "X_train, y_train = split_X_y(train)\n",
    "X_test, y_test = split_X_y(test)"
   ]
  },
  {
   "cell_type": "code",
   "execution_count": 29,
   "metadata": {},
   "outputs": [],
   "source": [
    "train_targets_flat = pd.DataFrame(y_train.reshape(-1, len(variables)), columns=variables)\n",
    "avg_values = train_targets_flat.mean(axis=0).to_numpy()"
   ]
  },
  {
   "cell_type": "code",
   "execution_count": 30,
   "metadata": {},
   "outputs": [],
   "source": [
    "n_test = y_test.shape[0]\n",
    "dummy_pred = np.tile(avg_values, (n_test, FORECAST_HORIZON, 1))\n",
    "\n",
    "dummy_pred_flat = dummy_pred.reshape(-1, len(variables))\n",
    "y_test_flat = pd.DataFrame(y_test.reshape(-1, len(variables)), columns=variables)"
   ]
  },
  {
   "cell_type": "code",
   "execution_count": 31,
   "metadata": {},
   "outputs": [
    {
     "name": "stdout",
     "output_type": "stream",
     "text": [
      "Error metrics for Dummy Forecaster (predicting average values): \n",
      "{'Avg_MAPE': 8234635315137.34, 'Avg_MAE': 39.570501101478705, 'Avg_MSE': 9050.097810196155, 'Avg_RMSE': 54.308177300060635, 'Avg_R2': -1.304216974693167, 'Avg_WAPE': 0.4634554973283866, 'C6H6(GT)_MAPE': 2.4158267445655204, 'C6H6(GT)_MAE': 5.998942145850846, 'C6H6(GT)_MSE': 49.37824329877635, 'C6H6(GT)_RMSE': 7.026965440271949, 'C6H6(GT)_R2': -0.18020386569282976, 'C6H6(GT)_WAPE': 0.7497712562918357, 'NOx(GT)_MAPE': 0.69058204879659, 'NOx(GT)_MAE': 152.8286100552228, 'NOx(GT)_MSE': 49209.25736669915, 'NOx(GT)_RMSE': 221.8315968627985, 'NOx(GT)_R2': -0.12350328403007538, 'NOx(GT)_WAPE': 0.5073956992631623, 'NO2(GT)_MAPE': 0.38503788600654404, 'NO2(GT)_MAE': 53.84588657162112, 'NO2(GT)_MSE': 4627.602712434949, 'NO2(GT)_RMSE': 68.02648537470498, 'NO2(GT)_R2': -0.5820884482229336, 'NO2(GT)_WAPE': 0.3773222637098321, 'T_MAPE': 49407811890819.55, 'T_MAE': 10.715515800495881, 'T_MSE': 141.10016475956155, 'T_RMSE': 11.878559035487493, 'T_R2': -3.0658766258195884, 'T_WAPE': 1.0700130854558751, 'RH_MAPE': 0.333980216041891, 'RH_MAE': 13.518515850140027, 'RH_MSE': 272.92927810066453, 'RH_RMSE': 16.52057136120493, 'RH_R2': -0.0017290737459678684, 'RH_WAPE': 0.271740169173103, 'AH_MAPE': 1.1511400610905032, 'AH_MAE': 0.5155361855304126, 'AH_MSE': 0.31909588331954963, 'AH_RMSE': 0.5648857258946712, 'AH_R2': -3.871900550647492, 'AH_WAPE': 0.8341914203911082}\n"
     ]
    }
   ],
   "source": [
    "dummy_error_results = get_error_results(y_test_flat, dummy_pred_flat, variables)\n",
    "print(f\"Error metrics for Dummy Forecaster (predicting average values): \\n{dummy_error_results}\")"
   ]
  },
  {
   "cell_type": "code",
   "execution_count": 32,
   "metadata": {},
   "outputs": [
    {
     "data": {
      "text/html": [
       "<div>\n",
       "<style scoped>\n",
       "    .dataframe tbody tr th:only-of-type {\n",
       "        vertical-align: middle;\n",
       "    }\n",
       "\n",
       "    .dataframe tbody tr th {\n",
       "        vertical-align: top;\n",
       "    }\n",
       "\n",
       "    .dataframe thead th {\n",
       "        text-align: right;\n",
       "    }\n",
       "</style>\n",
       "<table border=\"1\" class=\"dataframe\">\n",
       "  <thead>\n",
       "    <tr style=\"text-align: right;\">\n",
       "      <th></th>\n",
       "      <th>Trained Model</th>\n",
       "      <th>Dummy Forecaster</th>\n",
       "    </tr>\n",
       "  </thead>\n",
       "  <tbody>\n",
       "    <tr>\n",
       "      <th>Avg_MAPE</th>\n",
       "      <td>7.355726e+11</td>\n",
       "      <td>8.234635e+12</td>\n",
       "    </tr>\n",
       "    <tr>\n",
       "      <th>Avg_MAE</th>\n",
       "      <td>3.299835e+01</td>\n",
       "      <td>3.957050e+01</td>\n",
       "    </tr>\n",
       "    <tr>\n",
       "      <th>Avg_MSE</th>\n",
       "      <td>6.819226e+03</td>\n",
       "      <td>9.050098e+03</td>\n",
       "    </tr>\n",
       "    <tr>\n",
       "      <th>Avg_RMSE</th>\n",
       "      <td>4.404242e+01</td>\n",
       "      <td>5.430818e+01</td>\n",
       "    </tr>\n",
       "    <tr>\n",
       "      <th>Avg_R2</th>\n",
       "      <td>4.056100e-01</td>\n",
       "      <td>-1.304220e+00</td>\n",
       "    </tr>\n",
       "    <tr>\n",
       "      <th>Avg_WAPE</th>\n",
       "      <td>3.864800e-01</td>\n",
       "      <td>4.634600e-01</td>\n",
       "    </tr>\n",
       "    <tr>\n",
       "      <th>C6H6(GT)_MAPE</th>\n",
       "      <td>1.246900e+00</td>\n",
       "      <td>2.415830e+00</td>\n",
       "    </tr>\n",
       "    <tr>\n",
       "      <th>C6H6(GT)_MAE</th>\n",
       "      <td>4.368930e+00</td>\n",
       "      <td>5.998940e+00</td>\n",
       "    </tr>\n",
       "    <tr>\n",
       "      <th>C6H6(GT)_MSE</th>\n",
       "      <td>3.476876e+01</td>\n",
       "      <td>4.937824e+01</td>\n",
       "    </tr>\n",
       "    <tr>\n",
       "      <th>C6H6(GT)_RMSE</th>\n",
       "      <td>5.896500e+00</td>\n",
       "      <td>7.026970e+00</td>\n",
       "    </tr>\n",
       "    <tr>\n",
       "      <th>C6H6(GT)_R2</th>\n",
       "      <td>1.689800e-01</td>\n",
       "      <td>-1.802000e-01</td>\n",
       "    </tr>\n",
       "    <tr>\n",
       "      <th>C6H6(GT)_WAPE</th>\n",
       "      <td>5.460500e-01</td>\n",
       "      <td>7.497700e-01</td>\n",
       "    </tr>\n",
       "    <tr>\n",
       "      <th>NOx(GT)_MAPE</th>\n",
       "      <td>7.467500e-01</td>\n",
       "      <td>6.905800e-01</td>\n",
       "    </tr>\n",
       "    <tr>\n",
       "      <th>NOx(GT)_MAE</th>\n",
       "      <td>1.471240e+02</td>\n",
       "      <td>1.528286e+02</td>\n",
       "    </tr>\n",
       "    <tr>\n",
       "      <th>NOx(GT)_MSE</th>\n",
       "      <td>3.858316e+04</td>\n",
       "      <td>4.920926e+04</td>\n",
       "    </tr>\n",
       "    <tr>\n",
       "      <th>NOx(GT)_RMSE</th>\n",
       "      <td>1.964260e+02</td>\n",
       "      <td>2.218316e+02</td>\n",
       "    </tr>\n",
       "    <tr>\n",
       "      <th>NOx(GT)_R2</th>\n",
       "      <td>1.191000e-01</td>\n",
       "      <td>-1.235000e-01</td>\n",
       "    </tr>\n",
       "    <tr>\n",
       "      <th>NOx(GT)_WAPE</th>\n",
       "      <td>4.884600e-01</td>\n",
       "      <td>5.074000e-01</td>\n",
       "    </tr>\n",
       "    <tr>\n",
       "      <th>NO2(GT)_MAPE</th>\n",
       "      <td>2.913700e-01</td>\n",
       "      <td>3.850400e-01</td>\n",
       "    </tr>\n",
       "    <tr>\n",
       "      <th>NO2(GT)_MAE</th>\n",
       "      <td>3.478528e+01</td>\n",
       "      <td>5.384589e+01</td>\n",
       "    </tr>\n",
       "    <tr>\n",
       "      <th>NO2(GT)_MSE</th>\n",
       "      <td>2.138909e+03</td>\n",
       "      <td>4.627603e+03</td>\n",
       "    </tr>\n",
       "    <tr>\n",
       "      <th>NO2(GT)_RMSE</th>\n",
       "      <td>4.624834e+01</td>\n",
       "      <td>6.802649e+01</td>\n",
       "    </tr>\n",
       "    <tr>\n",
       "      <th>NO2(GT)_R2</th>\n",
       "      <td>2.687500e-01</td>\n",
       "      <td>-5.820900e-01</td>\n",
       "    </tr>\n",
       "    <tr>\n",
       "      <th>NO2(GT)_WAPE</th>\n",
       "      <td>2.437600e-01</td>\n",
       "      <td>3.773200e-01</td>\n",
       "    </tr>\n",
       "    <tr>\n",
       "      <th>T_MAPE</th>\n",
       "      <td>4.413435e+12</td>\n",
       "      <td>4.940781e+13</td>\n",
       "    </tr>\n",
       "    <tr>\n",
       "      <th>T_MAE</th>\n",
       "      <td>2.442040e+00</td>\n",
       "      <td>1.071552e+01</td>\n",
       "    </tr>\n",
       "    <tr>\n",
       "      <th>T_MSE</th>\n",
       "      <td>1.190237e+01</td>\n",
       "      <td>1.411002e+02</td>\n",
       "    </tr>\n",
       "    <tr>\n",
       "      <th>T_RMSE</th>\n",
       "      <td>3.449980e+00</td>\n",
       "      <td>1.187856e+01</td>\n",
       "    </tr>\n",
       "    <tr>\n",
       "      <th>T_R2</th>\n",
       "      <td>6.570300e-01</td>\n",
       "      <td>-3.065880e+00</td>\n",
       "    </tr>\n",
       "    <tr>\n",
       "      <th>T_WAPE</th>\n",
       "      <td>2.438500e-01</td>\n",
       "      <td>1.070010e+00</td>\n",
       "    </tr>\n",
       "    <tr>\n",
       "      <th>RH_MAPE</th>\n",
       "      <td>2.304200e-01</td>\n",
       "      <td>3.339800e-01</td>\n",
       "    </tr>\n",
       "    <tr>\n",
       "      <th>RH_MAE</th>\n",
       "      <td>9.171910e+00</td>\n",
       "      <td>1.351852e+01</td>\n",
       "    </tr>\n",
       "    <tr>\n",
       "      <th>RH_MSE</th>\n",
       "      <td>1.465987e+02</td>\n",
       "      <td>2.729293e+02</td>\n",
       "    </tr>\n",
       "    <tr>\n",
       "      <th>RH_RMSE</th>\n",
       "      <td>1.210779e+01</td>\n",
       "      <td>1.652057e+01</td>\n",
       "    </tr>\n",
       "    <tr>\n",
       "      <th>RH_R2</th>\n",
       "      <td>4.619400e-01</td>\n",
       "      <td>-1.730000e-03</td>\n",
       "    </tr>\n",
       "    <tr>\n",
       "      <th>RH_WAPE</th>\n",
       "      <td>1.843700e-01</td>\n",
       "      <td>2.717400e-01</td>\n",
       "    </tr>\n",
       "    <tr>\n",
       "      <th>AH_MAPE</th>\n",
       "      <td>1.855000e-01</td>\n",
       "      <td>1.151140e+00</td>\n",
       "    </tr>\n",
       "    <tr>\n",
       "      <th>AH_MAE</th>\n",
       "      <td>9.795000e-02</td>\n",
       "      <td>5.155400e-01</td>\n",
       "    </tr>\n",
       "    <tr>\n",
       "      <th>AH_MSE</th>\n",
       "      <td>1.586000e-02</td>\n",
       "      <td>3.191000e-01</td>\n",
       "    </tr>\n",
       "    <tr>\n",
       "      <th>AH_RMSE</th>\n",
       "      <td>1.259400e-01</td>\n",
       "      <td>5.648900e-01</td>\n",
       "    </tr>\n",
       "    <tr>\n",
       "      <th>AH_R2</th>\n",
       "      <td>7.578400e-01</td>\n",
       "      <td>-3.871900e+00</td>\n",
       "    </tr>\n",
       "    <tr>\n",
       "      <th>AH_WAPE</th>\n",
       "      <td>1.585000e-01</td>\n",
       "      <td>8.341900e-01</td>\n",
       "    </tr>\n",
       "  </tbody>\n",
       "</table>\n",
       "</div>"
      ],
      "text/plain": [
       "               Trained Model  Dummy Forecaster\n",
       "Avg_MAPE        7.355726e+11      8.234635e+12\n",
       "Avg_MAE         3.299835e+01      3.957050e+01\n",
       "Avg_MSE         6.819226e+03      9.050098e+03\n",
       "Avg_RMSE        4.404242e+01      5.430818e+01\n",
       "Avg_R2          4.056100e-01     -1.304220e+00\n",
       "Avg_WAPE        3.864800e-01      4.634600e-01\n",
       "C6H6(GT)_MAPE   1.246900e+00      2.415830e+00\n",
       "C6H6(GT)_MAE    4.368930e+00      5.998940e+00\n",
       "C6H6(GT)_MSE    3.476876e+01      4.937824e+01\n",
       "C6H6(GT)_RMSE   5.896500e+00      7.026970e+00\n",
       "C6H6(GT)_R2     1.689800e-01     -1.802000e-01\n",
       "C6H6(GT)_WAPE   5.460500e-01      7.497700e-01\n",
       "NOx(GT)_MAPE    7.467500e-01      6.905800e-01\n",
       "NOx(GT)_MAE     1.471240e+02      1.528286e+02\n",
       "NOx(GT)_MSE     3.858316e+04      4.920926e+04\n",
       "NOx(GT)_RMSE    1.964260e+02      2.218316e+02\n",
       "NOx(GT)_R2      1.191000e-01     -1.235000e-01\n",
       "NOx(GT)_WAPE    4.884600e-01      5.074000e-01\n",
       "NO2(GT)_MAPE    2.913700e-01      3.850400e-01\n",
       "NO2(GT)_MAE     3.478528e+01      5.384589e+01\n",
       "NO2(GT)_MSE     2.138909e+03      4.627603e+03\n",
       "NO2(GT)_RMSE    4.624834e+01      6.802649e+01\n",
       "NO2(GT)_R2      2.687500e-01     -5.820900e-01\n",
       "NO2(GT)_WAPE    2.437600e-01      3.773200e-01\n",
       "T_MAPE          4.413435e+12      4.940781e+13\n",
       "T_MAE           2.442040e+00      1.071552e+01\n",
       "T_MSE           1.190237e+01      1.411002e+02\n",
       "T_RMSE          3.449980e+00      1.187856e+01\n",
       "T_R2            6.570300e-01     -3.065880e+00\n",
       "T_WAPE          2.438500e-01      1.070010e+00\n",
       "RH_MAPE         2.304200e-01      3.339800e-01\n",
       "RH_MAE          9.171910e+00      1.351852e+01\n",
       "RH_MSE          1.465987e+02      2.729293e+02\n",
       "RH_RMSE         1.210779e+01      1.652057e+01\n",
       "RH_R2           4.619400e-01     -1.730000e-03\n",
       "RH_WAPE         1.843700e-01      2.717400e-01\n",
       "AH_MAPE         1.855000e-01      1.151140e+00\n",
       "AH_MAE          9.795000e-02      5.155400e-01\n",
       "AH_MSE          1.586000e-02      3.191000e-01\n",
       "AH_RMSE         1.259400e-01      5.648900e-01\n",
       "AH_R2           7.578400e-01     -3.871900e+00\n",
       "AH_WAPE         1.585000e-01      8.341900e-01"
      ]
     },
     "execution_count": 32,
     "metadata": {},
     "output_type": "execute_result"
    }
   ],
   "source": [
    "df_comparison = pd.DataFrame({\n",
    "    \"Trained Model\": pd.Series(error_results),\n",
    "    \"Dummy Forecaster\": pd.Series(dummy_error_results)\n",
    "})\n",
    "\n",
    "df_comparison = df_comparison.round(5)\n",
    "df_comparison"
   ]
  },
  {
   "cell_type": "code",
   "execution_count": null,
   "metadata": {},
   "outputs": [],
   "source": []
  }
 ],
 "metadata": {
  "kernelspec": {
   "display_name": "env",
   "language": "python",
   "name": "python3"
  },
  "language_info": {
   "codemirror_mode": {
    "name": "ipython",
    "version": 3
   },
   "file_extension": ".py",
   "mimetype": "text/x-python",
   "name": "python",
   "nbconvert_exporter": "python",
   "pygments_lexer": "ipython3",
   "version": "3.9.6"
  }
 },
 "nbformat": 4,
 "nbformat_minor": 2
}
