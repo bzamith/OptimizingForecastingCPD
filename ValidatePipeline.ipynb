{
 "cells": [
  {
   "cell_type": "markdown",
   "metadata": {},
   "source": [
    "## 1. Execute full pipeline"
   ]
  },
  {
   "cell_type": "code",
   "execution_count": 1,
   "metadata": {},
   "outputs": [],
   "source": [
    "import random\n",
    "import time\n",
    "\n",
    "from keras_tuner import RandomSearch\n",
    "\n",
    "import numpy as np\n",
    "\n",
    "import pandas as pd\n",
    "\n",
    "import tensorflow as tf\n",
    "\n",
    "from config.constants import (\n",
    "    FORECAST_HORIZON, FORECASTER_MODEL, FORECASTER_OBJECTIVE,\n",
    "    NB_TRIALS, OBSERVATION_WINDOW, SEED, TRAIN_PERC\n",
    ")\n",
    "\n",
    "from src.cut_point_detector import CutPointMethod, CutPointModel, get_cut_point_detector\n",
    "from src.dataset import read_dataset, split_X_y, split_train_test\n",
    "from src.forecaster import InternalForecaster, TimeSeriesHyperModel\n",
    "from src.scaler import Scaler\n",
    "from src.utils import get_error_results\n",
    "\n",
    "tf.get_logger().setLevel('ERROR')\n",
    "tf.keras.mixed_precision.set_global_policy(\"mixed_float16\")\n",
    "\n",
    "np.random.seed(SEED)\n",
    "random.seed(SEED)\n",
    "tf.random.set_seed(SEED)\n"
   ]
  },
  {
   "cell_type": "code",
   "execution_count": 2,
   "metadata": {},
   "outputs": [],
   "source": [
    "timestamp = 'validate_pipeline'\n",
    "dataset_domain_argv = 'INMET'\n",
    "dataset_argv = 'VITORIA_ES'\n",
    "cut_point_model_argv = 'Window'\n",
    "cut_point_method_argv = 'Linear'"
   ]
  },
  {
   "cell_type": "code",
   "execution_count": 3,
   "metadata": {},
   "outputs": [],
   "source": [
    "execution_id = f\"{timestamp}_{dataset_domain_argv}_{dataset_argv}_{cut_point_model_argv}_{cut_point_method_argv}_{SEED}\""
   ]
  },
  {
   "cell_type": "code",
   "execution_count": 4,
   "metadata": {},
   "outputs": [
    {
     "name": "stdout",
     "output_type": "stream",
     "text": [
      "Extracting cut point model enum (Window)\n",
      "Extracting cut point model enum (Linear)\n",
      "Reading dataset VITORIA_ES from INMET\n",
      "Variables: ['P', 'PrA', 'T', 'UR', 'VV']\n"
     ]
    }
   ],
   "source": [
    "print(f\"Extracting cut point model enum ({cut_point_model_argv})\")\n",
    "cut_point_model = CutPointModel.from_str(cut_point_model_argv)\n",
    "\n",
    "print(f\"Extracting cut point model enum ({cut_point_method_argv})\")\n",
    "cut_point_method = CutPointMethod.from_str(cut_point_method_argv)\n",
    "\n",
    "print(f\"Reading dataset {dataset_argv} from {dataset_domain_argv}\")\n",
    "df, variables = read_dataset(dataset_domain_argv, dataset_argv)\n",
    "print(f\"Variables: {variables}\")"
   ]
  },
  {
   "cell_type": "code",
   "execution_count": 5,
   "metadata": {},
   "outputs": [
    {
     "name": "stdout",
     "output_type": "stream",
     "text": [
      "Splitting data into train and test\n",
      "Initializing report\n"
     ]
    },
    {
     "data": {
      "text/plain": [
       "{'execution_id': 'validate_pipeline_INMET_VITORIA_ES_Window_Linear_42',\n",
       " 'timestamp': 'validate_pipeline',\n",
       " 'cut_point_model': 'Window',\n",
       " 'cut_point_method': 'Linear',\n",
       " 'cut_point_approach': 'Window Linear',\n",
       " 'seed': 42,\n",
       " 'forecaster_model': 'LSTM',\n",
       " 'forecaster_objective': 'val_loss',\n",
       " 'observation_window': 14,\n",
       " 'train_perc': 0.8,\n",
       " 'nb_trials': 15,\n",
       " 'dataset_domain': 'INMET',\n",
       " 'dataset': 'VITORIA_ES',\n",
       " 'variables': ['P', 'PrA', 'T', 'UR', 'VV'],\n",
       " 'dataset_shape': (6575, 6),\n",
       " 'train_shape': (5260, 6),\n",
       " 'test_shape': (1315, 6)}"
      ]
     },
     "execution_count": 5,
     "metadata": {},
     "output_type": "execute_result"
    }
   ],
   "source": [
    "print(\"Splitting data into train and test\")\n",
    "train, test = split_train_test(df)\n",
    "\n",
    "print(\"Initializing report\")\n",
    "cut_point_approach = f\"{cut_point_model.value.title()} {cut_point_method.value.title()}\"\n",
    "report = {\n",
    "    'execution_id': execution_id,\n",
    "    'timestamp': timestamp,\n",
    "    'cut_point_model': cut_point_model.value,\n",
    "    'cut_point_method': cut_point_method.value,\n",
    "    'cut_point_approach': cut_point_approach,\n",
    "    'seed': SEED,\n",
    "    'forecaster_model': FORECASTER_MODEL,\n",
    "    'forecaster_objective': FORECASTER_OBJECTIVE,\n",
    "    'observation_window': OBSERVATION_WINDOW,\n",
    "    'train_perc': TRAIN_PERC,\n",
    "    'nb_trials': NB_TRIALS,\n",
    "    'dataset_domain': dataset_domain_argv,\n",
    "    'dataset': dataset_argv,\n",
    "    'variables': variables,\n",
    "    'dataset_shape': df.shape,\n",
    "    'train_shape': train.shape,\n",
    "    'test_shape': test.shape,\n",
    "}\n",
    "report"
   ]
  },
  {
   "cell_type": "code",
   "execution_count": 6,
   "metadata": {},
   "outputs": [
    {
     "name": "stdout",
     "output_type": "stream",
     "text": [
      "Started cut point for Window Linear\n",
      "Cut point: 2290, Cut point percentage: 43.536121673003805\n",
      "Finished cut point for Window Linear, duration: 0.036301612854003906\n"
     ]
    },
    {
     "data": {
      "text/plain": [
       "{'execution_id': 'validate_pipeline_INMET_VITORIA_ES_Window_Linear_42',\n",
       " 'timestamp': 'validate_pipeline',\n",
       " 'cut_point_model': 'Window',\n",
       " 'cut_point_method': 'Linear',\n",
       " 'cut_point_approach': 'Window Linear',\n",
       " 'seed': 42,\n",
       " 'forecaster_model': 'LSTM',\n",
       " 'forecaster_objective': 'val_loss',\n",
       " 'observation_window': 14,\n",
       " 'train_perc': 0.8,\n",
       " 'nb_trials': 15,\n",
       " 'dataset_domain': 'INMET',\n",
       " 'dataset': 'VITORIA_ES',\n",
       " 'variables': ['P', 'PrA', 'T', 'UR', 'VV'],\n",
       " 'dataset_shape': (6575, 6),\n",
       " 'train_shape': (5260, 6),\n",
       " 'test_shape': (1315, 6),\n",
       " 'cut_duration': 0.036301612854003906,\n",
       " 'cut_point': '2290',\n",
       " 'cut_point_perc': '43.536121673003805'}"
      ]
     },
     "execution_count": 6,
     "metadata": {},
     "output_type": "execute_result"
    }
   ],
   "source": [
    "print(f\"Started cut point for {cut_point_approach}\")\n",
    "start_time = time.time()\n",
    "cut_point_detector = get_cut_point_detector(cut_point_model, cut_point_method)\n",
    "cut_point, cut_point_perc = cut_point_detector.find_cut_point(train, variables)\n",
    "end_time = time.time()\n",
    "cut_duration = end_time - start_time\n",
    "print(f\"Cut point: {cut_point}, Cut point percentage: {cut_point_perc}\")\n",
    "print(f\"Finished cut point for {cut_point_approach}, duration: {cut_duration}\")\n",
    "\n",
    "report.update({\n",
    "    'cut_duration': cut_duration,\n",
    "    'cut_point': str(cut_point),\n",
    "    'cut_point_perc': str(cut_point_perc)\n",
    "})\n",
    "report"
   ]
  },
  {
   "cell_type": "code",
   "execution_count": 7,
   "metadata": {},
   "outputs": [
    {
     "name": "stdout",
     "output_type": "stream",
     "text": [
      "Applying subset to train based on cut point\n",
      "Training and applying scaler\n"
     ]
    }
   ],
   "source": [
    "print(\"Applying subset to train based on cut point\")\n",
    "reduced_train = cut_point_detector.apply_cut_point(train, cut_point)\n",
    "\n",
    "print(\"Training and applying scaler\")\n",
    "scaler = Scaler(variables)\n",
    "scaled_reduced_train = scaler.fit_scale(reduced_train)\n",
    "scaled_test = scaler.scale(test)"
   ]
  },
  {
   "cell_type": "code",
   "execution_count": 8,
   "metadata": {},
   "outputs": [
    {
     "name": "stdout",
     "output_type": "stream",
     "text": [
      "Splitting into X and y\n"
     ]
    }
   ],
   "source": [
    "print(\"Splitting into X and y\")\n",
    "X_reduced_scaled_train, y_reduced_scaled_train = split_X_y(scaled_reduced_train)\n",
    "X_scaled_test, y_scaled_test = split_X_y(scaled_test)"
   ]
  },
  {
   "cell_type": "code",
   "execution_count": 9,
   "metadata": {},
   "outputs": [
    {
     "data": {
      "text/plain": [
       "array([[0.02030948, 0.6347973 , 0.36263097, 0.5342772 , 0.39617486],\n",
       "       [0.02030948, 0.61959459, 0.3806752 , 0.53502235, 0.28961749],\n",
       "       [0.01547389, 0.60962838, 0.34284051, 0.59687034, 0.26502732],\n",
       "       [0.        , 0.57601351, 0.27793946, 0.67213115, 0.24453552],\n",
       "       [0.        , 0.49425676, 0.36699651, 0.65052161, 0.28551913],\n",
       "       [0.00096712, 0.50608108, 0.36874272, 0.56631893, 0.31147541],\n",
       "       [0.00870406, 0.49087838, 0.40570431, 0.65350224, 0.25      ]])"
      ]
     },
     "execution_count": 9,
     "metadata": {},
     "output_type": "execute_result"
    }
   ],
   "source": [
    "y_reduced_scaled_train[0]"
   ]
  },
  {
   "cell_type": "code",
   "execution_count": 10,
   "metadata": {},
   "outputs": [
    {
     "data": {
      "text/plain": [
       "array([[0.02030948, 0.61959459, 0.3806752 , 0.53502235, 0.28961749],\n",
       "       [0.01547389, 0.60962838, 0.34284051, 0.59687034, 0.26502732],\n",
       "       [0.        , 0.57601351, 0.27793946, 0.67213115, 0.24453552],\n",
       "       [0.        , 0.49425676, 0.36699651, 0.65052161, 0.28551913],\n",
       "       [0.00096712, 0.50608108, 0.36874272, 0.56631893, 0.31147541],\n",
       "       [0.00870406, 0.49087838, 0.40570431, 0.65350224, 0.25      ],\n",
       "       [0.01160542, 0.44966216, 0.45750873, 0.64307004, 0.33743169]])"
      ]
     },
     "execution_count": 10,
     "metadata": {},
     "output_type": "execute_result"
    }
   ],
   "source": [
    "y_reduced_scaled_train[1]"
   ]
  },
  {
   "cell_type": "code",
   "execution_count": 11,
   "metadata": {},
   "outputs": [
    {
     "data": {
      "text/plain": [
       "array([[0.01547389, 0.60962838, 0.34284051, 0.59687034, 0.26502732],\n",
       "       [0.        , 0.57601351, 0.27793946, 0.67213115, 0.24453552],\n",
       "       [0.        , 0.49425676, 0.36699651, 0.65052161, 0.28551913],\n",
       "       [0.00096712, 0.50608108, 0.36874272, 0.56631893, 0.31147541],\n",
       "       [0.00870406, 0.49087838, 0.40570431, 0.65350224, 0.25      ],\n",
       "       [0.01160542, 0.44966216, 0.45750873, 0.64307004, 0.33743169],\n",
       "       [0.        , 0.45793919, 0.44091967, 0.59985097, 0.23907104]])"
      ]
     },
     "execution_count": 11,
     "metadata": {},
     "output_type": "execute_result"
    }
   ],
   "source": [
    "y_reduced_scaled_train[2]"
   ]
  },
  {
   "cell_type": "code",
   "execution_count": 12,
   "metadata": {},
   "outputs": [
    {
     "name": "stdout",
     "output_type": "stream",
     "text": [
      "Started running HPO and NAS for Window Linear\n"
     ]
    },
    {
     "name": "stderr",
     "output_type": "stream",
     "text": [
      "2025-02-24 21:50:00.925437: I metal_plugin/src/device/metal_device.cc:1154] Metal device set to: Apple M3\n",
      "2025-02-24 21:50:00.925453: I metal_plugin/src/device/metal_device.cc:296] systemMemory: 16.00 GB\n",
      "2025-02-24 21:50:00.925457: I metal_plugin/src/device/metal_device.cc:313] maxCacheSize: 5.33 GB\n",
      "2025-02-24 21:50:00.925470: I tensorflow/core/common_runtime/pluggable_device/pluggable_device_factory.cc:305] Could not identify NUMA node of platform GPU ID 0, defaulting to 0. Your kernel may not have been built with NUMA support.\n",
      "2025-02-24 21:50:00.925479: I tensorflow/core/common_runtime/pluggable_device/pluggable_device_factory.cc:271] Created TensorFlow device (/job:localhost/replica:0/task:0/device:GPU:0 with 0 MB memory) -> physical PluggableDevice (device: 0, name: METAL, pci bus id: <undefined>)\n"
     ]
    }
   ],
   "source": [
    "print(f\"Started running HPO and NAS for {cut_point_approach}\")\n",
    "forecaster_hypermodel = TimeSeriesHyperModel(\n",
    "    model_type=FORECASTER_MODEL,\n",
    "    n_variables=len(variables)\n",
    ")\n",
    "forecaster_tuner = RandomSearch(\n",
    "    forecaster_hypermodel,\n",
    "    objective=FORECASTER_OBJECTIVE,\n",
    "    max_trials=NB_TRIALS,\n",
    "    executions_per_trial=1,\n",
    "    directory=f\"outputs/tuner/{execution_id}\",\n",
    "    project_name=f\"{cut_point_model.value}_{cut_point_method.value}\",\n",
    "    seed=SEED,\n",
    "    overwrite=True,\n",
    "    distribution_strategy=tf.distribute.MirroredStrategy()\n",
    ")"
   ]
  },
  {
   "cell_type": "code",
   "execution_count": 13,
   "metadata": {},
   "outputs": [
    {
     "name": "stdout",
     "output_type": "stream",
     "text": [
      "Trial 15 Complete [00h 00m 32s]\n",
      "val_loss: 0.020462638661265374\n",
      "\n",
      "Best val_loss So Far: 0.018879062205087394\n",
      "Total elapsed time: 00h 08m 20s\n"
     ]
    }
   ],
   "source": [
    "start_time = time.time()\n",
    "forecaster_tuner.search(\n",
    "    X_reduced_scaled_train,\n",
    "    y_reduced_scaled_train,\n",
    "    validation_split=(1 - TRAIN_PERC),\n",
    "    shuffle=False,\n",
    ")\n",
    "end_time = time.time()\n",
    "tuner_duration = end_time - start_time"
   ]
  },
  {
   "cell_type": "code",
   "execution_count": 14,
   "metadata": {},
   "outputs": [
    {
     "name": "stdout",
     "output_type": "stream",
     "text": [
      "Finished running HPO and NAS for Window Linear, duration: 500.31665992736816\n",
      "Trial ID: 06\n",
      "Hyperparameters: {'num_layers': 1, 'units_0': 128, 'learning_rate': 0.01, 'units_1': 64, 'units_2': 32, 'units_3': 32, 'batch_size': 16, 'epochs': 225}\n",
      "Score: 0.018879062205087394\n",
      "----------------------------------------\n"
     ]
    },
    {
     "name": "stderr",
     "output_type": "stream",
     "text": [
      "/Users/zamith/Doutorado/TSForecastingSubsets/env/lib/python3.9/site-packages/keras/src/saving/saving_lib.py:757: UserWarning: Skipping variable loading for optimizer 'adam', because it has 2 variables whereas the saved optimizer has 12 variables. \n",
      "  saveable.load_own_variables(weights_store.get(inner_path))\n"
     ]
    }
   ],
   "source": [
    "best_trial = forecaster_tuner.oracle.get_best_trials(num_trials=1)[0]\n",
    "best_forecaster_model = forecaster_tuner.get_best_models(num_models=1)[0]\n",
    "print(f\"Finished running HPO and NAS for {cut_point_approach}, duration: {tuner_duration}\")\n",
    "\n",
    "print(f\"Trial ID: {best_trial.trial_id}\")\n",
    "print(f\"Hyperparameters: {best_trial.hyperparameters.values}\")\n",
    "print(f\"Score: {best_trial.score}\")\n",
    "print(\"-\" * 40)"
   ]
  },
  {
   "cell_type": "code",
   "execution_count": 15,
   "metadata": {},
   "outputs": [
    {
     "name": "stdout",
     "output_type": "stream",
     "text": [
      "Retrieving best model\n"
     ]
    },
    {
     "data": {
      "text/html": [
       "<pre style=\"white-space:pre;overflow-x:auto;line-height:normal;font-family:Menlo,'DejaVu Sans Mono',consolas,'Courier New',monospace\"><span style=\"font-weight: bold\">Model: \"sequential\"</span>\n",
       "</pre>\n"
      ],
      "text/plain": [
       "\u001b[1mModel: \"sequential\"\u001b[0m\n"
      ]
     },
     "metadata": {},
     "output_type": "display_data"
    },
    {
     "data": {
      "text/html": [
       "<pre style=\"white-space:pre;overflow-x:auto;line-height:normal;font-family:Menlo,'DejaVu Sans Mono',consolas,'Courier New',monospace\">┏━━━━━━━━━━━━━━━━━━━━━━━━━━━━━━━━━┳━━━━━━━━━━━━━━━━━━━━━━━━┳━━━━━━━━━━━━━━━┓\n",
       "┃<span style=\"font-weight: bold\"> Layer (type)                    </span>┃<span style=\"font-weight: bold\"> Output Shape           </span>┃<span style=\"font-weight: bold\">       Param # </span>┃\n",
       "┡━━━━━━━━━━━━━━━━━━━━━━━━━━━━━━━━━╇━━━━━━━━━━━━━━━━━━━━━━━━╇━━━━━━━━━━━━━━━┩\n",
       "│ lstm (<span style=\"color: #0087ff; text-decoration-color: #0087ff\">LSTM</span>)                     │ (<span style=\"color: #00d7ff; text-decoration-color: #00d7ff\">None</span>, <span style=\"color: #00af00; text-decoration-color: #00af00\">128</span>)            │        <span style=\"color: #00af00; text-decoration-color: #00af00\">68,608</span> │\n",
       "├─────────────────────────────────┼────────────────────────┼───────────────┤\n",
       "│ dense (<span style=\"color: #0087ff; text-decoration-color: #0087ff\">Dense</span>)                   │ (<span style=\"color: #00d7ff; text-decoration-color: #00d7ff\">None</span>, <span style=\"color: #00af00; text-decoration-color: #00af00\">35</span>)             │         <span style=\"color: #00af00; text-decoration-color: #00af00\">4,515</span> │\n",
       "├─────────────────────────────────┼────────────────────────┼───────────────┤\n",
       "│ reshape (<span style=\"color: #0087ff; text-decoration-color: #0087ff\">Reshape</span>)               │ (<span style=\"color: #00d7ff; text-decoration-color: #00d7ff\">None</span>, <span style=\"color: #00af00; text-decoration-color: #00af00\">7</span>, <span style=\"color: #00af00; text-decoration-color: #00af00\">5</span>)           │             <span style=\"color: #00af00; text-decoration-color: #00af00\">0</span> │\n",
       "└─────────────────────────────────┴────────────────────────┴───────────────┘\n",
       "</pre>\n"
      ],
      "text/plain": [
       "┏━━━━━━━━━━━━━━━━━━━━━━━━━━━━━━━━━┳━━━━━━━━━━━━━━━━━━━━━━━━┳━━━━━━━━━━━━━━━┓\n",
       "┃\u001b[1m \u001b[0m\u001b[1mLayer (type)                   \u001b[0m\u001b[1m \u001b[0m┃\u001b[1m \u001b[0m\u001b[1mOutput Shape          \u001b[0m\u001b[1m \u001b[0m┃\u001b[1m \u001b[0m\u001b[1m      Param #\u001b[0m\u001b[1m \u001b[0m┃\n",
       "┡━━━━━━━━━━━━━━━━━━━━━━━━━━━━━━━━━╇━━━━━━━━━━━━━━━━━━━━━━━━╇━━━━━━━━━━━━━━━┩\n",
       "│ lstm (\u001b[38;5;33mLSTM\u001b[0m)                     │ (\u001b[38;5;45mNone\u001b[0m, \u001b[38;5;34m128\u001b[0m)            │        \u001b[38;5;34m68,608\u001b[0m │\n",
       "├─────────────────────────────────┼────────────────────────┼───────────────┤\n",
       "│ dense (\u001b[38;5;33mDense\u001b[0m)                   │ (\u001b[38;5;45mNone\u001b[0m, \u001b[38;5;34m35\u001b[0m)             │         \u001b[38;5;34m4,515\u001b[0m │\n",
       "├─────────────────────────────────┼────────────────────────┼───────────────┤\n",
       "│ reshape (\u001b[38;5;33mReshape\u001b[0m)               │ (\u001b[38;5;45mNone\u001b[0m, \u001b[38;5;34m7\u001b[0m, \u001b[38;5;34m5\u001b[0m)           │             \u001b[38;5;34m0\u001b[0m │\n",
       "└─────────────────────────────────┴────────────────────────┴───────────────┘\n"
      ]
     },
     "metadata": {},
     "output_type": "display_data"
    },
    {
     "data": {
      "text/html": [
       "<pre style=\"white-space:pre;overflow-x:auto;line-height:normal;font-family:Menlo,'DejaVu Sans Mono',consolas,'Courier New',monospace\"><span style=\"font-weight: bold\"> Total params: </span><span style=\"color: #00af00; text-decoration-color: #00af00\">73,123</span> (285.64 KB)\n",
       "</pre>\n"
      ],
      "text/plain": [
       "\u001b[1m Total params: \u001b[0m\u001b[38;5;34m73,123\u001b[0m (285.64 KB)\n"
      ]
     },
     "metadata": {},
     "output_type": "display_data"
    },
    {
     "data": {
      "text/html": [
       "<pre style=\"white-space:pre;overflow-x:auto;line-height:normal;font-family:Menlo,'DejaVu Sans Mono',consolas,'Courier New',monospace\"><span style=\"font-weight: bold\"> Trainable params: </span><span style=\"color: #00af00; text-decoration-color: #00af00\">73,123</span> (285.64 KB)\n",
       "</pre>\n"
      ],
      "text/plain": [
       "\u001b[1m Trainable params: \u001b[0m\u001b[38;5;34m73,123\u001b[0m (285.64 KB)\n"
      ]
     },
     "metadata": {},
     "output_type": "display_data"
    },
    {
     "data": {
      "text/html": [
       "<pre style=\"white-space:pre;overflow-x:auto;line-height:normal;font-family:Menlo,'DejaVu Sans Mono',consolas,'Courier New',monospace\"><span style=\"font-weight: bold\"> Non-trainable params: </span><span style=\"color: #00af00; text-decoration-color: #00af00\">0</span> (0.00 B)\n",
       "</pre>\n"
      ],
      "text/plain": [
       "\u001b[1m Non-trainable params: \u001b[0m\u001b[38;5;34m0\u001b[0m (0.00 B)\n"
      ]
     },
     "metadata": {},
     "output_type": "display_data"
    }
   ],
   "source": [
    "print(\"Retrieving best model\")\n",
    "best_forecaster_model.summary()\n",
    "best_forecaster_model = InternalForecaster(best_forecaster_model, len(variables))"
   ]
  },
  {
   "cell_type": "code",
   "execution_count": 16,
   "metadata": {},
   "outputs": [
    {
     "name": "stdout",
     "output_type": "stream",
     "text": [
      "Running forecasting\n",
      "\u001b[1m41/41\u001b[0m \u001b[32m━━━━━━━━━━━━━━━━━━━━\u001b[0m\u001b[37m\u001b[0m \u001b[1m0s\u001b[0m 7ms/step\n"
     ]
    },
    {
     "name": "stderr",
     "output_type": "stream",
     "text": [
      "2025-02-24 21:58:22.177937: W tensorflow/core/framework/local_rendezvous.cc:404] Local rendezvous is aborting with status: OUT_OF_RANGE: End of sequence\n",
      "\t [[{{node MultiDeviceIteratorGetNextFromShard}}]]\n",
      "2025-02-24 21:58:22.177957: W tensorflow/core/framework/local_rendezvous.cc:404] Local rendezvous is aborting with status: OUT_OF_RANGE: End of sequence\n",
      "\t [[{{node MultiDeviceIteratorGetNextFromShard}}]]\n",
      "\t [[RemoteCall]]\n"
     ]
    }
   ],
   "source": [
    "print(\"Running forecasting\")\n",
    "y_scaled_pred = best_forecaster_model.forecast(X_scaled_test)\n",
    "y_scaled_test_flat = y_scaled_test.reshape(-1, len(variables))\n",
    "y_scaled_pred_flat = y_scaled_pred.reshape(-1, len(variables))"
   ]
  },
  {
   "cell_type": "code",
   "execution_count": 17,
   "metadata": {},
   "outputs": [
    {
     "data": {
      "text/plain": [
       "array([[0.1344294 , 0.51947394, 0.27956095, 0.83627848, 0.13544106],\n",
       "       [0.04255319, 0.39138514, 0.3685681 , 0.74217586, 0.2       ],\n",
       "       [0.05222437, 0.47195946, 0.24126892, 0.72131148, 0.19535519],\n",
       "       ...,\n",
       "       [0.00483559, 0.28040541, 0.64639115, 0.48956781, 0.39071038],\n",
       "       [0.0212766 , 0.24594595, 0.51746217, 0.73994039, 0.1489071 ],\n",
       "       [0.00096712, 0.33209459, 0.54336438, 0.61624441, 0.15846995]])"
      ]
     },
     "execution_count": 17,
     "metadata": {},
     "output_type": "execute_result"
    }
   ],
   "source": [
    "y_scaled_test_flat"
   ]
  },
  {
   "cell_type": "code",
   "execution_count": 18,
   "metadata": {},
   "outputs": [
    {
     "data": {
      "text/plain": [
       "array([[0.01907649, 0.51364243, 0.37583646, 0.6886463 , 0.1761322 ],\n",
       "       [0.01483142, 0.54357165, 0.39333132, 0.6790521 , 0.20700176],\n",
       "       [0.02576859, 0.5666574 , 0.38901597, 0.67641467, 0.2107338 ],\n",
       "       ...,\n",
       "       [0.05211055, 0.3794846 , 0.64484084, 0.5683391 , 0.33845842],\n",
       "       [0.04598378, 0.3854839 , 0.6371707 , 0.55571747, 0.33944267],\n",
       "       [0.04523553, 0.39909592, 0.6426749 , 0.56529564, 0.3240776 ]],\n",
       "      dtype=float32)"
      ]
     },
     "execution_count": 18,
     "metadata": {},
     "output_type": "execute_result"
    }
   ],
   "source": [
    "y_scaled_pred_flat"
   ]
  },
  {
   "cell_type": "code",
   "execution_count": 19,
   "metadata": {},
   "outputs": [
    {
     "name": "stdout",
     "output_type": "stream",
     "text": [
      "Calculating error\n"
     ]
    }
   ],
   "source": [
    "print(\"Calculating error\")\n",
    "y_test = scaler.descale(pd.DataFrame(y_scaled_test_flat, columns=variables))\n",
    "y_pred = scaler.descale(pd.DataFrame(y_scaled_pred_flat, columns=variables))"
   ]
  },
  {
   "cell_type": "code",
   "execution_count": 20,
   "metadata": {},
   "outputs": [
    {
     "data": {
      "text/html": [
       "<div>\n",
       "<style scoped>\n",
       "    .dataframe tbody tr th:only-of-type {\n",
       "        vertical-align: middle;\n",
       "    }\n",
       "\n",
       "    .dataframe tbody tr th {\n",
       "        vertical-align: top;\n",
       "    }\n",
       "\n",
       "    .dataframe thead th {\n",
       "        text-align: right;\n",
       "    }\n",
       "</style>\n",
       "<table border=\"1\" class=\"dataframe\">\n",
       "  <thead>\n",
       "    <tr style=\"text-align: right;\">\n",
       "      <th></th>\n",
       "      <th>P</th>\n",
       "      <th>PrA</th>\n",
       "      <th>T</th>\n",
       "      <th>UR</th>\n",
       "      <th>VV</th>\n",
       "    </tr>\n",
       "  </thead>\n",
       "  <tbody>\n",
       "    <tr>\n",
       "      <th>0</th>\n",
       "      <td>27.8</td>\n",
       "      <td>1017.709524</td>\n",
       "      <td>21.585714</td>\n",
       "      <td>90.761905</td>\n",
       "      <td>0.938095</td>\n",
       "    </tr>\n",
       "    <tr>\n",
       "      <th>1</th>\n",
       "      <td>8.8</td>\n",
       "      <td>1014.550000</td>\n",
       "      <td>22.860000</td>\n",
       "      <td>85.500000</td>\n",
       "      <td>1.135000</td>\n",
       "    </tr>\n",
       "    <tr>\n",
       "      <th>2</th>\n",
       "      <td>10.8</td>\n",
       "      <td>1016.537500</td>\n",
       "      <td>21.037500</td>\n",
       "      <td>84.333333</td>\n",
       "      <td>1.120833</td>\n",
       "    </tr>\n",
       "    <tr>\n",
       "      <th>3</th>\n",
       "      <td>0.0</td>\n",
       "      <td>1019.604348</td>\n",
       "      <td>21.304348</td>\n",
       "      <td>72.565217</td>\n",
       "      <td>1.413043</td>\n",
       "    </tr>\n",
       "    <tr>\n",
       "      <th>4</th>\n",
       "      <td>0.0</td>\n",
       "      <td>1021.050000</td>\n",
       "      <td>21.220833</td>\n",
       "      <td>68.541667</td>\n",
       "      <td>1.520833</td>\n",
       "    </tr>\n",
       "    <tr>\n",
       "      <th>...</th>\n",
       "      <td>...</td>\n",
       "      <td>...</td>\n",
       "      <td>...</td>\n",
       "      <td>...</td>\n",
       "      <td>...</td>\n",
       "    </tr>\n",
       "    <tr>\n",
       "      <th>9060</th>\n",
       "      <td>0.0</td>\n",
       "      <td>1013.000000</td>\n",
       "      <td>28.216667</td>\n",
       "      <td>63.708333</td>\n",
       "      <td>2.375000</td>\n",
       "    </tr>\n",
       "    <tr>\n",
       "      <th>9061</th>\n",
       "      <td>0.0</td>\n",
       "      <td>1013.029167</td>\n",
       "      <td>27.704167</td>\n",
       "      <td>66.208333</td>\n",
       "      <td>1.854167</td>\n",
       "    </tr>\n",
       "    <tr>\n",
       "      <th>9062</th>\n",
       "      <td>1.0</td>\n",
       "      <td>1011.812500</td>\n",
       "      <td>26.837500</td>\n",
       "      <td>71.375000</td>\n",
       "      <td>1.716667</td>\n",
       "    </tr>\n",
       "    <tr>\n",
       "      <th>9063</th>\n",
       "      <td>4.4</td>\n",
       "      <td>1010.962500</td>\n",
       "      <td>24.991667</td>\n",
       "      <td>85.375000</td>\n",
       "      <td>0.979167</td>\n",
       "    </tr>\n",
       "    <tr>\n",
       "      <th>9064</th>\n",
       "      <td>0.2</td>\n",
       "      <td>1013.087500</td>\n",
       "      <td>25.362500</td>\n",
       "      <td>78.458333</td>\n",
       "      <td>1.008333</td>\n",
       "    </tr>\n",
       "  </tbody>\n",
       "</table>\n",
       "<p>9065 rows × 5 columns</p>\n",
       "</div>"
      ],
      "text/plain": [
       "         P          PrA          T         UR        VV\n",
       "0     27.8  1017.709524  21.585714  90.761905  0.938095\n",
       "1      8.8  1014.550000  22.860000  85.500000  1.135000\n",
       "2     10.8  1016.537500  21.037500  84.333333  1.120833\n",
       "3      0.0  1019.604348  21.304348  72.565217  1.413043\n",
       "4      0.0  1021.050000  21.220833  68.541667  1.520833\n",
       "...    ...          ...        ...        ...       ...\n",
       "9060   0.0  1013.000000  28.216667  63.708333  2.375000\n",
       "9061   0.0  1013.029167  27.704167  66.208333  1.854167\n",
       "9062   1.0  1011.812500  26.837500  71.375000  1.716667\n",
       "9063   4.4  1010.962500  24.991667  85.375000  0.979167\n",
       "9064   0.2  1013.087500  25.362500  78.458333  1.008333\n",
       "\n",
       "[9065 rows x 5 columns]"
      ]
     },
     "execution_count": 20,
     "metadata": {},
     "output_type": "execute_result"
    }
   ],
   "source": [
    "y_test"
   ]
  },
  {
   "cell_type": "code",
   "execution_count": 21,
   "metadata": {},
   "outputs": [
    {
     "data": {
      "text/html": [
       "<div>\n",
       "<style scoped>\n",
       "    .dataframe tbody tr th:only-of-type {\n",
       "        vertical-align: middle;\n",
       "    }\n",
       "\n",
       "    .dataframe tbody tr th {\n",
       "        vertical-align: top;\n",
       "    }\n",
       "\n",
       "    .dataframe thead th {\n",
       "        text-align: right;\n",
       "    }\n",
       "</style>\n",
       "<table border=\"1\" class=\"dataframe\">\n",
       "  <thead>\n",
       "    <tr style=\"text-align: right;\">\n",
       "      <th></th>\n",
       "      <th>P</th>\n",
       "      <th>PrA</th>\n",
       "      <th>T</th>\n",
       "      <th>UR</th>\n",
       "      <th>VV</th>\n",
       "    </tr>\n",
       "  </thead>\n",
       "  <tbody>\n",
       "    <tr>\n",
       "      <th>0</th>\n",
       "      <td>3.945019</td>\n",
       "      <td>1017.565674</td>\n",
       "      <td>22.964060</td>\n",
       "      <td>82.506805</td>\n",
       "      <td>1.062203</td>\n",
       "    </tr>\n",
       "    <tr>\n",
       "      <th>1</th>\n",
       "      <td>3.067138</td>\n",
       "      <td>1018.303955</td>\n",
       "      <td>23.214527</td>\n",
       "      <td>81.970329</td>\n",
       "      <td>1.156355</td>\n",
       "    </tr>\n",
       "    <tr>\n",
       "      <th>2</th>\n",
       "      <td>5.328946</td>\n",
       "      <td>1018.873413</td>\n",
       "      <td>23.152744</td>\n",
       "      <td>81.822853</td>\n",
       "      <td>1.167738</td>\n",
       "    </tr>\n",
       "    <tr>\n",
       "      <th>3</th>\n",
       "      <td>3.086632</td>\n",
       "      <td>1019.257507</td>\n",
       "      <td>23.019547</td>\n",
       "      <td>81.960541</td>\n",
       "      <td>1.157886</td>\n",
       "    </tr>\n",
       "    <tr>\n",
       "      <th>4</th>\n",
       "      <td>3.512660</td>\n",
       "      <td>1019.476379</td>\n",
       "      <td>23.044657</td>\n",
       "      <td>81.633499</td>\n",
       "      <td>1.179192</td>\n",
       "    </tr>\n",
       "    <tr>\n",
       "      <th>...</th>\n",
       "      <td>...</td>\n",
       "      <td>...</td>\n",
       "      <td>...</td>\n",
       "      <td>...</td>\n",
       "      <td>...</td>\n",
       "    </tr>\n",
       "    <tr>\n",
       "      <th>9060</th>\n",
       "      <td>13.233783</td>\n",
       "      <td>1013.809387</td>\n",
       "      <td>26.703806</td>\n",
       "      <td>76.550705</td>\n",
       "      <td>1.471514</td>\n",
       "    </tr>\n",
       "    <tr>\n",
       "      <th>9061</th>\n",
       "      <td>12.584108</td>\n",
       "      <td>1014.269287</td>\n",
       "      <td>26.847340</td>\n",
       "      <td>76.256027</td>\n",
       "      <td>1.525754</td>\n",
       "    </tr>\n",
       "    <tr>\n",
       "      <th>9062</th>\n",
       "      <td>10.776463</td>\n",
       "      <td>1014.256409</td>\n",
       "      <td>26.815306</td>\n",
       "      <td>75.779633</td>\n",
       "      <td>1.557298</td>\n",
       "    </tr>\n",
       "    <tr>\n",
       "      <th>9063</th>\n",
       "      <td>9.509446</td>\n",
       "      <td>1014.404419</td>\n",
       "      <td>26.705494</td>\n",
       "      <td>75.073868</td>\n",
       "      <td>1.560300</td>\n",
       "    </tr>\n",
       "    <tr>\n",
       "      <th>9064</th>\n",
       "      <td>9.354708</td>\n",
       "      <td>1014.740173</td>\n",
       "      <td>26.784296</td>\n",
       "      <td>75.609444</td>\n",
       "      <td>1.513437</td>\n",
       "    </tr>\n",
       "  </tbody>\n",
       "</table>\n",
       "<p>9065 rows × 5 columns</p>\n",
       "</div>"
      ],
      "text/plain": [
       "              P          PrA          T         UR        VV\n",
       "0      3.945019  1017.565674  22.964060  82.506805  1.062203\n",
       "1      3.067138  1018.303955  23.214527  81.970329  1.156355\n",
       "2      5.328946  1018.873413  23.152744  81.822853  1.167738\n",
       "3      3.086632  1019.257507  23.019547  81.960541  1.157886\n",
       "4      3.512660  1019.476379  23.044657  81.633499  1.179192\n",
       "...         ...          ...        ...        ...       ...\n",
       "9060  13.233783  1013.809387  26.703806  76.550705  1.471514\n",
       "9061  12.584108  1014.269287  26.847340  76.256027  1.525754\n",
       "9062  10.776463  1014.256409  26.815306  75.779633  1.557298\n",
       "9063   9.509446  1014.404419  26.705494  75.073868  1.560300\n",
       "9064   9.354708  1014.740173  26.784296  75.609444  1.513437\n",
       "\n",
       "[9065 rows x 5 columns]"
      ]
     },
     "execution_count": 21,
     "metadata": {},
     "output_type": "execute_result"
    }
   ],
   "source": [
    "y_pred"
   ]
  },
  {
   "cell_type": "code",
   "execution_count": 22,
   "metadata": {},
   "outputs": [
    {
     "data": {
      "text/plain": [
       "1295"
      ]
     },
     "execution_count": 22,
     "metadata": {},
     "output_type": "execute_result"
    }
   ],
   "source": [
    "len(X_scaled_test)"
   ]
  },
  {
   "cell_type": "code",
   "execution_count": 23,
   "metadata": {},
   "outputs": [
    {
     "data": {
      "text/plain": [
       "9065"
      ]
     },
     "execution_count": 23,
     "metadata": {},
     "output_type": "execute_result"
    }
   ],
   "source": [
    "len(X_scaled_test) * FORECAST_HORIZON"
   ]
  },
  {
   "cell_type": "code",
   "execution_count": 24,
   "metadata": {},
   "outputs": [
    {
     "name": "stdout",
     "output_type": "stream",
     "text": [
      "Obtained error results: {'Avg_MAPE': 3387538085996856.0, 'Avg_MAE': 3.6099546454942795, 'Avg_MSE': 38.20980586586211, 'Avg_RMSE': 4.857248540254888, 'Avg_R2': 0.24120370144399644, 'Avg_WAPE': 0.0161543879615712, 'P_MAPE': 1.693769042998428e+16, 'P_MAE': 6.946298873711991, 'P_MSE': 99.05320367036138, 'P_RMSE': 9.9525475969905, 'P_R2': -0.14791420831366908, 'P_WAPE': 2.221413931073139, 'PrA_MAPE': 0.0025388271182813322, 'PrA_MAE': 2.5789761775667426, 'PrA_MSE': 11.235440011549692, 'PrA_RMSE': 3.3519307885977736, 'PrA_R2': 0.318366137351483, 'PrA_WAPE': 0.0025382706428381235, 'T_MAPE': 0.056276842034056127, 'T_MAE': 1.3564156906963882, 'T_MSE': 3.222041192417913, 'T_RMSE': 1.7950045104171501, 'T_R2': 0.6103783756833381, 'T_WAPE': 0.05428892813152506, 'UR_MAPE': 0.10389859619163004, 'UR_MAE': 6.858571181646109, 'UR_MSE': 77.38639571348133, 'UR_RMSE': 8.796953774658665, 'UR_R2': 0.1982807684595561, 'UR_WAPE': 0.09579531704254357, 'VV_MAPE': 0.2146034220509999, 'VV_MAE': 0.30951130385017, 'VV_MSE': 0.1519487415002016, 'VV_RMSE': 0.38980603061035574, 'VV_R2': 0.22690743403927405, 'VV_WAPE': 0.19533439239644482}\n"
     ]
    }
   ],
   "source": [
    "error_results = get_error_results(y_test, y_pred, variables)\n",
    "print(f\"Obtained error results: {error_results}\")"
   ]
  },
  {
   "cell_type": "code",
   "execution_count": 25,
   "metadata": {},
   "outputs": [
    {
     "name": "stdout",
     "output_type": "stream",
     "text": [
      "Writing report\n"
     ]
    },
    {
     "data": {
      "text/html": [
       "<pre style=\"white-space:pre;overflow-x:auto;line-height:normal;font-family:Menlo,'DejaVu Sans Mono',consolas,'Courier New',monospace\"></pre>\n"
      ],
      "text/plain": []
     },
     "metadata": {},
     "output_type": "display_data"
    }
   ],
   "source": [
    "print(\"Writing report\")\n",
    "report.update({\n",
    "    'tuner_duration': tuner_duration,\n",
    "    'total_duration': cut_duration + tuner_duration,\n",
    "    'error_results': error_results,\n",
    "    'scaled_reduced_train_shape': scaled_reduced_train.shape,\n",
    "    'best_trial_id': best_trial.trial_id,\n",
    "    'best_trial_hyperparameters': best_trial.hyperparameters.values,\n",
    "    'best_trial_score': best_trial.score,\n",
    "    'best_forecaster_model': best_forecaster_model.summary(),\n",
    "})"
   ]
  },
  {
   "cell_type": "code",
   "execution_count": 26,
   "metadata": {},
   "outputs": [
    {
     "data": {
      "text/plain": [
       "{'execution_id': 'validate_pipeline_INMET_VITORIA_ES_Window_Linear_42',\n",
       " 'timestamp': 'validate_pipeline',\n",
       " 'cut_point_model': 'Window',\n",
       " 'cut_point_method': 'Linear',\n",
       " 'cut_point_approach': 'Window Linear',\n",
       " 'seed': 42,\n",
       " 'forecaster_model': 'LSTM',\n",
       " 'forecaster_objective': 'val_loss',\n",
       " 'observation_window': 14,\n",
       " 'train_perc': 0.8,\n",
       " 'nb_trials': 15,\n",
       " 'dataset_domain': 'INMET',\n",
       " 'dataset': 'VITORIA_ES',\n",
       " 'variables': ['P', 'PrA', 'T', 'UR', 'VV'],\n",
       " 'dataset_shape': (6575, 6),\n",
       " 'train_shape': (5260, 6),\n",
       " 'test_shape': (1315, 6),\n",
       " 'cut_duration': 0.036301612854003906,\n",
       " 'cut_point': '2290',\n",
       " 'cut_point_perc': '43.536121673003805',\n",
       " 'tuner_duration': 500.31665992736816,\n",
       " 'total_duration': 500.35296154022217,\n",
       " 'error_results': {'Avg_MAPE': 3387538085996856.0,\n",
       "  'Avg_MAE': 3.6099546454942795,\n",
       "  'Avg_MSE': 38.20980586586211,\n",
       "  'Avg_RMSE': 4.857248540254888,\n",
       "  'Avg_R2': 0.24120370144399644,\n",
       "  'Avg_WAPE': 0.0161543879615712,\n",
       "  'P_MAPE': 1.693769042998428e+16,\n",
       "  'P_MAE': 6.946298873711991,\n",
       "  'P_MSE': 99.05320367036138,\n",
       "  'P_RMSE': 9.9525475969905,\n",
       "  'P_R2': -0.14791420831366908,\n",
       "  'P_WAPE': 2.221413931073139,\n",
       "  'PrA_MAPE': 0.0025388271182813322,\n",
       "  'PrA_MAE': 2.5789761775667426,\n",
       "  'PrA_MSE': 11.235440011549692,\n",
       "  'PrA_RMSE': 3.3519307885977736,\n",
       "  'PrA_R2': 0.318366137351483,\n",
       "  'PrA_WAPE': 0.0025382706428381235,\n",
       "  'T_MAPE': 0.056276842034056127,\n",
       "  'T_MAE': 1.3564156906963882,\n",
       "  'T_MSE': 3.222041192417913,\n",
       "  'T_RMSE': 1.7950045104171501,\n",
       "  'T_R2': 0.6103783756833381,\n",
       "  'T_WAPE': 0.05428892813152506,\n",
       "  'UR_MAPE': 0.10389859619163004,\n",
       "  'UR_MAE': 6.858571181646109,\n",
       "  'UR_MSE': 77.38639571348133,\n",
       "  'UR_RMSE': 8.796953774658665,\n",
       "  'UR_R2': 0.1982807684595561,\n",
       "  'UR_WAPE': 0.09579531704254357,\n",
       "  'VV_MAPE': 0.2146034220509999,\n",
       "  'VV_MAE': 0.30951130385017,\n",
       "  'VV_MSE': 0.1519487415002016,\n",
       "  'VV_RMSE': 0.38980603061035574,\n",
       "  'VV_R2': 0.22690743403927405,\n",
       "  'VV_WAPE': 0.19533439239644482},\n",
       " 'scaled_reduced_train_shape': (2970, 6),\n",
       " 'best_trial_id': '06',\n",
       " 'best_trial_hyperparameters': {'num_layers': 1,\n",
       "  'units_0': 128,\n",
       "  'learning_rate': 0.01,\n",
       "  'units_1': 64,\n",
       "  'units_2': 32,\n",
       "  'units_3': 32,\n",
       "  'batch_size': 16,\n",
       "  'epochs': 225},\n",
       " 'best_trial_score': 0.018879062205087394,\n",
       " 'best_forecaster_model': 'Model: \"sequential\"\\n┏━━━━━━━━━━━━━━━━━━━━━━━━━━━━━━━━━┳━━━━━━━━━━━━━━━━━━━━━━━━┳━━━━━━━━━━━━━━━┓\\n┃ Layer (type)                    ┃ Output Shape           ┃       Param # ┃\\n┡━━━━━━━━━━━━━━━━━━━━━━━━━━━━━━━━━╇━━━━━━━━━━━━━━━━━━━━━━━━╇━━━━━━━━━━━━━━━┩\\n│ lstm (LSTM)                     │ (None, 128)            │        68,608 │\\n├─────────────────────────────────┼────────────────────────┼───────────────┤\\n│ dense (Dense)                   │ (None, 35)             │         4,515 │\\n├─────────────────────────────────┼────────────────────────┼───────────────┤\\n│ reshape (Reshape)               │ (None, 7, 5)           │             0 │\\n└─────────────────────────────────┴────────────────────────┴───────────────┘\\n Total params: 73,123 (285.64 KB)\\n Trainable params: 73,123 (285.64 KB)\\n Non-trainable params: 0 (0.00 B)\\n\\n'}"
      ]
     },
     "execution_count": 26,
     "metadata": {},
     "output_type": "execute_result"
    }
   ],
   "source": [
    "report"
   ]
  },
  {
   "cell_type": "markdown",
   "metadata": {},
   "source": [
    "## 2. What would be the error if we predicted the average values for all variables (Dummy Forecaster)?"
   ]
  },
  {
   "cell_type": "code",
   "execution_count": 27,
   "metadata": {},
   "outputs": [],
   "source": [
    "X_train, y_train = split_X_y(train)\n",
    "X_test, y_test = split_X_y(test)"
   ]
  },
  {
   "cell_type": "code",
   "execution_count": 28,
   "metadata": {},
   "outputs": [],
   "source": [
    "train_targets_flat = pd.DataFrame(y_train.reshape(-1, len(variables)), columns=variables)\n",
    "avg_values = train_targets_flat.mean(axis=0).to_numpy()"
   ]
  },
  {
   "cell_type": "code",
   "execution_count": 29,
   "metadata": {},
   "outputs": [],
   "source": [
    "n_test = y_test.shape[0]\n",
    "dummy_pred = np.tile(avg_values, (n_test, FORECAST_HORIZON, 1))\n",
    "\n",
    "dummy_pred_flat = dummy_pred.reshape(-1, len(variables))\n",
    "y_test_flat = pd.DataFrame(y_test.reshape(-1, len(variables)), columns=variables)"
   ]
  },
  {
   "cell_type": "code",
   "execution_count": 30,
   "metadata": {},
   "outputs": [
    {
     "name": "stdout",
     "output_type": "stream",
     "text": [
      "Error metrics for Dummy Forecaster (predicting average values): \n",
      "{'Avg_MAPE': 2261114385082150.5, 'Avg_MAE': 3.9238984111749913, 'Avg_MSE': 45.462017189560335, 'Avg_RMSE': 5.50774124980734, 'Avg_R2': -0.09497051544831821, 'Avg_WAPE': 0.017559272478680943, 'P_MAPE': 1.1305571925410234e+16, 'P_MAE': 5.371567440050315, 'P_MSE': 86.87492163980089, 'P_RMSE': 9.3206717375842, 'P_R2': -0.0067817415410229565, 'P_WAPE': 1.7178176407273023, 'PrA_MAPE': 0.0032553683276855356, 'PrA_MAE': 3.308651533836293, 'PrA_MSE': 16.483760913582557, 'PrA_RMSE': 4.060019816895301, 'PrA_R2': -4.001720891788629e-05, 'PrA_WAPE': 0.0032564290933628248, 'T_MAPE': 0.09793958285614805, 'T_MAE': 2.439719280732743, 'T_MSE': 8.636826647316436, 'T_RMSE': 2.938847843512222, 'T_R2': -0.04439832587726644, 'T_WAPE': 0.09764686858259194, 'UR_MAPE': 0.12709236016186135, 'UR_MAE': 8.080380657557988, 'UR_MSE': 115.07253217143328, 'UR_RMSE': 10.727186591620065, 'UR_R2': -0.1921457410352394, 'UR_WAPE': 0.11286062452579565, 'VV_MAPE': 0.3173295133733239, 'VV_MAE': 0.41917314369777214, 'VV_MSE': 0.24204457566354146, 'VV_RMSE': 0.49198025942464546, 'VV_R2': -0.23148675157901244, 'VV_WAPE': 0.26454262030038295}\n"
     ]
    }
   ],
   "source": [
    "dummy_error_results = get_error_results(y_test_flat, dummy_pred_flat, variables)\n",
    "print(f\"Error metrics for Dummy Forecaster (predicting average values): \\n{dummy_error_results}\")"
   ]
  },
  {
   "cell_type": "code",
   "execution_count": 31,
   "metadata": {},
   "outputs": [
    {
     "data": {
      "text/html": [
       "<div>\n",
       "<style scoped>\n",
       "    .dataframe tbody tr th:only-of-type {\n",
       "        vertical-align: middle;\n",
       "    }\n",
       "\n",
       "    .dataframe tbody tr th {\n",
       "        vertical-align: top;\n",
       "    }\n",
       "\n",
       "    .dataframe thead th {\n",
       "        text-align: right;\n",
       "    }\n",
       "</style>\n",
       "<table border=\"1\" class=\"dataframe\">\n",
       "  <thead>\n",
       "    <tr style=\"text-align: right;\">\n",
       "      <th></th>\n",
       "      <th>Trained Model</th>\n",
       "      <th>Dummy Forecaster</th>\n",
       "    </tr>\n",
       "  </thead>\n",
       "  <tbody>\n",
       "    <tr>\n",
       "      <th>Avg_MAPE</th>\n",
       "      <td>3.387538e+15</td>\n",
       "      <td>2.261114e+15</td>\n",
       "    </tr>\n",
       "    <tr>\n",
       "      <th>Avg_MAE</th>\n",
       "      <td>3.609950e+00</td>\n",
       "      <td>3.923900e+00</td>\n",
       "    </tr>\n",
       "    <tr>\n",
       "      <th>Avg_MSE</th>\n",
       "      <td>3.820981e+01</td>\n",
       "      <td>4.546202e+01</td>\n",
       "    </tr>\n",
       "    <tr>\n",
       "      <th>Avg_RMSE</th>\n",
       "      <td>4.857250e+00</td>\n",
       "      <td>5.507740e+00</td>\n",
       "    </tr>\n",
       "    <tr>\n",
       "      <th>Avg_R2</th>\n",
       "      <td>2.412000e-01</td>\n",
       "      <td>-9.497000e-02</td>\n",
       "    </tr>\n",
       "    <tr>\n",
       "      <th>Avg_WAPE</th>\n",
       "      <td>1.615000e-02</td>\n",
       "      <td>1.756000e-02</td>\n",
       "    </tr>\n",
       "    <tr>\n",
       "      <th>P_MAPE</th>\n",
       "      <td>1.693769e+16</td>\n",
       "      <td>1.130557e+16</td>\n",
       "    </tr>\n",
       "    <tr>\n",
       "      <th>P_MAE</th>\n",
       "      <td>6.946300e+00</td>\n",
       "      <td>5.371570e+00</td>\n",
       "    </tr>\n",
       "    <tr>\n",
       "      <th>P_MSE</th>\n",
       "      <td>9.905320e+01</td>\n",
       "      <td>8.687492e+01</td>\n",
       "    </tr>\n",
       "    <tr>\n",
       "      <th>P_RMSE</th>\n",
       "      <td>9.952550e+00</td>\n",
       "      <td>9.320670e+00</td>\n",
       "    </tr>\n",
       "    <tr>\n",
       "      <th>P_R2</th>\n",
       "      <td>-1.479100e-01</td>\n",
       "      <td>-6.780000e-03</td>\n",
       "    </tr>\n",
       "    <tr>\n",
       "      <th>P_WAPE</th>\n",
       "      <td>2.221410e+00</td>\n",
       "      <td>1.717820e+00</td>\n",
       "    </tr>\n",
       "    <tr>\n",
       "      <th>PrA_MAPE</th>\n",
       "      <td>2.540000e-03</td>\n",
       "      <td>3.260000e-03</td>\n",
       "    </tr>\n",
       "    <tr>\n",
       "      <th>PrA_MAE</th>\n",
       "      <td>2.578980e+00</td>\n",
       "      <td>3.308650e+00</td>\n",
       "    </tr>\n",
       "    <tr>\n",
       "      <th>PrA_MSE</th>\n",
       "      <td>1.123544e+01</td>\n",
       "      <td>1.648376e+01</td>\n",
       "    </tr>\n",
       "    <tr>\n",
       "      <th>PrA_RMSE</th>\n",
       "      <td>3.351930e+00</td>\n",
       "      <td>4.060020e+00</td>\n",
       "    </tr>\n",
       "    <tr>\n",
       "      <th>PrA_R2</th>\n",
       "      <td>3.183700e-01</td>\n",
       "      <td>-4.000000e-05</td>\n",
       "    </tr>\n",
       "    <tr>\n",
       "      <th>PrA_WAPE</th>\n",
       "      <td>2.540000e-03</td>\n",
       "      <td>3.260000e-03</td>\n",
       "    </tr>\n",
       "    <tr>\n",
       "      <th>T_MAPE</th>\n",
       "      <td>5.628000e-02</td>\n",
       "      <td>9.794000e-02</td>\n",
       "    </tr>\n",
       "    <tr>\n",
       "      <th>T_MAE</th>\n",
       "      <td>1.356420e+00</td>\n",
       "      <td>2.439720e+00</td>\n",
       "    </tr>\n",
       "    <tr>\n",
       "      <th>T_MSE</th>\n",
       "      <td>3.222040e+00</td>\n",
       "      <td>8.636830e+00</td>\n",
       "    </tr>\n",
       "    <tr>\n",
       "      <th>T_RMSE</th>\n",
       "      <td>1.795000e+00</td>\n",
       "      <td>2.938850e+00</td>\n",
       "    </tr>\n",
       "    <tr>\n",
       "      <th>T_R2</th>\n",
       "      <td>6.103800e-01</td>\n",
       "      <td>-4.440000e-02</td>\n",
       "    </tr>\n",
       "    <tr>\n",
       "      <th>T_WAPE</th>\n",
       "      <td>5.429000e-02</td>\n",
       "      <td>9.765000e-02</td>\n",
       "    </tr>\n",
       "    <tr>\n",
       "      <th>UR_MAPE</th>\n",
       "      <td>1.039000e-01</td>\n",
       "      <td>1.270900e-01</td>\n",
       "    </tr>\n",
       "    <tr>\n",
       "      <th>UR_MAE</th>\n",
       "      <td>6.858570e+00</td>\n",
       "      <td>8.080380e+00</td>\n",
       "    </tr>\n",
       "    <tr>\n",
       "      <th>UR_MSE</th>\n",
       "      <td>7.738640e+01</td>\n",
       "      <td>1.150725e+02</td>\n",
       "    </tr>\n",
       "    <tr>\n",
       "      <th>UR_RMSE</th>\n",
       "      <td>8.796950e+00</td>\n",
       "      <td>1.072719e+01</td>\n",
       "    </tr>\n",
       "    <tr>\n",
       "      <th>UR_R2</th>\n",
       "      <td>1.982800e-01</td>\n",
       "      <td>-1.921500e-01</td>\n",
       "    </tr>\n",
       "    <tr>\n",
       "      <th>UR_WAPE</th>\n",
       "      <td>9.580000e-02</td>\n",
       "      <td>1.128600e-01</td>\n",
       "    </tr>\n",
       "    <tr>\n",
       "      <th>VV_MAPE</th>\n",
       "      <td>2.146000e-01</td>\n",
       "      <td>3.173300e-01</td>\n",
       "    </tr>\n",
       "    <tr>\n",
       "      <th>VV_MAE</th>\n",
       "      <td>3.095100e-01</td>\n",
       "      <td>4.191700e-01</td>\n",
       "    </tr>\n",
       "    <tr>\n",
       "      <th>VV_MSE</th>\n",
       "      <td>1.519500e-01</td>\n",
       "      <td>2.420400e-01</td>\n",
       "    </tr>\n",
       "    <tr>\n",
       "      <th>VV_RMSE</th>\n",
       "      <td>3.898100e-01</td>\n",
       "      <td>4.919800e-01</td>\n",
       "    </tr>\n",
       "    <tr>\n",
       "      <th>VV_R2</th>\n",
       "      <td>2.269100e-01</td>\n",
       "      <td>-2.314900e-01</td>\n",
       "    </tr>\n",
       "    <tr>\n",
       "      <th>VV_WAPE</th>\n",
       "      <td>1.953300e-01</td>\n",
       "      <td>2.645400e-01</td>\n",
       "    </tr>\n",
       "  </tbody>\n",
       "</table>\n",
       "</div>"
      ],
      "text/plain": [
       "          Trained Model  Dummy Forecaster\n",
       "Avg_MAPE   3.387538e+15      2.261114e+15\n",
       "Avg_MAE    3.609950e+00      3.923900e+00\n",
       "Avg_MSE    3.820981e+01      4.546202e+01\n",
       "Avg_RMSE   4.857250e+00      5.507740e+00\n",
       "Avg_R2     2.412000e-01     -9.497000e-02\n",
       "Avg_WAPE   1.615000e-02      1.756000e-02\n",
       "P_MAPE     1.693769e+16      1.130557e+16\n",
       "P_MAE      6.946300e+00      5.371570e+00\n",
       "P_MSE      9.905320e+01      8.687492e+01\n",
       "P_RMSE     9.952550e+00      9.320670e+00\n",
       "P_R2      -1.479100e-01     -6.780000e-03\n",
       "P_WAPE     2.221410e+00      1.717820e+00\n",
       "PrA_MAPE   2.540000e-03      3.260000e-03\n",
       "PrA_MAE    2.578980e+00      3.308650e+00\n",
       "PrA_MSE    1.123544e+01      1.648376e+01\n",
       "PrA_RMSE   3.351930e+00      4.060020e+00\n",
       "PrA_R2     3.183700e-01     -4.000000e-05\n",
       "PrA_WAPE   2.540000e-03      3.260000e-03\n",
       "T_MAPE     5.628000e-02      9.794000e-02\n",
       "T_MAE      1.356420e+00      2.439720e+00\n",
       "T_MSE      3.222040e+00      8.636830e+00\n",
       "T_RMSE     1.795000e+00      2.938850e+00\n",
       "T_R2       6.103800e-01     -4.440000e-02\n",
       "T_WAPE     5.429000e-02      9.765000e-02\n",
       "UR_MAPE    1.039000e-01      1.270900e-01\n",
       "UR_MAE     6.858570e+00      8.080380e+00\n",
       "UR_MSE     7.738640e+01      1.150725e+02\n",
       "UR_RMSE    8.796950e+00      1.072719e+01\n",
       "UR_R2      1.982800e-01     -1.921500e-01\n",
       "UR_WAPE    9.580000e-02      1.128600e-01\n",
       "VV_MAPE    2.146000e-01      3.173300e-01\n",
       "VV_MAE     3.095100e-01      4.191700e-01\n",
       "VV_MSE     1.519500e-01      2.420400e-01\n",
       "VV_RMSE    3.898100e-01      4.919800e-01\n",
       "VV_R2      2.269100e-01     -2.314900e-01\n",
       "VV_WAPE    1.953300e-01      2.645400e-01"
      ]
     },
     "execution_count": 31,
     "metadata": {},
     "output_type": "execute_result"
    }
   ],
   "source": [
    "df_comparison = pd.DataFrame({\n",
    "    \"Trained Model\": pd.Series(error_results),\n",
    "    \"Dummy Forecaster\": pd.Series(dummy_error_results)\n",
    "})\n",
    "\n",
    "df_comparison = df_comparison.round(5)\n",
    "df_comparison"
   ]
  },
  {
   "cell_type": "code",
   "execution_count": null,
   "metadata": {},
   "outputs": [],
   "source": []
  }
 ],
 "metadata": {
  "kernelspec": {
   "display_name": "env",
   "language": "python",
   "name": "python3"
  },
  "language_info": {
   "codemirror_mode": {
    "name": "ipython",
    "version": 3
   },
   "file_extension": ".py",
   "mimetype": "text/x-python",
   "name": "python",
   "nbconvert_exporter": "python",
   "pygments_lexer": "ipython3",
   "version": "3.9.6"
  }
 },
 "nbformat": 4,
 "nbformat_minor": 2
}
