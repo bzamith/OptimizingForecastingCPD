{
 "cells": [
  {
   "cell_type": "markdown",
   "metadata": {},
   "source": [
    "## 1. Execute full pipeline"
   ]
  },
  {
   "cell_type": "code",
   "execution_count": 1,
   "metadata": {},
   "outputs": [],
   "source": [
    "import random\n",
    "import time\n",
    "\n",
    "from keras_tuner import RandomSearch\n",
    "\n",
    "import numpy as np\n",
    "\n",
    "import pandas as pd\n",
    "\n",
    "import tensorflow as tf\n",
    "\n",
    "from config.constants import (\n",
    "    FORECAST_HORIZON, NB_TRIALS,\n",
    "    OBSERVATION_WINDOW, SEED, TRAIN_PERC\n",
    ")\n",
    "\n",
    "from src.change_point_detector import ChangePointCostFunction, ChangePointMethod, get_change_point_detector\n",
    "from src.dataset import read_dataset, split_X_y, split_train_test\n",
    "from src.forecaster import InternalForecaster, TimeSeriesHyperModel\n",
    "from src.scaler import Scaler\n",
    "from src.utils import get_error_results\n",
    "\n",
    "tf.get_logger().setLevel('ERROR')\n",
    "\n",
    "np.random.seed(SEED)\n",
    "random.seed(SEED)\n",
    "tf.random.set_seed(SEED)\n"
   ]
  },
  {
   "cell_type": "code",
   "execution_count": 2,
   "metadata": {},
   "outputs": [
    {
     "name": "stdout",
     "output_type": "stream",
     "text": [
      "Available devices: [PhysicalDevice(name='/physical_device:CPU:0', device_type='CPU'), PhysicalDevice(name='/physical_device:GPU:0', device_type='GPU')]\n",
      "Is GPU available? [PhysicalDevice(name='/physical_device:GPU:0', device_type='GPU')]\n"
     ]
    }
   ],
   "source": [
    "print(\"Available devices:\", tf.config.list_physical_devices())\n",
    "print(\"Is GPU available?\", tf.config.list_physical_devices('GPU'))\n"
   ]
  },
  {
   "cell_type": "code",
   "execution_count": 3,
   "metadata": {},
   "outputs": [
    {
     "name": "stdout",
     "output_type": "stream",
     "text": [
      "✅ TensorFlow is using Apple GPU via MPS\n"
     ]
    }
   ],
   "source": [
    "if tf.config.list_physical_devices(\"GPU\"):\n",
    "    try:\n",
    "        tf.config.set_visible_devices([], \"GPU\")  # Hide traditional GPUs if any (like external ones)\n",
    "        tf.config.experimental.set_memory_growth(tf.config.list_physical_devices(\"GPU\")[0], True)\n",
    "        print(\"✅ TensorFlow is using Apple GPU via MPS\")\n",
    "    except Exception as e:\n",
    "        print(\"⚠️ Error setting MPS GPU:\", e)\n",
    "else:\n",
    "    print(\"❌ No GPU found, running on CPU\")"
   ]
  },
  {
   "cell_type": "code",
   "execution_count": 4,
   "metadata": {},
   "outputs": [],
   "source": [
    "timestamp = 'validate_pipeline'\n",
    "dataset_domain_argv = 'UCI'\n",
    "dataset_argv = 'AIR_QUALITY'\n",
    "change_point_method_argv = 'Window'\n",
    "change_point_cost_function_argv = 'L1'"
   ]
  },
  {
   "cell_type": "code",
   "execution_count": 5,
   "metadata": {},
   "outputs": [],
   "source": [
    "execution_id = f\"{timestamp}_{dataset_domain_argv}_{dataset_argv}_{change_point_method_argv}_{change_point_cost_function_argv}_{SEED}\"\n",
    "change_point_method = ChangePointMethod.from_str(change_point_method_argv)\n",
    "change_point_cost_function = ChangePointCostFunction.from_str(change_point_cost_function_argv)\n",
    "change_point_approach = f\"{change_point_method.value.title()} {change_point_cost_function.value.title()}\""
   ]
  },
  {
   "cell_type": "code",
   "execution_count": 6,
   "metadata": {},
   "outputs": [
    {
     "name": "stdout",
     "output_type": "stream",
     "text": [
      "[Step 1] Reading dataset AIR_QUALITY from UCI\n",
      "Variables: ['CO(GT)', 'C6H6(GT)', 'NOx(GT)', 'NO2(GT)', 'T', 'RH']\n"
     ]
    }
   ],
   "source": [
    "print(f\"[Step 1] Reading dataset {dataset_argv} from {dataset_domain_argv}\")\n",
    "df, variables = read_dataset(dataset_domain_argv, dataset_argv)\n",
    "print(f\"Variables: {variables}\")"
   ]
  },
  {
   "cell_type": "code",
   "execution_count": 7,
   "metadata": {},
   "outputs": [
    {
     "name": "stdout",
     "output_type": "stream",
     "text": [
      "[Step 2] Splitting data into train_val and test\n"
     ]
    }
   ],
   "source": [
    "print(\"[Step 2] Splitting data into train_val and test\")\n",
    "train_val, test = split_train_test(df)\n",
    "report = {\n",
    "    'execution_id': execution_id,\n",
    "    'timestamp': timestamp,\n",
    "    'change_point_method': change_point_method.value,\n",
    "    'change_point_cost_function': change_point_cost_function.value,\n",
    "    'change_point_approach': change_point_approach,\n",
    "    'seed': SEED,\n",
    "    'observation_window': OBSERVATION_WINDOW,\n",
    "    'train_perc': TRAIN_PERC,\n",
    "    'nb_trials': NB_TRIALS,\n",
    "    'dataset_domain': dataset_domain_argv,\n",
    "    'dataset': dataset_argv,\n",
    "    'variables': variables,\n",
    "    'dataset_shape': df.shape,\n",
    "    'train_val_shape': train_val.shape,\n",
    "    'test_shape': test.shape,\n",
    "}"
   ]
  },
  {
   "cell_type": "code",
   "execution_count": 8,
   "metadata": {},
   "outputs": [
    {
     "name": "stdout",
     "output_type": "stream",
     "text": [
      "[Step 3] Detecting cut point (Window L1)\n",
      "Change point: 5385, Change point percentage: 71.9438877755511\n"
     ]
    }
   ],
   "source": [
    "print(f\"[Step 3] Detecting cut point ({change_point_approach})\")\n",
    "start_time = time.time()\n",
    "change_point_detector = get_change_point_detector(change_point_method, change_point_cost_function)\n",
    "change_point, change_point_perc = change_point_detector.find_change_point(train_val, variables)\n",
    "end_time = time.time()\n",
    "detect_change_point_duration = end_time - start_time\n",
    "print(f\"Change point: {change_point}, Change point percentage: {change_point_perc}\")\n",
    "report.update({\n",
    "    'detect_change_point_duration': detect_change_point_duration,\n",
    "    'change_point': str(change_point),\n",
    "    'change_point_perc': change_point_perc\n",
    "})"
   ]
  },
  {
   "cell_type": "code",
   "execution_count": 9,
   "metadata": {},
   "outputs": [
    {
     "name": "stdout",
     "output_type": "stream",
     "text": [
      "[Step 4] Reducing train_val based on change point\n"
     ]
    }
   ],
   "source": [
    "print(\"[Step 4] Reducing train_val based on change point\")\n",
    "start_time = time.time()\n",
    "reduced_train_val = change_point_detector.apply_change_point(train_val, change_point)\n",
    "end_time = time.time()\n",
    "apply_change_point_duration = end_time - start_time\n",
    "report.update({\n",
    "    'apply_change_point_duration': apply_change_point_duration,\n",
    "    'reduced_train_val.shape': reduced_train_val.shape,\n",
    "})"
   ]
  },
  {
   "cell_type": "code",
   "execution_count": 10,
   "metadata": {},
   "outputs": [
    {
     "name": "stdout",
     "output_type": "stream",
     "text": [
      "[Step 5] Splitting train_val into train and val\n"
     ]
    }
   ],
   "source": [
    "print(\"[Step 5] Splitting train_val into train and val\")\n",
    "reduced_train, reduced_val = split_train_test(reduced_train_val)\n",
    "report.update({\n",
    "    'reduced_train.shape': reduced_train.shape,\n",
    "    'reduced_val.shape': reduced_val.shape,\n",
    "})"
   ]
  },
  {
   "cell_type": "code",
   "execution_count": 11,
   "metadata": {},
   "outputs": [
    {
     "name": "stdout",
     "output_type": "stream",
     "text": [
      "[Step 6] Fitting scaler on train and applying on train and val\n"
     ]
    }
   ],
   "source": [
    "print(\"[Step 6] Fitting scaler on train and applying on train and val\")\n",
    "start_time = time.time()\n",
    "scaler = Scaler(variables)\n",
    "scaled_reduced_train = scaler.fit_scale(reduced_train)\n",
    "scaled_reduced_val = scaler.scale(reduced_val)\n",
    "end_time = time.time()\n",
    "fit_apply_scaler_train_val_duration = end_time - start_time\n",
    "report.update({\n",
    "    'fit_apply_scaler_train_val_duration': fit_apply_scaler_train_val_duration,\n",
    "})"
   ]
  },
  {
   "cell_type": "code",
   "execution_count": 12,
   "metadata": {},
   "outputs": [
    {
     "name": "stdout",
     "output_type": "stream",
     "text": [
      "[Step 7] Splitting train and val into X and y\n"
     ]
    }
   ],
   "source": [
    "print(\"[Step 7] Splitting train and val into X and y\")\n",
    "X_reduced_scaled_train, y_reduced_scaled_train = split_X_y(scaled_reduced_train)\n",
    "X_reduced_scaled_val, y_reduced_scaled_val = split_X_y(scaled_reduced_val)\n",
    "report.update({\n",
    "    'X_reduced_scaled_train.shape': X_reduced_scaled_train.shape,\n",
    "    'y_reduced_scaled_train.shape': y_reduced_scaled_train.shape,\n",
    "    'X_reduced_scaled_val.shape': X_reduced_scaled_val.shape,\n",
    "    'y_reduced_scaled_val.shape': y_reduced_scaled_val.shape,\n",
    "})"
   ]
  },
  {
   "cell_type": "code",
   "execution_count": 13,
   "metadata": {},
   "outputs": [
    {
     "data": {
      "text/plain": [
       "array([[ 0.2794384 ,  0.94363348, -0.22221197, -0.31901199,  2.57306525,\n",
       "        -0.60601449],\n",
       "       [ 0.93656296,  1.80147318,  0.20238044,  0.04013744,  2.3587538 ,\n",
       "        -0.29619734],\n",
       "       [ 1.81272904,  2.47234781,  0.6914199 ,  0.08239032,  2.20289093,\n",
       "        -0.06383447],\n",
       "       [ 1.26512524,  1.66949784,  0.35022958, -0.19225337,  2.12495949,\n",
       "        -0.10901614],\n",
       "       [ 0.88180258,  1.38355127,  0.17205241, -0.25563268,  1.91064804,\n",
       "         0.1168922 ],\n",
       "       [ 0.88180258,  1.30656566,  0.25924549, -0.53027636,  1.67685373,\n",
       "         0.43316387],\n",
       "       [ 0.8270422 ,  1.08660677,  0.17963441, -0.53027636,  1.52099086,\n",
       "         0.56870888]])"
      ]
     },
     "execution_count": 13,
     "metadata": {},
     "output_type": "execute_result"
    }
   ],
   "source": [
    "y_reduced_scaled_train[0]"
   ]
  },
  {
   "cell_type": "code",
   "execution_count": 14,
   "metadata": {},
   "outputs": [
    {
     "data": {
      "text/plain": [
       "array([[ 0.93656296,  1.80147318,  0.20238044,  0.04013744,  2.3587538 ,\n",
       "        -0.29619734],\n",
       "       [ 1.81272904,  2.47234781,  0.6914199 ,  0.08239032,  2.20289093,\n",
       "        -0.06383447],\n",
       "       [ 1.26512524,  1.66949784,  0.35022958, -0.19225337,  2.12495949,\n",
       "        -0.10901614],\n",
       "       [ 0.88180258,  1.38355127,  0.17205241, -0.25563268,  1.91064804,\n",
       "         0.1168922 ],\n",
       "       [ 0.88180258,  1.30656566,  0.25924549, -0.53027636,  1.67685373,\n",
       "         0.43316387],\n",
       "       [ 0.8270422 ,  1.08660677,  0.17963441, -0.53027636,  1.52099086,\n",
       "         0.56870888],\n",
       "       [-0.26816541,  0.09679173, -0.64680438, -0.88942579,  1.46254228,\n",
       "         0.52352721]])"
      ]
     },
     "execution_count": 14,
     "metadata": {},
     "output_type": "execute_result"
    }
   ],
   "source": [
    "y_reduced_scaled_train[1]"
   ]
  },
  {
   "cell_type": "code",
   "execution_count": 15,
   "metadata": {},
   "outputs": [
    {
     "data": {
      "text/plain": [
       "array([[ 1.81272904,  2.47234781,  0.6914199 ,  0.08239032,  2.20289093,\n",
       "        -0.06383447],\n",
       "       [ 1.26512524,  1.66949784,  0.35022958, -0.19225337,  2.12495949,\n",
       "        -0.10901614],\n",
       "       [ 0.88180258,  1.38355127,  0.17205241, -0.25563268,  1.91064804,\n",
       "         0.1168922 ],\n",
       "       [ 0.88180258,  1.30656566,  0.25924549, -0.53027636,  1.67685373,\n",
       "         0.43316387],\n",
       "       [ 0.8270422 ,  1.08660677,  0.17963441, -0.53027636,  1.52099086,\n",
       "         0.56870888],\n",
       "       [-0.26816541,  0.09679173, -0.64680438, -0.88942579,  1.46254228,\n",
       "         0.52352721],\n",
       "       [-0.76100883, -0.48609934, -1.01453173, -1.1218166 ,  1.44305942,\n",
       "         0.52998174]])"
      ]
     },
     "execution_count": 15,
     "metadata": {},
     "output_type": "execute_result"
    }
   ],
   "source": [
    "y_reduced_scaled_train[2]"
   ]
  },
  {
   "cell_type": "code",
   "execution_count": 16,
   "metadata": {},
   "outputs": [
    {
     "name": "stdout",
     "output_type": "stream",
     "text": [
      "Trial 3 Complete [00h 00m 26s]\n",
      "val_loss: 0.5227316369613012\n",
      "\n",
      "Best val_loss So Far: 0.45366173021255\n",
      "Total elapsed time: 00h 00m 49s\n"
     ]
    }
   ],
   "source": [
    "print(\"[Step 8] Running HPO and NAS\")\n",
    "n_variables = len(variables)\n",
    "forecaster_hypermodel = TimeSeriesHyperModel(\n",
    "    n_variables=n_variables\n",
    ")\n",
    "forecaster_tuner = RandomSearch(\n",
    "    forecaster_hypermodel,\n",
    "    objective='val_loss',\n",
    "    max_trials=3,\n",
    "    executions_per_trial=1,\n",
    "    directory=f\"outputs/tuner/delete_me\",\n",
    "    project_name=\"delete_me\",\n",
    "    seed=SEED,\n",
    "    overwrite=True,\n",
    "    distribution_strategy=tf.distribute.MirroredStrategy()\n",
    ")\n",
    "start_time = time.time()\n",
    "forecaster_tuner.search(\n",
    "    X_reduced_scaled_train,\n",
    "    y_reduced_scaled_train,\n",
    "    validation_data=(X_reduced_scaled_val, y_reduced_scaled_val),\n",
    "    shuffle=False,\n",
    ")\n",
    "end_time = time.time()\n",
    "tuner_duration = end_time - start_time\n",
    "report.update({\n",
    "    'tuner_duration': tuner_duration\n",
    "})"
   ]
  },
  {
   "cell_type": "code",
   "execution_count": 17,
   "metadata": {},
   "outputs": [
    {
     "name": "stdout",
     "output_type": "stream",
     "text": [
      "[Step 9] Retrieving best model\n",
      "Trial ID: 1\n",
      "Hyperparameters: {'num_layers': 2, 'units_0': 128, 'learning_rate': 0.001, 'units_1': 96, 'units_2': 32, 'units_3': 64, 'batch_size': 48, 'epochs': 150}\n",
      "Score: 0.45366173021255\n",
      "----------------------------------------\n"
     ]
    },
    {
     "name": "stderr",
     "output_type": "stream",
     "text": [
      "/Users/zamith/Doutorado/TSForecastingSubsets/env/lib/python3.9/site-packages/keras/src/saving/saving_lib.py:757: UserWarning: Skipping variable loading for optimizer 'adam', because it has 2 variables whereas the saved optimizer has 26 variables. \n",
      "  saveable.load_own_variables(weights_store.get(inner_path))\n"
     ]
    },
    {
     "data": {
      "text/html": [
       "<pre style=\"white-space:pre;overflow-x:auto;line-height:normal;font-family:Menlo,'DejaVu Sans Mono',consolas,'Courier New',monospace\"><span style=\"font-weight: bold\">Model: \"sequential\"</span>\n",
       "</pre>\n"
      ],
      "text/plain": [
       "\u001b[1mModel: \"sequential\"\u001b[0m\n"
      ]
     },
     "metadata": {},
     "output_type": "display_data"
    },
    {
     "data": {
      "text/html": [
       "<pre style=\"white-space:pre;overflow-x:auto;line-height:normal;font-family:Menlo,'DejaVu Sans Mono',consolas,'Courier New',monospace\">┏━━━━━━━━━━━━━━━━━━━━━━━━━━━━━━━━━┳━━━━━━━━━━━━━━━━━━━━━━━━┳━━━━━━━━━━━━━━━┓\n",
       "┃<span style=\"font-weight: bold\"> Layer (type)                    </span>┃<span style=\"font-weight: bold\"> Output Shape           </span>┃<span style=\"font-weight: bold\">       Param # </span>┃\n",
       "┡━━━━━━━━━━━━━━━━━━━━━━━━━━━━━━━━━╇━━━━━━━━━━━━━━━━━━━━━━━━╇━━━━━━━━━━━━━━━┩\n",
       "│ lstm (<span style=\"color: #0087ff; text-decoration-color: #0087ff\">LSTM</span>)                     │ (<span style=\"color: #00d7ff; text-decoration-color: #00d7ff\">None</span>, <span style=\"color: #00af00; text-decoration-color: #00af00\">14</span>, <span style=\"color: #00af00; text-decoration-color: #00af00\">128</span>)        │        <span style=\"color: #00af00; text-decoration-color: #00af00\">69,120</span> │\n",
       "├─────────────────────────────────┼────────────────────────┼───────────────┤\n",
       "│ batch_normalization             │ (<span style=\"color: #00d7ff; text-decoration-color: #00d7ff\">None</span>, <span style=\"color: #00af00; text-decoration-color: #00af00\">14</span>, <span style=\"color: #00af00; text-decoration-color: #00af00\">128</span>)        │           <span style=\"color: #00af00; text-decoration-color: #00af00\">512</span> │\n",
       "│ (<span style=\"color: #0087ff; text-decoration-color: #0087ff\">BatchNormalization</span>)            │                        │               │\n",
       "├─────────────────────────────────┼────────────────────────┼───────────────┤\n",
       "│ lstm_1 (<span style=\"color: #0087ff; text-decoration-color: #0087ff\">LSTM</span>)                   │ (<span style=\"color: #00d7ff; text-decoration-color: #00d7ff\">None</span>, <span style=\"color: #00af00; text-decoration-color: #00af00\">96</span>)             │        <span style=\"color: #00af00; text-decoration-color: #00af00\">86,400</span> │\n",
       "├─────────────────────────────────┼────────────────────────┼───────────────┤\n",
       "│ batch_normalization_1           │ (<span style=\"color: #00d7ff; text-decoration-color: #00d7ff\">None</span>, <span style=\"color: #00af00; text-decoration-color: #00af00\">96</span>)             │           <span style=\"color: #00af00; text-decoration-color: #00af00\">384</span> │\n",
       "│ (<span style=\"color: #0087ff; text-decoration-color: #0087ff\">BatchNormalization</span>)            │                        │               │\n",
       "├─────────────────────────────────┼────────────────────────┼───────────────┤\n",
       "│ dense (<span style=\"color: #0087ff; text-decoration-color: #0087ff\">Dense</span>)                   │ (<span style=\"color: #00d7ff; text-decoration-color: #00d7ff\">None</span>, <span style=\"color: #00af00; text-decoration-color: #00af00\">42</span>)             │         <span style=\"color: #00af00; text-decoration-color: #00af00\">4,074</span> │\n",
       "├─────────────────────────────────┼────────────────────────┼───────────────┤\n",
       "│ reshape (<span style=\"color: #0087ff; text-decoration-color: #0087ff\">Reshape</span>)               │ (<span style=\"color: #00d7ff; text-decoration-color: #00d7ff\">None</span>, <span style=\"color: #00af00; text-decoration-color: #00af00\">7</span>, <span style=\"color: #00af00; text-decoration-color: #00af00\">6</span>)           │             <span style=\"color: #00af00; text-decoration-color: #00af00\">0</span> │\n",
       "└─────────────────────────────────┴────────────────────────┴───────────────┘\n",
       "</pre>\n"
      ],
      "text/plain": [
       "┏━━━━━━━━━━━━━━━━━━━━━━━━━━━━━━━━━┳━━━━━━━━━━━━━━━━━━━━━━━━┳━━━━━━━━━━━━━━━┓\n",
       "┃\u001b[1m \u001b[0m\u001b[1mLayer (type)                   \u001b[0m\u001b[1m \u001b[0m┃\u001b[1m \u001b[0m\u001b[1mOutput Shape          \u001b[0m\u001b[1m \u001b[0m┃\u001b[1m \u001b[0m\u001b[1m      Param #\u001b[0m\u001b[1m \u001b[0m┃\n",
       "┡━━━━━━━━━━━━━━━━━━━━━━━━━━━━━━━━━╇━━━━━━━━━━━━━━━━━━━━━━━━╇━━━━━━━━━━━━━━━┩\n",
       "│ lstm (\u001b[38;5;33mLSTM\u001b[0m)                     │ (\u001b[38;5;45mNone\u001b[0m, \u001b[38;5;34m14\u001b[0m, \u001b[38;5;34m128\u001b[0m)        │        \u001b[38;5;34m69,120\u001b[0m │\n",
       "├─────────────────────────────────┼────────────────────────┼───────────────┤\n",
       "│ batch_normalization             │ (\u001b[38;5;45mNone\u001b[0m, \u001b[38;5;34m14\u001b[0m, \u001b[38;5;34m128\u001b[0m)        │           \u001b[38;5;34m512\u001b[0m │\n",
       "│ (\u001b[38;5;33mBatchNormalization\u001b[0m)            │                        │               │\n",
       "├─────────────────────────────────┼────────────────────────┼───────────────┤\n",
       "│ lstm_1 (\u001b[38;5;33mLSTM\u001b[0m)                   │ (\u001b[38;5;45mNone\u001b[0m, \u001b[38;5;34m96\u001b[0m)             │        \u001b[38;5;34m86,400\u001b[0m │\n",
       "├─────────────────────────────────┼────────────────────────┼───────────────┤\n",
       "│ batch_normalization_1           │ (\u001b[38;5;45mNone\u001b[0m, \u001b[38;5;34m96\u001b[0m)             │           \u001b[38;5;34m384\u001b[0m │\n",
       "│ (\u001b[38;5;33mBatchNormalization\u001b[0m)            │                        │               │\n",
       "├─────────────────────────────────┼────────────────────────┼───────────────┤\n",
       "│ dense (\u001b[38;5;33mDense\u001b[0m)                   │ (\u001b[38;5;45mNone\u001b[0m, \u001b[38;5;34m42\u001b[0m)             │         \u001b[38;5;34m4,074\u001b[0m │\n",
       "├─────────────────────────────────┼────────────────────────┼───────────────┤\n",
       "│ reshape (\u001b[38;5;33mReshape\u001b[0m)               │ (\u001b[38;5;45mNone\u001b[0m, \u001b[38;5;34m7\u001b[0m, \u001b[38;5;34m6\u001b[0m)           │             \u001b[38;5;34m0\u001b[0m │\n",
       "└─────────────────────────────────┴────────────────────────┴───────────────┘\n"
      ]
     },
     "metadata": {},
     "output_type": "display_data"
    },
    {
     "data": {
      "text/html": [
       "<pre style=\"white-space:pre;overflow-x:auto;line-height:normal;font-family:Menlo,'DejaVu Sans Mono',consolas,'Courier New',monospace\"><span style=\"font-weight: bold\"> Total params: </span><span style=\"color: #00af00; text-decoration-color: #00af00\">160,490</span> (626.91 KB)\n",
       "</pre>\n"
      ],
      "text/plain": [
       "\u001b[1m Total params: \u001b[0m\u001b[38;5;34m160,490\u001b[0m (626.91 KB)\n"
      ]
     },
     "metadata": {},
     "output_type": "display_data"
    },
    {
     "data": {
      "text/html": [
       "<pre style=\"white-space:pre;overflow-x:auto;line-height:normal;font-family:Menlo,'DejaVu Sans Mono',consolas,'Courier New',monospace\"><span style=\"font-weight: bold\"> Trainable params: </span><span style=\"color: #00af00; text-decoration-color: #00af00\">160,042</span> (625.16 KB)\n",
       "</pre>\n"
      ],
      "text/plain": [
       "\u001b[1m Trainable params: \u001b[0m\u001b[38;5;34m160,042\u001b[0m (625.16 KB)\n"
      ]
     },
     "metadata": {},
     "output_type": "display_data"
    },
    {
     "data": {
      "text/html": [
       "<pre style=\"white-space:pre;overflow-x:auto;line-height:normal;font-family:Menlo,'DejaVu Sans Mono',consolas,'Courier New',monospace\"><span style=\"font-weight: bold\"> Non-trainable params: </span><span style=\"color: #00af00; text-decoration-color: #00af00\">448</span> (1.75 KB)\n",
       "</pre>\n"
      ],
      "text/plain": [
       "\u001b[1m Non-trainable params: \u001b[0m\u001b[38;5;34m448\u001b[0m (1.75 KB)\n"
      ]
     },
     "metadata": {},
     "output_type": "display_data"
    },
    {
     "data": {
      "text/html": [
       "<pre style=\"white-space:pre;overflow-x:auto;line-height:normal;font-family:Menlo,'DejaVu Sans Mono',consolas,'Courier New',monospace\"></pre>\n"
      ],
      "text/plain": []
     },
     "metadata": {},
     "output_type": "display_data"
    }
   ],
   "source": [
    "print(\"[Step 9] Retrieving best model\")\n",
    "best_trial = forecaster_tuner.oracle.get_best_trials(num_trials=1)[0]\n",
    "best_forecaster_model = forecaster_tuner.get_best_models(num_models=1)[0]\n",
    "print(f\"Trial ID: {best_trial.trial_id}\")\n",
    "print(f\"Hyperparameters: {best_trial.hyperparameters.values}\")\n",
    "print(f\"Score: {best_trial.score}\")\n",
    "print(\"-\" * 40)\n",
    "best_forecaster_model.summary()\n",
    "best_forecaster_model = InternalForecaster(\n",
    "    best_forecaster_model,\n",
    "    len(variables),\n",
    "    best_trial.hyperparameters.values['batch_size'],\n",
    "    best_trial.hyperparameters.values['epochs'],\n",
    ")\n",
    "report.update({\n",
    "    'best_trial_id': best_trial.trial_id,\n",
    "    'best_trial_hyperparameters': best_trial.hyperparameters.values,\n",
    "    'best_trial_score': best_trial.score,\n",
    "    'best_forecaster_model': best_forecaster_model.summary(),\n",
    "})"
   ]
  },
  {
   "cell_type": "code",
   "execution_count": 18,
   "metadata": {},
   "outputs": [
    {
     "name": "stdout",
     "output_type": "stream",
     "text": [
      "[Step 10] Fitting scaler on train_val and applying on train_val and test\n"
     ]
    }
   ],
   "source": [
    "print(\"[Step 10] Fitting scaler on train_val and applying on train_val and test\")\n",
    "start_time = time.time()\n",
    "scaler = Scaler(variables)\n",
    "scaled_reduced_train_val = scaler.fit_scale(reduced_train_val)\n",
    "scaled_test = scaler.scale(test)\n",
    "end_time = time.time()\n",
    "fit_apply_scaler_train_val_test_duration = end_time - start_time\n",
    "report.update({\n",
    "    'fit_apply_scaler_train_val_test_duration': fit_apply_scaler_train_val_test_duration,\n",
    "})"
   ]
  },
  {
   "cell_type": "code",
   "execution_count": 19,
   "metadata": {},
   "outputs": [
    {
     "name": "stdout",
     "output_type": "stream",
     "text": [
      "[Step 11] Splitting train_val and test into X and y\n"
     ]
    }
   ],
   "source": [
    "print(\"[Step 11] Splitting train_val and test into X and y\")\n",
    "X_reduced_scaled_train_val, y_reduced_scaled_train_val = split_X_y(scaled_reduced_train_val)\n",
    "X_scaled_test, y_scaled_test = split_X_y(scaled_test)\n",
    "report.update({\n",
    "    'X_reduced_scaled_train_val.shape': X_reduced_scaled_train_val.shape,\n",
    "    'y_reduced_scaled_train_val.shape': y_reduced_scaled_train_val.shape,\n",
    "    'X_scaled_test.shape': X_scaled_test.shape,\n",
    "    'y_scaled_test.shape': y_scaled_test.shape,\n",
    "})"
   ]
  },
  {
   "cell_type": "code",
   "execution_count": 20,
   "metadata": {},
   "outputs": [
    {
     "name": "stdout",
     "output_type": "stream",
     "text": [
      "[Step 12] Retraining best model\n",
      "Epoch 1/150\n",
      "\u001b[1m43/43\u001b[0m \u001b[32m━━━━━━━━━━━━━━━━━━━━\u001b[0m\u001b[37m\u001b[0m \u001b[1m2s\u001b[0m 11ms/step - loss: 0.7836 - learning_rate: 0.0010\n",
      "Epoch 2/150\n",
      "\u001b[1m43/43\u001b[0m \u001b[32m━━━━━━━━━━━━━━━━━━━━\u001b[0m\u001b[37m\u001b[0m \u001b[1m1s\u001b[0m 12ms/step - loss: 0.7786 - learning_rate: 0.0010\n",
      "Epoch 3/150\n",
      "\u001b[1m43/43\u001b[0m \u001b[32m━━━━━━━━━━━━━━━━━━━━\u001b[0m\u001b[37m\u001b[0m \u001b[1m1s\u001b[0m 13ms/step - loss: 0.7422 - learning_rate: 0.0010\n",
      "Epoch 4/150\n",
      "\u001b[1m43/43\u001b[0m \u001b[32m━━━━━━━━━━━━━━━━━━━━\u001b[0m\u001b[37m\u001b[0m \u001b[1m1s\u001b[0m 12ms/step - loss: 0.7114 - learning_rate: 0.0010\n",
      "Epoch 5/150\n",
      "\u001b[1m43/43\u001b[0m \u001b[32m━━━━━━━━━━━━━━━━━━━━\u001b[0m\u001b[37m\u001b[0m \u001b[1m1s\u001b[0m 12ms/step - loss: 0.6611 - learning_rate: 0.0010\n",
      "Epoch 6/150\n",
      "\u001b[1m43/43\u001b[0m \u001b[32m━━━━━━━━━━━━━━━━━━━━\u001b[0m\u001b[37m\u001b[0m \u001b[1m0s\u001b[0m 11ms/step - loss: 0.6358 - learning_rate: 0.0010\n",
      "Epoch 7/150\n",
      "\u001b[1m43/43\u001b[0m \u001b[32m━━━━━━━━━━━━━━━━━━━━\u001b[0m\u001b[37m\u001b[0m \u001b[1m0s\u001b[0m 11ms/step - loss: 0.5979 - learning_rate: 0.0010\n",
      "Epoch 8/150\n",
      "\u001b[1m43/43\u001b[0m \u001b[32m━━━━━━━━━━━━━━━━━━━━\u001b[0m\u001b[37m\u001b[0m \u001b[1m1s\u001b[0m 12ms/step - loss: 0.5979 - learning_rate: 0.0010\n",
      "Epoch 9/150\n",
      "\u001b[1m43/43\u001b[0m \u001b[32m━━━━━━━━━━━━━━━━━━━━\u001b[0m\u001b[37m\u001b[0m \u001b[1m0s\u001b[0m 11ms/step - loss: 0.5879 - learning_rate: 0.0010\n",
      "Epoch 10/150\n",
      "\u001b[1m43/43\u001b[0m \u001b[32m━━━━━━━━━━━━━━━━━━━━\u001b[0m\u001b[37m\u001b[0m \u001b[1m0s\u001b[0m 11ms/step - loss: 0.6031 - learning_rate: 0.0010\n",
      "Epoch 11/150\n",
      "\u001b[1m43/43\u001b[0m \u001b[32m━━━━━━━━━━━━━━━━━━━━\u001b[0m\u001b[37m\u001b[0m \u001b[1m0s\u001b[0m 11ms/step - loss: 0.6062 - learning_rate: 0.0010\n",
      "Epoch 12/150\n",
      "\u001b[1m43/43\u001b[0m \u001b[32m━━━━━━━━━━━━━━━━━━━━\u001b[0m\u001b[37m\u001b[0m \u001b[1m1s\u001b[0m 12ms/step - loss: 0.5821 - learning_rate: 0.0010\n",
      "Epoch 13/150\n",
      "\u001b[1m43/43\u001b[0m \u001b[32m━━━━━━━━━━━━━━━━━━━━\u001b[0m\u001b[37m\u001b[0m \u001b[1m1s\u001b[0m 13ms/step - loss: 0.5584 - learning_rate: 0.0010\n",
      "Epoch 14/150\n",
      "\u001b[1m43/43\u001b[0m \u001b[32m━━━━━━━━━━━━━━━━━━━━\u001b[0m\u001b[37m\u001b[0m \u001b[1m0s\u001b[0m 11ms/step - loss: 0.6033 - learning_rate: 0.0010\n",
      "Epoch 15/150\n",
      "\u001b[1m43/43\u001b[0m \u001b[32m━━━━━━━━━━━━━━━━━━━━\u001b[0m\u001b[37m\u001b[0m \u001b[1m0s\u001b[0m 10ms/step - loss: 0.6283 - learning_rate: 0.0010\n",
      "Epoch 16/150\n",
      "\u001b[1m43/43\u001b[0m \u001b[32m━━━━━━━━━━━━━━━━━━━━\u001b[0m\u001b[37m\u001b[0m \u001b[1m0s\u001b[0m 12ms/step - loss: 0.6158 - learning_rate: 0.0010\n",
      "Epoch 17/150\n",
      "\u001b[1m43/43\u001b[0m \u001b[32m━━━━━━━━━━━━━━━━━━━━\u001b[0m\u001b[37m\u001b[0m \u001b[1m0s\u001b[0m 11ms/step - loss: 0.5921 - learning_rate: 5.0000e-04\n",
      "Epoch 18/150\n",
      "\u001b[1m43/43\u001b[0m \u001b[32m━━━━━━━━━━━━━━━━━━━━\u001b[0m\u001b[37m\u001b[0m \u001b[1m0s\u001b[0m 11ms/step - loss: 0.6246 - learning_rate: 5.0000e-04\n",
      "Epoch 19/150\n",
      "\u001b[1m43/43\u001b[0m \u001b[32m━━━━━━━━━━━━━━━━━━━━\u001b[0m\u001b[37m\u001b[0m \u001b[1m0s\u001b[0m 10ms/step - loss: 0.6095 - learning_rate: 5.0000e-04\n",
      "Epoch 20/150\n",
      "\u001b[1m43/43\u001b[0m \u001b[32m━━━━━━━━━━━━━━━━━━━━\u001b[0m\u001b[37m\u001b[0m \u001b[1m0s\u001b[0m 10ms/step - loss: 0.5995 - learning_rate: 5.0000e-04\n",
      "Epoch 21/150\n",
      "\u001b[1m43/43\u001b[0m \u001b[32m━━━━━━━━━━━━━━━━━━━━\u001b[0m\u001b[37m\u001b[0m \u001b[1m0s\u001b[0m 10ms/step - loss: 0.6019 - learning_rate: 2.5000e-04\n",
      "Epoch 22/150\n",
      "\u001b[1m43/43\u001b[0m \u001b[32m━━━━━━━━━━━━━━━━━━━━\u001b[0m\u001b[37m\u001b[0m \u001b[1m0s\u001b[0m 10ms/step - loss: 0.5591 - learning_rate: 2.5000e-04\n",
      "Epoch 23/150\n",
      "\u001b[1m43/43\u001b[0m \u001b[32m━━━━━━━━━━━━━━━━━━━━\u001b[0m\u001b[37m\u001b[0m \u001b[1m0s\u001b[0m 11ms/step - loss: 0.5550 - learning_rate: 2.5000e-04\n",
      "Epoch 24/150\n",
      "\u001b[1m43/43\u001b[0m \u001b[32m━━━━━━━━━━━━━━━━━━━━\u001b[0m\u001b[37m\u001b[0m \u001b[1m0s\u001b[0m 11ms/step - loss: 0.5558 - learning_rate: 2.5000e-04\n",
      "Epoch 25/150\n",
      "\u001b[1m43/43\u001b[0m \u001b[32m━━━━━━━━━━━━━━━━━━━━\u001b[0m\u001b[37m\u001b[0m \u001b[1m0s\u001b[0m 12ms/step - loss: 0.5505 - learning_rate: 2.5000e-04\n",
      "Epoch 26/150\n",
      "\u001b[1m43/43\u001b[0m \u001b[32m━━━━━━━━━━━━━━━━━━━━\u001b[0m\u001b[37m\u001b[0m \u001b[1m0s\u001b[0m 12ms/step - loss: 0.5283 - learning_rate: 2.5000e-04\n",
      "Epoch 27/150\n",
      "\u001b[1m43/43\u001b[0m \u001b[32m━━━━━━━━━━━━━━━━━━━━\u001b[0m\u001b[37m\u001b[0m \u001b[1m1s\u001b[0m 12ms/step - loss: 0.5153 - learning_rate: 2.5000e-04\n",
      "Epoch 28/150\n",
      "\u001b[1m43/43\u001b[0m \u001b[32m━━━━━━━━━━━━━━━━━━━━\u001b[0m\u001b[37m\u001b[0m \u001b[1m1s\u001b[0m 13ms/step - loss: 0.5219 - learning_rate: 2.5000e-04\n",
      "Epoch 29/150\n",
      "\u001b[1m43/43\u001b[0m \u001b[32m━━━━━━━━━━━━━━━━━━━━\u001b[0m\u001b[37m\u001b[0m \u001b[1m1s\u001b[0m 12ms/step - loss: 0.5672 - learning_rate: 2.5000e-04\n",
      "Epoch 30/150\n",
      "\u001b[1m43/43\u001b[0m \u001b[32m━━━━━━━━━━━━━━━━━━━━\u001b[0m\u001b[37m\u001b[0m \u001b[1m0s\u001b[0m 11ms/step - loss: 0.6073 - learning_rate: 2.5000e-04\n",
      "Epoch 31/150\n",
      "\u001b[1m43/43\u001b[0m \u001b[32m━━━━━━━━━━━━━━━━━━━━\u001b[0m\u001b[37m\u001b[0m \u001b[1m0s\u001b[0m 11ms/step - loss: 0.6152 - learning_rate: 2.5000e-04\n",
      "Epoch 32/150\n",
      "\u001b[1m43/43\u001b[0m \u001b[32m━━━━━━━━━━━━━━━━━━━━\u001b[0m\u001b[37m\u001b[0m \u001b[1m0s\u001b[0m 10ms/step - loss: 0.6130 - learning_rate: 2.5000e-04\n",
      "Epoch 33/150\n",
      "\u001b[1m43/43\u001b[0m \u001b[32m━━━━━━━━━━━━━━━━━━━━\u001b[0m\u001b[37m\u001b[0m \u001b[1m0s\u001b[0m 9ms/step - loss: 0.6277 - learning_rate: 1.2500e-04\n",
      "Epoch 34/150\n",
      "\u001b[1m43/43\u001b[0m \u001b[32m━━━━━━━━━━━━━━━━━━━━\u001b[0m\u001b[37m\u001b[0m \u001b[1m0s\u001b[0m 10ms/step - loss: 0.6256 - learning_rate: 1.2500e-04\n"
     ]
    }
   ],
   "source": [
    "print(\"[Step 12] Retraining best model\")\n",
    "start_time = time.time()\n",
    "best_forecaster_model.fit(\n",
    "    X_reduced_scaled_train_val,\n",
    "    y_reduced_scaled_train_val,\n",
    "    shuffle=False\n",
    ")\n",
    "end_time = time.time()\n",
    "retrain_duration = end_time - start_time\n",
    "report.update({\n",
    "    'retrain_duration': retrain_duration,\n",
    "})"
   ]
  },
  {
   "cell_type": "code",
   "execution_count": 21,
   "metadata": {},
   "outputs": [
    {
     "name": "stdout",
     "output_type": "stream",
     "text": [
      "[Step 13] Forecasting for test\n"
     ]
    },
    {
     "name": "stderr",
     "output_type": "stream",
     "text": [
      "2025-03-11 13:35:32.217153: W tensorflow/core/framework/dataset.cc:959] Input of GeneratorDatasetOp::Dataset will not be optimized because the dataset does not implement the AsGraphDefInternal() method needed to apply optimizations.\n"
     ]
    },
    {
     "name": "stdout",
     "output_type": "stream",
     "text": [
      "\u001b[1m58/58\u001b[0m \u001b[32m━━━━━━━━━━━━━━━━━━━━\u001b[0m\u001b[37m\u001b[0m \u001b[1m0s\u001b[0m 6ms/step"
     ]
    },
    {
     "name": "stderr",
     "output_type": "stream",
     "text": [
      "2025-03-11 13:35:32.570043: W tensorflow/core/framework/local_rendezvous.cc:404] Local rendezvous is aborting with status: OUT_OF_RANGE: End of sequence\n",
      "\t [[{{node MultiDeviceIteratorGetNextFromShard}}]]\n"
     ]
    },
    {
     "name": "stdout",
     "output_type": "stream",
     "text": [
      "\u001b[1m58/58\u001b[0m \u001b[32m━━━━━━━━━━━━━━━━━━━━\u001b[0m\u001b[37m\u001b[0m \u001b[1m1s\u001b[0m 7ms/step\n"
     ]
    }
   ],
   "source": [
    "print(\"[Step 13] Forecasting for test\")\n",
    "start_time = time.time()\n",
    "y_scaled_pred = best_forecaster_model.forecast(X_scaled_test)\n",
    "y_scaled_test_flat = y_scaled_test.reshape(-1, n_variables)\n",
    "y_scaled_pred_flat = y_scaled_pred.reshape(-1, n_variables)\n",
    "end_time = time.time()\n",
    "forecasting_test_duration = end_time - start_time\n",
    "report.update({\n",
    "    'forecasting_test_duration': forecasting_test_duration,\n",
    "})"
   ]
  },
  {
   "cell_type": "code",
   "execution_count": 22,
   "metadata": {},
   "outputs": [
    {
     "data": {
      "text/plain": [
       "array([[-1.23055822, -1.25086781, -1.16213415, -0.87719569, -2.06214374,\n",
       "        -0.13780333],\n",
       "       [-1.11462147, -1.18137868, -1.05524888, -0.6343508 , -1.94346707,\n",
       "        -0.31248902],\n",
       "       [-0.94071634, -0.99607432, -1.01566174, -0.52396676, -1.86434929,\n",
       "        -0.3528011 ],\n",
       "       ...,\n",
       "       [-0.12915906,  0.06942571, -0.37435011,  1.24217789,  2.74426146,\n",
       "        -2.84543152],\n",
       "       [-0.3030642 , -0.26643843, -0.60395551,  0.82271854,  3.0211737 ,\n",
       "        -3.16792817],\n",
       "       [-0.24509582,  0.0115181 , -0.4851941 ,  1.08764024,  3.06073259,\n",
       "        -3.1948029 ]])"
      ]
     },
     "execution_count": 22,
     "metadata": {},
     "output_type": "execute_result"
    }
   ],
   "source": [
    "y_scaled_test_flat"
   ]
  },
  {
   "cell_type": "code",
   "execution_count": 23,
   "metadata": {},
   "outputs": [
    {
     "data": {
      "text/plain": [
       "array([[-1.2570964 , -1.118185  , -1.1714721 , -0.98450387, -0.8617839 ,\n",
       "        -0.04249223],\n",
       "       [-1.1576163 , -1.0291641 , -0.9263065 , -0.6987602 , -1.2499973 ,\n",
       "        -0.23049735],\n",
       "       [-0.8877931 , -0.56798494, -0.78847903, -0.58778214, -0.7765648 ,\n",
       "        -0.69313884],\n",
       "       ...,\n",
       "       [ 0.22131073,  0.15229571,  0.10626084,  0.583874  ,  0.6346942 ,\n",
       "        -0.6136454 ],\n",
       "       [ 0.09056734,  0.2789734 ,  0.13814922,  0.42272183,  0.6354566 ,\n",
       "        -0.821318  ],\n",
       "       [ 0.29874888,  0.33242595,  0.179133  ,  0.48148185,  0.45168316,\n",
       "        -0.9332367 ]], dtype=float32)"
      ]
     },
     "execution_count": 23,
     "metadata": {},
     "output_type": "execute_result"
    }
   ],
   "source": [
    "y_scaled_pred_flat"
   ]
  },
  {
   "cell_type": "code",
   "execution_count": 24,
   "metadata": {},
   "outputs": [
    {
     "name": "stdout",
     "output_type": "stream",
     "text": [
      "[Step 14] Descaling data\n"
     ]
    }
   ],
   "source": [
    "print(\"[Step 14] Descaling data\")\n",
    "start_time = time.time()\n",
    "y_test = scaler.descale(pd.DataFrame(y_scaled_test_flat, columns=variables))\n",
    "y_pred = scaler.descale(pd.DataFrame(y_scaled_pred_flat, columns=variables))\n",
    "end_time = time.time()\n",
    "descaling_duration = end_time - start_time\n",
    "report.update({\n",
    "    'descaling_duration': descaling_duration,\n",
    "})"
   ]
  },
  {
   "cell_type": "code",
   "execution_count": 25,
   "metadata": {},
   "outputs": [
    {
     "data": {
      "text/html": [
       "<div>\n",
       "<style scoped>\n",
       "    .dataframe tbody tr th:only-of-type {\n",
       "        vertical-align: middle;\n",
       "    }\n",
       "\n",
       "    .dataframe tbody tr th {\n",
       "        vertical-align: top;\n",
       "    }\n",
       "\n",
       "    .dataframe thead th {\n",
       "        text-align: right;\n",
       "    }\n",
       "</style>\n",
       "<table border=\"1\" class=\"dataframe\">\n",
       "  <thead>\n",
       "    <tr style=\"text-align: right;\">\n",
       "      <th></th>\n",
       "      <th>CO(GT)</th>\n",
       "      <th>C6H6(GT)</th>\n",
       "      <th>NOx(GT)</th>\n",
       "      <th>NO2(GT)</th>\n",
       "      <th>T</th>\n",
       "      <th>RH</th>\n",
       "    </tr>\n",
       "  </thead>\n",
       "  <tbody>\n",
       "    <tr>\n",
       "      <th>0</th>\n",
       "      <td>0.5</td>\n",
       "      <td>1.0</td>\n",
       "      <td>94.0</td>\n",
       "      <td>79.0</td>\n",
       "      <td>2.6</td>\n",
       "      <td>58.6</td>\n",
       "    </tr>\n",
       "    <tr>\n",
       "      <th>1</th>\n",
       "      <td>0.7</td>\n",
       "      <td>1.6</td>\n",
       "      <td>121.0</td>\n",
       "      <td>90.0</td>\n",
       "      <td>3.2</td>\n",
       "      <td>56.0</td>\n",
       "    </tr>\n",
       "    <tr>\n",
       "      <th>2</th>\n",
       "      <td>1.0</td>\n",
       "      <td>3.2</td>\n",
       "      <td>131.0</td>\n",
       "      <td>95.0</td>\n",
       "      <td>3.6</td>\n",
       "      <td>55.4</td>\n",
       "    </tr>\n",
       "    <tr>\n",
       "      <th>3</th>\n",
       "      <td>3.0</td>\n",
       "      <td>15.9</td>\n",
       "      <td>552.0</td>\n",
       "      <td>169.0</td>\n",
       "      <td>1.8</td>\n",
       "      <td>63.3</td>\n",
       "    </tr>\n",
       "    <tr>\n",
       "      <th>4</th>\n",
       "      <td>4.1</td>\n",
       "      <td>18.0</td>\n",
       "      <td>614.0</td>\n",
       "      <td>199.0</td>\n",
       "      <td>2.4</td>\n",
       "      <td>60.2</td>\n",
       "    </tr>\n",
       "    <tr>\n",
       "      <th>...</th>\n",
       "      <td>...</td>\n",
       "      <td>...</td>\n",
       "      <td>...</td>\n",
       "      <td>...</td>\n",
       "      <td>...</td>\n",
       "      <td>...</td>\n",
       "    </tr>\n",
       "    <tr>\n",
       "      <th>12959</th>\n",
       "      <td>3.1</td>\n",
       "      <td>13.5</td>\n",
       "      <td>472.0</td>\n",
       "      <td>190.0</td>\n",
       "      <td>21.9</td>\n",
       "      <td>29.3</td>\n",
       "    </tr>\n",
       "    <tr>\n",
       "      <th>12960</th>\n",
       "      <td>2.4</td>\n",
       "      <td>11.4</td>\n",
       "      <td>353.0</td>\n",
       "      <td>179.0</td>\n",
       "      <td>24.3</td>\n",
       "      <td>23.7</td>\n",
       "    </tr>\n",
       "    <tr>\n",
       "      <th>12961</th>\n",
       "      <td>2.4</td>\n",
       "      <td>12.4</td>\n",
       "      <td>293.0</td>\n",
       "      <td>175.0</td>\n",
       "      <td>26.9</td>\n",
       "      <td>18.3</td>\n",
       "    </tr>\n",
       "    <tr>\n",
       "      <th>12962</th>\n",
       "      <td>2.1</td>\n",
       "      <td>9.5</td>\n",
       "      <td>235.0</td>\n",
       "      <td>156.0</td>\n",
       "      <td>28.3</td>\n",
       "      <td>13.5</td>\n",
       "    </tr>\n",
       "    <tr>\n",
       "      <th>12963</th>\n",
       "      <td>2.2</td>\n",
       "      <td>11.9</td>\n",
       "      <td>265.0</td>\n",
       "      <td>168.0</td>\n",
       "      <td>28.5</td>\n",
       "      <td>13.1</td>\n",
       "    </tr>\n",
       "  </tbody>\n",
       "</table>\n",
       "<p>12964 rows × 6 columns</p>\n",
       "</div>"
      ],
      "text/plain": [
       "       CO(GT)  C6H6(GT)  NOx(GT)  NO2(GT)     T    RH\n",
       "0         0.5       1.0     94.0     79.0   2.6  58.6\n",
       "1         0.7       1.6    121.0     90.0   3.2  56.0\n",
       "2         1.0       3.2    131.0     95.0   3.6  55.4\n",
       "3         3.0      15.9    552.0    169.0   1.8  63.3\n",
       "4         4.1      18.0    614.0    199.0   2.4  60.2\n",
       "...       ...       ...      ...      ...   ...   ...\n",
       "12959     3.1      13.5    472.0    190.0  21.9  29.3\n",
       "12960     2.4      11.4    353.0    179.0  24.3  23.7\n",
       "12961     2.4      12.4    293.0    175.0  26.9  18.3\n",
       "12962     2.1       9.5    235.0    156.0  28.3  13.5\n",
       "12963     2.2      11.9    265.0    168.0  28.5  13.1\n",
       "\n",
       "[12964 rows x 6 columns]"
      ]
     },
     "execution_count": 25,
     "metadata": {},
     "output_type": "execute_result"
    }
   ],
   "source": [
    "y_test"
   ]
  },
  {
   "cell_type": "code",
   "execution_count": 26,
   "metadata": {},
   "outputs": [
    {
     "data": {
      "text/html": [
       "<div>\n",
       "<style scoped>\n",
       "    .dataframe tbody tr th:only-of-type {\n",
       "        vertical-align: middle;\n",
       "    }\n",
       "\n",
       "    .dataframe tbody tr th {\n",
       "        vertical-align: top;\n",
       "    }\n",
       "\n",
       "    .dataframe thead th {\n",
       "        text-align: right;\n",
       "    }\n",
       "</style>\n",
       "<table border=\"1\" class=\"dataframe\">\n",
       "  <thead>\n",
       "    <tr style=\"text-align: right;\">\n",
       "      <th></th>\n",
       "      <th>CO(GT)</th>\n",
       "      <th>C6H6(GT)</th>\n",
       "      <th>NOx(GT)</th>\n",
       "      <th>NO2(GT)</th>\n",
       "      <th>T</th>\n",
       "      <th>RH</th>\n",
       "    </tr>\n",
       "  </thead>\n",
       "  <tbody>\n",
       "    <tr>\n",
       "      <th>0</th>\n",
       "      <td>0.454219</td>\n",
       "      <td>2.145642</td>\n",
       "      <td>91.641174</td>\n",
       "      <td>74.139328</td>\n",
       "      <td>8.668723</td>\n",
       "      <td>60.018600</td>\n",
       "    </tr>\n",
       "    <tr>\n",
       "      <th>1</th>\n",
       "      <td>0.625831</td>\n",
       "      <td>2.914289</td>\n",
       "      <td>153.571793</td>\n",
       "      <td>87.082489</td>\n",
       "      <td>6.706013</td>\n",
       "      <td>57.220352</td>\n",
       "    </tr>\n",
       "    <tr>\n",
       "      <th>2</th>\n",
       "      <td>1.091297</td>\n",
       "      <td>6.896314</td>\n",
       "      <td>188.388000</td>\n",
       "      <td>92.109390</td>\n",
       "      <td>9.099570</td>\n",
       "      <td>50.334454</td>\n",
       "    </tr>\n",
       "    <tr>\n",
       "      <th>3</th>\n",
       "      <td>1.418148</td>\n",
       "      <td>7.119215</td>\n",
       "      <td>223.937363</td>\n",
       "      <td>91.017593</td>\n",
       "      <td>10.008091</td>\n",
       "      <td>51.046364</td>\n",
       "    </tr>\n",
       "    <tr>\n",
       "      <th>4</th>\n",
       "      <td>2.414800</td>\n",
       "      <td>5.756291</td>\n",
       "      <td>370.170319</td>\n",
       "      <td>109.554092</td>\n",
       "      <td>11.039125</td>\n",
       "      <td>51.086624</td>\n",
       "    </tr>\n",
       "    <tr>\n",
       "      <th>...</th>\n",
       "      <td>...</td>\n",
       "      <td>...</td>\n",
       "      <td>...</td>\n",
       "      <td>...</td>\n",
       "      <td>...</td>\n",
       "      <td>...</td>\n",
       "    </tr>\n",
       "    <tr>\n",
       "      <th>12959</th>\n",
       "      <td>2.737122</td>\n",
       "      <td>12.626399</td>\n",
       "      <td>522.500000</td>\n",
       "      <td>148.940964</td>\n",
       "      <td>14.510257</td>\n",
       "      <td>53.994621</td>\n",
       "    </tr>\n",
       "    <tr>\n",
       "      <th>12960</th>\n",
       "      <td>2.457779</td>\n",
       "      <td>13.777521</td>\n",
       "      <td>476.312988</td>\n",
       "      <td>145.011551</td>\n",
       "      <td>15.522722</td>\n",
       "      <td>48.495182</td>\n",
       "    </tr>\n",
       "    <tr>\n",
       "      <th>12961</th>\n",
       "      <td>3.004588</td>\n",
       "      <td>13.115537</td>\n",
       "      <td>414.405823</td>\n",
       "      <td>145.181198</td>\n",
       "      <td>16.234549</td>\n",
       "      <td>51.517628</td>\n",
       "    </tr>\n",
       "    <tr>\n",
       "      <th>12962</th>\n",
       "      <td>2.779045</td>\n",
       "      <td>14.209328</td>\n",
       "      <td>422.461060</td>\n",
       "      <td>137.881592</td>\n",
       "      <td>16.238403</td>\n",
       "      <td>48.426655</td>\n",
       "    </tr>\n",
       "    <tr>\n",
       "      <th>12963</th>\n",
       "      <td>3.138175</td>\n",
       "      <td>14.670861</td>\n",
       "      <td>432.813873</td>\n",
       "      <td>140.543213</td>\n",
       "      <td>15.309289</td>\n",
       "      <td>46.760868</td>\n",
       "    </tr>\n",
       "  </tbody>\n",
       "</table>\n",
       "<p>12964 rows × 6 columns</p>\n",
       "</div>"
      ],
      "text/plain": [
       "         CO(GT)   C6H6(GT)     NOx(GT)     NO2(GT)          T         RH\n",
       "0      0.454219   2.145642   91.641174   74.139328   8.668723  60.018600\n",
       "1      0.625831   2.914289  153.571793   87.082489   6.706013  57.220352\n",
       "2      1.091297   6.896314  188.388000   92.109390   9.099570  50.334454\n",
       "3      1.418148   7.119215  223.937363   91.017593  10.008091  51.046364\n",
       "4      2.414800   5.756291  370.170319  109.554092  11.039125  51.086624\n",
       "...         ...        ...         ...         ...        ...        ...\n",
       "12959  2.737122  12.626399  522.500000  148.940964  14.510257  53.994621\n",
       "12960  2.457779  13.777521  476.312988  145.011551  15.522722  48.495182\n",
       "12961  3.004588  13.115537  414.405823  145.181198  16.234549  51.517628\n",
       "12962  2.779045  14.209328  422.461060  137.881592  16.238403  48.426655\n",
       "12963  3.138175  14.670861  432.813873  140.543213  15.309289  46.760868\n",
       "\n",
       "[12964 rows x 6 columns]"
      ]
     },
     "execution_count": 26,
     "metadata": {},
     "output_type": "execute_result"
    }
   ],
   "source": [
    "y_pred"
   ]
  },
  {
   "cell_type": "code",
   "execution_count": 27,
   "metadata": {},
   "outputs": [
    {
     "name": "stdout",
     "output_type": "stream",
     "text": [
      "[Step 15] Calculating evaluation metrics\n",
      "Obtained error results: {'Avg_MAPE': 4285350056737.7524, 'Avg_MAE': 37.014565271029056, 'Avg_MSE': 7450.922220362588, 'Avg_RMSE': 47.3275079827271, 'Avg_R2': 0.11642965684866236, 'Avg_WAPE': 0.4324391440854277, 'CO(GT)_MAPE': 1.21005619867109, 'CO(GT)_MAE': 1.0382033489363154, 'CO(GT)_MSE': 1.782331695345944, 'CO(GT)_RMSE': 1.335039960205665, 'CO(GT)_R2': 0.0715647930188531, 'CO(GT)_WAPE': 0.5468701850403123, 'C6H6(GT)_MAPE': 1.5977004653244824, 'C6H6(GT)_MAE': 5.071898450958814, 'C6H6(GT)_MSE': 40.501238878562354, 'C6H6(GT)_RMSE': 6.364058365427077, 'C6H6(GT)_R2': 0.031968018776954876, 'C6H6(GT)_WAPE': 0.6339057088573822, 'NOx(GT)_MAPE': 0.8774151298410675, 'NOx(GT)_MAE': 159.92815352222257, 'NOx(GT)_MSE': 41635.45162720768, 'NOx(GT)_RMSE': 204.0476699872059, 'NOx(GT)_R2': 0.04941531048386727, 'NOx(GT)_WAPE': 0.5309664025535077, 'NO2(GT)_MAPE': 0.30763528445930477, 'NO2(GT)_MAE': 40.33748309386435, 'NO2(GT)_MSE': 2801.0993754947763, 'NO2(GT)_RMSE': 52.92541332379726, 'NO2(GT)_R2': 0.04235794650510338, 'NO2(GT)_WAPE': 0.2826628253783016, 'T_MAPE': 25712100340422.21, 'T_MAE': 4.297910920084327, 'T_MSE': 26.433561633441823, 'T_RMSE': 5.141357956167011, 'T_R2': 0.23830280024326056, 'T_WAPE': 0.42917401366727576, 'RH_MAPE': 0.3112714458048577, 'RH_MAE': 11.413742290107985, 'RH_MSE': 200.2651872657193, 'RH_RMSE': 14.151508303559705, 'RH_R2': 0.26496907206393494, 'RH_WAPE': 0.2294314180043675}\n"
     ]
    }
   ],
   "source": [
    "print(\"[Step 15] Calculating evaluation metrics\")\n",
    "total_duration = sum(value for key, value in report.items() if key.endswith('_duration'))\n",
    "error_results = get_error_results(y_test, y_pred, variables)\n",
    "print(f\"Obtained error results: {error_results}\")\n",
    "report.update({\n",
    "    'total_duration': total_duration,\n",
    "    'error_results': error_results,\n",
    "})"
   ]
  },
  {
   "cell_type": "code",
   "execution_count": 28,
   "metadata": {},
   "outputs": [
    {
     "data": {
      "text/plain": [
       "{'execution_id': 'validate_pipeline_UCI_AIR_QUALITY_Window_L1_42',\n",
       " 'timestamp': 'validate_pipeline',\n",
       " 'change_point_method': 'Window',\n",
       " 'change_point_cost_function': 'L1',\n",
       " 'change_point_approach': 'Window L1',\n",
       " 'seed': 42,\n",
       " 'observation_window': 14,\n",
       " 'train_perc': 0.8,\n",
       " 'nb_trials': 15,\n",
       " 'dataset_domain': 'UCI',\n",
       " 'dataset': 'AIR_QUALITY',\n",
       " 'variables': ['CO(GT)', 'C6H6(GT)', 'NOx(GT)', 'NO2(GT)', 'T', 'RH'],\n",
       " 'dataset_shape': (9357, 7),\n",
       " 'train_val_shape': (7485, 7),\n",
       " 'test_shape': (1872, 7),\n",
       " 'detect_change_point_duration': 0.07336115837097168,\n",
       " 'change_point': '5385',\n",
       " 'change_point_perc': 71.9438877755511,\n",
       " 'apply_change_point_duration': 8.416175842285156e-05,\n",
       " 'reduced_train_val.shape': (2100, 7),\n",
       " 'reduced_train.shape': (1680, 7),\n",
       " 'reduced_val.shape': (420, 7),\n",
       " 'fit_apply_scaler_train_val_duration': 0.002841949462890625,\n",
       " 'X_reduced_scaled_train.shape': (1660, 14, 6),\n",
       " 'y_reduced_scaled_train.shape': (1660, 7, 6),\n",
       " 'X_reduced_scaled_val.shape': (400, 14, 6),\n",
       " 'y_reduced_scaled_val.shape': (400, 7, 6),\n",
       " 'tuner_duration': 48.79232716560364,\n",
       " 'best_trial_id': '1',\n",
       " 'best_trial_hyperparameters': {'num_layers': 2,\n",
       "  'units_0': 128,\n",
       "  'learning_rate': 0.001,\n",
       "  'units_1': 96,\n",
       "  'units_2': 32,\n",
       "  'units_3': 64,\n",
       "  'batch_size': 48,\n",
       "  'epochs': 150},\n",
       " 'best_trial_score': 0.45366173021255,\n",
       " 'best_forecaster_model': 'Model: \"sequential\"\\n┏━━━━━━━━━━━━━━━━━━━━━━━━━━━━━━━━━┳━━━━━━━━━━━━━━━━━━━━━━━━┳━━━━━━━━━━━━━━━┓\\n┃ Layer (type)                    ┃ Output Shape           ┃       Param # ┃\\n┡━━━━━━━━━━━━━━━━━━━━━━━━━━━━━━━━━╇━━━━━━━━━━━━━━━━━━━━━━━━╇━━━━━━━━━━━━━━━┩\\n│ lstm (LSTM)                     │ (None, 14, 128)        │        69,120 │\\n├─────────────────────────────────┼────────────────────────┼───────────────┤\\n│ batch_normalization             │ (None, 14, 128)        │           512 │\\n│ (BatchNormalization)            │                        │               │\\n├─────────────────────────────────┼────────────────────────┼───────────────┤\\n│ lstm_1 (LSTM)                   │ (None, 96)             │        86,400 │\\n├─────────────────────────────────┼────────────────────────┼───────────────┤\\n│ batch_normalization_1           │ (None, 96)             │           384 │\\n│ (BatchNormalization)            │                        │               │\\n├─────────────────────────────────┼────────────────────────┼───────────────┤\\n│ dense (Dense)                   │ (None, 42)             │         4,074 │\\n├─────────────────────────────────┼────────────────────────┼───────────────┤\\n│ reshape (Reshape)               │ (None, 7, 6)           │             0 │\\n└─────────────────────────────────┴────────────────────────┴───────────────┘\\n Total params: 160,490 (626.91 KB)\\n Trainable params: 160,042 (625.16 KB)\\n Non-trainable params: 448 (1.75 KB)\\n\\n',\n",
       " 'fit_apply_scaler_train_val_test_duration': 0.005395174026489258,\n",
       " 'X_reduced_scaled_train_val.shape': (2080, 14, 6),\n",
       " 'y_reduced_scaled_train_val.shape': (2080, 7, 6),\n",
       " 'X_scaled_test.shape': (1852, 14, 6),\n",
       " 'y_scaled_test.shape': (1852, 7, 6),\n",
       " 'retrain_duration': 17.720771074295044,\n",
       " 'forecasting_test_duration': 0.6219279766082764,\n",
       " 'descaling_duration': 0.002878904342651367,\n",
       " 'total_duration': 67.21958756446838,\n",
       " 'error_results': {'Avg_MAPE': 4285350056737.7524,\n",
       "  'Avg_MAE': 37.014565271029056,\n",
       "  'Avg_MSE': 7450.922220362588,\n",
       "  'Avg_RMSE': 47.3275079827271,\n",
       "  'Avg_R2': 0.11642965684866236,\n",
       "  'Avg_WAPE': 0.4324391440854277,\n",
       "  'CO(GT)_MAPE': 1.21005619867109,\n",
       "  'CO(GT)_MAE': 1.0382033489363154,\n",
       "  'CO(GT)_MSE': 1.782331695345944,\n",
       "  'CO(GT)_RMSE': 1.335039960205665,\n",
       "  'CO(GT)_R2': 0.0715647930188531,\n",
       "  'CO(GT)_WAPE': 0.5468701850403123,\n",
       "  'C6H6(GT)_MAPE': 1.5977004653244824,\n",
       "  'C6H6(GT)_MAE': 5.071898450958814,\n",
       "  'C6H6(GT)_MSE': 40.501238878562354,\n",
       "  'C6H6(GT)_RMSE': 6.364058365427077,\n",
       "  'C6H6(GT)_R2': 0.031968018776954876,\n",
       "  'C6H6(GT)_WAPE': 0.6339057088573822,\n",
       "  'NOx(GT)_MAPE': 0.8774151298410675,\n",
       "  'NOx(GT)_MAE': 159.92815352222257,\n",
       "  'NOx(GT)_MSE': 41635.45162720768,\n",
       "  'NOx(GT)_RMSE': 204.0476699872059,\n",
       "  'NOx(GT)_R2': 0.04941531048386727,\n",
       "  'NOx(GT)_WAPE': 0.5309664025535077,\n",
       "  'NO2(GT)_MAPE': 0.30763528445930477,\n",
       "  'NO2(GT)_MAE': 40.33748309386435,\n",
       "  'NO2(GT)_MSE': 2801.0993754947763,\n",
       "  'NO2(GT)_RMSE': 52.92541332379726,\n",
       "  'NO2(GT)_R2': 0.04235794650510338,\n",
       "  'NO2(GT)_WAPE': 0.2826628253783016,\n",
       "  'T_MAPE': 25712100340422.21,\n",
       "  'T_MAE': 4.297910920084327,\n",
       "  'T_MSE': 26.433561633441823,\n",
       "  'T_RMSE': 5.141357956167011,\n",
       "  'T_R2': 0.23830280024326056,\n",
       "  'T_WAPE': 0.42917401366727576,\n",
       "  'RH_MAPE': 0.3112714458048577,\n",
       "  'RH_MAE': 11.413742290107985,\n",
       "  'RH_MSE': 200.2651872657193,\n",
       "  'RH_RMSE': 14.151508303559705,\n",
       "  'RH_R2': 0.26496907206393494,\n",
       "  'RH_WAPE': 0.2294314180043675}}"
      ]
     },
     "execution_count": 28,
     "metadata": {},
     "output_type": "execute_result"
    }
   ],
   "source": [
    "report"
   ]
  },
  {
   "cell_type": "markdown",
   "metadata": {},
   "source": [
    "## 2. What would be the error if we predicted the average values for all variables (Dummy Forecaster)?"
   ]
  },
  {
   "cell_type": "code",
   "execution_count": 29,
   "metadata": {},
   "outputs": [],
   "source": [
    "X_train_val, y_train_val = split_X_y(train_val)\n",
    "X_test, y_test = split_X_y(test)"
   ]
  },
  {
   "cell_type": "code",
   "execution_count": 30,
   "metadata": {},
   "outputs": [],
   "source": [
    "train_val_targets_flat = pd.DataFrame(y_train_val.reshape(-1, len(variables)), columns=variables)\n",
    "avg_values = train_val_targets_flat.mean(axis=0).to_numpy()"
   ]
  },
  {
   "cell_type": "code",
   "execution_count": 31,
   "metadata": {},
   "outputs": [],
   "source": [
    "n_test = y_test.shape[0]\n",
    "dummy_pred = np.tile(avg_values, (n_test, FORECAST_HORIZON, 1))\n",
    "\n",
    "dummy_pred_flat = dummy_pred.reshape(-1, n_variables)\n",
    "y_test_flat = pd.DataFrame(y_test.reshape(-1, n_variables), columns=variables)"
   ]
  },
  {
   "cell_type": "code",
   "execution_count": 32,
   "metadata": {},
   "outputs": [
    {
     "name": "stdout",
     "output_type": "stream",
     "text": [
      "Error metrics for Dummy Forecaster (predicting average values): \n",
      "{'Avg_MAPE': 8234635315137.397, 'Avg_MAE': 39.6761911395693, 'Avg_MSE': 9050.378952062862, 'Avg_RMSE': 54.45008211461132, 'Avg_R2': -0.6663866828639414, 'Avg_WAPE': 0.4635347737122664, 'CO(GT)_MAPE': 1.4907392486029176, 'CO(GT)_MAE': 1.1496764140739417, 'CO(GT)_MSE': 2.0059470835605415, 'CO(GT)_RMSE': 1.4163146131988265, 'CO(GT)_R2': -0.044918799672288845, 'CO(GT)_WAPE': 0.6055882539246805, 'C6H6(GT)_MAPE': 2.4158267445655204, 'C6H6(GT)_MAE': 5.998942145850846, 'C6H6(GT)_MSE': 49.37824329877635, 'C6H6(GT)_RMSE': 7.026965440271949, 'C6H6(GT)_R2': -0.18020386569282976, 'C6H6(GT)_WAPE': 0.7497712562918357, 'NOx(GT)_MAPE': 0.69058204879659, 'NOx(GT)_MAE': 152.8286100552228, 'NOx(GT)_MSE': 49209.25736669915, 'NOx(GT)_RMSE': 221.8315968627985, 'NOx(GT)_R2': -0.12350328403007538, 'NOx(GT)_WAPE': 0.5073956992631623, 'NO2(GT)_MAPE': 0.38503788600654404, 'NO2(GT)_MAE': 53.84588657162112, 'NO2(GT)_MSE': 4627.602712434949, 'NO2(GT)_RMSE': 68.02648537470498, 'NO2(GT)_R2': -0.5820884482229336, 'NO2(GT)_WAPE': 0.3773222637098321, 'T_MAPE': 49407811890819.55, 'T_MAE': 10.715515800495881, 'T_MSE': 141.10016475956155, 'T_RMSE': 11.878559035487493, 'T_R2': -3.0658766258195884, 'T_WAPE': 1.0700130854558751, 'RH_MAPE': 0.333980216041891, 'RH_MAE': 13.518515850140027, 'RH_MSE': 272.92927810066453, 'RH_RMSE': 16.52057136120493, 'RH_R2': -0.0017290737459678684, 'RH_WAPE': 0.271740169173103}\n"
     ]
    }
   ],
   "source": [
    "dummy_error_results = get_error_results(y_test_flat, dummy_pred_flat, variables)\n",
    "print(f\"Error metrics for Dummy Forecaster (predicting average values): \\n{dummy_error_results}\")"
   ]
  },
  {
   "cell_type": "code",
   "execution_count": 33,
   "metadata": {},
   "outputs": [
    {
     "data": {
      "text/html": [
       "<div>\n",
       "<style scoped>\n",
       "    .dataframe tbody tr th:only-of-type {\n",
       "        vertical-align: middle;\n",
       "    }\n",
       "\n",
       "    .dataframe tbody tr th {\n",
       "        vertical-align: top;\n",
       "    }\n",
       "\n",
       "    .dataframe thead th {\n",
       "        text-align: right;\n",
       "    }\n",
       "</style>\n",
       "<table border=\"1\" class=\"dataframe\">\n",
       "  <thead>\n",
       "    <tr style=\"text-align: right;\">\n",
       "      <th></th>\n",
       "      <th>Trained Model</th>\n",
       "      <th>Dummy Forecaster</th>\n",
       "    </tr>\n",
       "  </thead>\n",
       "  <tbody>\n",
       "    <tr>\n",
       "      <th>Avg_MAPE</th>\n",
       "      <td>4.285350e+12</td>\n",
       "      <td>8.234635e+12</td>\n",
       "    </tr>\n",
       "    <tr>\n",
       "      <th>Avg_MAE</th>\n",
       "      <td>3.701457e+01</td>\n",
       "      <td>3.967619e+01</td>\n",
       "    </tr>\n",
       "    <tr>\n",
       "      <th>Avg_MSE</th>\n",
       "      <td>7.450922e+03</td>\n",
       "      <td>9.050379e+03</td>\n",
       "    </tr>\n",
       "    <tr>\n",
       "      <th>Avg_RMSE</th>\n",
       "      <td>4.732751e+01</td>\n",
       "      <td>5.445008e+01</td>\n",
       "    </tr>\n",
       "    <tr>\n",
       "      <th>Avg_R2</th>\n",
       "      <td>1.164300e-01</td>\n",
       "      <td>-6.663900e-01</td>\n",
       "    </tr>\n",
       "    <tr>\n",
       "      <th>Avg_WAPE</th>\n",
       "      <td>4.324400e-01</td>\n",
       "      <td>4.635300e-01</td>\n",
       "    </tr>\n",
       "    <tr>\n",
       "      <th>CO(GT)_MAPE</th>\n",
       "      <td>1.210060e+00</td>\n",
       "      <td>1.490740e+00</td>\n",
       "    </tr>\n",
       "    <tr>\n",
       "      <th>CO(GT)_MAE</th>\n",
       "      <td>1.038200e+00</td>\n",
       "      <td>1.149680e+00</td>\n",
       "    </tr>\n",
       "    <tr>\n",
       "      <th>CO(GT)_MSE</th>\n",
       "      <td>1.782330e+00</td>\n",
       "      <td>2.005950e+00</td>\n",
       "    </tr>\n",
       "    <tr>\n",
       "      <th>CO(GT)_RMSE</th>\n",
       "      <td>1.335040e+00</td>\n",
       "      <td>1.416310e+00</td>\n",
       "    </tr>\n",
       "    <tr>\n",
       "      <th>CO(GT)_R2</th>\n",
       "      <td>7.156000e-02</td>\n",
       "      <td>-4.492000e-02</td>\n",
       "    </tr>\n",
       "    <tr>\n",
       "      <th>CO(GT)_WAPE</th>\n",
       "      <td>5.468700e-01</td>\n",
       "      <td>6.055900e-01</td>\n",
       "    </tr>\n",
       "    <tr>\n",
       "      <th>C6H6(GT)_MAPE</th>\n",
       "      <td>1.597700e+00</td>\n",
       "      <td>2.415830e+00</td>\n",
       "    </tr>\n",
       "    <tr>\n",
       "      <th>C6H6(GT)_MAE</th>\n",
       "      <td>5.071900e+00</td>\n",
       "      <td>5.998940e+00</td>\n",
       "    </tr>\n",
       "    <tr>\n",
       "      <th>C6H6(GT)_MSE</th>\n",
       "      <td>4.050124e+01</td>\n",
       "      <td>4.937824e+01</td>\n",
       "    </tr>\n",
       "    <tr>\n",
       "      <th>C6H6(GT)_RMSE</th>\n",
       "      <td>6.364060e+00</td>\n",
       "      <td>7.026970e+00</td>\n",
       "    </tr>\n",
       "    <tr>\n",
       "      <th>C6H6(GT)_R2</th>\n",
       "      <td>3.197000e-02</td>\n",
       "      <td>-1.802000e-01</td>\n",
       "    </tr>\n",
       "    <tr>\n",
       "      <th>C6H6(GT)_WAPE</th>\n",
       "      <td>6.339100e-01</td>\n",
       "      <td>7.497700e-01</td>\n",
       "    </tr>\n",
       "    <tr>\n",
       "      <th>NOx(GT)_MAPE</th>\n",
       "      <td>8.774200e-01</td>\n",
       "      <td>6.905800e-01</td>\n",
       "    </tr>\n",
       "    <tr>\n",
       "      <th>NOx(GT)_MAE</th>\n",
       "      <td>1.599281e+02</td>\n",
       "      <td>1.528286e+02</td>\n",
       "    </tr>\n",
       "    <tr>\n",
       "      <th>NOx(GT)_MSE</th>\n",
       "      <td>4.163545e+04</td>\n",
       "      <td>4.920926e+04</td>\n",
       "    </tr>\n",
       "    <tr>\n",
       "      <th>NOx(GT)_RMSE</th>\n",
       "      <td>2.040477e+02</td>\n",
       "      <td>2.218316e+02</td>\n",
       "    </tr>\n",
       "    <tr>\n",
       "      <th>NOx(GT)_R2</th>\n",
       "      <td>4.942000e-02</td>\n",
       "      <td>-1.235000e-01</td>\n",
       "    </tr>\n",
       "    <tr>\n",
       "      <th>NOx(GT)_WAPE</th>\n",
       "      <td>5.309700e-01</td>\n",
       "      <td>5.074000e-01</td>\n",
       "    </tr>\n",
       "    <tr>\n",
       "      <th>NO2(GT)_MAPE</th>\n",
       "      <td>3.076400e-01</td>\n",
       "      <td>3.850400e-01</td>\n",
       "    </tr>\n",
       "    <tr>\n",
       "      <th>NO2(GT)_MAE</th>\n",
       "      <td>4.033748e+01</td>\n",
       "      <td>5.384589e+01</td>\n",
       "    </tr>\n",
       "    <tr>\n",
       "      <th>NO2(GT)_MSE</th>\n",
       "      <td>2.801099e+03</td>\n",
       "      <td>4.627603e+03</td>\n",
       "    </tr>\n",
       "    <tr>\n",
       "      <th>NO2(GT)_RMSE</th>\n",
       "      <td>5.292541e+01</td>\n",
       "      <td>6.802649e+01</td>\n",
       "    </tr>\n",
       "    <tr>\n",
       "      <th>NO2(GT)_R2</th>\n",
       "      <td>4.236000e-02</td>\n",
       "      <td>-5.820900e-01</td>\n",
       "    </tr>\n",
       "    <tr>\n",
       "      <th>NO2(GT)_WAPE</th>\n",
       "      <td>2.826600e-01</td>\n",
       "      <td>3.773200e-01</td>\n",
       "    </tr>\n",
       "    <tr>\n",
       "      <th>T_MAPE</th>\n",
       "      <td>2.571210e+13</td>\n",
       "      <td>4.940781e+13</td>\n",
       "    </tr>\n",
       "    <tr>\n",
       "      <th>T_MAE</th>\n",
       "      <td>4.297910e+00</td>\n",
       "      <td>1.071552e+01</td>\n",
       "    </tr>\n",
       "    <tr>\n",
       "      <th>T_MSE</th>\n",
       "      <td>2.643356e+01</td>\n",
       "      <td>1.411002e+02</td>\n",
       "    </tr>\n",
       "    <tr>\n",
       "      <th>T_RMSE</th>\n",
       "      <td>5.141360e+00</td>\n",
       "      <td>1.187856e+01</td>\n",
       "    </tr>\n",
       "    <tr>\n",
       "      <th>T_R2</th>\n",
       "      <td>2.383000e-01</td>\n",
       "      <td>-3.065880e+00</td>\n",
       "    </tr>\n",
       "    <tr>\n",
       "      <th>T_WAPE</th>\n",
       "      <td>4.291700e-01</td>\n",
       "      <td>1.070010e+00</td>\n",
       "    </tr>\n",
       "    <tr>\n",
       "      <th>RH_MAPE</th>\n",
       "      <td>3.112700e-01</td>\n",
       "      <td>3.339800e-01</td>\n",
       "    </tr>\n",
       "    <tr>\n",
       "      <th>RH_MAE</th>\n",
       "      <td>1.141374e+01</td>\n",
       "      <td>1.351852e+01</td>\n",
       "    </tr>\n",
       "    <tr>\n",
       "      <th>RH_MSE</th>\n",
       "      <td>2.002652e+02</td>\n",
       "      <td>2.729293e+02</td>\n",
       "    </tr>\n",
       "    <tr>\n",
       "      <th>RH_RMSE</th>\n",
       "      <td>1.415151e+01</td>\n",
       "      <td>1.652057e+01</td>\n",
       "    </tr>\n",
       "    <tr>\n",
       "      <th>RH_R2</th>\n",
       "      <td>2.649700e-01</td>\n",
       "      <td>-1.730000e-03</td>\n",
       "    </tr>\n",
       "    <tr>\n",
       "      <th>RH_WAPE</th>\n",
       "      <td>2.294300e-01</td>\n",
       "      <td>2.717400e-01</td>\n",
       "    </tr>\n",
       "  </tbody>\n",
       "</table>\n",
       "</div>"
      ],
      "text/plain": [
       "               Trained Model  Dummy Forecaster\n",
       "Avg_MAPE        4.285350e+12      8.234635e+12\n",
       "Avg_MAE         3.701457e+01      3.967619e+01\n",
       "Avg_MSE         7.450922e+03      9.050379e+03\n",
       "Avg_RMSE        4.732751e+01      5.445008e+01\n",
       "Avg_R2          1.164300e-01     -6.663900e-01\n",
       "Avg_WAPE        4.324400e-01      4.635300e-01\n",
       "CO(GT)_MAPE     1.210060e+00      1.490740e+00\n",
       "CO(GT)_MAE      1.038200e+00      1.149680e+00\n",
       "CO(GT)_MSE      1.782330e+00      2.005950e+00\n",
       "CO(GT)_RMSE     1.335040e+00      1.416310e+00\n",
       "CO(GT)_R2       7.156000e-02     -4.492000e-02\n",
       "CO(GT)_WAPE     5.468700e-01      6.055900e-01\n",
       "C6H6(GT)_MAPE   1.597700e+00      2.415830e+00\n",
       "C6H6(GT)_MAE    5.071900e+00      5.998940e+00\n",
       "C6H6(GT)_MSE    4.050124e+01      4.937824e+01\n",
       "C6H6(GT)_RMSE   6.364060e+00      7.026970e+00\n",
       "C6H6(GT)_R2     3.197000e-02     -1.802000e-01\n",
       "C6H6(GT)_WAPE   6.339100e-01      7.497700e-01\n",
       "NOx(GT)_MAPE    8.774200e-01      6.905800e-01\n",
       "NOx(GT)_MAE     1.599281e+02      1.528286e+02\n",
       "NOx(GT)_MSE     4.163545e+04      4.920926e+04\n",
       "NOx(GT)_RMSE    2.040477e+02      2.218316e+02\n",
       "NOx(GT)_R2      4.942000e-02     -1.235000e-01\n",
       "NOx(GT)_WAPE    5.309700e-01      5.074000e-01\n",
       "NO2(GT)_MAPE    3.076400e-01      3.850400e-01\n",
       "NO2(GT)_MAE     4.033748e+01      5.384589e+01\n",
       "NO2(GT)_MSE     2.801099e+03      4.627603e+03\n",
       "NO2(GT)_RMSE    5.292541e+01      6.802649e+01\n",
       "NO2(GT)_R2      4.236000e-02     -5.820900e-01\n",
       "NO2(GT)_WAPE    2.826600e-01      3.773200e-01\n",
       "T_MAPE          2.571210e+13      4.940781e+13\n",
       "T_MAE           4.297910e+00      1.071552e+01\n",
       "T_MSE           2.643356e+01      1.411002e+02\n",
       "T_RMSE          5.141360e+00      1.187856e+01\n",
       "T_R2            2.383000e-01     -3.065880e+00\n",
       "T_WAPE          4.291700e-01      1.070010e+00\n",
       "RH_MAPE         3.112700e-01      3.339800e-01\n",
       "RH_MAE          1.141374e+01      1.351852e+01\n",
       "RH_MSE          2.002652e+02      2.729293e+02\n",
       "RH_RMSE         1.415151e+01      1.652057e+01\n",
       "RH_R2           2.649700e-01     -1.730000e-03\n",
       "RH_WAPE         2.294300e-01      2.717400e-01"
      ]
     },
     "execution_count": 33,
     "metadata": {},
     "output_type": "execute_result"
    }
   ],
   "source": [
    "df_comparison = pd.DataFrame({\n",
    "    \"Trained Model\": pd.Series(error_results),\n",
    "    \"Dummy Forecaster\": pd.Series(dummy_error_results)\n",
    "})\n",
    "\n",
    "df_comparison = df_comparison.round(5)\n",
    "df_comparison"
   ]
  }
 ],
 "metadata": {
  "kernelspec": {
   "display_name": "env",
   "language": "python",
   "name": "python3"
  },
  "language_info": {
   "codemirror_mode": {
    "name": "ipython",
    "version": 3
   },
   "file_extension": ".py",
   "mimetype": "text/x-python",
   "name": "python",
   "nbconvert_exporter": "python",
   "pygments_lexer": "ipython3",
   "version": "3.9.6"
  }
 },
 "nbformat": 4,
 "nbformat_minor": 2
}
