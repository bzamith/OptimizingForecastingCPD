{
 "cells": [
  {
   "cell_type": "markdown",
   "metadata": {},
   "source": [
    "## 1. Execute full pipeline"
   ]
  },
  {
   "cell_type": "code",
   "execution_count": 1,
   "metadata": {},
   "outputs": [],
   "source": [
    "import random\n",
    "import time\n",
    "\n",
    "from keras_tuner import RandomSearch\n",
    "\n",
    "import numpy as np\n",
    "\n",
    "import pandas as pd\n",
    "\n",
    "import tensorflow as tf\n",
    "\n",
    "from config.constants import (\n",
    "    FORECAST_HORIZON, NB_TRIALS,\n",
    "    OBSERVATION_WINDOW, SEED, TRAIN_PERC\n",
    ")\n",
    "\n",
    "from src.cut_point_detector import CutPointMethod, CutPointModel, get_cut_point_detector\n",
    "from src.dataset import read_dataset, split_X_y, split_train_test\n",
    "from src.forecaster import InternalForecaster, TimeSeriesHyperModel\n",
    "from src.scaler import Scaler\n",
    "from src.utils import get_error_results\n",
    "\n",
    "tf.get_logger().setLevel('ERROR')\n",
    "\n",
    "np.random.seed(SEED)\n",
    "random.seed(SEED)\n",
    "tf.random.set_seed(SEED)\n"
   ]
  },
  {
   "cell_type": "code",
   "execution_count": 2,
   "metadata": {},
   "outputs": [
    {
     "name": "stdout",
     "output_type": "stream",
     "text": [
      "Available devices: [PhysicalDevice(name='/physical_device:CPU:0', device_type='CPU'), PhysicalDevice(name='/physical_device:GPU:0', device_type='GPU')]\n",
      "Is GPU available? [PhysicalDevice(name='/physical_device:GPU:0', device_type='GPU')]\n"
     ]
    }
   ],
   "source": [
    "print(\"Available devices:\", tf.config.list_physical_devices())\n",
    "print(\"Is GPU available?\", tf.config.list_physical_devices('GPU'))\n"
   ]
  },
  {
   "cell_type": "code",
   "execution_count": 3,
   "metadata": {},
   "outputs": [
    {
     "name": "stdout",
     "output_type": "stream",
     "text": [
      "✅ TensorFlow is using Apple GPU via MPS\n"
     ]
    }
   ],
   "source": [
    "if tf.config.list_physical_devices(\"GPU\"):\n",
    "    try:\n",
    "        tf.config.set_visible_devices([], \"GPU\")  # Hide traditional GPUs if any (like external ones)\n",
    "        tf.config.experimental.set_memory_growth(tf.config.list_physical_devices(\"GPU\")[0], True)\n",
    "        print(\"✅ TensorFlow is using Apple GPU via MPS\")\n",
    "    except Exception as e:\n",
    "        print(\"⚠️ Error setting MPS GPU:\", e)\n",
    "else:\n",
    "    print(\"❌ No GPU found, running on CPU\")"
   ]
  },
  {
   "cell_type": "code",
   "execution_count": 4,
   "metadata": {},
   "outputs": [],
   "source": [
    "timestamp = 'validate_pipeline'\n",
    "dataset_domain_argv = 'UCI'\n",
    "dataset_argv = 'APPLIANCES_ENERGY'\n",
    "cut_point_model_argv = 'Window'\n",
    "cut_point_method_argv = 'L1'"
   ]
  },
  {
   "cell_type": "code",
   "execution_count": 5,
   "metadata": {},
   "outputs": [],
   "source": [
    "execution_id = f\"{timestamp}_{dataset_domain_argv}_{dataset_argv}_{cut_point_model_argv}_{cut_point_method_argv}_{SEED}\"\n",
    "cut_point_model = CutPointModel.from_str(cut_point_model_argv)\n",
    "cut_point_method = CutPointMethod.from_str(cut_point_method_argv)\n",
    "cut_point_approach = f\"{cut_point_model.value.title()} {cut_point_method.value.title()}\""
   ]
  },
  {
   "cell_type": "code",
   "execution_count": 6,
   "metadata": {},
   "outputs": [
    {
     "name": "stdout",
     "output_type": "stream",
     "text": [
      "[Step 1] Reading dataset APPLIANCES_ENERGY from UCI\n",
      "Variables: ['T_out', 'Press_mm_hg', 'RH_out', 'Windspeed', 'Visibility', 'Tdewpoint']\n"
     ]
    }
   ],
   "source": [
    "print(f\"[Step 1] Reading dataset {dataset_argv} from {dataset_domain_argv}\")\n",
    "df, variables = read_dataset(dataset_domain_argv, dataset_argv)\n",
    "print(f\"Variables: {variables}\")"
   ]
  },
  {
   "cell_type": "code",
   "execution_count": 7,
   "metadata": {},
   "outputs": [
    {
     "name": "stdout",
     "output_type": "stream",
     "text": [
      "[Step 2] Splitting data into train_val and test\n"
     ]
    }
   ],
   "source": [
    "print(\"[Step 2] Splitting data into train_val and test\")\n",
    "train_val, test = split_train_test(df)\n",
    "report = {\n",
    "    'execution_id': execution_id,\n",
    "    'timestamp': timestamp,\n",
    "    'cut_point_model': cut_point_model.value,\n",
    "    'cut_point_method': cut_point_method.value,\n",
    "    'cut_point_approach': cut_point_approach,\n",
    "    'seed': SEED,\n",
    "    'observation_window': OBSERVATION_WINDOW,\n",
    "    'train_perc': TRAIN_PERC,\n",
    "    'nb_trials': NB_TRIALS,\n",
    "    'dataset_domain': dataset_domain_argv,\n",
    "    'dataset': dataset_argv,\n",
    "    'variables': variables,\n",
    "    'dataset_shape': df.shape,\n",
    "    'train_val_shape': train_val.shape,\n",
    "    'test_shape': test.shape,\n",
    "}"
   ]
  },
  {
   "cell_type": "code",
   "execution_count": 8,
   "metadata": {},
   "outputs": [
    {
     "name": "stdout",
     "output_type": "stream",
     "text": [
      "[Step 3] Detecting cut point (Window L1)\n",
      "Cut point: 8460, Cut point percentage: 53.5850012667849\n"
     ]
    }
   ],
   "source": [
    "print(f\"[Step 3] Detecting cut point ({cut_point_approach})\")\n",
    "start_time = time.time()\n",
    "cut_point_detector = get_cut_point_detector(cut_point_model, cut_point_method)\n",
    "cut_point, cut_point_perc = cut_point_detector.find_cut_point(train_val, variables)\n",
    "end_time = time.time()\n",
    "detect_cut_point_duration = end_time - start_time\n",
    "print(f\"Cut point: {cut_point}, Cut point percentage: {cut_point_perc}\")\n",
    "report.update({\n",
    "    'detect_cut_point_duration': detect_cut_point_duration,\n",
    "    'cut_point': str(cut_point),\n",
    "    'cut_point_perc': cut_point_perc\n",
    "})"
   ]
  },
  {
   "cell_type": "code",
   "execution_count": 9,
   "metadata": {},
   "outputs": [
    {
     "name": "stdout",
     "output_type": "stream",
     "text": [
      "[Step 4] Reducing train_val based on cut point\n"
     ]
    }
   ],
   "source": [
    "print(\"[Step 4] Reducing train_val based on cut point\")\n",
    "start_time = time.time()\n",
    "reduced_train_val = cut_point_detector.apply_cut_point(train_val, cut_point)\n",
    "end_time = time.time()\n",
    "apply_cut_point_duration = end_time - start_time\n",
    "report.update({\n",
    "    'apply_cut_point_duration': apply_cut_point_duration,\n",
    "    'reduced_train_val.shape': reduced_train_val.shape,\n",
    "})"
   ]
  },
  {
   "cell_type": "code",
   "execution_count": 10,
   "metadata": {},
   "outputs": [
    {
     "name": "stdout",
     "output_type": "stream",
     "text": [
      "[Step 5] Splitting train_val into train and val\n"
     ]
    }
   ],
   "source": [
    "print(\"[Step 5] Splitting train_val into train and val\")\n",
    "reduced_train, reduced_val = split_train_test(reduced_train_val)\n",
    "report.update({\n",
    "    'reduced_train.shape': reduced_train.shape,\n",
    "    'reduced_val.shape': reduced_val.shape,\n",
    "})"
   ]
  },
  {
   "cell_type": "code",
   "execution_count": 11,
   "metadata": {},
   "outputs": [
    {
     "name": "stdout",
     "output_type": "stream",
     "text": [
      "[Step 6] Fitting scaler on train and applying on train and val\n"
     ]
    }
   ],
   "source": [
    "print(\"[Step 6] Fitting scaler on train and applying on train and val\")\n",
    "start_time = time.time()\n",
    "scaler = Scaler(variables)\n",
    "scaled_reduced_train = scaler.fit_scale(reduced_train)\n",
    "scaled_reduced_val = scaler.scale(reduced_val)\n",
    "end_time = time.time()\n",
    "fit_apply_scaler_train_val_duration = end_time - start_time\n",
    "report.update({\n",
    "    'fit_apply_scaler_train_val_duration': fit_apply_scaler_train_val_duration,\n",
    "})"
   ]
  },
  {
   "cell_type": "code",
   "execution_count": 12,
   "metadata": {},
   "outputs": [
    {
     "name": "stdout",
     "output_type": "stream",
     "text": [
      "[Step 7] Splitting train and val into X and y\n"
     ]
    }
   ],
   "source": [
    "print(\"[Step 7] Splitting train and val into X and y\")\n",
    "X_reduced_scaled_train, y_reduced_scaled_train = split_X_y(scaled_reduced_train)\n",
    "X_reduced_scaled_val, y_reduced_scaled_val = split_X_y(scaled_reduced_val)\n",
    "report.update({\n",
    "    'X_reduced_scaled_train.shape': X_reduced_scaled_train.shape,\n",
    "    'y_reduced_scaled_train.shape': y_reduced_scaled_train.shape,\n",
    "    'X_reduced_scaled_val.shape': X_reduced_scaled_val.shape,\n",
    "    'y_reduced_scaled_val.shape': y_reduced_scaled_val.shape,\n",
    "})"
   ]
  },
  {
   "cell_type": "code",
   "execution_count": 13,
   "metadata": {},
   "outputs": [
    {
     "data": {
      "text/plain": [
       "array([[ 0.42508344,  0.34656565, -1.55042352, -1.21398052, -1.10125741,\n",
       "        -0.90743084],\n",
       "       [ 0.43823785,  0.34907256, -1.60052507, -1.21398052, -1.16634056,\n",
       "        -0.94966489],\n",
       "       [ 0.45139227,  0.35157947, -1.65062661, -1.21398052, -1.2314237 ,\n",
       "        -0.99189893],\n",
       "       [ 0.46454668,  0.35408636, -1.70072815, -1.21398052, -1.29650684,\n",
       "        -1.03061347],\n",
       "       [ 0.47770109,  0.35659326, -1.75082969, -1.21398052, -1.36158999,\n",
       "        -1.07284751],\n",
       "       [ 0.4908555 ,  0.36662088, -1.75082969, -1.21398052, -1.34857336,\n",
       "        -1.04926683],\n",
       "       [ 0.50400991,  0.37664847, -1.75082969, -1.21398052, -1.33555673,\n",
       "        -1.02709396]])"
      ]
     },
     "execution_count": 13,
     "metadata": {},
     "output_type": "execute_result"
    }
   ],
   "source": [
    "y_reduced_scaled_train[0]"
   ]
  },
  {
   "cell_type": "code",
   "execution_count": 14,
   "metadata": {},
   "outputs": [
    {
     "data": {
      "text/plain": [
       "array([[ 0.43823785,  0.34907256, -1.60052507, -1.21398052, -1.16634056,\n",
       "        -0.94966489],\n",
       "       [ 0.45139227,  0.35157947, -1.65062661, -1.21398052, -1.2314237 ,\n",
       "        -0.99189893],\n",
       "       [ 0.46454668,  0.35408636, -1.70072815, -1.21398052, -1.29650684,\n",
       "        -1.03061347],\n",
       "       [ 0.47770109,  0.35659326, -1.75082969, -1.21398052, -1.36158999,\n",
       "        -1.07284751],\n",
       "       [ 0.4908555 ,  0.36662088, -1.75082969, -1.21398052, -1.34857336,\n",
       "        -1.04926683],\n",
       "       [ 0.50400991,  0.37664847, -1.75082969, -1.21398052, -1.33555673,\n",
       "        -1.02709396],\n",
       "       [ 0.51716432,  0.38667608, -1.75082969, -1.21398052, -1.3225401 ,\n",
       "        -1.00245744]])"
      ]
     },
     "execution_count": 14,
     "metadata": {},
     "output_type": "execute_result"
    }
   ],
   "source": [
    "y_reduced_scaled_train[1]"
   ]
  },
  {
   "cell_type": "code",
   "execution_count": 15,
   "metadata": {},
   "outputs": [
    {
     "data": {
      "text/plain": [
       "array([[ 0.45139227,  0.35157947, -1.65062661, -1.21398052, -1.2314237 ,\n",
       "        -0.99189893],\n",
       "       [ 0.46454668,  0.35408636, -1.70072815, -1.21398052, -1.29650684,\n",
       "        -1.03061347],\n",
       "       [ 0.47770109,  0.35659326, -1.75082969, -1.21398052, -1.36158999,\n",
       "        -1.07284751],\n",
       "       [ 0.4908555 ,  0.36662088, -1.75082969, -1.21398052, -1.34857336,\n",
       "        -1.04926683],\n",
       "       [ 0.50400991,  0.37664847, -1.75082969, -1.21398052, -1.33555673,\n",
       "        -1.02709396],\n",
       "       [ 0.51716432,  0.38667608, -1.75082969, -1.21398052, -1.3225401 ,\n",
       "        -1.00245744],\n",
       "       [ 0.53031874,  0.39670369, -1.75082969, -1.21398052, -1.30952347,\n",
       "        -0.97782091]])"
      ]
     },
     "execution_count": 15,
     "metadata": {},
     "output_type": "execute_result"
    }
   ],
   "source": [
    "y_reduced_scaled_train[2]"
   ]
  },
  {
   "cell_type": "code",
   "execution_count": 16,
   "metadata": {},
   "outputs": [
    {
     "name": "stdout",
     "output_type": "stream",
     "text": [
      "Trial 3 Complete [00h 01m 50s]\n",
      "val_loss: 0.46575453433584657\n",
      "\n",
      "Best val_loss So Far: 0.3484160549154407\n",
      "Total elapsed time: 00h 03m 41s\n"
     ]
    }
   ],
   "source": [
    "print(\"[Step 8] Running HPO and NAS\")\n",
    "n_variables = len(variables)\n",
    "forecaster_hypermodel = TimeSeriesHyperModel(\n",
    "    n_variables=n_variables\n",
    ")\n",
    "forecaster_tuner = RandomSearch(\n",
    "    forecaster_hypermodel,\n",
    "    objective='val_loss',\n",
    "    max_trials=3,\n",
    "    executions_per_trial=1,\n",
    "    directory=f\"outputs/tuner/delete_me\",\n",
    "    project_name=\"delete_me\",\n",
    "    seed=SEED,\n",
    "    overwrite=True,\n",
    "    distribution_strategy=tf.distribute.MirroredStrategy()\n",
    ")\n",
    "start_time = time.time()\n",
    "forecaster_tuner.search(\n",
    "    X_reduced_scaled_train,\n",
    "    y_reduced_scaled_train,\n",
    "    validation_data=(X_reduced_scaled_val, y_reduced_scaled_val),\n",
    "    shuffle=False,\n",
    ")\n",
    "end_time = time.time()\n",
    "tuner_duration = end_time - start_time\n",
    "report.update({\n",
    "    'tuner_duration': tuner_duration\n",
    "})"
   ]
  },
  {
   "cell_type": "code",
   "execution_count": 17,
   "metadata": {},
   "outputs": [
    {
     "name": "stdout",
     "output_type": "stream",
     "text": [
      "[Step 9] Retrieving best model\n",
      "Trial ID: 1\n",
      "Hyperparameters: {'num_layers': 3, 'units_0': 32, 'learning_rate': 0.0005, 'units_1': 128, 'batch_size': 176, 'epochs': 150, 'units_2': 32}\n",
      "Score: 0.3484160549154407\n",
      "----------------------------------------\n"
     ]
    },
    {
     "name": "stderr",
     "output_type": "stream",
     "text": [
      "/Users/zamith/Doutorado/TSForecastingSubsets/env/lib/python3.9/site-packages/keras/src/saving/saving_lib.py:757: UserWarning: Skipping variable loading for optimizer 'adam', because it has 2 variables whereas the saved optimizer has 36 variables. \n",
      "  saveable.load_own_variables(weights_store.get(inner_path))\n"
     ]
    },
    {
     "data": {
      "text/html": [
       "<pre style=\"white-space:pre;overflow-x:auto;line-height:normal;font-family:Menlo,'DejaVu Sans Mono',consolas,'Courier New',monospace\"><span style=\"font-weight: bold\">Model: \"sequential\"</span>\n",
       "</pre>\n"
      ],
      "text/plain": [
       "\u001b[1mModel: \"sequential\"\u001b[0m\n"
      ]
     },
     "metadata": {},
     "output_type": "display_data"
    },
    {
     "data": {
      "text/html": [
       "<pre style=\"white-space:pre;overflow-x:auto;line-height:normal;font-family:Menlo,'DejaVu Sans Mono',consolas,'Courier New',monospace\">┏━━━━━━━━━━━━━━━━━━━━━━━━━━━━━━━━━┳━━━━━━━━━━━━━━━━━━━━━━━━┳━━━━━━━━━━━━━━━┓\n",
       "┃<span style=\"font-weight: bold\"> Layer (type)                    </span>┃<span style=\"font-weight: bold\"> Output Shape           </span>┃<span style=\"font-weight: bold\">       Param # </span>┃\n",
       "┡━━━━━━━━━━━━━━━━━━━━━━━━━━━━━━━━━╇━━━━━━━━━━━━━━━━━━━━━━━━╇━━━━━━━━━━━━━━━┩\n",
       "│ lstm (<span style=\"color: #0087ff; text-decoration-color: #0087ff\">LSTM</span>)                     │ (<span style=\"color: #00d7ff; text-decoration-color: #00d7ff\">None</span>, <span style=\"color: #00af00; text-decoration-color: #00af00\">14</span>, <span style=\"color: #00af00; text-decoration-color: #00af00\">32</span>)         │         <span style=\"color: #00af00; text-decoration-color: #00af00\">4,992</span> │\n",
       "├─────────────────────────────────┼────────────────────────┼───────────────┤\n",
       "│ batch_normalization             │ (<span style=\"color: #00d7ff; text-decoration-color: #00d7ff\">None</span>, <span style=\"color: #00af00; text-decoration-color: #00af00\">14</span>, <span style=\"color: #00af00; text-decoration-color: #00af00\">32</span>)         │           <span style=\"color: #00af00; text-decoration-color: #00af00\">128</span> │\n",
       "│ (<span style=\"color: #0087ff; text-decoration-color: #0087ff\">BatchNormalization</span>)            │                        │               │\n",
       "├─────────────────────────────────┼────────────────────────┼───────────────┤\n",
       "│ lstm_1 (<span style=\"color: #0087ff; text-decoration-color: #0087ff\">LSTM</span>)                   │ (<span style=\"color: #00d7ff; text-decoration-color: #00d7ff\">None</span>, <span style=\"color: #00af00; text-decoration-color: #00af00\">14</span>, <span style=\"color: #00af00; text-decoration-color: #00af00\">128</span>)        │        <span style=\"color: #00af00; text-decoration-color: #00af00\">82,432</span> │\n",
       "├─────────────────────────────────┼────────────────────────┼───────────────┤\n",
       "│ batch_normalization_1           │ (<span style=\"color: #00d7ff; text-decoration-color: #00d7ff\">None</span>, <span style=\"color: #00af00; text-decoration-color: #00af00\">14</span>, <span style=\"color: #00af00; text-decoration-color: #00af00\">128</span>)        │           <span style=\"color: #00af00; text-decoration-color: #00af00\">512</span> │\n",
       "│ (<span style=\"color: #0087ff; text-decoration-color: #0087ff\">BatchNormalization</span>)            │                        │               │\n",
       "├─────────────────────────────────┼────────────────────────┼───────────────┤\n",
       "│ lstm_2 (<span style=\"color: #0087ff; text-decoration-color: #0087ff\">LSTM</span>)                   │ (<span style=\"color: #00d7ff; text-decoration-color: #00d7ff\">None</span>, <span style=\"color: #00af00; text-decoration-color: #00af00\">32</span>)             │        <span style=\"color: #00af00; text-decoration-color: #00af00\">20,608</span> │\n",
       "├─────────────────────────────────┼────────────────────────┼───────────────┤\n",
       "│ batch_normalization_2           │ (<span style=\"color: #00d7ff; text-decoration-color: #00d7ff\">None</span>, <span style=\"color: #00af00; text-decoration-color: #00af00\">32</span>)             │           <span style=\"color: #00af00; text-decoration-color: #00af00\">128</span> │\n",
       "│ (<span style=\"color: #0087ff; text-decoration-color: #0087ff\">BatchNormalization</span>)            │                        │               │\n",
       "├─────────────────────────────────┼────────────────────────┼───────────────┤\n",
       "│ dense (<span style=\"color: #0087ff; text-decoration-color: #0087ff\">Dense</span>)                   │ (<span style=\"color: #00d7ff; text-decoration-color: #00d7ff\">None</span>, <span style=\"color: #00af00; text-decoration-color: #00af00\">42</span>)             │         <span style=\"color: #00af00; text-decoration-color: #00af00\">1,386</span> │\n",
       "├─────────────────────────────────┼────────────────────────┼───────────────┤\n",
       "│ reshape (<span style=\"color: #0087ff; text-decoration-color: #0087ff\">Reshape</span>)               │ (<span style=\"color: #00d7ff; text-decoration-color: #00d7ff\">None</span>, <span style=\"color: #00af00; text-decoration-color: #00af00\">7</span>, <span style=\"color: #00af00; text-decoration-color: #00af00\">6</span>)           │             <span style=\"color: #00af00; text-decoration-color: #00af00\">0</span> │\n",
       "└─────────────────────────────────┴────────────────────────┴───────────────┘\n",
       "</pre>\n"
      ],
      "text/plain": [
       "┏━━━━━━━━━━━━━━━━━━━━━━━━━━━━━━━━━┳━━━━━━━━━━━━━━━━━━━━━━━━┳━━━━━━━━━━━━━━━┓\n",
       "┃\u001b[1m \u001b[0m\u001b[1mLayer (type)                   \u001b[0m\u001b[1m \u001b[0m┃\u001b[1m \u001b[0m\u001b[1mOutput Shape          \u001b[0m\u001b[1m \u001b[0m┃\u001b[1m \u001b[0m\u001b[1m      Param #\u001b[0m\u001b[1m \u001b[0m┃\n",
       "┡━━━━━━━━━━━━━━━━━━━━━━━━━━━━━━━━━╇━━━━━━━━━━━━━━━━━━━━━━━━╇━━━━━━━━━━━━━━━┩\n",
       "│ lstm (\u001b[38;5;33mLSTM\u001b[0m)                     │ (\u001b[38;5;45mNone\u001b[0m, \u001b[38;5;34m14\u001b[0m, \u001b[38;5;34m32\u001b[0m)         │         \u001b[38;5;34m4,992\u001b[0m │\n",
       "├─────────────────────────────────┼────────────────────────┼───────────────┤\n",
       "│ batch_normalization             │ (\u001b[38;5;45mNone\u001b[0m, \u001b[38;5;34m14\u001b[0m, \u001b[38;5;34m32\u001b[0m)         │           \u001b[38;5;34m128\u001b[0m │\n",
       "│ (\u001b[38;5;33mBatchNormalization\u001b[0m)            │                        │               │\n",
       "├─────────────────────────────────┼────────────────────────┼───────────────┤\n",
       "│ lstm_1 (\u001b[38;5;33mLSTM\u001b[0m)                   │ (\u001b[38;5;45mNone\u001b[0m, \u001b[38;5;34m14\u001b[0m, \u001b[38;5;34m128\u001b[0m)        │        \u001b[38;5;34m82,432\u001b[0m │\n",
       "├─────────────────────────────────┼────────────────────────┼───────────────┤\n",
       "│ batch_normalization_1           │ (\u001b[38;5;45mNone\u001b[0m, \u001b[38;5;34m14\u001b[0m, \u001b[38;5;34m128\u001b[0m)        │           \u001b[38;5;34m512\u001b[0m │\n",
       "│ (\u001b[38;5;33mBatchNormalization\u001b[0m)            │                        │               │\n",
       "├─────────────────────────────────┼────────────────────────┼───────────────┤\n",
       "│ lstm_2 (\u001b[38;5;33mLSTM\u001b[0m)                   │ (\u001b[38;5;45mNone\u001b[0m, \u001b[38;5;34m32\u001b[0m)             │        \u001b[38;5;34m20,608\u001b[0m │\n",
       "├─────────────────────────────────┼────────────────────────┼───────────────┤\n",
       "│ batch_normalization_2           │ (\u001b[38;5;45mNone\u001b[0m, \u001b[38;5;34m32\u001b[0m)             │           \u001b[38;5;34m128\u001b[0m │\n",
       "│ (\u001b[38;5;33mBatchNormalization\u001b[0m)            │                        │               │\n",
       "├─────────────────────────────────┼────────────────────────┼───────────────┤\n",
       "│ dense (\u001b[38;5;33mDense\u001b[0m)                   │ (\u001b[38;5;45mNone\u001b[0m, \u001b[38;5;34m42\u001b[0m)             │         \u001b[38;5;34m1,386\u001b[0m │\n",
       "├─────────────────────────────────┼────────────────────────┼───────────────┤\n",
       "│ reshape (\u001b[38;5;33mReshape\u001b[0m)               │ (\u001b[38;5;45mNone\u001b[0m, \u001b[38;5;34m7\u001b[0m, \u001b[38;5;34m6\u001b[0m)           │             \u001b[38;5;34m0\u001b[0m │\n",
       "└─────────────────────────────────┴────────────────────────┴───────────────┘\n"
      ]
     },
     "metadata": {},
     "output_type": "display_data"
    },
    {
     "data": {
      "text/html": [
       "<pre style=\"white-space:pre;overflow-x:auto;line-height:normal;font-family:Menlo,'DejaVu Sans Mono',consolas,'Courier New',monospace\"><span style=\"font-weight: bold\"> Total params: </span><span style=\"color: #00af00; text-decoration-color: #00af00\">110,186</span> (430.41 KB)\n",
       "</pre>\n"
      ],
      "text/plain": [
       "\u001b[1m Total params: \u001b[0m\u001b[38;5;34m110,186\u001b[0m (430.41 KB)\n"
      ]
     },
     "metadata": {},
     "output_type": "display_data"
    },
    {
     "data": {
      "text/html": [
       "<pre style=\"white-space:pre;overflow-x:auto;line-height:normal;font-family:Menlo,'DejaVu Sans Mono',consolas,'Courier New',monospace\"><span style=\"font-weight: bold\"> Trainable params: </span><span style=\"color: #00af00; text-decoration-color: #00af00\">109,802</span> (428.91 KB)\n",
       "</pre>\n"
      ],
      "text/plain": [
       "\u001b[1m Trainable params: \u001b[0m\u001b[38;5;34m109,802\u001b[0m (428.91 KB)\n"
      ]
     },
     "metadata": {},
     "output_type": "display_data"
    },
    {
     "data": {
      "text/html": [
       "<pre style=\"white-space:pre;overflow-x:auto;line-height:normal;font-family:Menlo,'DejaVu Sans Mono',consolas,'Courier New',monospace\"><span style=\"font-weight: bold\"> Non-trainable params: </span><span style=\"color: #00af00; text-decoration-color: #00af00\">384</span> (1.50 KB)\n",
       "</pre>\n"
      ],
      "text/plain": [
       "\u001b[1m Non-trainable params: \u001b[0m\u001b[38;5;34m384\u001b[0m (1.50 KB)\n"
      ]
     },
     "metadata": {},
     "output_type": "display_data"
    },
    {
     "data": {
      "text/html": [
       "<pre style=\"white-space:pre;overflow-x:auto;line-height:normal;font-family:Menlo,'DejaVu Sans Mono',consolas,'Courier New',monospace\"></pre>\n"
      ],
      "text/plain": []
     },
     "metadata": {},
     "output_type": "display_data"
    }
   ],
   "source": [
    "print(\"[Step 9] Retrieving best model\")\n",
    "best_trial = forecaster_tuner.oracle.get_best_trials(num_trials=1)[0]\n",
    "best_forecaster_model = forecaster_tuner.get_best_models(num_models=1)[0]\n",
    "print(f\"Trial ID: {best_trial.trial_id}\")\n",
    "print(f\"Hyperparameters: {best_trial.hyperparameters.values}\")\n",
    "print(f\"Score: {best_trial.score}\")\n",
    "print(\"-\" * 40)\n",
    "best_forecaster_model.summary()\n",
    "best_forecaster_model = InternalForecaster(\n",
    "    best_forecaster_model,\n",
    "    len(variables),\n",
    "    best_trial.hyperparameters.values['batch_size'],\n",
    "    best_trial.hyperparameters.values['epochs'],\n",
    ")\n",
    "report.update({\n",
    "    'best_trial_id': best_trial.trial_id,\n",
    "    'best_trial_hyperparameters': best_trial.hyperparameters.values,\n",
    "    'best_trial_score': best_trial.score,\n",
    "    'best_forecaster_model': best_forecaster_model.summary(),\n",
    "})"
   ]
  },
  {
   "cell_type": "code",
   "execution_count": 18,
   "metadata": {},
   "outputs": [
    {
     "name": "stdout",
     "output_type": "stream",
     "text": [
      "[Step 10] Fitting scaler on train_val and applying on train_val and test\n"
     ]
    }
   ],
   "source": [
    "print(\"[Step 10] Fitting scaler on train_val and applying on train_val and test\")\n",
    "start_time = time.time()\n",
    "scaler = Scaler(variables)\n",
    "scaled_reduced_train_val = scaler.fit_scale(reduced_train_val)\n",
    "scaled_test = scaler.scale(test)\n",
    "end_time = time.time()\n",
    "fit_apply_scaler_train_val_test_duration = end_time - start_time\n",
    "report.update({\n",
    "    'fit_apply_scaler_train_val_test_duration': fit_apply_scaler_train_val_test_duration,\n",
    "})"
   ]
  },
  {
   "cell_type": "code",
   "execution_count": 19,
   "metadata": {},
   "outputs": [
    {
     "name": "stdout",
     "output_type": "stream",
     "text": [
      "[Step 11] Splitting train_val and test into X and y\n"
     ]
    }
   ],
   "source": [
    "print(\"[Step 11] Splitting train_val and test into X and y\")\n",
    "X_reduced_scaled_train_val, y_reduced_scaled_train_val = split_X_y(scaled_reduced_train_val)\n",
    "X_scaled_test, y_scaled_test = split_X_y(scaled_test)\n",
    "report.update({\n",
    "    'X_reduced_scaled_train_val.shape': X_reduced_scaled_train_val.shape,\n",
    "    'y_reduced_scaled_train_val.shape': y_reduced_scaled_train_val.shape,\n",
    "    'X_scaled_test.shape': X_scaled_test.shape,\n",
    "    'y_scaled_test.shape': y_scaled_test.shape,\n",
    "})"
   ]
  },
  {
   "cell_type": "code",
   "execution_count": 20,
   "metadata": {},
   "outputs": [
    {
     "name": "stdout",
     "output_type": "stream",
     "text": [
      "[Step 12] Retraining best model\n",
      "Epoch 1/150\n",
      "\u001b[1m41/41\u001b[0m \u001b[32m━━━━━━━━━━━━━━━━━━━━\u001b[0m\u001b[37m\u001b[0m \u001b[1m3s\u001b[0m 25ms/step - loss: 0.7673 - learning_rate: 5.0000e-04\n",
      "Epoch 2/150\n",
      "\u001b[1m41/41\u001b[0m \u001b[32m━━━━━━━━━━━━━━━━━━━━\u001b[0m\u001b[37m\u001b[0m \u001b[1m1s\u001b[0m 26ms/step - loss: 0.7382 - learning_rate: 5.0000e-04\n",
      "Epoch 3/150\n",
      "\u001b[1m41/41\u001b[0m \u001b[32m━━━━━━━━━━━━━━━━━━━━\u001b[0m\u001b[37m\u001b[0m \u001b[1m1s\u001b[0m 26ms/step - loss: 0.6894 - learning_rate: 5.0000e-04\n",
      "Epoch 4/150\n",
      "\u001b[1m41/41\u001b[0m \u001b[32m━━━━━━━━━━━━━━━━━━━━\u001b[0m\u001b[37m\u001b[0m \u001b[1m1s\u001b[0m 30ms/step - loss: 0.6752 - learning_rate: 5.0000e-04\n",
      "Epoch 5/150\n",
      "\u001b[1m41/41\u001b[0m \u001b[32m━━━━━━━━━━━━━━━━━━━━\u001b[0m\u001b[37m\u001b[0m \u001b[1m1s\u001b[0m 31ms/step - loss: 0.6939 - learning_rate: 5.0000e-04\n",
      "Epoch 6/150\n",
      "\u001b[1m41/41\u001b[0m \u001b[32m━━━━━━━━━━━━━━━━━━━━\u001b[0m\u001b[37m\u001b[0m \u001b[1m1s\u001b[0m 28ms/step - loss: 0.6695 - learning_rate: 5.0000e-04\n",
      "Epoch 7/150\n",
      "\u001b[1m41/41\u001b[0m \u001b[32m━━━━━━━━━━━━━━━━━━━━\u001b[0m\u001b[37m\u001b[0m \u001b[1m1s\u001b[0m 31ms/step - loss: 0.6474 - learning_rate: 5.0000e-04\n",
      "Epoch 8/150\n",
      "\u001b[1m41/41\u001b[0m \u001b[32m━━━━━━━━━━━━━━━━━━━━\u001b[0m\u001b[37m\u001b[0m \u001b[1m1s\u001b[0m 32ms/step - loss: 0.6072 - learning_rate: 2.5000e-04\n",
      "Epoch 9/150\n",
      "\u001b[1m41/41\u001b[0m \u001b[32m━━━━━━━━━━━━━━━━━━━━\u001b[0m\u001b[37m\u001b[0m \u001b[1m2s\u001b[0m 40ms/step - loss: 0.6196 - learning_rate: 2.5000e-04\n",
      "Epoch 10/150\n",
      "\u001b[1m41/41\u001b[0m \u001b[32m━━━━━━━━━━━━━━━━━━━━\u001b[0m\u001b[37m\u001b[0m \u001b[1m1s\u001b[0m 32ms/step - loss: 0.6341 - learning_rate: 2.5000e-04\n",
      "Epoch 11/150\n",
      "\u001b[1m41/41\u001b[0m \u001b[32m━━━━━━━━━━━━━━━━━━━━\u001b[0m\u001b[37m\u001b[0m \u001b[1m1s\u001b[0m 33ms/step - loss: 0.6190 - learning_rate: 2.5000e-04\n",
      "Epoch 12/150\n",
      "\u001b[1m41/41\u001b[0m \u001b[32m━━━━━━━━━━━━━━━━━━━━\u001b[0m\u001b[37m\u001b[0m \u001b[1m2s\u001b[0m 39ms/step - loss: 0.5836 - learning_rate: 2.5000e-04\n",
      "Epoch 13/150\n",
      "\u001b[1m41/41\u001b[0m \u001b[32m━━━━━━━━━━━━━━━━━━━━\u001b[0m\u001b[37m\u001b[0m \u001b[1m2s\u001b[0m 38ms/step - loss: 0.5729 - learning_rate: 1.2500e-04\n",
      "Epoch 14/150\n",
      "\u001b[1m41/41\u001b[0m \u001b[32m━━━━━━━━━━━━━━━━━━━━\u001b[0m\u001b[37m\u001b[0m \u001b[1m2s\u001b[0m 37ms/step - loss: 0.6395 - learning_rate: 1.2500e-04\n",
      "Epoch 15/150\n",
      "\u001b[1m41/41\u001b[0m \u001b[32m━━━━━━━━━━━━━━━━━━━━\u001b[0m\u001b[37m\u001b[0m \u001b[1m1s\u001b[0m 31ms/step - loss: 0.6288 - learning_rate: 1.2500e-04\n",
      "Epoch 16/150\n",
      "\u001b[1m41/41\u001b[0m \u001b[32m━━━━━━━━━━━━━━━━━━━━\u001b[0m\u001b[37m\u001b[0m \u001b[1m1s\u001b[0m 30ms/step - loss: 0.6128 - learning_rate: 1.2500e-04\n",
      "Epoch 17/150\n",
      "\u001b[1m41/41\u001b[0m \u001b[32m━━━━━━━━━━━━━━━━━━━━\u001b[0m\u001b[37m\u001b[0m \u001b[1m1s\u001b[0m 31ms/step - loss: 0.6295 - learning_rate: 6.2500e-05\n",
      "Epoch 18/150\n",
      "\u001b[1m41/41\u001b[0m \u001b[32m━━━━━━━━━━━━━━━━━━━━\u001b[0m\u001b[37m\u001b[0m \u001b[1m1s\u001b[0m 35ms/step - loss: 0.5998 - learning_rate: 6.2500e-05\n"
     ]
    }
   ],
   "source": [
    "print(\"[Step 12] Retraining best model\")\n",
    "start_time = time.time()\n",
    "best_forecaster_model.fit(\n",
    "    X_reduced_scaled_train_val,\n",
    "    y_reduced_scaled_train_val,\n",
    "    shuffle=False\n",
    ")\n",
    "end_time = time.time()\n",
    "retrain_duration = end_time - start_time\n",
    "report.update({\n",
    "    'retrain_duration': retrain_duration,\n",
    "})"
   ]
  },
  {
   "cell_type": "code",
   "execution_count": 21,
   "metadata": {},
   "outputs": [
    {
     "name": "stdout",
     "output_type": "stream",
     "text": [
      "[Step 13] Forecasting for test\n"
     ]
    },
    {
     "name": "stderr",
     "output_type": "stream",
     "text": [
      "2025-03-08 18:24:55.516450: W tensorflow/core/framework/dataset.cc:959] Input of GeneratorDatasetOp::Dataset will not be optimized because the dataset does not implement the AsGraphDefInternal() method needed to apply optimizations.\n"
     ]
    },
    {
     "name": "stdout",
     "output_type": "stream",
     "text": [
      "\u001b[1m109/123\u001b[0m \u001b[32m━━━━━━━━━━━━━━━━━\u001b[0m\u001b[37m━━━\u001b[0m \u001b[1m0s\u001b[0m 4ms/step"
     ]
    },
    {
     "name": "stderr",
     "output_type": "stream",
     "text": [
      "2025-03-08 18:24:56.311740: W tensorflow/core/framework/local_rendezvous.cc:404] Local rendezvous is aborting with status: OUT_OF_RANGE: End of sequence\n",
      "\t [[{{node MultiDeviceIteratorGetNextFromShard}}]]\n"
     ]
    },
    {
     "name": "stdout",
     "output_type": "stream",
     "text": [
      "\u001b[1m123/123\u001b[0m \u001b[32m━━━━━━━━━━━━━━━━━━━━\u001b[0m\u001b[37m\u001b[0m \u001b[1m1s\u001b[0m 6ms/step\n"
     ]
    }
   ],
   "source": [
    "print(\"[Step 13] Forecasting for test\")\n",
    "start_time = time.time()\n",
    "y_scaled_pred = best_forecaster_model.forecast(X_scaled_test)\n",
    "y_scaled_test_flat = y_scaled_test.reshape(-1, n_variables)\n",
    "y_scaled_pred_flat = y_scaled_pred.reshape(-1, n_variables)\n",
    "end_time = time.time()\n",
    "forecasting_test_duration = end_time - start_time\n",
    "report.update({\n",
    "    'forecasting_test_duration': forecasting_test_duration,\n",
    "})"
   ]
  },
  {
   "cell_type": "code",
   "execution_count": 22,
   "metadata": {},
   "outputs": [
    {
     "data": {
      "text/plain": [
       "array([[ 0.03078476,  0.40226275,  0.12839626, -1.30151869,  0.16265223,\n",
       "         0.26020635],\n",
       "       [ 0.06963033,  0.41015928,  0.06817327, -1.30151869,  0.16265223,\n",
       "         0.26379162],\n",
       "       [ 0.1084759 ,  0.41805582,  0.00795029, -1.30151869,  0.16265223,\n",
       "         0.27096217],\n",
       "       ...,\n",
       "       [ 3.86354749, -0.19787384, -1.55784732, -0.04814738, -1.06778434,\n",
       "         3.46185563],\n",
       "       [ 3.8117534 , -0.19787384, -1.53375813,  0.03018832, -0.99787317,\n",
       "         3.4260029 ],\n",
       "       [ 3.78585635, -0.19787384, -1.50966893,  0.10852403, -0.927962  ,\n",
       "         3.4260029 ]])"
      ]
     },
     "execution_count": 22,
     "metadata": {},
     "output_type": "execute_result"
    }
   ],
   "source": [
    "y_scaled_test_flat"
   ]
  },
  {
   "cell_type": "code",
   "execution_count": 23,
   "metadata": {},
   "outputs": [
    {
     "data": {
      "text/plain": [
       "array([[-0.0085964 ,  0.15890133,  0.19826137, -0.9824967 ,  0.06092364,\n",
       "         0.12453961],\n",
       "       [-0.03280071,  0.15584467,  0.22010508, -0.8891771 ,  0.03042763,\n",
       "         0.16099823],\n",
       "       [-0.02334302,  0.16661575,  0.17401537, -0.8805347 ,  0.01756208,\n",
       "         0.10404027],\n",
       "       ...,\n",
       "       [ 1.1298989 , -0.22508025, -1.1055474 ,  0.2424349 , -0.93742895,\n",
       "         0.5848468 ],\n",
       "       [ 1.2322851 , -0.18361491, -1.2810272 ,  0.5104733 , -0.7979611 ,\n",
       "         0.68309665],\n",
       "       [ 1.1113065 , -0.01370734, -0.7948964 ,  0.44400248, -0.8914185 ,\n",
       "         0.61942065]], dtype=float32)"
      ]
     },
     "execution_count": 23,
     "metadata": {},
     "output_type": "execute_result"
    }
   ],
   "source": [
    "y_scaled_pred_flat"
   ]
  },
  {
   "cell_type": "code",
   "execution_count": 24,
   "metadata": {},
   "outputs": [
    {
     "name": "stdout",
     "output_type": "stream",
     "text": [
      "[Step 14] Descaling data\n"
     ]
    }
   ],
   "source": [
    "print(\"[Step 14] Descaling data\")\n",
    "start_time = time.time()\n",
    "y_test = scaler.descale(pd.DataFrame(y_scaled_test_flat, columns=variables))\n",
    "y_pred = scaler.descale(pd.DataFrame(y_scaled_pred_flat, columns=variables))\n",
    "end_time = time.time()\n",
    "descaling_duration = end_time - start_time\n",
    "report.update({\n",
    "    'descaling_duration': descaling_duration,\n",
    "})"
   ]
  },
  {
   "cell_type": "code",
   "execution_count": 25,
   "metadata": {},
   "outputs": [
    {
     "data": {
      "text/html": [
       "<div>\n",
       "<style scoped>\n",
       "    .dataframe tbody tr th:only-of-type {\n",
       "        vertical-align: middle;\n",
       "    }\n",
       "\n",
       "    .dataframe tbody tr th {\n",
       "        vertical-align: top;\n",
       "    }\n",
       "\n",
       "    .dataframe thead th {\n",
       "        text-align: right;\n",
       "    }\n",
       "</style>\n",
       "<table border=\"1\" class=\"dataframe\">\n",
       "  <thead>\n",
       "    <tr style=\"text-align: right;\">\n",
       "      <th></th>\n",
       "      <th>T_out</th>\n",
       "      <th>Press_mm_hg</th>\n",
       "      <th>RH_out</th>\n",
       "      <th>Windspeed</th>\n",
       "      <th>Visibility</th>\n",
       "      <th>Tdewpoint</th>\n",
       "    </tr>\n",
       "  </thead>\n",
       "  <tbody>\n",
       "    <tr>\n",
       "      <th>0</th>\n",
       "      <td>7.70</td>\n",
       "      <td>759.000000</td>\n",
       "      <td>79.666667</td>\n",
       "      <td>1.000000</td>\n",
       "      <td>40.000000</td>\n",
       "      <td>4.37</td>\n",
       "    </tr>\n",
       "    <tr>\n",
       "      <th>1</th>\n",
       "      <td>7.85</td>\n",
       "      <td>759.050000</td>\n",
       "      <td>78.833333</td>\n",
       "      <td>1.000000</td>\n",
       "      <td>40.000000</td>\n",
       "      <td>4.38</td>\n",
       "    </tr>\n",
       "    <tr>\n",
       "      <th>2</th>\n",
       "      <td>8.00</td>\n",
       "      <td>759.100000</td>\n",
       "      <td>78.000000</td>\n",
       "      <td>1.000000</td>\n",
       "      <td>40.000000</td>\n",
       "      <td>4.40</td>\n",
       "    </tr>\n",
       "    <tr>\n",
       "      <th>3</th>\n",
       "      <td>8.12</td>\n",
       "      <td>759.116667</td>\n",
       "      <td>77.333333</td>\n",
       "      <td>1.000000</td>\n",
       "      <td>37.833333</td>\n",
       "      <td>4.38</td>\n",
       "    </tr>\n",
       "    <tr>\n",
       "      <th>4</th>\n",
       "      <td>8.23</td>\n",
       "      <td>759.133333</td>\n",
       "      <td>76.666667</td>\n",
       "      <td>1.000000</td>\n",
       "      <td>35.666667</td>\n",
       "      <td>4.37</td>\n",
       "    </tr>\n",
       "    <tr>\n",
       "      <th>...</th>\n",
       "      <td>...</td>\n",
       "      <td>...</td>\n",
       "      <td>...</td>\n",
       "      <td>...</td>\n",
       "      <td>...</td>\n",
       "      <td>...</td>\n",
       "    </tr>\n",
       "    <tr>\n",
       "      <th>27484</th>\n",
       "      <td>22.70</td>\n",
       "      <td>755.200000</td>\n",
       "      <td>55.666667</td>\n",
       "      <td>3.333333</td>\n",
       "      <td>23.666667</td>\n",
       "      <td>13.30</td>\n",
       "    </tr>\n",
       "    <tr>\n",
       "      <th>27485</th>\n",
       "      <td>22.60</td>\n",
       "      <td>755.200000</td>\n",
       "      <td>56.000000</td>\n",
       "      <td>3.500000</td>\n",
       "      <td>24.500000</td>\n",
       "      <td>13.30</td>\n",
       "    </tr>\n",
       "    <tr>\n",
       "      <th>27486</th>\n",
       "      <td>22.50</td>\n",
       "      <td>755.200000</td>\n",
       "      <td>56.333333</td>\n",
       "      <td>3.666667</td>\n",
       "      <td>25.333333</td>\n",
       "      <td>13.30</td>\n",
       "    </tr>\n",
       "    <tr>\n",
       "      <th>27487</th>\n",
       "      <td>22.30</td>\n",
       "      <td>755.200000</td>\n",
       "      <td>56.666667</td>\n",
       "      <td>3.833333</td>\n",
       "      <td>26.166667</td>\n",
       "      <td>13.20</td>\n",
       "    </tr>\n",
       "    <tr>\n",
       "      <th>27488</th>\n",
       "      <td>22.20</td>\n",
       "      <td>755.200000</td>\n",
       "      <td>57.000000</td>\n",
       "      <td>4.000000</td>\n",
       "      <td>27.000000</td>\n",
       "      <td>13.20</td>\n",
       "    </tr>\n",
       "  </tbody>\n",
       "</table>\n",
       "<p>27489 rows × 6 columns</p>\n",
       "</div>"
      ],
      "text/plain": [
       "       T_out  Press_mm_hg     RH_out  Windspeed  Visibility  Tdewpoint\n",
       "0       7.70   759.000000  79.666667   1.000000   40.000000       4.37\n",
       "1       7.85   759.050000  78.833333   1.000000   40.000000       4.38\n",
       "2       8.00   759.100000  78.000000   1.000000   40.000000       4.40\n",
       "3       8.12   759.116667  77.333333   1.000000   37.833333       4.38\n",
       "4       8.23   759.133333  76.666667   1.000000   35.666667       4.37\n",
       "...      ...          ...        ...        ...         ...        ...\n",
       "27484  22.70   755.200000  55.666667   3.333333   23.666667      13.30\n",
       "27485  22.60   755.200000  56.000000   3.500000   24.500000      13.30\n",
       "27486  22.50   755.200000  56.333333   3.666667   25.333333      13.30\n",
       "27487  22.30   755.200000  56.666667   3.833333   26.166667      13.20\n",
       "27488  22.20   755.200000  57.000000   4.000000   27.000000      13.20\n",
       "\n",
       "[27489 rows x 6 columns]"
      ]
     },
     "execution_count": 25,
     "metadata": {},
     "output_type": "execute_result"
    }
   ],
   "source": [
    "y_test"
   ]
  },
  {
   "cell_type": "code",
   "execution_count": 26,
   "metadata": {},
   "outputs": [
    {
     "data": {
      "text/html": [
       "<div>\n",
       "<style scoped>\n",
       "    .dataframe tbody tr th:only-of-type {\n",
       "        vertical-align: middle;\n",
       "    }\n",
       "\n",
       "    .dataframe tbody tr th {\n",
       "        vertical-align: top;\n",
       "    }\n",
       "\n",
       "    .dataframe thead th {\n",
       "        text-align: right;\n",
       "    }\n",
       "</style>\n",
       "<table border=\"1\" class=\"dataframe\">\n",
       "  <thead>\n",
       "    <tr style=\"text-align: right;\">\n",
       "      <th></th>\n",
       "      <th>T_out</th>\n",
       "      <th>Press_mm_hg</th>\n",
       "      <th>RH_out</th>\n",
       "      <th>Windspeed</th>\n",
       "      <th>Visibility</th>\n",
       "      <th>Tdewpoint</th>\n",
       "    </tr>\n",
       "  </thead>\n",
       "  <tbody>\n",
       "    <tr>\n",
       "      <th>0</th>\n",
       "      <td>7.547932</td>\n",
       "      <td>757.459045</td>\n",
       "      <td>80.633423</td>\n",
       "      <td>1.678750</td>\n",
       "      <td>38.787407</td>\n",
       "      <td>3.991600</td>\n",
       "    </tr>\n",
       "    <tr>\n",
       "      <th>1</th>\n",
       "      <td>7.454468</td>\n",
       "      <td>757.439697</td>\n",
       "      <td>80.935684</td>\n",
       "      <td>1.877296</td>\n",
       "      <td>38.423897</td>\n",
       "      <td>4.093290</td>\n",
       "    </tr>\n",
       "    <tr>\n",
       "      <th>2</th>\n",
       "      <td>7.490989</td>\n",
       "      <td>757.507935</td>\n",
       "      <td>80.297920</td>\n",
       "      <td>1.895684</td>\n",
       "      <td>38.270542</td>\n",
       "      <td>3.934423</td>\n",
       "    </tr>\n",
       "    <tr>\n",
       "      <th>3</th>\n",
       "      <td>7.565347</td>\n",
       "      <td>757.400452</td>\n",
       "      <td>80.467232</td>\n",
       "      <td>2.003039</td>\n",
       "      <td>37.988461</td>\n",
       "      <td>4.069316</td>\n",
       "    </tr>\n",
       "    <tr>\n",
       "      <th>4</th>\n",
       "      <td>7.312187</td>\n",
       "      <td>757.416870</td>\n",
       "      <td>80.200470</td>\n",
       "      <td>2.126533</td>\n",
       "      <td>37.101505</td>\n",
       "      <td>4.032564</td>\n",
       "    </tr>\n",
       "    <tr>\n",
       "      <th>...</th>\n",
       "      <td>...</td>\n",
       "      <td>...</td>\n",
       "      <td>...</td>\n",
       "      <td>...</td>\n",
       "      <td>...</td>\n",
       "      <td>...</td>\n",
       "    </tr>\n",
       "    <tr>\n",
       "      <th>27484</th>\n",
       "      <td>12.808443</td>\n",
       "      <td>756.308167</td>\n",
       "      <td>65.127846</td>\n",
       "      <td>4.281259</td>\n",
       "      <td>28.809414</td>\n",
       "      <td>5.048982</td>\n",
       "    </tr>\n",
       "    <tr>\n",
       "      <th>27485</th>\n",
       "      <td>12.742531</td>\n",
       "      <td>755.574158</td>\n",
       "      <td>62.340981</td>\n",
       "      <td>4.607983</td>\n",
       "      <td>30.022417</td>\n",
       "      <td>5.841889</td>\n",
       "    </tr>\n",
       "    <tr>\n",
       "      <th>27486</th>\n",
       "      <td>11.944168</td>\n",
       "      <td>755.027710</td>\n",
       "      <td>62.592018</td>\n",
       "      <td>4.284908</td>\n",
       "      <td>26.887156</td>\n",
       "      <td>5.275483</td>\n",
       "    </tr>\n",
       "    <tr>\n",
       "      <th>27487</th>\n",
       "      <td>12.339527</td>\n",
       "      <td>755.290283</td>\n",
       "      <td>60.163822</td>\n",
       "      <td>4.855186</td>\n",
       "      <td>28.549597</td>\n",
       "      <td>5.549520</td>\n",
       "    </tr>\n",
       "    <tr>\n",
       "      <th>27488</th>\n",
       "      <td>11.872375</td>\n",
       "      <td>756.366150</td>\n",
       "      <td>66.890640</td>\n",
       "      <td>4.713762</td>\n",
       "      <td>27.435595</td>\n",
       "      <td>5.371916</td>\n",
       "    </tr>\n",
       "  </tbody>\n",
       "</table>\n",
       "<p>27489 rows × 6 columns</p>\n",
       "</div>"
      ],
      "text/plain": [
       "           T_out  Press_mm_hg     RH_out  Windspeed  Visibility  Tdewpoint\n",
       "0       7.547932   757.459045  80.633423   1.678750   38.787407   3.991600\n",
       "1       7.454468   757.439697  80.935684   1.877296   38.423897   4.093290\n",
       "2       7.490989   757.507935  80.297920   1.895684   38.270542   3.934423\n",
       "3       7.565347   757.400452  80.467232   2.003039   37.988461   4.069316\n",
       "4       7.312187   757.416870  80.200470   2.126533   37.101505   4.032564\n",
       "...          ...          ...        ...        ...         ...        ...\n",
       "27484  12.808443   756.308167  65.127846   4.281259   28.809414   5.048982\n",
       "27485  12.742531   755.574158  62.340981   4.607983   30.022417   5.841889\n",
       "27486  11.944168   755.027710  62.592018   4.284908   26.887156   5.275483\n",
       "27487  12.339527   755.290283  60.163822   4.855186   28.549597   5.549520\n",
       "27488  11.872375   756.366150  66.890640   4.713762   27.435595   5.371916\n",
       "\n",
       "[27489 rows x 6 columns]"
      ]
     },
     "execution_count": 26,
     "metadata": {},
     "output_type": "execute_result"
    }
   ],
   "source": [
    "y_pred"
   ]
  },
  {
   "cell_type": "code",
   "execution_count": 27,
   "metadata": {},
   "outputs": [
    {
     "name": "stdout",
     "output_type": "stream",
     "text": [
      "[Step 15] Calculating evaluation metrics\n",
      "Obtained error results: {'Avg_MAPE': 2304191206888.845, 'Avg_MAE': 3.807246950764673, 'Avg_MSE': 29.41247371110586, 'Avg_RMSE': 4.9041129642840815, 'Avg_R2': 0.37846907115799006, 'Avg_WAPE': 0.02569628205541422, 'T_out_MAPE': 0.23068072838770567, 'T_out_MAE': 3.6974275451358887, 'T_out_MSE': 23.986186839292262, 'T_out_RMSE': 4.897569482844757, 'T_out_R2': 0.024589475233169455, 'T_out_WAPE': 0.27063328827838923, 'Press_mm_hg_MAPE': 0.0053421068800391614, 'Press_mm_hg_MAE': 4.034591287253793, 'Press_mm_hg_MSE': 23.524813320124604, 'Press_mm_hg_RMSE': 4.850238480747581, 'Press_mm_hg_R2': 0.2552111827101041, 'Press_mm_hg_WAPE': 0.005336801232984763, 'RH_out_MAPE': 0.12870674824684916, 'RH_out_MAE': 7.025463759949767, 'RH_out_MSE': 80.88116086735462, 'RH_out_RMSE': 8.993395402591538, 'RH_out_R2': 0.7730534885836967, 'RH_out_WAPE': 0.09844121341536179, 'Windspeed_MAPE': 1230890945494.0793, 'Windspeed_MAE': 0.9476864263956538, 'Windspeed_MSE': 1.3557273169119148, 'Windspeed_RMSE': 1.16435704013499, 'Windspeed_R2': 0.513971127322784, 'Windspeed_WAPE': 0.30571450682823414, 'Visibility_MAPE': 0.16586628672052478, 'Visibility_MAE': 4.03628618027668, 'Visibility_MSE': 31.384868642238864, 'Visibility_RMSE': 5.602219974460024, 'Visibility_R2': 0.5986533967351582, 'Visibility_WAPE': 0.10920323417443656, 'Tdewpoint_MAPE': 12594256295838.463, 'Tdewpoint_MAE': 3.1020265055762497, 'Tdewpoint_MSE': 15.34208528071289, 'Tdewpoint_RMSE': 3.916897404925599, 'Tdewpoint_R2': 0.10533575636302783, 'Tdewpoint_WAPE': 0.39289186198323595}\n"
     ]
    }
   ],
   "source": [
    "print(\"[Step 15] Calculating evaluation metrics\")\n",
    "total_duration = sum(value for key, value in report.items() if key.endswith('_duration'))\n",
    "error_results = get_error_results(y_test, y_pred, variables)\n",
    "print(f\"Obtained error results: {error_results}\")\n",
    "report.update({\n",
    "    'total_duration': total_duration,\n",
    "    'error_results': error_results,\n",
    "})"
   ]
  },
  {
   "cell_type": "code",
   "execution_count": 28,
   "metadata": {},
   "outputs": [
    {
     "data": {
      "text/plain": [
       "{'execution_id': 'validate_pipeline_UCI_APPLIANCES_ENERGY_Window_L1_0',\n",
       " 'timestamp': 'validate_pipeline',\n",
       " 'cut_point_model': 'Window',\n",
       " 'cut_point_method': 'L1',\n",
       " 'cut_point_approach': 'Window L1',\n",
       " 'seed': 0,\n",
       " 'observation_window': 14,\n",
       " 'train_perc': 0.8,\n",
       " 'nb_trials': 15,\n",
       " 'dataset_domain': 'UCI',\n",
       " 'dataset': 'APPLIANCES_ENERGY',\n",
       " 'variables': ['T_out',\n",
       "  'Press_mm_hg',\n",
       "  'RH_out',\n",
       "  'Windspeed',\n",
       "  'Visibility',\n",
       "  'Tdewpoint'],\n",
       " 'dataset_shape': (19735, 7),\n",
       " 'train_val_shape': (15788, 7),\n",
       " 'test_shape': (3947, 7),\n",
       " 'detect_cut_point_duration': 0.14534878730773926,\n",
       " 'cut_point': '8460',\n",
       " 'cut_point_perc': 53.5850012667849,\n",
       " 'apply_cut_point_duration': 8.320808410644531e-05,\n",
       " 'reduced_train_val.shape': (7328, 7),\n",
       " 'reduced_train.shape': (5862, 7),\n",
       " 'reduced_val.shape': (1466, 7),\n",
       " 'fit_apply_scaler_train_val_duration': 0.0035452842712402344,\n",
       " 'X_reduced_scaled_train.shape': (5842, 14, 6),\n",
       " 'y_reduced_scaled_train.shape': (5842, 7, 6),\n",
       " 'X_reduced_scaled_val.shape': (1446, 14, 6),\n",
       " 'y_reduced_scaled_val.shape': (1446, 7, 6),\n",
       " 'tuner_duration': 220.92063307762146,\n",
       " 'best_trial_id': '1',\n",
       " 'best_trial_hyperparameters': {'num_layers': 3,\n",
       "  'units_0': 32,\n",
       "  'learning_rate': 0.0005,\n",
       "  'units_1': 128,\n",
       "  'batch_size': 176,\n",
       "  'epochs': 150,\n",
       "  'units_2': 32},\n",
       " 'best_trial_score': 0.3484160549154407,\n",
       " 'best_forecaster_model': 'Model: \"sequential\"\\n┏━━━━━━━━━━━━━━━━━━━━━━━━━━━━━━━━━┳━━━━━━━━━━━━━━━━━━━━━━━━┳━━━━━━━━━━━━━━━┓\\n┃ Layer (type)                    ┃ Output Shape           ┃       Param # ┃\\n┡━━━━━━━━━━━━━━━━━━━━━━━━━━━━━━━━━╇━━━━━━━━━━━━━━━━━━━━━━━━╇━━━━━━━━━━━━━━━┩\\n│ lstm (LSTM)                     │ (None, 14, 32)         │         4,992 │\\n├─────────────────────────────────┼────────────────────────┼───────────────┤\\n│ batch_normalization             │ (None, 14, 32)         │           128 │\\n│ (BatchNormalization)            │                        │               │\\n├─────────────────────────────────┼────────────────────────┼───────────────┤\\n│ lstm_1 (LSTM)                   │ (None, 14, 128)        │        82,432 │\\n├─────────────────────────────────┼────────────────────────┼───────────────┤\\n│ batch_normalization_1           │ (None, 14, 128)        │           512 │\\n│ (BatchNormalization)            │                        │               │\\n├─────────────────────────────────┼────────────────────────┼───────────────┤\\n│ lstm_2 (LSTM)                   │ (None, 32)             │        20,608 │\\n├─────────────────────────────────┼────────────────────────┼───────────────┤\\n│ batch_normalization_2           │ (None, 32)             │           128 │\\n│ (BatchNormalization)            │                        │               │\\n├─────────────────────────────────┼────────────────────────┼───────────────┤\\n│ dense (Dense)                   │ (None, 42)             │         1,386 │\\n├─────────────────────────────────┼────────────────────────┼───────────────┤\\n│ reshape (Reshape)               │ (None, 7, 6)           │             0 │\\n└─────────────────────────────────┴────────────────────────┴───────────────┘\\n Total params: 110,186 (430.41 KB)\\n Trainable params: 109,802 (428.91 KB)\\n Non-trainable params: 384 (1.50 KB)\\n\\n',\n",
       " 'fit_apply_scaler_train_val_test_duration': 0.003438234329223633,\n",
       " 'X_reduced_scaled_train_val.shape': (7308, 14, 6),\n",
       " 'y_reduced_scaled_train_val.shape': (7308, 7, 6),\n",
       " 'X_scaled_test.shape': (3927, 14, 6),\n",
       " 'y_scaled_test.shape': (3927, 7, 6),\n",
       " 'retrain_duration': 25.510422945022583,\n",
       " 'forecasting_test_duration': 1.1854591369628906,\n",
       " 'descaling_duration': 0.03084588050842285,\n",
       " 'total_duration': 247.79977655410767,\n",
       " 'error_results': {'Avg_MAPE': 2304191206888.845,\n",
       "  'Avg_MAE': 3.807246950764673,\n",
       "  'Avg_MSE': 29.41247371110586,\n",
       "  'Avg_RMSE': 4.9041129642840815,\n",
       "  'Avg_R2': 0.37846907115799006,\n",
       "  'Avg_WAPE': 0.02569628205541422,\n",
       "  'T_out_MAPE': 0.23068072838770567,\n",
       "  'T_out_MAE': 3.6974275451358887,\n",
       "  'T_out_MSE': 23.986186839292262,\n",
       "  'T_out_RMSE': 4.897569482844757,\n",
       "  'T_out_R2': 0.024589475233169455,\n",
       "  'T_out_WAPE': 0.27063328827838923,\n",
       "  'Press_mm_hg_MAPE': 0.0053421068800391614,\n",
       "  'Press_mm_hg_MAE': 4.034591287253793,\n",
       "  'Press_mm_hg_MSE': 23.524813320124604,\n",
       "  'Press_mm_hg_RMSE': 4.850238480747581,\n",
       "  'Press_mm_hg_R2': 0.2552111827101041,\n",
       "  'Press_mm_hg_WAPE': 0.005336801232984763,\n",
       "  'RH_out_MAPE': 0.12870674824684916,\n",
       "  'RH_out_MAE': 7.025463759949767,\n",
       "  'RH_out_MSE': 80.88116086735462,\n",
       "  'RH_out_RMSE': 8.993395402591538,\n",
       "  'RH_out_R2': 0.7730534885836967,\n",
       "  'RH_out_WAPE': 0.09844121341536179,\n",
       "  'Windspeed_MAPE': 1230890945494.0793,\n",
       "  'Windspeed_MAE': 0.9476864263956538,\n",
       "  'Windspeed_MSE': 1.3557273169119148,\n",
       "  'Windspeed_RMSE': 1.16435704013499,\n",
       "  'Windspeed_R2': 0.513971127322784,\n",
       "  'Windspeed_WAPE': 0.30571450682823414,\n",
       "  'Visibility_MAPE': 0.16586628672052478,\n",
       "  'Visibility_MAE': 4.03628618027668,\n",
       "  'Visibility_MSE': 31.384868642238864,\n",
       "  'Visibility_RMSE': 5.602219974460024,\n",
       "  'Visibility_R2': 0.5986533967351582,\n",
       "  'Visibility_WAPE': 0.10920323417443656,\n",
       "  'Tdewpoint_MAPE': 12594256295838.463,\n",
       "  'Tdewpoint_MAE': 3.1020265055762497,\n",
       "  'Tdewpoint_MSE': 15.34208528071289,\n",
       "  'Tdewpoint_RMSE': 3.916897404925599,\n",
       "  'Tdewpoint_R2': 0.10533575636302783,\n",
       "  'Tdewpoint_WAPE': 0.39289186198323595}}"
      ]
     },
     "execution_count": 28,
     "metadata": {},
     "output_type": "execute_result"
    }
   ],
   "source": [
    "report"
   ]
  },
  {
   "cell_type": "markdown",
   "metadata": {},
   "source": [
    "## 2. What would be the error if we predicted the average values for all variables (Dummy Forecaster)?"
   ]
  },
  {
   "cell_type": "code",
   "execution_count": 29,
   "metadata": {},
   "outputs": [],
   "source": [
    "X_train_val, y_train_val = split_X_y(train_val)\n",
    "X_test, y_test = split_X_y(test)"
   ]
  },
  {
   "cell_type": "code",
   "execution_count": 30,
   "metadata": {},
   "outputs": [],
   "source": [
    "train_val_targets_flat = pd.DataFrame(y_train_val.reshape(-1, len(variables)), columns=variables)\n",
    "avg_values = train_val_targets_flat.mean(axis=0).to_numpy()"
   ]
  },
  {
   "cell_type": "code",
   "execution_count": 31,
   "metadata": {},
   "outputs": [],
   "source": [
    "n_test = y_test.shape[0]\n",
    "dummy_pred = np.tile(avg_values, (n_test, FORECAST_HORIZON, 1))\n",
    "\n",
    "dummy_pred_flat = dummy_pred.reshape(-1, n_variables)\n",
    "y_test_flat = pd.DataFrame(y_test.reshape(-1, n_variables), columns=variables)"
   ]
  },
  {
   "cell_type": "code",
   "execution_count": 32,
   "metadata": {},
   "outputs": [
    {
     "name": "stdout",
     "output_type": "stream",
     "text": [
      "Error metrics for Dummy Forecaster (predicting average values): \n",
      "{'Avg_MAPE': 3425021718969.223, 'Avg_MAE': 7.215418809609981, 'Avg_MSE': 118.70230356109563, 'Avg_RMSE': 9.023975290726012, 'Avg_R2': -0.8137139190732777, 'Avg_WAPE': 0.04869908342626568, 'T_out_MAPE': 0.5581505737110357, 'T_out_MAE': 8.04392388105092, 'T_out_MSE': 85.53065629469543, 'T_out_RMSE': 9.24827855845051, 'T_out_R2': -2.4781477730923025, 'T_out_WAPE': 0.5887751805856862, 'Press_mm_hg_MAPE': 0.00621866023244673, 'Press_mm_hg_MAE': 4.703571354779968, 'Press_mm_hg_MSE': 31.910844092516054, 'Press_mm_hg_RMSE': 5.648968409587369, 'Press_mm_hg_R2': -0.01028813733691325, 'Press_mm_hg_WAPE': 0.006221702179580035, 'RH_out_MAPE': 0.32693204736892706, 'RH_out_MAE': 17.103435976028628, 'RH_out_MSE': 465.69433115411005, 'RH_out_RMSE': 21.579952065611963, 'RH_out_R2': -0.30670359708489037, 'RH_out_WAPE': 0.23965435572387742, 'Windspeed_MAPE': 4903590906267.885, 'Windspeed_MAE': 1.742090696100894, 'Windspeed_MSE': 4.172074992825164, 'Windspeed_RMSE': 2.042565786657841, 'Windspeed_R2': -0.49569082233028894, 'Windspeed_WAPE': 0.5619816673265189, 'Visibility_MAPE': 0.2661848115167383, 'Visibility_MAE': 6.10225666300535, 'Visibility_MSE': 81.10352600749064, 'Visibility_RMSE': 9.005749608305276, 'Visibility_R2': -0.03714388761533183, 'Visibility_WAPE': 0.1650988392792826, 'Tdewpoint_MAPE': 15646539407547.516, 'Tdewpoint_MAE': 5.5972342866953415, 'Tdewpoint_MSE': 43.8023888249624, 'Tdewpoint_RMSE': 6.618337315743464, 'Tdewpoint_R2': -1.5543092969795178, 'Tdewpoint_WAPE': 0.7089261799997495}\n"
     ]
    }
   ],
   "source": [
    "dummy_error_results = get_error_results(y_test_flat, dummy_pred_flat, variables)\n",
    "print(f\"Error metrics for Dummy Forecaster (predicting average values): \\n{dummy_error_results}\")"
   ]
  },
  {
   "cell_type": "code",
   "execution_count": 33,
   "metadata": {},
   "outputs": [
    {
     "data": {
      "text/html": [
       "<div>\n",
       "<style scoped>\n",
       "    .dataframe tbody tr th:only-of-type {\n",
       "        vertical-align: middle;\n",
       "    }\n",
       "\n",
       "    .dataframe tbody tr th {\n",
       "        vertical-align: top;\n",
       "    }\n",
       "\n",
       "    .dataframe thead th {\n",
       "        text-align: right;\n",
       "    }\n",
       "</style>\n",
       "<table border=\"1\" class=\"dataframe\">\n",
       "  <thead>\n",
       "    <tr style=\"text-align: right;\">\n",
       "      <th></th>\n",
       "      <th>Trained Model</th>\n",
       "      <th>Dummy Forecaster</th>\n",
       "    </tr>\n",
       "  </thead>\n",
       "  <tbody>\n",
       "    <tr>\n",
       "      <th>Avg_MAPE</th>\n",
       "      <td>2.304191e+12</td>\n",
       "      <td>3.425022e+12</td>\n",
       "    </tr>\n",
       "    <tr>\n",
       "      <th>Avg_MAE</th>\n",
       "      <td>3.807250e+00</td>\n",
       "      <td>7.215420e+00</td>\n",
       "    </tr>\n",
       "    <tr>\n",
       "      <th>Avg_MSE</th>\n",
       "      <td>2.941247e+01</td>\n",
       "      <td>1.187023e+02</td>\n",
       "    </tr>\n",
       "    <tr>\n",
       "      <th>Avg_RMSE</th>\n",
       "      <td>4.904110e+00</td>\n",
       "      <td>9.023980e+00</td>\n",
       "    </tr>\n",
       "    <tr>\n",
       "      <th>Avg_R2</th>\n",
       "      <td>3.784700e-01</td>\n",
       "      <td>-8.137100e-01</td>\n",
       "    </tr>\n",
       "    <tr>\n",
       "      <th>Avg_WAPE</th>\n",
       "      <td>2.570000e-02</td>\n",
       "      <td>4.870000e-02</td>\n",
       "    </tr>\n",
       "    <tr>\n",
       "      <th>T_out_MAPE</th>\n",
       "      <td>2.306800e-01</td>\n",
       "      <td>5.581500e-01</td>\n",
       "    </tr>\n",
       "    <tr>\n",
       "      <th>T_out_MAE</th>\n",
       "      <td>3.697430e+00</td>\n",
       "      <td>8.043920e+00</td>\n",
       "    </tr>\n",
       "    <tr>\n",
       "      <th>T_out_MSE</th>\n",
       "      <td>2.398619e+01</td>\n",
       "      <td>8.553066e+01</td>\n",
       "    </tr>\n",
       "    <tr>\n",
       "      <th>T_out_RMSE</th>\n",
       "      <td>4.897570e+00</td>\n",
       "      <td>9.248280e+00</td>\n",
       "    </tr>\n",
       "    <tr>\n",
       "      <th>T_out_R2</th>\n",
       "      <td>2.459000e-02</td>\n",
       "      <td>-2.478150e+00</td>\n",
       "    </tr>\n",
       "    <tr>\n",
       "      <th>T_out_WAPE</th>\n",
       "      <td>2.706300e-01</td>\n",
       "      <td>5.887800e-01</td>\n",
       "    </tr>\n",
       "    <tr>\n",
       "      <th>Press_mm_hg_MAPE</th>\n",
       "      <td>5.340000e-03</td>\n",
       "      <td>6.220000e-03</td>\n",
       "    </tr>\n",
       "    <tr>\n",
       "      <th>Press_mm_hg_MAE</th>\n",
       "      <td>4.034590e+00</td>\n",
       "      <td>4.703570e+00</td>\n",
       "    </tr>\n",
       "    <tr>\n",
       "      <th>Press_mm_hg_MSE</th>\n",
       "      <td>2.352481e+01</td>\n",
       "      <td>3.191084e+01</td>\n",
       "    </tr>\n",
       "    <tr>\n",
       "      <th>Press_mm_hg_RMSE</th>\n",
       "      <td>4.850240e+00</td>\n",
       "      <td>5.648970e+00</td>\n",
       "    </tr>\n",
       "    <tr>\n",
       "      <th>Press_mm_hg_R2</th>\n",
       "      <td>2.552100e-01</td>\n",
       "      <td>-1.029000e-02</td>\n",
       "    </tr>\n",
       "    <tr>\n",
       "      <th>Press_mm_hg_WAPE</th>\n",
       "      <td>5.340000e-03</td>\n",
       "      <td>6.220000e-03</td>\n",
       "    </tr>\n",
       "    <tr>\n",
       "      <th>RH_out_MAPE</th>\n",
       "      <td>1.287100e-01</td>\n",
       "      <td>3.269300e-01</td>\n",
       "    </tr>\n",
       "    <tr>\n",
       "      <th>RH_out_MAE</th>\n",
       "      <td>7.025460e+00</td>\n",
       "      <td>1.710344e+01</td>\n",
       "    </tr>\n",
       "    <tr>\n",
       "      <th>RH_out_MSE</th>\n",
       "      <td>8.088116e+01</td>\n",
       "      <td>4.656943e+02</td>\n",
       "    </tr>\n",
       "    <tr>\n",
       "      <th>RH_out_RMSE</th>\n",
       "      <td>8.993400e+00</td>\n",
       "      <td>2.157995e+01</td>\n",
       "    </tr>\n",
       "    <tr>\n",
       "      <th>RH_out_R2</th>\n",
       "      <td>7.730500e-01</td>\n",
       "      <td>-3.067000e-01</td>\n",
       "    </tr>\n",
       "    <tr>\n",
       "      <th>RH_out_WAPE</th>\n",
       "      <td>9.844000e-02</td>\n",
       "      <td>2.396500e-01</td>\n",
       "    </tr>\n",
       "    <tr>\n",
       "      <th>Windspeed_MAPE</th>\n",
       "      <td>1.230891e+12</td>\n",
       "      <td>4.903591e+12</td>\n",
       "    </tr>\n",
       "    <tr>\n",
       "      <th>Windspeed_MAE</th>\n",
       "      <td>9.476900e-01</td>\n",
       "      <td>1.742090e+00</td>\n",
       "    </tr>\n",
       "    <tr>\n",
       "      <th>Windspeed_MSE</th>\n",
       "      <td>1.355730e+00</td>\n",
       "      <td>4.172070e+00</td>\n",
       "    </tr>\n",
       "    <tr>\n",
       "      <th>Windspeed_RMSE</th>\n",
       "      <td>1.164360e+00</td>\n",
       "      <td>2.042570e+00</td>\n",
       "    </tr>\n",
       "    <tr>\n",
       "      <th>Windspeed_R2</th>\n",
       "      <td>5.139700e-01</td>\n",
       "      <td>-4.956900e-01</td>\n",
       "    </tr>\n",
       "    <tr>\n",
       "      <th>Windspeed_WAPE</th>\n",
       "      <td>3.057100e-01</td>\n",
       "      <td>5.619800e-01</td>\n",
       "    </tr>\n",
       "    <tr>\n",
       "      <th>Visibility_MAPE</th>\n",
       "      <td>1.658700e-01</td>\n",
       "      <td>2.661800e-01</td>\n",
       "    </tr>\n",
       "    <tr>\n",
       "      <th>Visibility_MAE</th>\n",
       "      <td>4.036290e+00</td>\n",
       "      <td>6.102260e+00</td>\n",
       "    </tr>\n",
       "    <tr>\n",
       "      <th>Visibility_MSE</th>\n",
       "      <td>3.138487e+01</td>\n",
       "      <td>8.110353e+01</td>\n",
       "    </tr>\n",
       "    <tr>\n",
       "      <th>Visibility_RMSE</th>\n",
       "      <td>5.602220e+00</td>\n",
       "      <td>9.005750e+00</td>\n",
       "    </tr>\n",
       "    <tr>\n",
       "      <th>Visibility_R2</th>\n",
       "      <td>5.986500e-01</td>\n",
       "      <td>-3.714000e-02</td>\n",
       "    </tr>\n",
       "    <tr>\n",
       "      <th>Visibility_WAPE</th>\n",
       "      <td>1.092000e-01</td>\n",
       "      <td>1.651000e-01</td>\n",
       "    </tr>\n",
       "    <tr>\n",
       "      <th>Tdewpoint_MAPE</th>\n",
       "      <td>1.259426e+13</td>\n",
       "      <td>1.564654e+13</td>\n",
       "    </tr>\n",
       "    <tr>\n",
       "      <th>Tdewpoint_MAE</th>\n",
       "      <td>3.102030e+00</td>\n",
       "      <td>5.597230e+00</td>\n",
       "    </tr>\n",
       "    <tr>\n",
       "      <th>Tdewpoint_MSE</th>\n",
       "      <td>1.534209e+01</td>\n",
       "      <td>4.380239e+01</td>\n",
       "    </tr>\n",
       "    <tr>\n",
       "      <th>Tdewpoint_RMSE</th>\n",
       "      <td>3.916900e+00</td>\n",
       "      <td>6.618340e+00</td>\n",
       "    </tr>\n",
       "    <tr>\n",
       "      <th>Tdewpoint_R2</th>\n",
       "      <td>1.053400e-01</td>\n",
       "      <td>-1.554310e+00</td>\n",
       "    </tr>\n",
       "    <tr>\n",
       "      <th>Tdewpoint_WAPE</th>\n",
       "      <td>3.928900e-01</td>\n",
       "      <td>7.089300e-01</td>\n",
       "    </tr>\n",
       "  </tbody>\n",
       "</table>\n",
       "</div>"
      ],
      "text/plain": [
       "                  Trained Model  Dummy Forecaster\n",
       "Avg_MAPE           2.304191e+12      3.425022e+12\n",
       "Avg_MAE            3.807250e+00      7.215420e+00\n",
       "Avg_MSE            2.941247e+01      1.187023e+02\n",
       "Avg_RMSE           4.904110e+00      9.023980e+00\n",
       "Avg_R2             3.784700e-01     -8.137100e-01\n",
       "Avg_WAPE           2.570000e-02      4.870000e-02\n",
       "T_out_MAPE         2.306800e-01      5.581500e-01\n",
       "T_out_MAE          3.697430e+00      8.043920e+00\n",
       "T_out_MSE          2.398619e+01      8.553066e+01\n",
       "T_out_RMSE         4.897570e+00      9.248280e+00\n",
       "T_out_R2           2.459000e-02     -2.478150e+00\n",
       "T_out_WAPE         2.706300e-01      5.887800e-01\n",
       "Press_mm_hg_MAPE   5.340000e-03      6.220000e-03\n",
       "Press_mm_hg_MAE    4.034590e+00      4.703570e+00\n",
       "Press_mm_hg_MSE    2.352481e+01      3.191084e+01\n",
       "Press_mm_hg_RMSE   4.850240e+00      5.648970e+00\n",
       "Press_mm_hg_R2     2.552100e-01     -1.029000e-02\n",
       "Press_mm_hg_WAPE   5.340000e-03      6.220000e-03\n",
       "RH_out_MAPE        1.287100e-01      3.269300e-01\n",
       "RH_out_MAE         7.025460e+00      1.710344e+01\n",
       "RH_out_MSE         8.088116e+01      4.656943e+02\n",
       "RH_out_RMSE        8.993400e+00      2.157995e+01\n",
       "RH_out_R2          7.730500e-01     -3.067000e-01\n",
       "RH_out_WAPE        9.844000e-02      2.396500e-01\n",
       "Windspeed_MAPE     1.230891e+12      4.903591e+12\n",
       "Windspeed_MAE      9.476900e-01      1.742090e+00\n",
       "Windspeed_MSE      1.355730e+00      4.172070e+00\n",
       "Windspeed_RMSE     1.164360e+00      2.042570e+00\n",
       "Windspeed_R2       5.139700e-01     -4.956900e-01\n",
       "Windspeed_WAPE     3.057100e-01      5.619800e-01\n",
       "Visibility_MAPE    1.658700e-01      2.661800e-01\n",
       "Visibility_MAE     4.036290e+00      6.102260e+00\n",
       "Visibility_MSE     3.138487e+01      8.110353e+01\n",
       "Visibility_RMSE    5.602220e+00      9.005750e+00\n",
       "Visibility_R2      5.986500e-01     -3.714000e-02\n",
       "Visibility_WAPE    1.092000e-01      1.651000e-01\n",
       "Tdewpoint_MAPE     1.259426e+13      1.564654e+13\n",
       "Tdewpoint_MAE      3.102030e+00      5.597230e+00\n",
       "Tdewpoint_MSE      1.534209e+01      4.380239e+01\n",
       "Tdewpoint_RMSE     3.916900e+00      6.618340e+00\n",
       "Tdewpoint_R2       1.053400e-01     -1.554310e+00\n",
       "Tdewpoint_WAPE     3.928900e-01      7.089300e-01"
      ]
     },
     "execution_count": 33,
     "metadata": {},
     "output_type": "execute_result"
    }
   ],
   "source": [
    "df_comparison = pd.DataFrame({\n",
    "    \"Trained Model\": pd.Series(error_results),\n",
    "    \"Dummy Forecaster\": pd.Series(dummy_error_results)\n",
    "})\n",
    "\n",
    "df_comparison = df_comparison.round(5)\n",
    "df_comparison"
   ]
  },
  {
   "cell_type": "code",
   "execution_count": null,
   "metadata": {},
   "outputs": [],
   "source": []
  }
 ],
 "metadata": {
  "kernelspec": {
   "display_name": "env",
   "language": "python",
   "name": "python3"
  },
  "language_info": {
   "codemirror_mode": {
    "name": "ipython",
    "version": 3
   },
   "file_extension": ".py",
   "mimetype": "text/x-python",
   "name": "python",
   "nbconvert_exporter": "python",
   "pygments_lexer": "ipython3",
   "version": "3.9.6"
  }
 },
 "nbformat": 4,
 "nbformat_minor": 2
}
